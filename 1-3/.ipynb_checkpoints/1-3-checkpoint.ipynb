{
 "cells": [
  {
   "cell_type": "code",
   "execution_count": 1,
   "id": "b3bc63d9",
   "metadata": {},
   "outputs": [],
   "source": [
    "import pandas as pd\n",
    "import numpy as np\n",
    "import seaborn as sns"
   ]
  },
  {
   "cell_type": "code",
   "execution_count": 2,
   "id": "842e7347",
   "metadata": {},
   "outputs": [],
   "source": [
    "import matplotlib.pyplot as plt"
   ]
  },
  {
   "cell_type": "code",
   "execution_count": 3,
   "id": "f535226c",
   "metadata": {},
   "outputs": [],
   "source": [
    "#폰트 설정\n",
    "plt.rc('font', family='AppleGothic')"
   ]
  },
  {
   "cell_type": "code",
   "execution_count": 4,
   "id": "955ae8ae",
   "metadata": {},
   "outputs": [],
   "source": [
    "#글씨를 선명하게 보기 위해서 retina 설정\n",
    "from IPython.display import set_matplotlib_formats\n",
    "set_matplotlib_formats('retina')"
   ]
  },
  {
   "cell_type": "markdown",
   "id": "f2d6e841",
   "metadata": {},
   "source": [
    "## 1.3 데이터 로드하기"
   ]
  },
  {
   "cell_type": "code",
   "execution_count": 5,
   "id": "2948aaeb",
   "metadata": {},
   "outputs": [
    {
     "data": {
      "text/plain": [
       "(91335, 39)"
      ]
     },
     "execution_count": 5,
     "metadata": {},
     "output_type": "execute_result"
    }
   ],
   "source": [
    "#read_csv로 불러온 파일을 df라는 변수에 담는다.\n",
    "df = pd.read_csv(\"data/소상공인시장진흥공단_상가업소정보_의료기관_201909.csv\", low_memory=False)\n",
    "df.shape #행,열 순으로 출력"
   ]
  },
  {
   "cell_type": "code",
   "execution_count": 6,
   "id": "18e98c9b",
   "metadata": {},
   "outputs": [
    {
     "data": {
      "text/html": [
       "<div>\n",
       "<style scoped>\n",
       "    .dataframe tbody tr th:only-of-type {\n",
       "        vertical-align: middle;\n",
       "    }\n",
       "\n",
       "    .dataframe tbody tr th {\n",
       "        vertical-align: top;\n",
       "    }\n",
       "\n",
       "    .dataframe thead th {\n",
       "        text-align: right;\n",
       "    }\n",
       "</style>\n",
       "<table border=\"1\" class=\"dataframe\">\n",
       "  <thead>\n",
       "    <tr style=\"text-align: right;\">\n",
       "      <th></th>\n",
       "      <th>상가업소번호</th>\n",
       "      <th>상호명</th>\n",
       "      <th>지점명</th>\n",
       "      <th>상권업종대분류코드</th>\n",
       "      <th>상권업종대분류명</th>\n",
       "      <th>상권업종중분류코드</th>\n",
       "      <th>상권업종중분류명</th>\n",
       "      <th>상권업종소분류코드</th>\n",
       "      <th>상권업종소분류명</th>\n",
       "      <th>표준산업분류코드</th>\n",
       "      <th>...</th>\n",
       "      <th>건물관리번호</th>\n",
       "      <th>건물명</th>\n",
       "      <th>도로명주소</th>\n",
       "      <th>구우편번호</th>\n",
       "      <th>신우편번호</th>\n",
       "      <th>동정보</th>\n",
       "      <th>층정보</th>\n",
       "      <th>호정보</th>\n",
       "      <th>경도</th>\n",
       "      <th>위도</th>\n",
       "    </tr>\n",
       "  </thead>\n",
       "  <tbody>\n",
       "    <tr>\n",
       "      <th>0</th>\n",
       "      <td>19956873</td>\n",
       "      <td>하나산부인과</td>\n",
       "      <td>NaN</td>\n",
       "      <td>S</td>\n",
       "      <td>의료</td>\n",
       "      <td>S01</td>\n",
       "      <td>병원</td>\n",
       "      <td>S01B10</td>\n",
       "      <td>산부인과</td>\n",
       "      <td>Q86201</td>\n",
       "      <td>...</td>\n",
       "      <td>4127310900110810000010857</td>\n",
       "      <td>산호한양아파트</td>\n",
       "      <td>경기도 안산시 단원구 달미로 10</td>\n",
       "      <td>425764.0</td>\n",
       "      <td>15236.0</td>\n",
       "      <td>NaN</td>\n",
       "      <td>NaN</td>\n",
       "      <td>NaN</td>\n",
       "      <td>126.814295</td>\n",
       "      <td>37.336344</td>\n",
       "    </tr>\n",
       "    <tr>\n",
       "      <th>1</th>\n",
       "      <td>20024149</td>\n",
       "      <td>타워광명내과의원</td>\n",
       "      <td>NaN</td>\n",
       "      <td>S</td>\n",
       "      <td>의료</td>\n",
       "      <td>S01</td>\n",
       "      <td>병원</td>\n",
       "      <td>S01B07</td>\n",
       "      <td>내과/외과</td>\n",
       "      <td>Q86201</td>\n",
       "      <td>...</td>\n",
       "      <td>1168011800104670014000001</td>\n",
       "      <td>NaN</td>\n",
       "      <td>서울특별시 강남구 언주로30길 39</td>\n",
       "      <td>135270.0</td>\n",
       "      <td>6292.0</td>\n",
       "      <td>NaN</td>\n",
       "      <td>4</td>\n",
       "      <td>NaN</td>\n",
       "      <td>127.053198</td>\n",
       "      <td>37.488742</td>\n",
       "    </tr>\n",
       "    <tr>\n",
       "      <th>2</th>\n",
       "      <td>20152277</td>\n",
       "      <td>조정현신경외과의원</td>\n",
       "      <td>NaN</td>\n",
       "      <td>S</td>\n",
       "      <td>의료</td>\n",
       "      <td>S01</td>\n",
       "      <td>병원</td>\n",
       "      <td>S01B15</td>\n",
       "      <td>신경외과</td>\n",
       "      <td>Q86201</td>\n",
       "      <td>...</td>\n",
       "      <td>4139013200117400001017064</td>\n",
       "      <td>한라프라자</td>\n",
       "      <td>경기도 시흥시 중심상가로 178</td>\n",
       "      <td>429450.0</td>\n",
       "      <td>15066.0</td>\n",
       "      <td>NaN</td>\n",
       "      <td>NaN</td>\n",
       "      <td>NaN</td>\n",
       "      <td>126.734841</td>\n",
       "      <td>37.344955</td>\n",
       "    </tr>\n",
       "    <tr>\n",
       "      <th>3</th>\n",
       "      <td>20350610</td>\n",
       "      <td>한귀원정신과의원</td>\n",
       "      <td>NaN</td>\n",
       "      <td>S</td>\n",
       "      <td>의료</td>\n",
       "      <td>S01</td>\n",
       "      <td>병원</td>\n",
       "      <td>S01B99</td>\n",
       "      <td>기타병원</td>\n",
       "      <td>NaN</td>\n",
       "      <td>...</td>\n",
       "      <td>2650010400100740001009932</td>\n",
       "      <td>NaN</td>\n",
       "      <td>부산광역시 수영구 수영로 688</td>\n",
       "      <td>613100.0</td>\n",
       "      <td>48266.0</td>\n",
       "      <td>NaN</td>\n",
       "      <td>5</td>\n",
       "      <td>NaN</td>\n",
       "      <td>129.115438</td>\n",
       "      <td>35.166872</td>\n",
       "    </tr>\n",
       "    <tr>\n",
       "      <th>4</th>\n",
       "      <td>20364049</td>\n",
       "      <td>더블유스토어수지점</td>\n",
       "      <td>수지점</td>\n",
       "      <td>S</td>\n",
       "      <td>의료</td>\n",
       "      <td>S02</td>\n",
       "      <td>약국/한약방</td>\n",
       "      <td>S02A01</td>\n",
       "      <td>약국</td>\n",
       "      <td>G47811</td>\n",
       "      <td>...</td>\n",
       "      <td>4146510100107120002026238</td>\n",
       "      <td>NaN</td>\n",
       "      <td>경기도 용인시 수지구 문정로 32</td>\n",
       "      <td>448170.0</td>\n",
       "      <td>16837.0</td>\n",
       "      <td>NaN</td>\n",
       "      <td>1</td>\n",
       "      <td>NaN</td>\n",
       "      <td>127.095522</td>\n",
       "      <td>37.323528</td>\n",
       "    </tr>\n",
       "    <tr>\n",
       "      <th>...</th>\n",
       "      <td>...</td>\n",
       "      <td>...</td>\n",
       "      <td>...</td>\n",
       "      <td>...</td>\n",
       "      <td>...</td>\n",
       "      <td>...</td>\n",
       "      <td>...</td>\n",
       "      <td>...</td>\n",
       "      <td>...</td>\n",
       "      <td>...</td>\n",
       "      <td>...</td>\n",
       "      <td>...</td>\n",
       "      <td>...</td>\n",
       "      <td>...</td>\n",
       "      <td>...</td>\n",
       "      <td>...</td>\n",
       "      <td>...</td>\n",
       "      <td>...</td>\n",
       "      <td>...</td>\n",
       "      <td>...</td>\n",
       "      <td>...</td>\n",
       "    </tr>\n",
       "    <tr>\n",
       "      <th>91330</th>\n",
       "      <td>16196725</td>\n",
       "      <td>온누리약국</td>\n",
       "      <td>베스트</td>\n",
       "      <td>S</td>\n",
       "      <td>의료</td>\n",
       "      <td>S02</td>\n",
       "      <td>약국/한약방</td>\n",
       "      <td>S02A01</td>\n",
       "      <td>약국</td>\n",
       "      <td>G47811</td>\n",
       "      <td>...</td>\n",
       "      <td>3017011200115070000021096</td>\n",
       "      <td>NaN</td>\n",
       "      <td>대전광역시 서구 문예로 67</td>\n",
       "      <td>302831.0</td>\n",
       "      <td>35240.0</td>\n",
       "      <td>NaN</td>\n",
       "      <td>NaN</td>\n",
       "      <td>NaN</td>\n",
       "      <td>127.389865</td>\n",
       "      <td>36.352728</td>\n",
       "    </tr>\n",
       "    <tr>\n",
       "      <th>91331</th>\n",
       "      <td>16192180</td>\n",
       "      <td>리원</td>\n",
       "      <td>봄산후조</td>\n",
       "      <td>S</td>\n",
       "      <td>의료</td>\n",
       "      <td>S07</td>\n",
       "      <td>의료관련서비스업</td>\n",
       "      <td>S07A07</td>\n",
       "      <td>산후조리원</td>\n",
       "      <td>S96993</td>\n",
       "      <td>...</td>\n",
       "      <td>4128112300111460000011715</td>\n",
       "      <td>청한프라자</td>\n",
       "      <td>경기도 고양시 덕양구 성신로 14</td>\n",
       "      <td>412827.0</td>\n",
       "      <td>10503.0</td>\n",
       "      <td>NaN</td>\n",
       "      <td>NaN</td>\n",
       "      <td>NaN</td>\n",
       "      <td>126.830144</td>\n",
       "      <td>37.627530</td>\n",
       "    </tr>\n",
       "    <tr>\n",
       "      <th>91332</th>\n",
       "      <td>16127538</td>\n",
       "      <td>참좋은요양병원</td>\n",
       "      <td>NaN</td>\n",
       "      <td>S</td>\n",
       "      <td>의료</td>\n",
       "      <td>S01</td>\n",
       "      <td>병원</td>\n",
       "      <td>S01B17</td>\n",
       "      <td>노인/치매병원</td>\n",
       "      <td>Q86102</td>\n",
       "      <td>...</td>\n",
       "      <td>2641010800105380001005572</td>\n",
       "      <td>한신시티빌</td>\n",
       "      <td>부산광역시 금정구 금강로 209</td>\n",
       "      <td>609841.0</td>\n",
       "      <td>46294.0</td>\n",
       "      <td>NaN</td>\n",
       "      <td>2</td>\n",
       "      <td>NaN</td>\n",
       "      <td>129.082790</td>\n",
       "      <td>35.227138</td>\n",
       "    </tr>\n",
       "    <tr>\n",
       "      <th>91333</th>\n",
       "      <td>16108681</td>\n",
       "      <td>경희중앙한의원</td>\n",
       "      <td>NaN</td>\n",
       "      <td>S</td>\n",
       "      <td>의료</td>\n",
       "      <td>S01</td>\n",
       "      <td>병원</td>\n",
       "      <td>S01B06</td>\n",
       "      <td>한의원</td>\n",
       "      <td>Q86203</td>\n",
       "      <td>...</td>\n",
       "      <td>1174010500103450009002392</td>\n",
       "      <td>NaN</td>\n",
       "      <td>서울특별시 강동구 천중로 213</td>\n",
       "      <td>134811.0</td>\n",
       "      <td>5303.0</td>\n",
       "      <td>NaN</td>\n",
       "      <td>NaN</td>\n",
       "      <td>NaN</td>\n",
       "      <td>127.143958</td>\n",
       "      <td>37.540993</td>\n",
       "    </tr>\n",
       "    <tr>\n",
       "      <th>91334</th>\n",
       "      <td>16109073</td>\n",
       "      <td>천안김안과천안역본점의원</td>\n",
       "      <td>NaN</td>\n",
       "      <td>S</td>\n",
       "      <td>의료</td>\n",
       "      <td>S01</td>\n",
       "      <td>병원</td>\n",
       "      <td>S01B13</td>\n",
       "      <td>안과의원</td>\n",
       "      <td>Q86201</td>\n",
       "      <td>...</td>\n",
       "      <td>4413110700102660017016314</td>\n",
       "      <td>김안과</td>\n",
       "      <td>충청남도 천안시 동남구 중앙로 92</td>\n",
       "      <td>330952.0</td>\n",
       "      <td>31127.0</td>\n",
       "      <td>NaN</td>\n",
       "      <td>NaN</td>\n",
       "      <td>NaN</td>\n",
       "      <td>127.152651</td>\n",
       "      <td>36.806640</td>\n",
       "    </tr>\n",
       "  </tbody>\n",
       "</table>\n",
       "<p>91335 rows × 39 columns</p>\n",
       "</div>"
      ],
      "text/plain": [
       "         상가업소번호           상호명   지점명 상권업종대분류코드 상권업종대분류명 상권업종중분류코드  상권업종중분류명  \\\n",
       "0      19956873        하나산부인과   NaN         S       의료       S01        병원   \n",
       "1      20024149      타워광명내과의원   NaN         S       의료       S01        병원   \n",
       "2      20152277     조정현신경외과의원   NaN         S       의료       S01        병원   \n",
       "3      20350610      한귀원정신과의원   NaN         S       의료       S01        병원   \n",
       "4      20364049     더블유스토어수지점   수지점         S       의료       S02    약국/한약방   \n",
       "...         ...           ...   ...       ...      ...       ...       ...   \n",
       "91330  16196725         온누리약국   베스트         S       의료       S02    약국/한약방   \n",
       "91331  16192180            리원  봄산후조         S       의료       S07  의료관련서비스업   \n",
       "91332  16127538       참좋은요양병원   NaN         S       의료       S01        병원   \n",
       "91333  16108681       경희중앙한의원   NaN         S       의료       S01        병원   \n",
       "91334  16109073  천안김안과천안역본점의원   NaN         S       의료       S01        병원   \n",
       "\n",
       "      상권업종소분류코드 상권업종소분류명 표준산업분류코드  ...                     건물관리번호      건물명  \\\n",
       "0        S01B10     산부인과   Q86201  ...  4127310900110810000010857  산호한양아파트   \n",
       "1        S01B07    내과/외과   Q86201  ...  1168011800104670014000001      NaN   \n",
       "2        S01B15     신경외과   Q86201  ...  4139013200117400001017064    한라프라자   \n",
       "3        S01B99     기타병원      NaN  ...  2650010400100740001009932      NaN   \n",
       "4        S02A01       약국   G47811  ...  4146510100107120002026238      NaN   \n",
       "...         ...      ...      ...  ...                        ...      ...   \n",
       "91330    S02A01       약국   G47811  ...  3017011200115070000021096      NaN   \n",
       "91331    S07A07    산후조리원   S96993  ...  4128112300111460000011715    청한프라자   \n",
       "91332    S01B17  노인/치매병원   Q86102  ...  2641010800105380001005572    한신시티빌   \n",
       "91333    S01B06      한의원   Q86203  ...  1174010500103450009002392      NaN   \n",
       "91334    S01B13     안과의원   Q86201  ...  4413110700102660017016314      김안과   \n",
       "\n",
       "                     도로명주소     구우편번호    신우편번호  동정보  층정보  호정보          경도  \\\n",
       "0       경기도 안산시 단원구 달미로 10  425764.0  15236.0  NaN  NaN  NaN  126.814295   \n",
       "1      서울특별시 강남구 언주로30길 39  135270.0   6292.0  NaN    4  NaN  127.053198   \n",
       "2        경기도 시흥시 중심상가로 178  429450.0  15066.0  NaN  NaN  NaN  126.734841   \n",
       "3        부산광역시 수영구 수영로 688  613100.0  48266.0  NaN    5  NaN  129.115438   \n",
       "4       경기도 용인시 수지구 문정로 32  448170.0  16837.0  NaN    1  NaN  127.095522   \n",
       "...                    ...       ...      ...  ...  ...  ...         ...   \n",
       "91330      대전광역시 서구 문예로 67  302831.0  35240.0  NaN  NaN  NaN  127.389865   \n",
       "91331   경기도 고양시 덕양구 성신로 14  412827.0  10503.0  NaN  NaN  NaN  126.830144   \n",
       "91332    부산광역시 금정구 금강로 209  609841.0  46294.0  NaN    2  NaN  129.082790   \n",
       "91333    서울특별시 강동구 천중로 213  134811.0   5303.0  NaN  NaN  NaN  127.143958   \n",
       "91334  충청남도 천안시 동남구 중앙로 92  330952.0  31127.0  NaN  NaN  NaN  127.152651   \n",
       "\n",
       "              위도  \n",
       "0      37.336344  \n",
       "1      37.488742  \n",
       "2      37.344955  \n",
       "3      35.166872  \n",
       "4      37.323528  \n",
       "...          ...  \n",
       "91330  36.352728  \n",
       "91331  37.627530  \n",
       "91332  35.227138  \n",
       "91333  37.540993  \n",
       "91334  36.806640  \n",
       "\n",
       "[91335 rows x 39 columns]"
      ]
     },
     "execution_count": 6,
     "metadata": {},
     "output_type": "execute_result"
    }
   ],
   "source": [
    "df"
   ]
  },
  {
   "cell_type": "markdown",
   "id": "f9a018e3",
   "metadata": {},
   "source": [
    "## 1.4 데이터 미리보기"
   ]
  },
  {
   "cell_type": "code",
   "execution_count": 7,
   "id": "dc1d928e",
   "metadata": {},
   "outputs": [
    {
     "data": {
      "text/html": [
       "<div>\n",
       "<style scoped>\n",
       "    .dataframe tbody tr th:only-of-type {\n",
       "        vertical-align: middle;\n",
       "    }\n",
       "\n",
       "    .dataframe tbody tr th {\n",
       "        vertical-align: top;\n",
       "    }\n",
       "\n",
       "    .dataframe thead th {\n",
       "        text-align: right;\n",
       "    }\n",
       "</style>\n",
       "<table border=\"1\" class=\"dataframe\">\n",
       "  <thead>\n",
       "    <tr style=\"text-align: right;\">\n",
       "      <th></th>\n",
       "      <th>상가업소번호</th>\n",
       "      <th>상호명</th>\n",
       "      <th>지점명</th>\n",
       "      <th>상권업종대분류코드</th>\n",
       "      <th>상권업종대분류명</th>\n",
       "      <th>상권업종중분류코드</th>\n",
       "      <th>상권업종중분류명</th>\n",
       "      <th>상권업종소분류코드</th>\n",
       "      <th>상권업종소분류명</th>\n",
       "      <th>표준산업분류코드</th>\n",
       "      <th>...</th>\n",
       "      <th>건물관리번호</th>\n",
       "      <th>건물명</th>\n",
       "      <th>도로명주소</th>\n",
       "      <th>구우편번호</th>\n",
       "      <th>신우편번호</th>\n",
       "      <th>동정보</th>\n",
       "      <th>층정보</th>\n",
       "      <th>호정보</th>\n",
       "      <th>경도</th>\n",
       "      <th>위도</th>\n",
       "    </tr>\n",
       "  </thead>\n",
       "  <tbody>\n",
       "    <tr>\n",
       "      <th>0</th>\n",
       "      <td>19956873</td>\n",
       "      <td>하나산부인과</td>\n",
       "      <td>NaN</td>\n",
       "      <td>S</td>\n",
       "      <td>의료</td>\n",
       "      <td>S01</td>\n",
       "      <td>병원</td>\n",
       "      <td>S01B10</td>\n",
       "      <td>산부인과</td>\n",
       "      <td>Q86201</td>\n",
       "      <td>...</td>\n",
       "      <td>4127310900110810000010857</td>\n",
       "      <td>산호한양아파트</td>\n",
       "      <td>경기도 안산시 단원구 달미로 10</td>\n",
       "      <td>425764.0</td>\n",
       "      <td>15236.0</td>\n",
       "      <td>NaN</td>\n",
       "      <td>NaN</td>\n",
       "      <td>NaN</td>\n",
       "      <td>126.814295</td>\n",
       "      <td>37.336344</td>\n",
       "    </tr>\n",
       "  </tbody>\n",
       "</table>\n",
       "<p>1 rows × 39 columns</p>\n",
       "</div>"
      ],
      "text/plain": [
       "     상가업소번호     상호명  지점명 상권업종대분류코드 상권업종대분류명 상권업종중분류코드 상권업종중분류명 상권업종소분류코드  \\\n",
       "0  19956873  하나산부인과  NaN         S       의료       S01       병원    S01B10   \n",
       "\n",
       "  상권업종소분류명 표준산업분류코드  ...                     건물관리번호      건물명  \\\n",
       "0     산부인과   Q86201  ...  4127310900110810000010857  산호한양아파트   \n",
       "\n",
       "                도로명주소     구우편번호    신우편번호  동정보  층정보  호정보          경도         위도  \n",
       "0  경기도 안산시 단원구 달미로 10  425764.0  15236.0  NaN  NaN  NaN  126.814295  37.336344  \n",
       "\n",
       "[1 rows x 39 columns]"
      ]
     },
     "execution_count": 7,
     "metadata": {},
     "output_type": "execute_result"
    }
   ],
   "source": [
    "df.head(1)"
   ]
  },
  {
   "cell_type": "code",
   "execution_count": 8,
   "id": "ff5bc69e",
   "metadata": {},
   "outputs": [
    {
     "data": {
      "text/html": [
       "<div>\n",
       "<style scoped>\n",
       "    .dataframe tbody tr th:only-of-type {\n",
       "        vertical-align: middle;\n",
       "    }\n",
       "\n",
       "    .dataframe tbody tr th {\n",
       "        vertical-align: top;\n",
       "    }\n",
       "\n",
       "    .dataframe thead th {\n",
       "        text-align: right;\n",
       "    }\n",
       "</style>\n",
       "<table border=\"1\" class=\"dataframe\">\n",
       "  <thead>\n",
       "    <tr style=\"text-align: right;\">\n",
       "      <th></th>\n",
       "      <th>상가업소번호</th>\n",
       "      <th>상호명</th>\n",
       "      <th>지점명</th>\n",
       "      <th>상권업종대분류코드</th>\n",
       "      <th>상권업종대분류명</th>\n",
       "      <th>상권업종중분류코드</th>\n",
       "      <th>상권업종중분류명</th>\n",
       "      <th>상권업종소분류코드</th>\n",
       "      <th>상권업종소분류명</th>\n",
       "      <th>표준산업분류코드</th>\n",
       "      <th>...</th>\n",
       "      <th>건물관리번호</th>\n",
       "      <th>건물명</th>\n",
       "      <th>도로명주소</th>\n",
       "      <th>구우편번호</th>\n",
       "      <th>신우편번호</th>\n",
       "      <th>동정보</th>\n",
       "      <th>층정보</th>\n",
       "      <th>호정보</th>\n",
       "      <th>경도</th>\n",
       "      <th>위도</th>\n",
       "    </tr>\n",
       "  </thead>\n",
       "  <tbody>\n",
       "    <tr>\n",
       "      <th>91330</th>\n",
       "      <td>16196725</td>\n",
       "      <td>온누리약국</td>\n",
       "      <td>베스트</td>\n",
       "      <td>S</td>\n",
       "      <td>의료</td>\n",
       "      <td>S02</td>\n",
       "      <td>약국/한약방</td>\n",
       "      <td>S02A01</td>\n",
       "      <td>약국</td>\n",
       "      <td>G47811</td>\n",
       "      <td>...</td>\n",
       "      <td>3017011200115070000021096</td>\n",
       "      <td>NaN</td>\n",
       "      <td>대전광역시 서구 문예로 67</td>\n",
       "      <td>302831.0</td>\n",
       "      <td>35240.0</td>\n",
       "      <td>NaN</td>\n",
       "      <td>NaN</td>\n",
       "      <td>NaN</td>\n",
       "      <td>127.389865</td>\n",
       "      <td>36.352728</td>\n",
       "    </tr>\n",
       "    <tr>\n",
       "      <th>91331</th>\n",
       "      <td>16192180</td>\n",
       "      <td>리원</td>\n",
       "      <td>봄산후조</td>\n",
       "      <td>S</td>\n",
       "      <td>의료</td>\n",
       "      <td>S07</td>\n",
       "      <td>의료관련서비스업</td>\n",
       "      <td>S07A07</td>\n",
       "      <td>산후조리원</td>\n",
       "      <td>S96993</td>\n",
       "      <td>...</td>\n",
       "      <td>4128112300111460000011715</td>\n",
       "      <td>청한프라자</td>\n",
       "      <td>경기도 고양시 덕양구 성신로 14</td>\n",
       "      <td>412827.0</td>\n",
       "      <td>10503.0</td>\n",
       "      <td>NaN</td>\n",
       "      <td>NaN</td>\n",
       "      <td>NaN</td>\n",
       "      <td>126.830144</td>\n",
       "      <td>37.627530</td>\n",
       "    </tr>\n",
       "    <tr>\n",
       "      <th>91332</th>\n",
       "      <td>16127538</td>\n",
       "      <td>참좋은요양병원</td>\n",
       "      <td>NaN</td>\n",
       "      <td>S</td>\n",
       "      <td>의료</td>\n",
       "      <td>S01</td>\n",
       "      <td>병원</td>\n",
       "      <td>S01B17</td>\n",
       "      <td>노인/치매병원</td>\n",
       "      <td>Q86102</td>\n",
       "      <td>...</td>\n",
       "      <td>2641010800105380001005572</td>\n",
       "      <td>한신시티빌</td>\n",
       "      <td>부산광역시 금정구 금강로 209</td>\n",
       "      <td>609841.0</td>\n",
       "      <td>46294.0</td>\n",
       "      <td>NaN</td>\n",
       "      <td>2</td>\n",
       "      <td>NaN</td>\n",
       "      <td>129.082790</td>\n",
       "      <td>35.227138</td>\n",
       "    </tr>\n",
       "    <tr>\n",
       "      <th>91333</th>\n",
       "      <td>16108681</td>\n",
       "      <td>경희중앙한의원</td>\n",
       "      <td>NaN</td>\n",
       "      <td>S</td>\n",
       "      <td>의료</td>\n",
       "      <td>S01</td>\n",
       "      <td>병원</td>\n",
       "      <td>S01B06</td>\n",
       "      <td>한의원</td>\n",
       "      <td>Q86203</td>\n",
       "      <td>...</td>\n",
       "      <td>1174010500103450009002392</td>\n",
       "      <td>NaN</td>\n",
       "      <td>서울특별시 강동구 천중로 213</td>\n",
       "      <td>134811.0</td>\n",
       "      <td>5303.0</td>\n",
       "      <td>NaN</td>\n",
       "      <td>NaN</td>\n",
       "      <td>NaN</td>\n",
       "      <td>127.143958</td>\n",
       "      <td>37.540993</td>\n",
       "    </tr>\n",
       "    <tr>\n",
       "      <th>91334</th>\n",
       "      <td>16109073</td>\n",
       "      <td>천안김안과천안역본점의원</td>\n",
       "      <td>NaN</td>\n",
       "      <td>S</td>\n",
       "      <td>의료</td>\n",
       "      <td>S01</td>\n",
       "      <td>병원</td>\n",
       "      <td>S01B13</td>\n",
       "      <td>안과의원</td>\n",
       "      <td>Q86201</td>\n",
       "      <td>...</td>\n",
       "      <td>4413110700102660017016314</td>\n",
       "      <td>김안과</td>\n",
       "      <td>충청남도 천안시 동남구 중앙로 92</td>\n",
       "      <td>330952.0</td>\n",
       "      <td>31127.0</td>\n",
       "      <td>NaN</td>\n",
       "      <td>NaN</td>\n",
       "      <td>NaN</td>\n",
       "      <td>127.152651</td>\n",
       "      <td>36.806640</td>\n",
       "    </tr>\n",
       "  </tbody>\n",
       "</table>\n",
       "<p>5 rows × 39 columns</p>\n",
       "</div>"
      ],
      "text/plain": [
       "         상가업소번호           상호명   지점명 상권업종대분류코드 상권업종대분류명 상권업종중분류코드  상권업종중분류명  \\\n",
       "91330  16196725         온누리약국   베스트         S       의료       S02    약국/한약방   \n",
       "91331  16192180            리원  봄산후조         S       의료       S07  의료관련서비스업   \n",
       "91332  16127538       참좋은요양병원   NaN         S       의료       S01        병원   \n",
       "91333  16108681       경희중앙한의원   NaN         S       의료       S01        병원   \n",
       "91334  16109073  천안김안과천안역본점의원   NaN         S       의료       S01        병원   \n",
       "\n",
       "      상권업종소분류코드 상권업종소분류명 표준산업분류코드  ...                     건물관리번호    건물명  \\\n",
       "91330    S02A01       약국   G47811  ...  3017011200115070000021096    NaN   \n",
       "91331    S07A07    산후조리원   S96993  ...  4128112300111460000011715  청한프라자   \n",
       "91332    S01B17  노인/치매병원   Q86102  ...  2641010800105380001005572  한신시티빌   \n",
       "91333    S01B06      한의원   Q86203  ...  1174010500103450009002392    NaN   \n",
       "91334    S01B13     안과의원   Q86201  ...  4413110700102660017016314    김안과   \n",
       "\n",
       "                     도로명주소     구우편번호    신우편번호  동정보  층정보  호정보          경도  \\\n",
       "91330      대전광역시 서구 문예로 67  302831.0  35240.0  NaN  NaN  NaN  127.389865   \n",
       "91331   경기도 고양시 덕양구 성신로 14  412827.0  10503.0  NaN  NaN  NaN  126.830144   \n",
       "91332    부산광역시 금정구 금강로 209  609841.0  46294.0  NaN    2  NaN  129.082790   \n",
       "91333    서울특별시 강동구 천중로 213  134811.0   5303.0  NaN  NaN  NaN  127.143958   \n",
       "91334  충청남도 천안시 동남구 중앙로 92  330952.0  31127.0  NaN  NaN  NaN  127.152651   \n",
       "\n",
       "              위도  \n",
       "91330  36.352728  \n",
       "91331  37.627530  \n",
       "91332  35.227138  \n",
       "91333  37.540993  \n",
       "91334  36.806640  \n",
       "\n",
       "[5 rows x 39 columns]"
      ]
     },
     "execution_count": 8,
     "metadata": {},
     "output_type": "execute_result"
    }
   ],
   "source": [
    "df.tail()"
   ]
  },
  {
   "cell_type": "markdown",
   "id": "507cef61",
   "metadata": {},
   "source": [
    "## 1.5 데이터 요약하기"
   ]
  },
  {
   "cell_type": "code",
   "execution_count": 9,
   "id": "044e70db",
   "metadata": {},
   "outputs": [
    {
     "name": "stdout",
     "output_type": "stream",
     "text": [
      "<class 'pandas.core.frame.DataFrame'>\n",
      "RangeIndex: 91335 entries, 0 to 91334\n",
      "Data columns (total 39 columns):\n",
      " #   Column     Non-Null Count  Dtype  \n",
      "---  ------     --------------  -----  \n",
      " 0   상가업소번호     91335 non-null  int64  \n",
      " 1   상호명        91335 non-null  object \n",
      " 2   지점명        1346 non-null   object \n",
      " 3   상권업종대분류코드  91335 non-null  object \n",
      " 4   상권업종대분류명   91335 non-null  object \n",
      " 5   상권업종중분류코드  91335 non-null  object \n",
      " 6   상권업종중분류명   91335 non-null  object \n",
      " 7   상권업종소분류코드  91335 non-null  object \n",
      " 8   상권업종소분류명   91335 non-null  object \n",
      " 9   표준산업분류코드   86413 non-null  object \n",
      " 10  표준산업분류명    86413 non-null  object \n",
      " 11  시도코드       90956 non-null  float64\n",
      " 12  시도명        90956 non-null  object \n",
      " 13  시군구코드      90956 non-null  float64\n",
      " 14  시군구명       90956 non-null  object \n",
      " 15  행정동코드      91335 non-null  int64  \n",
      " 16  행정동명       90956 non-null  object \n",
      " 17  법정동코드      91280 non-null  float64\n",
      " 18  법정동명       91280 non-null  object \n",
      " 19  지번코드       91335 non-null  int64  \n",
      " 20  대지구분코드     91335 non-null  int64  \n",
      " 21  대지구분명      91335 non-null  object \n",
      " 22  지번본번지      91335 non-null  int64  \n",
      " 23  지번부번지      72079 non-null  float64\n",
      " 24  지번주소       91335 non-null  object \n",
      " 25  도로명코드      91335 non-null  int64  \n",
      " 26  도로명        91335 non-null  object \n",
      " 27  건물본번지      91335 non-null  int64  \n",
      " 28  건물부번지      10604 non-null  float64\n",
      " 29  건물관리번호     91335 non-null  object \n",
      " 30  건물명        46453 non-null  object \n",
      " 31  도로명주소      91335 non-null  object \n",
      " 32  구우편번호      91323 non-null  float64\n",
      " 33  신우편번호      91333 non-null  float64\n",
      " 34  동정보        7406 non-null   object \n",
      " 35  층정보        44044 non-null  object \n",
      " 36  호정보        15551 non-null  object \n",
      " 37  경도         91335 non-null  float64\n",
      " 38  위도         91335 non-null  float64\n",
      "dtypes: float64(9), int64(7), object(23)\n",
      "memory usage: 27.2+ MB\n"
     ]
    }
   ],
   "source": [
    "#info로 데이터 요약 보기\n",
    "df.info()"
   ]
  },
  {
   "cell_type": "code",
   "execution_count": 10,
   "id": "d67ec450",
   "metadata": {},
   "outputs": [
    {
     "data": {
      "text/plain": [
       "Index(['상가업소번호', '상호명', '지점명', '상권업종대분류코드', '상권업종대분류명', '상권업종중분류코드',\n",
       "       '상권업종중분류명', '상권업종소분류코드', '상권업종소분류명', '표준산업분류코드', '표준산업분류명', '시도코드',\n",
       "       '시도명', '시군구코드', '시군구명', '행정동코드', '행정동명', '법정동코드', '법정동명', '지번코드',\n",
       "       '대지구분코드', '대지구분명', '지번본번지', '지번부번지', '지번주소', '도로명코드', '도로명', '건물본번지',\n",
       "       '건물부번지', '건물관리번호', '건물명', '도로명주소', '구우편번호', '신우편번호', '동정보', '층정보',\n",
       "       '호정보', '경도', '위도'],\n",
       "      dtype='object')"
      ]
     },
     "execution_count": 10,
     "metadata": {},
     "output_type": "execute_result"
    }
   ],
   "source": [
    "#컬럼명만 출력해보기\n",
    "df.columns"
   ]
  },
  {
   "cell_type": "code",
   "execution_count": 11,
   "id": "64e42013",
   "metadata": {},
   "outputs": [
    {
     "data": {
      "text/plain": [
       "상가업소번호         int64\n",
       "상호명           object\n",
       "지점명           object\n",
       "상권업종대분류코드     object\n",
       "상권업종대분류명      object\n",
       "상권업종중분류코드     object\n",
       "상권업종중분류명      object\n",
       "상권업종소분류코드     object\n",
       "상권업종소분류명      object\n",
       "표준산업분류코드      object\n",
       "표준산업분류명       object\n",
       "시도코드         float64\n",
       "시도명           object\n",
       "시군구코드        float64\n",
       "시군구명          object\n",
       "행정동코드          int64\n",
       "행정동명          object\n",
       "법정동코드        float64\n",
       "법정동명          object\n",
       "지번코드           int64\n",
       "대지구분코드         int64\n",
       "대지구분명         object\n",
       "지번본번지          int64\n",
       "지번부번지        float64\n",
       "지번주소          object\n",
       "도로명코드          int64\n",
       "도로명           object\n",
       "건물본번지          int64\n",
       "건물부번지        float64\n",
       "건물관리번호        object\n",
       "건물명           object\n",
       "도로명주소         object\n",
       "구우편번호        float64\n",
       "신우편번호        float64\n",
       "동정보           object\n",
       "층정보           object\n",
       "호정보           object\n",
       "경도           float64\n",
       "위도           float64\n",
       "dtype: object"
      ]
     },
     "execution_count": 11,
     "metadata": {},
     "output_type": "execute_result"
    }
   ],
   "source": [
    "#데이터 타입만 출력해보기\n",
    "df.dtypes"
   ]
  },
  {
   "cell_type": "markdown",
   "id": "acf663bf",
   "metadata": {},
   "source": [
    "## 1.6 결측치"
   ]
  },
  {
   "cell_type": "code",
   "execution_count": 12,
   "id": "4e1b8db3",
   "metadata": {},
   "outputs": [
    {
     "data": {
      "text/html": [
       "<div>\n",
       "<style scoped>\n",
       "    .dataframe tbody tr th:only-of-type {\n",
       "        vertical-align: middle;\n",
       "    }\n",
       "\n",
       "    .dataframe tbody tr th {\n",
       "        vertical-align: top;\n",
       "    }\n",
       "\n",
       "    .dataframe thead th {\n",
       "        text-align: right;\n",
       "    }\n",
       "</style>\n",
       "<table border=\"1\" class=\"dataframe\">\n",
       "  <thead>\n",
       "    <tr style=\"text-align: right;\">\n",
       "      <th></th>\n",
       "      <th>상가업소번호</th>\n",
       "      <th>상호명</th>\n",
       "      <th>지점명</th>\n",
       "      <th>상권업종대분류코드</th>\n",
       "      <th>상권업종대분류명</th>\n",
       "      <th>상권업종중분류코드</th>\n",
       "      <th>상권업종중분류명</th>\n",
       "      <th>상권업종소분류코드</th>\n",
       "      <th>상권업종소분류명</th>\n",
       "      <th>표준산업분류코드</th>\n",
       "      <th>...</th>\n",
       "      <th>건물관리번호</th>\n",
       "      <th>건물명</th>\n",
       "      <th>도로명주소</th>\n",
       "      <th>구우편번호</th>\n",
       "      <th>신우편번호</th>\n",
       "      <th>동정보</th>\n",
       "      <th>층정보</th>\n",
       "      <th>호정보</th>\n",
       "      <th>경도</th>\n",
       "      <th>위도</th>\n",
       "    </tr>\n",
       "  </thead>\n",
       "  <tbody>\n",
       "    <tr>\n",
       "      <th>0</th>\n",
       "      <td>False</td>\n",
       "      <td>False</td>\n",
       "      <td>True</td>\n",
       "      <td>False</td>\n",
       "      <td>False</td>\n",
       "      <td>False</td>\n",
       "      <td>False</td>\n",
       "      <td>False</td>\n",
       "      <td>False</td>\n",
       "      <td>False</td>\n",
       "      <td>...</td>\n",
       "      <td>False</td>\n",
       "      <td>False</td>\n",
       "      <td>False</td>\n",
       "      <td>False</td>\n",
       "      <td>False</td>\n",
       "      <td>True</td>\n",
       "      <td>True</td>\n",
       "      <td>True</td>\n",
       "      <td>False</td>\n",
       "      <td>False</td>\n",
       "    </tr>\n",
       "    <tr>\n",
       "      <th>1</th>\n",
       "      <td>False</td>\n",
       "      <td>False</td>\n",
       "      <td>True</td>\n",
       "      <td>False</td>\n",
       "      <td>False</td>\n",
       "      <td>False</td>\n",
       "      <td>False</td>\n",
       "      <td>False</td>\n",
       "      <td>False</td>\n",
       "      <td>False</td>\n",
       "      <td>...</td>\n",
       "      <td>False</td>\n",
       "      <td>True</td>\n",
       "      <td>False</td>\n",
       "      <td>False</td>\n",
       "      <td>False</td>\n",
       "      <td>True</td>\n",
       "      <td>False</td>\n",
       "      <td>True</td>\n",
       "      <td>False</td>\n",
       "      <td>False</td>\n",
       "    </tr>\n",
       "    <tr>\n",
       "      <th>2</th>\n",
       "      <td>False</td>\n",
       "      <td>False</td>\n",
       "      <td>True</td>\n",
       "      <td>False</td>\n",
       "      <td>False</td>\n",
       "      <td>False</td>\n",
       "      <td>False</td>\n",
       "      <td>False</td>\n",
       "      <td>False</td>\n",
       "      <td>False</td>\n",
       "      <td>...</td>\n",
       "      <td>False</td>\n",
       "      <td>False</td>\n",
       "      <td>False</td>\n",
       "      <td>False</td>\n",
       "      <td>False</td>\n",
       "      <td>True</td>\n",
       "      <td>True</td>\n",
       "      <td>True</td>\n",
       "      <td>False</td>\n",
       "      <td>False</td>\n",
       "    </tr>\n",
       "    <tr>\n",
       "      <th>3</th>\n",
       "      <td>False</td>\n",
       "      <td>False</td>\n",
       "      <td>True</td>\n",
       "      <td>False</td>\n",
       "      <td>False</td>\n",
       "      <td>False</td>\n",
       "      <td>False</td>\n",
       "      <td>False</td>\n",
       "      <td>False</td>\n",
       "      <td>True</td>\n",
       "      <td>...</td>\n",
       "      <td>False</td>\n",
       "      <td>True</td>\n",
       "      <td>False</td>\n",
       "      <td>False</td>\n",
       "      <td>False</td>\n",
       "      <td>True</td>\n",
       "      <td>False</td>\n",
       "      <td>True</td>\n",
       "      <td>False</td>\n",
       "      <td>False</td>\n",
       "    </tr>\n",
       "    <tr>\n",
       "      <th>4</th>\n",
       "      <td>False</td>\n",
       "      <td>False</td>\n",
       "      <td>False</td>\n",
       "      <td>False</td>\n",
       "      <td>False</td>\n",
       "      <td>False</td>\n",
       "      <td>False</td>\n",
       "      <td>False</td>\n",
       "      <td>False</td>\n",
       "      <td>False</td>\n",
       "      <td>...</td>\n",
       "      <td>False</td>\n",
       "      <td>True</td>\n",
       "      <td>False</td>\n",
       "      <td>False</td>\n",
       "      <td>False</td>\n",
       "      <td>True</td>\n",
       "      <td>False</td>\n",
       "      <td>True</td>\n",
       "      <td>False</td>\n",
       "      <td>False</td>\n",
       "    </tr>\n",
       "    <tr>\n",
       "      <th>...</th>\n",
       "      <td>...</td>\n",
       "      <td>...</td>\n",
       "      <td>...</td>\n",
       "      <td>...</td>\n",
       "      <td>...</td>\n",
       "      <td>...</td>\n",
       "      <td>...</td>\n",
       "      <td>...</td>\n",
       "      <td>...</td>\n",
       "      <td>...</td>\n",
       "      <td>...</td>\n",
       "      <td>...</td>\n",
       "      <td>...</td>\n",
       "      <td>...</td>\n",
       "      <td>...</td>\n",
       "      <td>...</td>\n",
       "      <td>...</td>\n",
       "      <td>...</td>\n",
       "      <td>...</td>\n",
       "      <td>...</td>\n",
       "      <td>...</td>\n",
       "    </tr>\n",
       "    <tr>\n",
       "      <th>91330</th>\n",
       "      <td>False</td>\n",
       "      <td>False</td>\n",
       "      <td>False</td>\n",
       "      <td>False</td>\n",
       "      <td>False</td>\n",
       "      <td>False</td>\n",
       "      <td>False</td>\n",
       "      <td>False</td>\n",
       "      <td>False</td>\n",
       "      <td>False</td>\n",
       "      <td>...</td>\n",
       "      <td>False</td>\n",
       "      <td>True</td>\n",
       "      <td>False</td>\n",
       "      <td>False</td>\n",
       "      <td>False</td>\n",
       "      <td>True</td>\n",
       "      <td>True</td>\n",
       "      <td>True</td>\n",
       "      <td>False</td>\n",
       "      <td>False</td>\n",
       "    </tr>\n",
       "    <tr>\n",
       "      <th>91331</th>\n",
       "      <td>False</td>\n",
       "      <td>False</td>\n",
       "      <td>False</td>\n",
       "      <td>False</td>\n",
       "      <td>False</td>\n",
       "      <td>False</td>\n",
       "      <td>False</td>\n",
       "      <td>False</td>\n",
       "      <td>False</td>\n",
       "      <td>False</td>\n",
       "      <td>...</td>\n",
       "      <td>False</td>\n",
       "      <td>False</td>\n",
       "      <td>False</td>\n",
       "      <td>False</td>\n",
       "      <td>False</td>\n",
       "      <td>True</td>\n",
       "      <td>True</td>\n",
       "      <td>True</td>\n",
       "      <td>False</td>\n",
       "      <td>False</td>\n",
       "    </tr>\n",
       "    <tr>\n",
       "      <th>91332</th>\n",
       "      <td>False</td>\n",
       "      <td>False</td>\n",
       "      <td>True</td>\n",
       "      <td>False</td>\n",
       "      <td>False</td>\n",
       "      <td>False</td>\n",
       "      <td>False</td>\n",
       "      <td>False</td>\n",
       "      <td>False</td>\n",
       "      <td>False</td>\n",
       "      <td>...</td>\n",
       "      <td>False</td>\n",
       "      <td>False</td>\n",
       "      <td>False</td>\n",
       "      <td>False</td>\n",
       "      <td>False</td>\n",
       "      <td>True</td>\n",
       "      <td>False</td>\n",
       "      <td>True</td>\n",
       "      <td>False</td>\n",
       "      <td>False</td>\n",
       "    </tr>\n",
       "    <tr>\n",
       "      <th>91333</th>\n",
       "      <td>False</td>\n",
       "      <td>False</td>\n",
       "      <td>True</td>\n",
       "      <td>False</td>\n",
       "      <td>False</td>\n",
       "      <td>False</td>\n",
       "      <td>False</td>\n",
       "      <td>False</td>\n",
       "      <td>False</td>\n",
       "      <td>False</td>\n",
       "      <td>...</td>\n",
       "      <td>False</td>\n",
       "      <td>True</td>\n",
       "      <td>False</td>\n",
       "      <td>False</td>\n",
       "      <td>False</td>\n",
       "      <td>True</td>\n",
       "      <td>True</td>\n",
       "      <td>True</td>\n",
       "      <td>False</td>\n",
       "      <td>False</td>\n",
       "    </tr>\n",
       "    <tr>\n",
       "      <th>91334</th>\n",
       "      <td>False</td>\n",
       "      <td>False</td>\n",
       "      <td>True</td>\n",
       "      <td>False</td>\n",
       "      <td>False</td>\n",
       "      <td>False</td>\n",
       "      <td>False</td>\n",
       "      <td>False</td>\n",
       "      <td>False</td>\n",
       "      <td>False</td>\n",
       "      <td>...</td>\n",
       "      <td>False</td>\n",
       "      <td>False</td>\n",
       "      <td>False</td>\n",
       "      <td>False</td>\n",
       "      <td>False</td>\n",
       "      <td>True</td>\n",
       "      <td>True</td>\n",
       "      <td>True</td>\n",
       "      <td>False</td>\n",
       "      <td>False</td>\n",
       "    </tr>\n",
       "  </tbody>\n",
       "</table>\n",
       "<p>91335 rows × 39 columns</p>\n",
       "</div>"
      ],
      "text/plain": [
       "       상가업소번호    상호명    지점명  상권업종대분류코드  상권업종대분류명  상권업종중분류코드  상권업종중분류명  \\\n",
       "0       False  False   True      False     False      False     False   \n",
       "1       False  False   True      False     False      False     False   \n",
       "2       False  False   True      False     False      False     False   \n",
       "3       False  False   True      False     False      False     False   \n",
       "4       False  False  False      False     False      False     False   \n",
       "...       ...    ...    ...        ...       ...        ...       ...   \n",
       "91330   False  False  False      False     False      False     False   \n",
       "91331   False  False  False      False     False      False     False   \n",
       "91332   False  False   True      False     False      False     False   \n",
       "91333   False  False   True      False     False      False     False   \n",
       "91334   False  False   True      False     False      False     False   \n",
       "\n",
       "       상권업종소분류코드  상권업종소분류명  표준산업분류코드  ...  건물관리번호    건물명  도로명주소  구우편번호  신우편번호  \\\n",
       "0          False     False     False  ...   False  False  False  False  False   \n",
       "1          False     False     False  ...   False   True  False  False  False   \n",
       "2          False     False     False  ...   False  False  False  False  False   \n",
       "3          False     False      True  ...   False   True  False  False  False   \n",
       "4          False     False     False  ...   False   True  False  False  False   \n",
       "...          ...       ...       ...  ...     ...    ...    ...    ...    ...   \n",
       "91330      False     False     False  ...   False   True  False  False  False   \n",
       "91331      False     False     False  ...   False  False  False  False  False   \n",
       "91332      False     False     False  ...   False  False  False  False  False   \n",
       "91333      False     False     False  ...   False   True  False  False  False   \n",
       "91334      False     False     False  ...   False  False  False  False  False   \n",
       "\n",
       "        동정보    층정보   호정보     경도     위도  \n",
       "0      True   True  True  False  False  \n",
       "1      True  False  True  False  False  \n",
       "2      True   True  True  False  False  \n",
       "3      True  False  True  False  False  \n",
       "4      True  False  True  False  False  \n",
       "...     ...    ...   ...    ...    ...  \n",
       "91330  True   True  True  False  False  \n",
       "91331  True   True  True  False  False  \n",
       "91332  True  False  True  False  False  \n",
       "91333  True   True  True  False  False  \n",
       "91334  True   True  True  False  False  \n",
       "\n",
       "[91335 rows x 39 columns]"
      ]
     },
     "execution_count": 12,
     "metadata": {},
     "output_type": "execute_result"
    }
   ],
   "source": [
    "df.isnull() \n",
    "#True면 null값"
   ]
  },
  {
   "cell_type": "code",
   "execution_count": 13,
   "id": "7069a49f",
   "metadata": {},
   "outputs": [
    {
     "data": {
      "text/plain": [
       "상가업소번호           0\n",
       "상호명              0\n",
       "지점명          89989\n",
       "상권업종대분류코드        0\n",
       "상권업종대분류명         0\n",
       "상권업종중분류코드        0\n",
       "상권업종중분류명         0\n",
       "상권업종소분류코드        0\n",
       "상권업종소분류명         0\n",
       "표준산업분류코드      4922\n",
       "표준산업분류명       4922\n",
       "시도코드           379\n",
       "시도명            379\n",
       "시군구코드          379\n",
       "시군구명           379\n",
       "행정동코드            0\n",
       "행정동명           379\n",
       "법정동코드           55\n",
       "법정동명            55\n",
       "지번코드             0\n",
       "대지구분코드           0\n",
       "대지구분명            0\n",
       "지번본번지            0\n",
       "지번부번지        19256\n",
       "지번주소             0\n",
       "도로명코드            0\n",
       "도로명              0\n",
       "건물본번지            0\n",
       "건물부번지        80731\n",
       "건물관리번호           0\n",
       "건물명          44882\n",
       "도로명주소            0\n",
       "구우편번호           12\n",
       "신우편번호            2\n",
       "동정보          83929\n",
       "층정보          47291\n",
       "호정보          75784\n",
       "경도               0\n",
       "위도               0\n",
       "dtype: int64"
      ]
     },
     "execution_count": 13,
     "metadata": {},
     "output_type": "execute_result"
    }
   ],
   "source": [
    "null_count = df.isnull().sum()\n",
    "null_count\n",
    "#결측치 세어보기"
   ]
  },
  {
   "cell_type": "code",
   "execution_count": 14,
   "id": "0683e9d6",
   "metadata": {},
   "outputs": [
    {
     "data": {
      "text/plain": [
       "<AxesSubplot:>"
      ]
     },
     "execution_count": 14,
     "metadata": {},
     "output_type": "execute_result"
    },
    {
     "data": {
      "image/png": "[encoded data removed]",
      "text/plain": [
       "<Figure size 360x504 with 1 Axes>"
      ]
     },
     "metadata": {
      "image/png": {
       "height": 411,
       "width": 390
      },
      "needs_background": "light"
     },
     "output_type": "display_data"
    }
   ],
   "source": [
    "#위에서 구한 결과물을 plot.bar로 표현하기\n",
    "# null_count.plot.bar(rot=60)\n",
    "null_count.plot.barh(figsize=(5,7))"
   ]
  },
  {
   "cell_type": "code",
   "execution_count": 15,
   "id": "94746638",
   "metadata": {},
   "outputs": [
    {
     "data": {
      "text/html": [
       "<div>\n",
       "<style scoped>\n",
       "    .dataframe tbody tr th:only-of-type {\n",
       "        vertical-align: middle;\n",
       "    }\n",
       "\n",
       "    .dataframe tbody tr th {\n",
       "        vertical-align: top;\n",
       "    }\n",
       "\n",
       "    .dataframe thead th {\n",
       "        text-align: right;\n",
       "    }\n",
       "</style>\n",
       "<table border=\"1\" class=\"dataframe\">\n",
       "  <thead>\n",
       "    <tr style=\"text-align: right;\">\n",
       "      <th></th>\n",
       "      <th>index</th>\n",
       "      <th>0</th>\n",
       "    </tr>\n",
       "  </thead>\n",
       "  <tbody>\n",
       "    <tr>\n",
       "      <th>0</th>\n",
       "      <td>상가업소번호</td>\n",
       "      <td>0</td>\n",
       "    </tr>\n",
       "    <tr>\n",
       "      <th>1</th>\n",
       "      <td>상호명</td>\n",
       "      <td>0</td>\n",
       "    </tr>\n",
       "    <tr>\n",
       "      <th>2</th>\n",
       "      <td>지점명</td>\n",
       "      <td>89989</td>\n",
       "    </tr>\n",
       "    <tr>\n",
       "      <th>3</th>\n",
       "      <td>상권업종대분류코드</td>\n",
       "      <td>0</td>\n",
       "    </tr>\n",
       "    <tr>\n",
       "      <th>4</th>\n",
       "      <td>상권업종대분류명</td>\n",
       "      <td>0</td>\n",
       "    </tr>\n",
       "  </tbody>\n",
       "</table>\n",
       "</div>"
      ],
      "text/plain": [
       "       index      0\n",
       "0     상가업소번호      0\n",
       "1        상호명      0\n",
       "2        지점명  89989\n",
       "3  상권업종대분류코드      0\n",
       "4   상권업종대분류명      0"
      ]
     },
     "execution_count": 15,
     "metadata": {},
     "output_type": "execute_result"
    }
   ],
   "source": [
    "df_null_count = null_count.reset_index() #데이터 프레임 형태로 변경\n",
    "df_null_count.head()"
   ]
  },
  {
   "cell_type": "markdown",
   "id": "eec8cd78",
   "metadata": {},
   "source": [
    "## 1.7 컬럼명 변경하기"
   ]
  },
  {
   "cell_type": "code",
   "execution_count": 16,
   "id": "8886b178",
   "metadata": {},
   "outputs": [
    {
     "data": {
      "text/html": [
       "<div>\n",
       "<style scoped>\n",
       "    .dataframe tbody tr th:only-of-type {\n",
       "        vertical-align: middle;\n",
       "    }\n",
       "\n",
       "    .dataframe tbody tr th {\n",
       "        vertical-align: top;\n",
       "    }\n",
       "\n",
       "    .dataframe thead th {\n",
       "        text-align: right;\n",
       "    }\n",
       "</style>\n",
       "<table border=\"1\" class=\"dataframe\">\n",
       "  <thead>\n",
       "    <tr style=\"text-align: right;\">\n",
       "      <th></th>\n",
       "      <th>컬럼명</th>\n",
       "      <th>결측치수</th>\n",
       "    </tr>\n",
       "  </thead>\n",
       "  <tbody>\n",
       "    <tr>\n",
       "      <th>0</th>\n",
       "      <td>상가업소번호</td>\n",
       "      <td>0</td>\n",
       "    </tr>\n",
       "    <tr>\n",
       "      <th>1</th>\n",
       "      <td>상호명</td>\n",
       "      <td>0</td>\n",
       "    </tr>\n",
       "    <tr>\n",
       "      <th>2</th>\n",
       "      <td>지점명</td>\n",
       "      <td>89989</td>\n",
       "    </tr>\n",
       "    <tr>\n",
       "      <th>3</th>\n",
       "      <td>상권업종대분류코드</td>\n",
       "      <td>0</td>\n",
       "    </tr>\n",
       "    <tr>\n",
       "      <th>4</th>\n",
       "      <td>상권업종대분류명</td>\n",
       "      <td>0</td>\n",
       "    </tr>\n",
       "  </tbody>\n",
       "</table>\n",
       "</div>"
      ],
      "text/plain": [
       "         컬럼명   결측치수\n",
       "0     상가업소번호      0\n",
       "1        상호명      0\n",
       "2        지점명  89989\n",
       "3  상권업종대분류코드      0\n",
       "4   상권업종대분류명      0"
      ]
     },
     "execution_count": 16,
     "metadata": {},
     "output_type": "execute_result"
    }
   ],
   "source": [
    "df_null_count.columns = [\"컬럼명\", \"결측치수\"]\n",
    "df_null_count.head()"
   ]
  },
  {
   "cell_type": "markdown",
   "id": "2a1ebc1f",
   "metadata": {},
   "source": [
    "## 1.8 정렬하기"
   ]
  },
  {
   "cell_type": "code",
   "execution_count": 17,
   "id": "9407f87b",
   "metadata": {},
   "outputs": [],
   "source": [
    "df_null_count_top = df_null_count.sort_values(by=\"결측치수\", ascending=False).head(10)"
   ]
  },
  {
   "cell_type": "markdown",
   "id": "74ed0789",
   "metadata": {},
   "source": [
    "## 1.9 특정 컬럼만 불러오기"
   ]
  },
  {
   "cell_type": "code",
   "execution_count": 18,
   "id": "450d5df9",
   "metadata": {},
   "outputs": [
    {
     "data": {
      "text/plain": [
       "0    NaN\n",
       "1    NaN\n",
       "2    NaN\n",
       "3    NaN\n",
       "4    수지점\n",
       "Name: 지점명, dtype: object"
      ]
     },
     "execution_count": 18,
     "metadata": {},
     "output_type": "execute_result"
    }
   ],
   "source": [
    "df[\"지점명\"].head()"
   ]
  },
  {
   "cell_type": "code",
   "execution_count": 19,
   "id": "a47079ce",
   "metadata": {},
   "outputs": [
    {
     "data": {
      "text/plain": [
       "['지점명',\n",
       " '동정보',\n",
       " '건물부번지',\n",
       " '호정보',\n",
       " '층정보',\n",
       " '건물명',\n",
       " '지번부번지',\n",
       " '표준산업분류코드',\n",
       " '표준산업분류명',\n",
       " '시도코드']"
      ]
     },
     "execution_count": 19,
     "metadata": {},
     "output_type": "execute_result"
    }
   ],
   "source": [
    "drop_columns = df_null_count_top[\"컬럼명\"].tolist()\n",
    "drop_columns"
   ]
  },
  {
   "cell_type": "code",
   "execution_count": 20,
   "id": "93891a95",
   "metadata": {},
   "outputs": [
    {
     "data": {
      "text/html": [
       "<div>\n",
       "<style scoped>\n",
       "    .dataframe tbody tr th:only-of-type {\n",
       "        vertical-align: middle;\n",
       "    }\n",
       "\n",
       "    .dataframe tbody tr th {\n",
       "        vertical-align: top;\n",
       "    }\n",
       "\n",
       "    .dataframe thead th {\n",
       "        text-align: right;\n",
       "    }\n",
       "</style>\n",
       "<table border=\"1\" class=\"dataframe\">\n",
       "  <thead>\n",
       "    <tr style=\"text-align: right;\">\n",
       "      <th></th>\n",
       "      <th>지점명</th>\n",
       "      <th>동정보</th>\n",
       "      <th>건물부번지</th>\n",
       "      <th>호정보</th>\n",
       "      <th>층정보</th>\n",
       "      <th>건물명</th>\n",
       "      <th>지번부번지</th>\n",
       "      <th>표준산업분류코드</th>\n",
       "      <th>표준산업분류명</th>\n",
       "      <th>시도코드</th>\n",
       "    </tr>\n",
       "  </thead>\n",
       "  <tbody>\n",
       "    <tr>\n",
       "      <th>0</th>\n",
       "      <td>NaN</td>\n",
       "      <td>NaN</td>\n",
       "      <td>NaN</td>\n",
       "      <td>NaN</td>\n",
       "      <td>NaN</td>\n",
       "      <td>산호한양아파트</td>\n",
       "      <td>NaN</td>\n",
       "      <td>Q86201</td>\n",
       "      <td>일반 의원</td>\n",
       "      <td>41.0</td>\n",
       "    </tr>\n",
       "    <tr>\n",
       "      <th>1</th>\n",
       "      <td>NaN</td>\n",
       "      <td>NaN</td>\n",
       "      <td>NaN</td>\n",
       "      <td>NaN</td>\n",
       "      <td>4</td>\n",
       "      <td>NaN</td>\n",
       "      <td>14.0</td>\n",
       "      <td>Q86201</td>\n",
       "      <td>일반 의원</td>\n",
       "      <td>11.0</td>\n",
       "    </tr>\n",
       "    <tr>\n",
       "      <th>2</th>\n",
       "      <td>NaN</td>\n",
       "      <td>NaN</td>\n",
       "      <td>NaN</td>\n",
       "      <td>NaN</td>\n",
       "      <td>NaN</td>\n",
       "      <td>한라프라자</td>\n",
       "      <td>1.0</td>\n",
       "      <td>Q86201</td>\n",
       "      <td>일반 의원</td>\n",
       "      <td>41.0</td>\n",
       "    </tr>\n",
       "    <tr>\n",
       "      <th>3</th>\n",
       "      <td>NaN</td>\n",
       "      <td>NaN</td>\n",
       "      <td>NaN</td>\n",
       "      <td>NaN</td>\n",
       "      <td>5</td>\n",
       "      <td>NaN</td>\n",
       "      <td>1.0</td>\n",
       "      <td>NaN</td>\n",
       "      <td>NaN</td>\n",
       "      <td>26.0</td>\n",
       "    </tr>\n",
       "    <tr>\n",
       "      <th>4</th>\n",
       "      <td>수지점</td>\n",
       "      <td>NaN</td>\n",
       "      <td>NaN</td>\n",
       "      <td>NaN</td>\n",
       "      <td>1</td>\n",
       "      <td>NaN</td>\n",
       "      <td>2.0</td>\n",
       "      <td>G47811</td>\n",
       "      <td>의약품 및 의료용품 소매업</td>\n",
       "      <td>41.0</td>\n",
       "    </tr>\n",
       "  </tbody>\n",
       "</table>\n",
       "</div>"
      ],
      "text/plain": [
       "   지점명  동정보  건물부번지  호정보  층정보      건물명  지번부번지 표준산업분류코드         표준산업분류명  시도코드\n",
       "0  NaN  NaN    NaN  NaN  NaN  산호한양아파트    NaN   Q86201           일반 의원  41.0\n",
       "1  NaN  NaN    NaN  NaN    4      NaN   14.0   Q86201           일반 의원  11.0\n",
       "2  NaN  NaN    NaN  NaN  NaN    한라프라자    1.0   Q86201           일반 의원  41.0\n",
       "3  NaN  NaN    NaN  NaN    5      NaN    1.0      NaN             NaN  26.0\n",
       "4  수지점  NaN    NaN  NaN    1      NaN    2.0   G47811  의약품 및 의료용품 소매업  41.0"
      ]
     },
     "execution_count": 20,
     "metadata": {},
     "output_type": "execute_result"
    }
   ],
   "source": [
    "df[drop_columns].head()"
   ]
  },
  {
   "cell_type": "markdown",
   "id": "606f2917",
   "metadata": {},
   "source": [
    "## 1.10 제거하기"
   ]
  },
  {
   "cell_type": "code",
   "execution_count": 21,
   "id": "7881e677",
   "metadata": {},
   "outputs": [
    {
     "name": "stdout",
     "output_type": "stream",
     "text": [
      "(91335, 39)\n",
      "(91335, 29)\n"
     ]
    }
   ],
   "source": [
    "print(df.shape)\n",
    "df = df.drop(drop_columns, axis=1) #열을 기준으로 drop할거면 1, 행을 기준으로 drop할거면 0.\n",
    "print(df.shape)"
   ]
  },
  {
   "cell_type": "code",
   "execution_count": 22,
   "id": "687c7c53",
   "metadata": {},
   "outputs": [
    {
     "name": "stdout",
     "output_type": "stream",
     "text": [
      "<class 'pandas.core.frame.DataFrame'>\n",
      "RangeIndex: 91335 entries, 0 to 91334\n",
      "Data columns (total 29 columns):\n",
      " #   Column     Non-Null Count  Dtype  \n",
      "---  ------     --------------  -----  \n",
      " 0   상가업소번호     91335 non-null  int64  \n",
      " 1   상호명        91335 non-null  object \n",
      " 2   상권업종대분류코드  91335 non-null  object \n",
      " 3   상권업종대분류명   91335 non-null  object \n",
      " 4   상권업종중분류코드  91335 non-null  object \n",
      " 5   상권업종중분류명   91335 non-null  object \n",
      " 6   상권업종소분류코드  91335 non-null  object \n",
      " 7   상권업종소분류명   91335 non-null  object \n",
      " 8   시도명        90956 non-null  object \n",
      " 9   시군구코드      90956 non-null  float64\n",
      " 10  시군구명       90956 non-null  object \n",
      " 11  행정동코드      91335 non-null  int64  \n",
      " 12  행정동명       90956 non-null  object \n",
      " 13  법정동코드      91280 non-null  float64\n",
      " 14  법정동명       91280 non-null  object \n",
      " 15  지번코드       91335 non-null  int64  \n",
      " 16  대지구분코드     91335 non-null  int64  \n",
      " 17  대지구분명      91335 non-null  object \n",
      " 18  지번본번지      91335 non-null  int64  \n",
      " 19  지번주소       91335 non-null  object \n",
      " 20  도로명코드      91335 non-null  int64  \n",
      " 21  도로명        91335 non-null  object \n",
      " 22  건물본번지      91335 non-null  int64  \n",
      " 23  건물관리번호     91335 non-null  object \n",
      " 24  도로명주소      91335 non-null  object \n",
      " 25  구우편번호      91323 non-null  float64\n",
      " 26  신우편번호      91333 non-null  float64\n",
      " 27  경도         91335 non-null  float64\n",
      " 28  위도         91335 non-null  float64\n",
      "dtypes: float64(6), int64(7), object(16)\n",
      "memory usage: 20.2+ MB\n"
     ]
    }
   ],
   "source": [
    "df.info()"
   ]
  },
  {
   "cell_type": "markdown",
   "id": "787f2510",
   "metadata": {},
   "source": [
    "## 1.11 기초 통계값 보기"
   ]
  },
  {
   "cell_type": "markdown",
   "id": "78057337",
   "metadata": {},
   "source": [
    "### 1.11.1 기초 통계 수치"
   ]
  },
  {
   "cell_type": "code",
   "execution_count": 25,
   "id": "f602d1d1",
   "metadata": {},
   "outputs": [
    {
     "data": {
      "text/plain": [
       "36.62471119236673"
      ]
     },
     "execution_count": 25,
     "metadata": {},
     "output_type": "execute_result"
    }
   ],
   "source": [
    "#평균값\n",
    "df[\"위도\"].mean()"
   ]
  },
  {
   "cell_type": "code",
   "execution_count": 27,
   "id": "bfd7b3b6",
   "metadata": {},
   "outputs": [
    {
     "data": {
      "text/plain": [
       "37.2346523177033"
      ]
     },
     "execution_count": 27,
     "metadata": {},
     "output_type": "execute_result"
    }
   ],
   "source": [
    "#중앙값\n",
    "df[\"위도\"].median()"
   ]
  },
  {
   "cell_type": "code",
   "execution_count": 28,
   "id": "7cdb2132",
   "metadata": {},
   "outputs": [
    {
     "data": {
      "text/plain": [
       "38.4996585705598"
      ]
     },
     "execution_count": 28,
     "metadata": {},
     "output_type": "execute_result"
    }
   ],
   "source": [
    "#최대값\n",
    "df[\"위도\"].max()"
   ]
  },
  {
   "cell_type": "code",
   "execution_count": 29,
   "id": "8c463eff",
   "metadata": {},
   "outputs": [
    {
     "data": {
      "text/plain": [
       "33.2192896688307"
      ]
     },
     "execution_count": 29,
     "metadata": {},
     "output_type": "execute_result"
    }
   ],
   "source": [
    "#최솟값\n",
    "df[\"위도\"].min()"
   ]
  },
  {
   "cell_type": "code",
   "execution_count": 31,
   "id": "78345a43",
   "metadata": {},
   "outputs": [
    {
     "data": {
      "text/plain": [
       "91335"
      ]
     },
     "execution_count": 31,
     "metadata": {},
     "output_type": "execute_result"
    }
   ],
   "source": [
    "#개수\n",
    "df[\"위도\"].count()"
   ]
  },
  {
   "cell_type": "markdown",
   "id": "36bc89f7",
   "metadata": {},
   "source": [
    "### 1.11.2 기초 통계값 요약하기"
   ]
  },
  {
   "cell_type": "code",
   "execution_count": 32,
   "id": "5db2c884",
   "metadata": {},
   "outputs": [
    {
     "data": {
      "text/plain": [
       "count    91335.000000\n",
       "mean        36.624711\n",
       "std          1.041361\n",
       "min         33.219290\n",
       "25%         35.811830\n",
       "50%         37.234652\n",
       "75%         37.507463\n",
       "max         38.499659\n",
       "Name: 위도, dtype: float64"
      ]
     },
     "execution_count": 32,
     "metadata": {},
     "output_type": "execute_result"
    }
   ],
   "source": [
    "#위도를 describe로 요약\n",
    "df[\"위도\"].describe()"
   ]
  },
  {
   "cell_type": "code",
   "execution_count": 34,
   "id": "848646c4",
   "metadata": {},
   "outputs": [
    {
     "data": {
      "text/html": [
       "<div>\n",
       "<style scoped>\n",
       "    .dataframe tbody tr th:only-of-type {\n",
       "        vertical-align: middle;\n",
       "    }\n",
       "\n",
       "    .dataframe tbody tr th {\n",
       "        vertical-align: top;\n",
       "    }\n",
       "\n",
       "    .dataframe thead th {\n",
       "        text-align: right;\n",
       "    }\n",
       "</style>\n",
       "<table border=\"1\" class=\"dataframe\">\n",
       "  <thead>\n",
       "    <tr style=\"text-align: right;\">\n",
       "      <th></th>\n",
       "      <th>위도</th>\n",
       "      <th>경도</th>\n",
       "    </tr>\n",
       "  </thead>\n",
       "  <tbody>\n",
       "    <tr>\n",
       "      <th>count</th>\n",
       "      <td>91335.000000</td>\n",
       "      <td>91335.000000</td>\n",
       "    </tr>\n",
       "    <tr>\n",
       "      <th>mean</th>\n",
       "      <td>36.624711</td>\n",
       "      <td>127.487524</td>\n",
       "    </tr>\n",
       "    <tr>\n",
       "      <th>std</th>\n",
       "      <td>1.041361</td>\n",
       "      <td>0.842877</td>\n",
       "    </tr>\n",
       "    <tr>\n",
       "      <th>min</th>\n",
       "      <td>33.219290</td>\n",
       "      <td>124.717632</td>\n",
       "    </tr>\n",
       "    <tr>\n",
       "      <th>25%</th>\n",
       "      <td>35.811830</td>\n",
       "      <td>126.914297</td>\n",
       "    </tr>\n",
       "    <tr>\n",
       "      <th>50%</th>\n",
       "      <td>37.234652</td>\n",
       "      <td>127.084550</td>\n",
       "    </tr>\n",
       "    <tr>\n",
       "      <th>75%</th>\n",
       "      <td>37.507463</td>\n",
       "      <td>128.108919</td>\n",
       "    </tr>\n",
       "    <tr>\n",
       "      <th>max</th>\n",
       "      <td>38.499659</td>\n",
       "      <td>130.909912</td>\n",
       "    </tr>\n",
       "  </tbody>\n",
       "</table>\n",
       "</div>"
      ],
      "text/plain": [
       "                 위도            경도\n",
       "count  91335.000000  91335.000000\n",
       "mean      36.624711    127.487524\n",
       "std        1.041361      0.842877\n",
       "min       33.219290    124.717632\n",
       "25%       35.811830    126.914297\n",
       "50%       37.234652    127.084550\n",
       "75%       37.507463    128.108919\n",
       "max       38.499659    130.909912"
      ]
     },
     "execution_count": 34,
     "metadata": {},
     "output_type": "execute_result"
    }
   ],
   "source": [
    "#2개의 컬럼을 Describe로 요약\n",
    "df[[\"위도\", \"경도\"]].describe()"
   ]
  },
  {
   "cell_type": "code",
   "execution_count": 36,
   "id": "342a27cb",
   "metadata": {},
   "outputs": [
    {
     "data": {
      "text/html": [
       "<div>\n",
       "<style scoped>\n",
       "    .dataframe tbody tr th:only-of-type {\n",
       "        vertical-align: middle;\n",
       "    }\n",
       "\n",
       "    .dataframe tbody tr th {\n",
       "        vertical-align: top;\n",
       "    }\n",
       "\n",
       "    .dataframe thead th {\n",
       "        text-align: right;\n",
       "    }\n",
       "</style>\n",
       "<table border=\"1\" class=\"dataframe\">\n",
       "  <thead>\n",
       "    <tr style=\"text-align: right;\">\n",
       "      <th></th>\n",
       "      <th>상호명</th>\n",
       "      <th>상권업종대분류코드</th>\n",
       "      <th>상권업종대분류명</th>\n",
       "      <th>상권업종중분류코드</th>\n",
       "      <th>상권업종중분류명</th>\n",
       "      <th>상권업종소분류코드</th>\n",
       "      <th>상권업종소분류명</th>\n",
       "      <th>시도명</th>\n",
       "      <th>시군구명</th>\n",
       "      <th>행정동명</th>\n",
       "      <th>법정동명</th>\n",
       "      <th>대지구분명</th>\n",
       "      <th>지번주소</th>\n",
       "      <th>도로명</th>\n",
       "      <th>건물관리번호</th>\n",
       "      <th>도로명주소</th>\n",
       "    </tr>\n",
       "  </thead>\n",
       "  <tbody>\n",
       "    <tr>\n",
       "      <th>count</th>\n",
       "      <td>91335</td>\n",
       "      <td>91335</td>\n",
       "      <td>91335</td>\n",
       "      <td>91335</td>\n",
       "      <td>91335</td>\n",
       "      <td>91335</td>\n",
       "      <td>91335</td>\n",
       "      <td>90956</td>\n",
       "      <td>90956</td>\n",
       "      <td>90956</td>\n",
       "      <td>91280</td>\n",
       "      <td>91335</td>\n",
       "      <td>91335</td>\n",
       "      <td>91335</td>\n",
       "      <td>91335</td>\n",
       "      <td>91335</td>\n",
       "    </tr>\n",
       "    <tr>\n",
       "      <th>unique</th>\n",
       "      <td>56910</td>\n",
       "      <td>1</td>\n",
       "      <td>1</td>\n",
       "      <td>5</td>\n",
       "      <td>5</td>\n",
       "      <td>34</td>\n",
       "      <td>34</td>\n",
       "      <td>17</td>\n",
       "      <td>228</td>\n",
       "      <td>2791</td>\n",
       "      <td>2822</td>\n",
       "      <td>2</td>\n",
       "      <td>53118</td>\n",
       "      <td>16610</td>\n",
       "      <td>54142</td>\n",
       "      <td>54031</td>\n",
       "    </tr>\n",
       "    <tr>\n",
       "      <th>top</th>\n",
       "      <td>리원</td>\n",
       "      <td>S</td>\n",
       "      <td>의료</td>\n",
       "      <td>S01</td>\n",
       "      <td>병원</td>\n",
       "      <td>S02A01</td>\n",
       "      <td>약국</td>\n",
       "      <td>경기도</td>\n",
       "      <td>서구</td>\n",
       "      <td>중앙동</td>\n",
       "      <td>중동</td>\n",
       "      <td>대지</td>\n",
       "      <td>서울특별시 동대문구 제기동 965-1</td>\n",
       "      <td>서울특별시 강남구 강남대로</td>\n",
       "      <td>1123010300109650001031604</td>\n",
       "      <td>서울특별시 동대문구 약령중앙로8길 10</td>\n",
       "    </tr>\n",
       "    <tr>\n",
       "      <th>freq</th>\n",
       "      <td>152</td>\n",
       "      <td>91335</td>\n",
       "      <td>91335</td>\n",
       "      <td>60774</td>\n",
       "      <td>60774</td>\n",
       "      <td>18964</td>\n",
       "      <td>18964</td>\n",
       "      <td>21374</td>\n",
       "      <td>3165</td>\n",
       "      <td>1856</td>\n",
       "      <td>874</td>\n",
       "      <td>91213</td>\n",
       "      <td>198</td>\n",
       "      <td>326</td>\n",
       "      <td>198</td>\n",
       "      <td>198</td>\n",
       "    </tr>\n",
       "  </tbody>\n",
       "</table>\n",
       "</div>"
      ],
      "text/plain": [
       "          상호명 상권업종대분류코드 상권업종대분류명 상권업종중분류코드 상권업종중분류명 상권업종소분류코드 상권업종소분류명    시도명  \\\n",
       "count   91335     91335    91335     91335    91335     91335    91335  90956   \n",
       "unique  56910         1        1         5        5        34       34     17   \n",
       "top        리원         S       의료       S01       병원    S02A01       약국    경기도   \n",
       "freq      152     91335    91335     60774    60774     18964    18964  21374   \n",
       "\n",
       "         시군구명   행정동명   법정동명  대지구분명                  지번주소             도로명  \\\n",
       "count   90956  90956  91280  91335                 91335           91335   \n",
       "unique    228   2791   2822      2                 53118           16610   \n",
       "top        서구    중앙동     중동     대지  서울특별시 동대문구 제기동 965-1  서울특별시 강남구 강남대로   \n",
       "freq     3165   1856    874  91213                   198             326   \n",
       "\n",
       "                           건물관리번호                  도로명주소  \n",
       "count                       91335                  91335  \n",
       "unique                      54142                  54031  \n",
       "top     1123010300109650001031604  서울특별시 동대문구 약령중앙로8길 10  \n",
       "freq                          198                    198  "
      ]
     },
     "execution_count": 36,
     "metadata": {},
     "output_type": "execute_result"
    }
   ],
   "source": [
    "#describe로 문자열 데이터타입의 요약 보기\n",
    "df.describe(include=\"object\")\n",
    "\n",
    "#top: 가장 많이 등장한\n",
    "#freq: 가장 많이 등장한 거 count\n",
    "#결측치는 제외하고 보여지게 됨(default)"
   ]
  },
  {
   "cell_type": "markdown",
   "id": "296b9df0",
   "metadata": {},
   "source": [
    "### 1.11.3 중복제거한 값 보기"
   ]
  },
  {
   "cell_type": "code",
   "execution_count": 37,
   "id": "385aa002",
   "metadata": {},
   "outputs": [],
   "source": [
    "#unique로 중복을 제거한 값을 보고 nunique를 사용해서 갯수를 세어보자!"
   ]
  },
  {
   "cell_type": "code",
   "execution_count": 38,
   "id": "eeb53250",
   "metadata": {},
   "outputs": [
    {
     "data": {
      "text/plain": [
       "array(['의료'], dtype=object)"
      ]
     },
     "execution_count": 38,
     "metadata": {},
     "output_type": "execute_result"
    }
   ],
   "source": [
    "df[\"상권업종대분류명\"].unique()"
   ]
  },
  {
   "cell_type": "code",
   "execution_count": 39,
   "id": "e6a4edb3",
   "metadata": {},
   "outputs": [
    {
     "data": {
      "text/plain": [
       "1"
      ]
     },
     "execution_count": 39,
     "metadata": {},
     "output_type": "execute_result"
    }
   ],
   "source": [
    "df[\"상권업종대분류명\"].nunique()"
   ]
  },
  {
   "cell_type": "code",
   "execution_count": 41,
   "id": "ab5010d8",
   "metadata": {},
   "outputs": [
    {
     "data": {
      "text/plain": [
       "array(['병원', '약국/한약방', '수의업', '유사의료업', '의료관련서비스업'], dtype=object)"
      ]
     },
     "execution_count": 41,
     "metadata": {},
     "output_type": "execute_result"
    }
   ],
   "source": [
    "df[\"상권업종중분류명\"].unique()"
   ]
  },
  {
   "cell_type": "code",
   "execution_count": 42,
   "id": "30db511b",
   "metadata": {},
   "outputs": [
    {
     "data": {
      "text/plain": [
       "5"
      ]
     },
     "execution_count": 42,
     "metadata": {},
     "output_type": "execute_result"
    }
   ],
   "source": [
    "df[\"상권업종중분류명\"].nunique()"
   ]
  },
  {
   "cell_type": "code",
   "execution_count": 43,
   "id": "817593ba",
   "metadata": {},
   "outputs": [
    {
     "data": {
      "text/plain": [
       "array(['산부인과', '내과/외과', '신경외과', '기타병원', '약국', '동물병원', '한약방', '탕제원',\n",
       "       '정형/성형외과', '소아과', '이비인후과의원', '노인/치매병원', '언어치료', '수의업-종합', '한의원',\n",
       "       '치과의원', '침구원', '일반병원', '안과의원', '조산원', '한방병원', '종합병원', '유사의료업기타',\n",
       "       '응급구조대', '혈액원', '치과병원', '척추교정치료', '피부과', '비뇨기과', '치과기공소', '산후조리원',\n",
       "       '접골원', '수의업-기타', '제대혈'], dtype=object)"
      ]
     },
     "execution_count": 43,
     "metadata": {},
     "output_type": "execute_result"
    }
   ],
   "source": [
    "df[\"상권업종소분류명\"].unique()"
   ]
  },
  {
   "cell_type": "code",
   "execution_count": 44,
   "id": "cf4e4956",
   "metadata": {},
   "outputs": [
    {
     "data": {
      "text/plain": [
       "34"
      ]
     },
     "execution_count": 44,
     "metadata": {},
     "output_type": "execute_result"
    }
   ],
   "source": [
    "df[\"상권업종소분류명\"].nunique()"
   ]
  },
  {
   "cell_type": "code",
   "execution_count": 48,
   "id": "e6e2bdb8",
   "metadata": {},
   "outputs": [
    {
     "data": {
      "text/plain": [
       "34"
      ]
     },
     "execution_count": 48,
     "metadata": {},
     "output_type": "execute_result"
    }
   ],
   "source": [
    "len(df[\"상권업종소분류명\"].unique())"
   ]
  },
  {
   "cell_type": "markdown",
   "id": "c750f19c",
   "metadata": {},
   "source": [
    "### 1.11.4 그룹화된 요약값 보기"
   ]
  },
  {
   "cell_type": "code",
   "execution_count": 49,
   "id": "6ac569c4",
   "metadata": {},
   "outputs": [
    {
     "data": {
      "text/plain": [
       "0      경기도\n",
       "1    서울특별시\n",
       "2      경기도\n",
       "3    부산광역시\n",
       "4      경기도\n",
       "Name: 시도명, dtype: object"
      ]
     },
     "execution_count": 49,
     "metadata": {},
     "output_type": "execute_result"
    }
   ],
   "source": [
    "df[\"시도명\"].head()"
   ]
  },
  {
   "cell_type": "code",
   "execution_count": 53,
   "id": "df7d022c",
   "metadata": {},
   "outputs": [],
   "source": [
    "city = df[\"시도명\"].value_counts()"
   ]
  },
  {
   "cell_type": "code",
   "execution_count": 54,
   "id": "487b89a7",
   "metadata": {},
   "outputs": [],
   "source": [
    "city_normalize = df[\"시도명\"].value_counts(normalize=True)"
   ]
  },
  {
   "cell_type": "code",
   "execution_count": 56,
   "id": "feebe389",
   "metadata": {},
   "outputs": [
    {
     "data": {
      "text/plain": [
       "<AxesSubplot:>"
      ]
     },
     "execution_count": 56,
     "metadata": {},
     "output_type": "execute_result"
    },
    {
     "data": {
      "image/png": "[encoded data removed]",
      "text/plain": [
       "<Figure size 432x288 with 1 Axes>"
      ]
     },
     "metadata": {
      "image/png": {
       "height": 248,
       "width": 426
      },
      "needs_background": "light"
     },
     "output_type": "display_data"
    }
   ],
   "source": [
    "city.plot.barh()"
   ]
  },
  {
   "cell_type": "code",
   "execution_count": 57,
   "id": "ec3e40e0",
   "metadata": {},
   "outputs": [
    {
     "name": "stderr",
     "output_type": "stream",
     "text": [
      "/opt/anaconda3/lib/python3.8/site-packages/pandas/plotting/_matplotlib/core.py:1583: MatplotlibDeprecationWarning: normalize=None does not normalize if the sum is less than 1 but this behavior is deprecated since 3.3 until two minor releases later. After the deprecation period the default value will be normalize=True. To prevent normalization pass normalize=False \n",
      "  results = ax.pie(y, labels=blabels, **kwds)\n"
     ]
    },
    {
     "data": {
      "text/plain": [
       "<AxesSubplot:ylabel='시도명'>"
      ]
     },
     "execution_count": 57,
     "metadata": {},
     "output_type": "execute_result"
    },
    {
     "data": {
      "image/png": "[encoded data removed]",
      "text/plain": [
       "<Figure size 504x504 with 1 Axes>"
      ]
     },
     "metadata": {
      "image/png": {
       "height": 394,
       "width": 467
      }
     },
     "output_type": "display_data"
    }
   ],
   "source": [
    "city_normalize.plot.pie(figsize=(7,7))"
   ]
  },
  {
   "cell_type": "code",
   "execution_count": 59,
   "id": "2c341de2",
   "metadata": {},
   "outputs": [
    {
     "data": {
      "text/plain": [
       "<AxesSubplot:xlabel='count', ylabel='시도명'>"
      ]
     },
     "execution_count": 59,
     "metadata": {},
     "output_type": "execute_result"
    },
    {
     "data": {
      "image/png": "[encoded data removed]",
      "text/plain": [
       "<Figure size 432x288 with 1 Axes>"
      ]
     },
     "metadata": {
      "image/png": {
       "height": 261,
       "width": 439
      },
      "needs_background": "light"
     },
     "output_type": "display_data"
    }
   ],
   "source": [
    "#seaborn의 countplot으로 그려고빅\n",
    "sns.countplot(data=df, y=\"시도명\")"
   ]
  },
  {
   "cell_type": "code",
   "execution_count": 60,
   "id": "f1e046c6",
   "metadata": {},
   "outputs": [
    {
     "data": {
      "text/plain": [
       "의료    91335\n",
       "Name: 상권업종대분류명, dtype: int64"
      ]
     },
     "execution_count": 60,
     "metadata": {},
     "output_type": "execute_result"
    }
   ],
   "source": [
    "df[\"상권업종대분류명\"].value_counts()"
   ]
  },
  {
   "cell_type": "code",
   "execution_count": 63,
   "id": "8a4ccbc6",
   "metadata": {},
   "outputs": [
    {
     "data": {
      "text/plain": [
       "병원          60774\n",
       "약국/한약방      20923\n",
       "수의업          5323\n",
       "유사의료업        3774\n",
       "의료관련서비스업      541\n",
       "Name: 상권업종중분류명, dtype: int64"
      ]
     },
     "execution_count": 63,
     "metadata": {},
     "output_type": "execute_result"
    }
   ],
   "source": [
    "c = df[\"상권업종중분류명\"].value_counts()\n",
    "c"
   ]
  },
  {
   "cell_type": "code",
   "execution_count": 64,
   "id": "087d8df8",
   "metadata": {},
   "outputs": [
    {
     "data": {
      "text/plain": [
       "병원          0.665397\n",
       "약국/한약방      0.229080\n",
       "수의업         0.058280\n",
       "유사의료업       0.041320\n",
       "의료관련서비스업    0.005923\n",
       "Name: 상권업종중분류명, dtype: float64"
      ]
     },
     "execution_count": 64,
     "metadata": {},
     "output_type": "execute_result"
    }
   ],
   "source": [
    "n = df[\"상권업종중분류명\"].value_counts(normalize=True)\n",
    "n"
   ]
  },
  {
   "cell_type": "code",
   "execution_count": 68,
   "id": "e166c70e",
   "metadata": {},
   "outputs": [
    {
     "data": {
      "text/plain": [
       "<AxesSubplot:>"
      ]
     },
     "execution_count": 68,
     "metadata": {},
     "output_type": "execute_result"
    },
    {
     "data": {
      "image/png": "[encoded data removed]",
      "text/plain": [
       "<Figure size 432x288 with 1 Axes>"
      ]
     },
     "metadata": {
      "image/png": {
       "height": 248,
       "width": 396
      },
      "needs_background": "light"
     },
     "output_type": "display_data"
    }
   ],
   "source": [
    "c.plot.bar(rot=0)"
   ]
  },
  {
   "cell_type": "code",
   "execution_count": 69,
   "id": "9abe9730",
   "metadata": {},
   "outputs": [
    {
     "data": {
      "text/plain": [
       "<AxesSubplot:ylabel='상권업종중분류명'>"
      ]
     },
     "execution_count": 69,
     "metadata": {},
     "output_type": "execute_result"
    },
    {
     "data": {
      "image/png": "[encoded data removed]",
      "text/plain": [
       "<Figure size 432x288 with 1 Axes>"
      ]
     },
     "metadata": {
      "image/png": {
       "height": 231,
       "width": 312
      }
     },
     "output_type": "display_data"
    }
   ],
   "source": [
    "n.plot.pie()"
   ]
  },
  {
   "cell_type": "code",
   "execution_count": 72,
   "id": "eb0239e1",
   "metadata": {},
   "outputs": [
    {
     "data": {
      "text/plain": [
       "약국         18964\n",
       "치과의원       13731\n",
       "한의원        13211\n",
       "내과/외과      11374\n",
       "기타병원        4922\n",
       "일반병원        3385\n",
       "동물병원        3098\n",
       "정형/성형외과     2562\n",
       "소아과         2472\n",
       "수의업-종합      2216\n",
       "치과기공소       1724\n",
       "이비인후과의원     1486\n",
       "한약방         1442\n",
       "피부과         1273\n",
       "산부인과        1116\n",
       "노인/치매병원     1055\n",
       "안과의원        1042\n",
       "비뇨기과         809\n",
       "종합병원         762\n",
       "치과병원         756\n",
       "언어치료         664\n",
       "유사의료업기타      629\n",
       "탕제원          517\n",
       "산후조리원        511\n",
       "신경외과         421\n",
       "한방병원         397\n",
       "척추교정치료       338\n",
       "침구원          154\n",
       "혈액원          130\n",
       "응급구조대        125\n",
       "조산원           30\n",
       "수의업-기타         9\n",
       "접골원            9\n",
       "제대혈            1\n",
       "Name: 상권업종소분류명, dtype: int64"
      ]
     },
     "execution_count": 72,
     "metadata": {},
     "output_type": "execute_result"
    }
   ],
   "source": [
    "s = df[\"상권업종소분류명\"].value_counts()\n",
    "s"
   ]
  },
  {
   "cell_type": "code",
   "execution_count": 78,
   "id": "0a8d9e41",
   "metadata": {},
   "outputs": [
    {
     "data": {
      "text/plain": [
       "<AxesSubplot:>"
      ]
     },
     "execution_count": 78,
     "metadata": {},
     "output_type": "execute_result"
    },
    {
     "data": {
      "image/png": "[encoded data removed]",
      "text/plain": [
       "<Figure size 504x576 with 1 Axes>"
      ]
     },
     "metadata": {
      "image/png": {
       "height": 465,
       "width": 481
      },
      "needs_background": "light"
     },
     "output_type": "display_data"
    }
   ],
   "source": [
    "s.plot.barh(figsize=(7,8), grid=True)"
   ]
  },
  {
   "cell_type": "markdown",
   "id": "2557f866",
   "metadata": {},
   "source": [
    "## 1.12 데이터 색인하기"
   ]
  },
  {
   "cell_type": "code",
   "execution_count": 82,
   "id": "a078bedd",
   "metadata": {},
   "outputs": [
    {
     "data": {
      "text/html": [
       "<div>\n",
       "<style scoped>\n",
       "    .dataframe tbody tr th:only-of-type {\n",
       "        vertical-align: middle;\n",
       "    }\n",
       "\n",
       "    .dataframe tbody tr th {\n",
       "        vertical-align: top;\n",
       "    }\n",
       "\n",
       "    .dataframe thead th {\n",
       "        text-align: right;\n",
       "    }\n",
       "</style>\n",
       "<table border=\"1\" class=\"dataframe\">\n",
       "  <thead>\n",
       "    <tr style=\"text-align: right;\">\n",
       "      <th></th>\n",
       "      <th>상가업소번호</th>\n",
       "      <th>상호명</th>\n",
       "      <th>상권업종대분류코드</th>\n",
       "      <th>상권업종대분류명</th>\n",
       "      <th>상권업종중분류코드</th>\n",
       "      <th>상권업종중분류명</th>\n",
       "      <th>상권업종소분류코드</th>\n",
       "      <th>상권업종소분류명</th>\n",
       "      <th>시도명</th>\n",
       "      <th>시군구코드</th>\n",
       "      <th>...</th>\n",
       "      <th>지번주소</th>\n",
       "      <th>도로명코드</th>\n",
       "      <th>도로명</th>\n",
       "      <th>건물본번지</th>\n",
       "      <th>건물관리번호</th>\n",
       "      <th>도로명주소</th>\n",
       "      <th>구우편번호</th>\n",
       "      <th>신우편번호</th>\n",
       "      <th>경도</th>\n",
       "      <th>위도</th>\n",
       "    </tr>\n",
       "  </thead>\n",
       "  <tbody>\n",
       "    <tr>\n",
       "      <th>4</th>\n",
       "      <td>20364049</td>\n",
       "      <td>더블유스토어수지점</td>\n",
       "      <td>S</td>\n",
       "      <td>의료</td>\n",
       "      <td>S02</td>\n",
       "      <td>약국/한약방</td>\n",
       "      <td>S02A01</td>\n",
       "      <td>약국</td>\n",
       "      <td>경기도</td>\n",
       "      <td>41465.0</td>\n",
       "      <td>...</td>\n",
       "      <td>경기도 용인시 수지구 풍덕천동 712-2</td>\n",
       "      <td>414653205024</td>\n",
       "      <td>경기도 용인시 수지구 문정로</td>\n",
       "      <td>32</td>\n",
       "      <td>4146510100107120002026238</td>\n",
       "      <td>경기도 용인시 수지구 문정로 32</td>\n",
       "      <td>448170.0</td>\n",
       "      <td>16837.0</td>\n",
       "      <td>127.095522</td>\n",
       "      <td>37.323528</td>\n",
       "    </tr>\n",
       "    <tr>\n",
       "      <th>6</th>\n",
       "      <td>20733252</td>\n",
       "      <td>춘산한약방</td>\n",
       "      <td>S</td>\n",
       "      <td>의료</td>\n",
       "      <td>S02</td>\n",
       "      <td>약국/한약방</td>\n",
       "      <td>S02A02</td>\n",
       "      <td>한약방</td>\n",
       "      <td>강원도</td>\n",
       "      <td>42110.0</td>\n",
       "      <td>...</td>\n",
       "      <td>강원도 춘천시 중앙로2가 99</td>\n",
       "      <td>421104454113</td>\n",
       "      <td>강원도 춘천시 낙원길</td>\n",
       "      <td>50</td>\n",
       "      <td>4211010500101000000023668</td>\n",
       "      <td>강원도 춘천시 낙원길 50</td>\n",
       "      <td>200042.0</td>\n",
       "      <td>24273.0</td>\n",
       "      <td>127.726905</td>\n",
       "      <td>37.880504</td>\n",
       "    </tr>\n",
       "  </tbody>\n",
       "</table>\n",
       "<p>2 rows × 29 columns</p>\n",
       "</div>"
      ],
      "text/plain": [
       "     상가업소번호        상호명 상권업종대분류코드 상권업종대분류명 상권업종중분류코드 상권업종중분류명 상권업종소분류코드  \\\n",
       "4  20364049  더블유스토어수지점         S       의료       S02   약국/한약방    S02A01   \n",
       "6  20733252      춘산한약방         S       의료       S02   약국/한약방    S02A02   \n",
       "\n",
       "  상권업종소분류명  시도명    시군구코드  ...                    지번주소         도로명코드  \\\n",
       "4       약국  경기도  41465.0  ...  경기도 용인시 수지구 풍덕천동 712-2  414653205024   \n",
       "6      한약방  강원도  42110.0  ...        강원도 춘천시 중앙로2가 99  421104454113   \n",
       "\n",
       "               도로명  건물본번지                     건물관리번호               도로명주소  \\\n",
       "4  경기도 용인시 수지구 문정로     32  4146510100107120002026238  경기도 용인시 수지구 문정로 32   \n",
       "6      강원도 춘천시 낙원길     50  4211010500101000000023668      강원도 춘천시 낙원길 50   \n",
       "\n",
       "      구우편번호    신우편번호          경도         위도  \n",
       "4  448170.0  16837.0  127.095522  37.323528  \n",
       "6  200042.0  24273.0  127.726905  37.880504  \n",
       "\n",
       "[2 rows x 29 columns]"
      ]
     },
     "execution_count": 82,
     "metadata": {},
     "output_type": "execute_result"
    }
   ],
   "source": [
    "df_medical = df[df[\"상권업종중분류명\"] == \"약국/한약방\"].copy()\n",
    "df_medical.head(2)"
   ]
  },
  {
   "cell_type": "code",
   "execution_count": 88,
   "id": "2bf864ba",
   "metadata": {},
   "outputs": [
    {
     "data": {
      "text/plain": [
       "병원          60774\n",
       "약국/한약방      20923\n",
       "수의업          5323\n",
       "유사의료업        3774\n",
       "의료관련서비스업      541\n",
       "Name: 상권업종중분류명, dtype: int64"
      ]
     },
     "execution_count": 88,
     "metadata": {},
     "output_type": "execute_result"
    }
   ],
   "source": [
    "m = df[\"상권업종대분류명\"] == \"의료\"\n",
    "df.loc[m ,\"상권업종중분류명\"].value_counts()\n",
    "#df.loc을 이용하면 행,열을 함께 가져올 수 있다."
   ]
  },
  {
   "cell_type": "code",
   "execution_count": 97,
   "id": "b2e75f4d",
   "metadata": {},
   "outputs": [
    {
     "data": {
      "text/html": [
       "<div>\n",
       "<style scoped>\n",
       "    .dataframe tbody tr th:only-of-type {\n",
       "        vertical-align: middle;\n",
       "    }\n",
       "\n",
       "    .dataframe tbody tr th {\n",
       "        vertical-align: top;\n",
       "    }\n",
       "\n",
       "    .dataframe thead th {\n",
       "        text-align: right;\n",
       "    }\n",
       "</style>\n",
       "<table border=\"1\" class=\"dataframe\">\n",
       "  <thead>\n",
       "    <tr style=\"text-align: right;\">\n",
       "      <th></th>\n",
       "      <th>상가업소번호</th>\n",
       "      <th>상호명</th>\n",
       "      <th>상권업종대분류코드</th>\n",
       "      <th>상권업종대분류명</th>\n",
       "      <th>상권업종중분류코드</th>\n",
       "      <th>상권업종중분류명</th>\n",
       "      <th>상권업종소분류코드</th>\n",
       "      <th>상권업종소분류명</th>\n",
       "      <th>시도명</th>\n",
       "      <th>시군구코드</th>\n",
       "      <th>...</th>\n",
       "      <th>지번주소</th>\n",
       "      <th>도로명코드</th>\n",
       "      <th>도로명</th>\n",
       "      <th>건물본번지</th>\n",
       "      <th>건물관리번호</th>\n",
       "      <th>도로명주소</th>\n",
       "      <th>구우편번호</th>\n",
       "      <th>신우편번호</th>\n",
       "      <th>경도</th>\n",
       "      <th>위도</th>\n",
       "    </tr>\n",
       "  </thead>\n",
       "  <tbody>\n",
       "    <tr>\n",
       "      <th>22</th>\n",
       "      <td>21013731</td>\n",
       "      <td>세종언어치료센터</td>\n",
       "      <td>S</td>\n",
       "      <td>의료</td>\n",
       "      <td>S03</td>\n",
       "      <td>유사의료업</td>\n",
       "      <td>S03B07</td>\n",
       "      <td>언어치료</td>\n",
       "      <td>부산광역시</td>\n",
       "      <td>26410.0</td>\n",
       "      <td>...</td>\n",
       "      <td>부산광역시 금정구 구서동 84-1</td>\n",
       "      <td>264102000010</td>\n",
       "      <td>부산광역시 금정구 중앙대로</td>\n",
       "      <td>1817</td>\n",
       "      <td>2641010700100840001017686</td>\n",
       "      <td>부산광역시 금정구 중앙대로 1817-11</td>\n",
       "      <td>609310.0</td>\n",
       "      <td>46273.0</td>\n",
       "      <td>129.091662</td>\n",
       "      <td>35.246528</td>\n",
       "    </tr>\n",
       "    <tr>\n",
       "      <th>40</th>\n",
       "      <td>20933900</td>\n",
       "      <td>고려수지침학회</td>\n",
       "      <td>S</td>\n",
       "      <td>의료</td>\n",
       "      <td>S03</td>\n",
       "      <td>유사의료업</td>\n",
       "      <td>S03B03</td>\n",
       "      <td>침구원</td>\n",
       "      <td>경상남도</td>\n",
       "      <td>48123.0</td>\n",
       "      <td>...</td>\n",
       "      <td>경상남도 창원시 성산구 상남동 5-2</td>\n",
       "      <td>481234784088</td>\n",
       "      <td>경상남도 창원시 성산구 마디미로4번길</td>\n",
       "      <td>9</td>\n",
       "      <td>4812312700100050002026799</td>\n",
       "      <td>경상남도 창원시 성산구 마디미로4번길 9</td>\n",
       "      <td>642832.0</td>\n",
       "      <td>51495.0</td>\n",
       "      <td>128.684678</td>\n",
       "      <td>35.224113</td>\n",
       "    </tr>\n",
       "    <tr>\n",
       "      <th>97</th>\n",
       "      <td>21717820</td>\n",
       "      <td>청명원</td>\n",
       "      <td>S</td>\n",
       "      <td>의료</td>\n",
       "      <td>S03</td>\n",
       "      <td>유사의료업</td>\n",
       "      <td>S03B09</td>\n",
       "      <td>유사의료업기타</td>\n",
       "      <td>충청북도</td>\n",
       "      <td>43760.0</td>\n",
       "      <td>...</td>\n",
       "      <td>충청북도 괴산군 청안면 금신리 241</td>\n",
       "      <td>437604538132</td>\n",
       "      <td>충청북도 괴산군 청안면 금신로1길</td>\n",
       "      <td>93</td>\n",
       "      <td>4376037022102410000007293</td>\n",
       "      <td>충청북도 괴산군 청안면 금신로1길 93</td>\n",
       "      <td>367831.0</td>\n",
       "      <td>28050.0</td>\n",
       "      <td>127.635740</td>\n",
       "      <td>36.768935</td>\n",
       "    </tr>\n",
       "    <tr>\n",
       "      <th>102</th>\n",
       "      <td>21865854</td>\n",
       "      <td>응급환자이송센터</td>\n",
       "      <td>S</td>\n",
       "      <td>의료</td>\n",
       "      <td>S03</td>\n",
       "      <td>유사의료업</td>\n",
       "      <td>S03B01</td>\n",
       "      <td>응급구조대</td>\n",
       "      <td>대전광역시</td>\n",
       "      <td>30140.0</td>\n",
       "      <td>...</td>\n",
       "      <td>대전광역시 중구 대사동 248-237</td>\n",
       "      <td>301404295026</td>\n",
       "      <td>대전광역시 중구 계룡로921번길</td>\n",
       "      <td>40</td>\n",
       "      <td>3014011000102480237013097</td>\n",
       "      <td>대전광역시 중구 계룡로921번길 40</td>\n",
       "      <td>301846.0</td>\n",
       "      <td>34946.0</td>\n",
       "      <td>127.417693</td>\n",
       "      <td>36.321801</td>\n",
       "    </tr>\n",
       "    <tr>\n",
       "      <th>108</th>\n",
       "      <td>21914637</td>\n",
       "      <td>태화아동발달지원센터</td>\n",
       "      <td>S</td>\n",
       "      <td>의료</td>\n",
       "      <td>S03</td>\n",
       "      <td>유사의료업</td>\n",
       "      <td>S03B07</td>\n",
       "      <td>언어치료</td>\n",
       "      <td>대전광역시</td>\n",
       "      <td>30140.0</td>\n",
       "      <td>...</td>\n",
       "      <td>대전광역시 중구 문화동 27</td>\n",
       "      <td>301404295402</td>\n",
       "      <td>대전광역시 중구 보문산로333번길</td>\n",
       "      <td>29</td>\n",
       "      <td>3014011600100270000008172</td>\n",
       "      <td>대전광역시 중구 보문산로333번길 29</td>\n",
       "      <td>301130.0</td>\n",
       "      <td>35020.0</td>\n",
       "      <td>127.412725</td>\n",
       "      <td>36.312953</td>\n",
       "    </tr>\n",
       "    <tr>\n",
       "      <th>...</th>\n",
       "      <td>...</td>\n",
       "      <td>...</td>\n",
       "      <td>...</td>\n",
       "      <td>...</td>\n",
       "      <td>...</td>\n",
       "      <td>...</td>\n",
       "      <td>...</td>\n",
       "      <td>...</td>\n",
       "      <td>...</td>\n",
       "      <td>...</td>\n",
       "      <td>...</td>\n",
       "      <td>...</td>\n",
       "      <td>...</td>\n",
       "      <td>...</td>\n",
       "      <td>...</td>\n",
       "      <td>...</td>\n",
       "      <td>...</td>\n",
       "      <td>...</td>\n",
       "      <td>...</td>\n",
       "      <td>...</td>\n",
       "      <td>...</td>\n",
       "    </tr>\n",
       "    <tr>\n",
       "      <th>91300</th>\n",
       "      <td>16131218</td>\n",
       "      <td>으뜸치과기공소</td>\n",
       "      <td>S</td>\n",
       "      <td>의료</td>\n",
       "      <td>S03</td>\n",
       "      <td>유사의료업</td>\n",
       "      <td>S03B06</td>\n",
       "      <td>치과기공소</td>\n",
       "      <td>경상남도</td>\n",
       "      <td>48170.0</td>\n",
       "      <td>...</td>\n",
       "      <td>경상남도 진주시 수정동 39-11</td>\n",
       "      <td>481704797625</td>\n",
       "      <td>경상남도 진주시 향교로18번길</td>\n",
       "      <td>8</td>\n",
       "      <td>4817011600100390011004490</td>\n",
       "      <td>경상남도 진주시 향교로18번길 8</td>\n",
       "      <td>660180.0</td>\n",
       "      <td>52753.0</td>\n",
       "      <td>128.084600</td>\n",
       "      <td>35.197029</td>\n",
       "    </tr>\n",
       "    <tr>\n",
       "      <th>91310</th>\n",
       "      <td>16199325</td>\n",
       "      <td>보령치과기공소</td>\n",
       "      <td>S</td>\n",
       "      <td>의료</td>\n",
       "      <td>S03</td>\n",
       "      <td>유사의료업</td>\n",
       "      <td>S03B06</td>\n",
       "      <td>치과기공소</td>\n",
       "      <td>서울특별시</td>\n",
       "      <td>11290.0</td>\n",
       "      <td>...</td>\n",
       "      <td>서울특별시 성북구 동소문동4가 103-11</td>\n",
       "      <td>112903107003</td>\n",
       "      <td>서울특별시 성북구 동소문로</td>\n",
       "      <td>47</td>\n",
       "      <td>1129010700101030014050661</td>\n",
       "      <td>서울특별시 성북구 동소문로 47-15</td>\n",
       "      <td>136821.0</td>\n",
       "      <td>2832.0</td>\n",
       "      <td>127.010602</td>\n",
       "      <td>37.591455</td>\n",
       "    </tr>\n",
       "    <tr>\n",
       "      <th>91311</th>\n",
       "      <td>16199088</td>\n",
       "      <td>점프셈교실</td>\n",
       "      <td>S</td>\n",
       "      <td>의료</td>\n",
       "      <td>S03</td>\n",
       "      <td>유사의료업</td>\n",
       "      <td>S03B09</td>\n",
       "      <td>유사의료업기타</td>\n",
       "      <td>경상북도</td>\n",
       "      <td>47130.0</td>\n",
       "      <td>...</td>\n",
       "      <td>경상북도 경주시 황성동 446</td>\n",
       "      <td>471304715895</td>\n",
       "      <td>경상북도 경주시 용담로104번길</td>\n",
       "      <td>16</td>\n",
       "      <td>4713012400104460000024894</td>\n",
       "      <td>경상북도 경주시 용담로104번길 16</td>\n",
       "      <td>780954.0</td>\n",
       "      <td>38084.0</td>\n",
       "      <td>129.211755</td>\n",
       "      <td>35.865600</td>\n",
       "    </tr>\n",
       "    <tr>\n",
       "      <th>91319</th>\n",
       "      <td>16108560</td>\n",
       "      <td>씨앤디자인치과기공소</td>\n",
       "      <td>S</td>\n",
       "      <td>의료</td>\n",
       "      <td>S03</td>\n",
       "      <td>유사의료업</td>\n",
       "      <td>S03B06</td>\n",
       "      <td>치과기공소</td>\n",
       "      <td>서울특별시</td>\n",
       "      <td>11545.0</td>\n",
       "      <td>...</td>\n",
       "      <td>서울특별시 금천구 가산동 60-25</td>\n",
       "      <td>115453116013</td>\n",
       "      <td>서울특별시 금천구 벚꽃로</td>\n",
       "      <td>234</td>\n",
       "      <td>1154510100100600025000001</td>\n",
       "      <td>서울특별시 금천구 벚꽃로 234</td>\n",
       "      <td>153798.0</td>\n",
       "      <td>8513.0</td>\n",
       "      <td>126.886122</td>\n",
       "      <td>37.475986</td>\n",
       "    </tr>\n",
       "    <tr>\n",
       "      <th>91327</th>\n",
       "      <td>16190388</td>\n",
       "      <td>오피스알파</td>\n",
       "      <td>S</td>\n",
       "      <td>의료</td>\n",
       "      <td>S03</td>\n",
       "      <td>유사의료업</td>\n",
       "      <td>S03B06</td>\n",
       "      <td>치과기공소</td>\n",
       "      <td>경기도</td>\n",
       "      <td>41173.0</td>\n",
       "      <td>...</td>\n",
       "      <td>경기도 안양시 동안구 호계동 970-24</td>\n",
       "      <td>411734349013</td>\n",
       "      <td>경기도 안양시 동안구 경수대로507번길</td>\n",
       "      <td>28</td>\n",
       "      <td>4117310400109700024005182</td>\n",
       "      <td>경기도 안양시 동안구 경수대로507번길 28</td>\n",
       "      <td>431849.0</td>\n",
       "      <td>14120.0</td>\n",
       "      <td>126.956365</td>\n",
       "      <td>37.367779</td>\n",
       "    </tr>\n",
       "  </tbody>\n",
       "</table>\n",
       "<p>3774 rows × 29 columns</p>\n",
       "</div>"
      ],
      "text/plain": [
       "         상가업소번호         상호명 상권업종대분류코드 상권업종대분류명 상권업종중분류코드 상권업종중분류명 상권업종소분류코드  \\\n",
       "22     21013731    세종언어치료센터         S       의료       S03    유사의료업    S03B07   \n",
       "40     20933900     고려수지침학회         S       의료       S03    유사의료업    S03B03   \n",
       "97     21717820         청명원         S       의료       S03    유사의료업    S03B09   \n",
       "102    21865854    응급환자이송센터         S       의료       S03    유사의료업    S03B01   \n",
       "108    21914637  태화아동발달지원센터         S       의료       S03    유사의료업    S03B07   \n",
       "...         ...         ...       ...      ...       ...      ...       ...   \n",
       "91300  16131218     으뜸치과기공소         S       의료       S03    유사의료업    S03B06   \n",
       "91310  16199325     보령치과기공소         S       의료       S03    유사의료업    S03B06   \n",
       "91311  16199088       점프셈교실         S       의료       S03    유사의료업    S03B09   \n",
       "91319  16108560  씨앤디자인치과기공소         S       의료       S03    유사의료업    S03B06   \n",
       "91327  16190388       오피스알파         S       의료       S03    유사의료업    S03B06   \n",
       "\n",
       "      상권업종소분류명    시도명    시군구코드  ...                     지번주소         도로명코드  \\\n",
       "22        언어치료  부산광역시  26410.0  ...       부산광역시 금정구 구서동 84-1  264102000010   \n",
       "40         침구원   경상남도  48123.0  ...     경상남도 창원시 성산구 상남동 5-2  481234784088   \n",
       "97     유사의료업기타   충청북도  43760.0  ...     충청북도 괴산군 청안면 금신리 241  437604538132   \n",
       "102      응급구조대  대전광역시  30140.0  ...     대전광역시 중구 대사동 248-237  301404295026   \n",
       "108       언어치료  대전광역시  30140.0  ...          대전광역시 중구 문화동 27  301404295402   \n",
       "...        ...    ...      ...  ...                      ...           ...   \n",
       "91300    치과기공소   경상남도  48170.0  ...       경상남도 진주시 수정동 39-11  481704797625   \n",
       "91310    치과기공소  서울특별시  11290.0  ...  서울특별시 성북구 동소문동4가 103-11  112903107003   \n",
       "91311  유사의료업기타   경상북도  47130.0  ...         경상북도 경주시 황성동 446  471304715895   \n",
       "91319    치과기공소  서울특별시  11545.0  ...      서울특별시 금천구 가산동 60-25  115453116013   \n",
       "91327    치과기공소    경기도  41173.0  ...   경기도 안양시 동안구 호계동 970-24  411734349013   \n",
       "\n",
       "                         도로명  건물본번지                     건물관리번호  \\\n",
       "22            부산광역시 금정구 중앙대로   1817  2641010700100840001017686   \n",
       "40      경상남도 창원시 성산구 마디미로4번길      9  4812312700100050002026799   \n",
       "97        충청북도 괴산군 청안면 금신로1길     93  4376037022102410000007293   \n",
       "102        대전광역시 중구 계룡로921번길     40  3014011000102480237013097   \n",
       "108       대전광역시 중구 보문산로333번길     29  3014011600100270000008172   \n",
       "...                      ...    ...                        ...   \n",
       "91300       경상남도 진주시 향교로18번길      8  4817011600100390011004490   \n",
       "91310         서울특별시 성북구 동소문로     47  1129010700101030014050661   \n",
       "91311      경상북도 경주시 용담로104번길     16  4713012400104460000024894   \n",
       "91319          서울특별시 금천구 벚꽃로    234  1154510100100600025000001   \n",
       "91327  경기도 안양시 동안구 경수대로507번길     28  4117310400109700024005182   \n",
       "\n",
       "                          도로명주소     구우편번호    신우편번호          경도         위도  \n",
       "22       부산광역시 금정구 중앙대로 1817-11  609310.0  46273.0  129.091662  35.246528  \n",
       "40       경상남도 창원시 성산구 마디미로4번길 9  642832.0  51495.0  128.684678  35.224113  \n",
       "97        충청북도 괴산군 청안면 금신로1길 93  367831.0  28050.0  127.635740  36.768935  \n",
       "102        대전광역시 중구 계룡로921번길 40  301846.0  34946.0  127.417693  36.321801  \n",
       "108       대전광역시 중구 보문산로333번길 29  301130.0  35020.0  127.412725  36.312953  \n",
       "...                         ...       ...      ...         ...        ...  \n",
       "91300        경상남도 진주시 향교로18번길 8  660180.0  52753.0  128.084600  35.197029  \n",
       "91310      서울특별시 성북구 동소문로 47-15  136821.0   2832.0  127.010602  37.591455  \n",
       "91311      경상북도 경주시 용담로104번길 16  780954.0  38084.0  129.211755  35.865600  \n",
       "91319         서울특별시 금천구 벚꽃로 234  153798.0   8513.0  126.886122  37.475986  \n",
       "91327  경기도 안양시 동안구 경수대로507번길 28  431849.0  14120.0  126.956365  37.367779  \n",
       "\n",
       "[3774 rows x 29 columns]"
      ]
     },
     "execution_count": 97,
     "metadata": {},
     "output_type": "execute_result"
    }
   ],
   "source": [
    "df_medi = df[df[\"상권업종중분류명\"] == \"유사의료업\"]\n",
    "df_medi"
   ]
  },
  {
   "cell_type": "code",
   "execution_count": 96,
   "id": "15236952",
   "metadata": {},
   "outputs": [
    {
     "data": {
      "text/plain": [
       "리원       152\n",
       "온누리약국    149\n",
       "경희한의원    141\n",
       "우리약국     119\n",
       "중앙약국     111\n",
       "Name: 상호명, dtype: int64"
      ]
     },
     "execution_count": 96,
     "metadata": {},
     "output_type": "execute_result"
    }
   ],
   "source": [
    "df[\"상호명\"].value_counts().head()"
   ]
  },
  {
   "cell_type": "code",
   "execution_count": 100,
   "id": "de879ffc",
   "metadata": {},
   "outputs": [
    {
     "data": {
      "text/plain": [
       "리원           32\n",
       "고려수지침        22\n",
       "대한적십자사       17\n",
       "헌혈의집         12\n",
       "수치과기공소       10\n",
       "고려수지침학회      10\n",
       "제일치과기공소       9\n",
       "아트치과기공소       8\n",
       "대한응급환자이송단     8\n",
       "미소치과기공소       8\n",
       "Name: 상호명, dtype: int64"
      ]
     },
     "execution_count": 100,
     "metadata": {},
     "output_type": "execute_result"
    }
   ],
   "source": [
    "df_medi[\"상호명\"].value_counts().head(10)"
   ]
  },
  {
   "cell_type": "markdown",
   "id": "a5da6b3d",
   "metadata": {},
   "source": [
    "### 1.12.1 여러 조건으로 색인하기"
   ]
  },
  {
   "cell_type": "code",
   "execution_count": 105,
   "id": "91e378ae",
   "metadata": {},
   "outputs": [
    {
     "name": "stdout",
     "output_type": "stream",
     "text": [
      "(3579, 29)\n"
     ]
    },
    {
     "data": {
      "text/html": [
       "<div>\n",
       "<style scoped>\n",
       "    .dataframe tbody tr th:only-of-type {\n",
       "        vertical-align: middle;\n",
       "    }\n",
       "\n",
       "    .dataframe tbody tr th {\n",
       "        vertical-align: top;\n",
       "    }\n",
       "\n",
       "    .dataframe thead th {\n",
       "        text-align: right;\n",
       "    }\n",
       "</style>\n",
       "<table border=\"1\" class=\"dataframe\">\n",
       "  <thead>\n",
       "    <tr style=\"text-align: right;\">\n",
       "      <th></th>\n",
       "      <th>상가업소번호</th>\n",
       "      <th>상호명</th>\n",
       "      <th>상권업종대분류코드</th>\n",
       "      <th>상권업종대분류명</th>\n",
       "      <th>상권업종중분류코드</th>\n",
       "      <th>상권업종중분류명</th>\n",
       "      <th>상권업종소분류코드</th>\n",
       "      <th>상권업종소분류명</th>\n",
       "      <th>시도명</th>\n",
       "      <th>시군구코드</th>\n",
       "      <th>...</th>\n",
       "      <th>지번주소</th>\n",
       "      <th>도로명코드</th>\n",
       "      <th>도로명</th>\n",
       "      <th>건물본번지</th>\n",
       "      <th>건물관리번호</th>\n",
       "      <th>도로명주소</th>\n",
       "      <th>구우편번호</th>\n",
       "      <th>신우편번호</th>\n",
       "      <th>경도</th>\n",
       "      <th>위도</th>\n",
       "    </tr>\n",
       "  </thead>\n",
       "  <tbody>\n",
       "    <tr>\n",
       "      <th>33</th>\n",
       "      <td>20816709</td>\n",
       "      <td>이즈타워약</td>\n",
       "      <td>S</td>\n",
       "      <td>의료</td>\n",
       "      <td>S02</td>\n",
       "      <td>약국/한약방</td>\n",
       "      <td>S02A01</td>\n",
       "      <td>약국</td>\n",
       "      <td>서울특별시</td>\n",
       "      <td>11680.0</td>\n",
       "      <td>...</td>\n",
       "      <td>서울특별시 강남구 역삼동 821</td>\n",
       "      <td>116803122010</td>\n",
       "      <td>서울특별시 강남구 테헤란로</td>\n",
       "      <td>101</td>\n",
       "      <td>1168010100108210001000001</td>\n",
       "      <td>서울특별시 강남구 테헤란로 101</td>\n",
       "      <td>135080.0</td>\n",
       "      <td>6134.0</td>\n",
       "      <td>127.028023</td>\n",
       "      <td>37.498656</td>\n",
       "    </tr>\n",
       "  </tbody>\n",
       "</table>\n",
       "<p>1 rows × 29 columns</p>\n",
       "</div>"
      ],
      "text/plain": [
       "      상가업소번호    상호명 상권업종대분류코드 상권업종대분류명 상권업종중분류코드 상권업종중분류명 상권업종소분류코드 상권업종소분류명  \\\n",
       "33  20816709  이즈타워약         S       의료       S02   약국/한약방    S02A01       약국   \n",
       "\n",
       "      시도명    시군구코드  ...               지번주소         도로명코드             도로명  \\\n",
       "33  서울특별시  11680.0  ...  서울특별시 강남구 역삼동 821  116803122010  서울특별시 강남구 테헤란로   \n",
       "\n",
       "    건물본번지                     건물관리번호               도로명주소     구우편번호   신우편번호  \\\n",
       "33    101  1168010100108210001000001  서울특별시 강남구 테헤란로 101  135080.0  6134.0   \n",
       "\n",
       "            경도         위도  \n",
       "33  127.028023  37.498656  \n",
       "\n",
       "[1 rows x 29 columns]"
      ]
     },
     "execution_count": 105,
     "metadata": {},
     "output_type": "execute_result"
    }
   ],
   "source": [
    "df_seoul_drug = df[(df[\"상권업종소분류명\"] == \"약국\") & (df[\"시도명\"] == \"서울특별시\")]\n",
    "print(df_seoul_drug.shape)\n",
    "df_seoul_drug.head(1)"
   ]
  },
  {
   "cell_type": "markdown",
   "id": "12bce87a",
   "metadata": {},
   "source": [
    "### 1.12.2 구별로 보기"
   ]
  },
  {
   "cell_type": "code",
   "execution_count": 107,
   "id": "e6af4053",
   "metadata": {},
   "outputs": [
    {
     "data": {
      "text/plain": [
       "강남구     374\n",
       "동대문구    261\n",
       "광진구     212\n",
       "서초구     191\n",
       "송파구     188\n",
       "Name: 시군구명, dtype: int64"
      ]
     },
     "execution_count": 107,
     "metadata": {},
     "output_type": "execute_result"
    }
   ],
   "source": [
    "c = df_seoul_drug[\"시군구명\"].value_counts()\n",
    "c.head()"
   ]
  },
  {
   "cell_type": "code",
   "execution_count": 109,
   "id": "7f15a1a3",
   "metadata": {},
   "outputs": [
    {
     "data": {
      "text/plain": [
       "강남구     0.104498\n",
       "동대문구    0.072925\n",
       "광진구     0.059234\n",
       "서초구     0.053367\n",
       "송파구     0.052529\n",
       "Name: 시군구명, dtype: float64"
      ]
     },
     "execution_count": 109,
     "metadata": {},
     "output_type": "execute_result"
    }
   ],
   "source": [
    "n = df_seoul_drug[\"시군구명\"].value_counts(normalize=True)\n",
    "n.head()"
   ]
  },
  {
   "cell_type": "code",
   "execution_count": 112,
   "id": "7a29f415",
   "metadata": {},
   "outputs": [
    {
     "data": {
      "text/plain": [
       "<AxesSubplot:>"
      ]
     },
     "execution_count": 112,
     "metadata": {},
     "output_type": "execute_result"
    },
    {
     "data": {
      "image/png": "[encoded data removed]",
      "text/plain": [
       "<Figure size 432x288 with 1 Axes>"
      ]
     },
     "metadata": {
      "image/png": {
       "height": 278,
       "width": 381
      },
      "needs_background": "light"
     },
     "output_type": "display_data"
    }
   ],
   "source": [
    "c.plot.bar(rot=60)"
   ]
  },
  {
   "cell_type": "code",
   "execution_count": 115,
   "id": "6baa1c2d",
   "metadata": {},
   "outputs": [
    {
     "data": {
      "text/html": [
       "<div>\n",
       "<style scoped>\n",
       "    .dataframe tbody tr th:only-of-type {\n",
       "        vertical-align: middle;\n",
       "    }\n",
       "\n",
       "    .dataframe tbody tr th {\n",
       "        vertical-align: top;\n",
       "    }\n",
       "\n",
       "    .dataframe thead th {\n",
       "        text-align: right;\n",
       "    }\n",
       "</style>\n",
       "<table border=\"1\" class=\"dataframe\">\n",
       "  <thead>\n",
       "    <tr style=\"text-align: right;\">\n",
       "      <th></th>\n",
       "      <th>상가업소번호</th>\n",
       "      <th>상호명</th>\n",
       "      <th>상권업종대분류코드</th>\n",
       "      <th>상권업종대분류명</th>\n",
       "      <th>상권업종중분류코드</th>\n",
       "      <th>상권업종중분류명</th>\n",
       "      <th>상권업종소분류코드</th>\n",
       "      <th>상권업종소분류명</th>\n",
       "      <th>시도명</th>\n",
       "      <th>시군구코드</th>\n",
       "      <th>...</th>\n",
       "      <th>지번주소</th>\n",
       "      <th>도로명코드</th>\n",
       "      <th>도로명</th>\n",
       "      <th>건물본번지</th>\n",
       "      <th>건물관리번호</th>\n",
       "      <th>도로명주소</th>\n",
       "      <th>구우편번호</th>\n",
       "      <th>신우편번호</th>\n",
       "      <th>경도</th>\n",
       "      <th>위도</th>\n",
       "    </tr>\n",
       "  </thead>\n",
       "  <tbody>\n",
       "    <tr>\n",
       "      <th>305</th>\n",
       "      <td>25155642</td>\n",
       "      <td>대진의료재단</td>\n",
       "      <td>S</td>\n",
       "      <td>의료</td>\n",
       "      <td>S01</td>\n",
       "      <td>병원</td>\n",
       "      <td>S01B01</td>\n",
       "      <td>종합병원</td>\n",
       "      <td>서울특별시</td>\n",
       "      <td>11215.0</td>\n",
       "      <td>...</td>\n",
       "      <td>서울특별시 광진구 중곡동 58-25</td>\n",
       "      <td>112153104006</td>\n",
       "      <td>서울특별시 광진구 긴고랑로</td>\n",
       "      <td>119</td>\n",
       "      <td>1121510100100580025000733</td>\n",
       "      <td>서울특별시 광진구 긴고랑로 119</td>\n",
       "      <td>143220.0</td>\n",
       "      <td>4944.0</td>\n",
       "      <td>127.088279</td>\n",
       "      <td>37.559048</td>\n",
       "    </tr>\n",
       "    <tr>\n",
       "      <th>353</th>\n",
       "      <td>20471487</td>\n",
       "      <td>홍익병원별관</td>\n",
       "      <td>S</td>\n",
       "      <td>의료</td>\n",
       "      <td>S01</td>\n",
       "      <td>병원</td>\n",
       "      <td>S01B01</td>\n",
       "      <td>종합병원</td>\n",
       "      <td>서울특별시</td>\n",
       "      <td>11470.0</td>\n",
       "      <td>...</td>\n",
       "      <td>서울특별시 양천구 신정동 897-13</td>\n",
       "      <td>114702005008</td>\n",
       "      <td>서울특별시 양천구 국회대로</td>\n",
       "      <td>250</td>\n",
       "      <td>1147010100108970013001044</td>\n",
       "      <td>서울특별시 양천구 국회대로 250</td>\n",
       "      <td>158070.0</td>\n",
       "      <td>7937.0</td>\n",
       "      <td>126.862805</td>\n",
       "      <td>37.529213</td>\n",
       "    </tr>\n",
       "    <tr>\n",
       "      <th>385</th>\n",
       "      <td>20737057</td>\n",
       "      <td>SNUH</td>\n",
       "      <td>S</td>\n",
       "      <td>의료</td>\n",
       "      <td>S01</td>\n",
       "      <td>병원</td>\n",
       "      <td>S01B01</td>\n",
       "      <td>종합병원</td>\n",
       "      <td>서울특별시</td>\n",
       "      <td>11680.0</td>\n",
       "      <td>...</td>\n",
       "      <td>서울특별시 강남구 역삼동 736-55</td>\n",
       "      <td>116804166727</td>\n",
       "      <td>서울특별시 강남구 테헤란로26길</td>\n",
       "      <td>10</td>\n",
       "      <td>1168010100107360055027688</td>\n",
       "      <td>서울특별시 강남구 테헤란로26길 10</td>\n",
       "      <td>135080.0</td>\n",
       "      <td>6236.0</td>\n",
       "      <td>127.035825</td>\n",
       "      <td>37.499630</td>\n",
       "    </tr>\n",
       "    <tr>\n",
       "      <th>1917</th>\n",
       "      <td>23210677</td>\n",
       "      <td>평화드림여의도성모병원의료기매장</td>\n",
       "      <td>S</td>\n",
       "      <td>의료</td>\n",
       "      <td>S01</td>\n",
       "      <td>병원</td>\n",
       "      <td>S01B01</td>\n",
       "      <td>종합병원</td>\n",
       "      <td>서울특별시</td>\n",
       "      <td>11560.0</td>\n",
       "      <td>...</td>\n",
       "      <td>서울특별시 영등포구 여의도동 62</td>\n",
       "      <td>115603118001</td>\n",
       "      <td>서울특별시 영등포구 63로</td>\n",
       "      <td>10</td>\n",
       "      <td>1156011000100620000031477</td>\n",
       "      <td>서울특별시 영등포구 63로 10</td>\n",
       "      <td>150713.0</td>\n",
       "      <td>7345.0</td>\n",
       "      <td>126.936693</td>\n",
       "      <td>37.518296</td>\n",
       "    </tr>\n",
       "    <tr>\n",
       "      <th>2461</th>\n",
       "      <td>20024045</td>\n",
       "      <td>한양</td>\n",
       "      <td>S</td>\n",
       "      <td>의료</td>\n",
       "      <td>S01</td>\n",
       "      <td>병원</td>\n",
       "      <td>S01B01</td>\n",
       "      <td>종합병원</td>\n",
       "      <td>서울특별시</td>\n",
       "      <td>11200.0</td>\n",
       "      <td>...</td>\n",
       "      <td>서울특별시 성동구 행당동 15-1</td>\n",
       "      <td>112003103002</td>\n",
       "      <td>서울특별시 성동구 마조로</td>\n",
       "      <td>22</td>\n",
       "      <td>1120010700100150001019623</td>\n",
       "      <td>서울특별시 성동구 마조로 22-2</td>\n",
       "      <td>133070.0</td>\n",
       "      <td>4763.0</td>\n",
       "      <td>127.041325</td>\n",
       "      <td>37.559469</td>\n",
       "    </tr>\n",
       "    <tr>\n",
       "      <th>...</th>\n",
       "      <td>...</td>\n",
       "      <td>...</td>\n",
       "      <td>...</td>\n",
       "      <td>...</td>\n",
       "      <td>...</td>\n",
       "      <td>...</td>\n",
       "      <td>...</td>\n",
       "      <td>...</td>\n",
       "      <td>...</td>\n",
       "      <td>...</td>\n",
       "      <td>...</td>\n",
       "      <td>...</td>\n",
       "      <td>...</td>\n",
       "      <td>...</td>\n",
       "      <td>...</td>\n",
       "      <td>...</td>\n",
       "      <td>...</td>\n",
       "      <td>...</td>\n",
       "      <td>...</td>\n",
       "      <td>...</td>\n",
       "      <td>...</td>\n",
       "    </tr>\n",
       "    <tr>\n",
       "      <th>71991</th>\n",
       "      <td>28505952</td>\n",
       "      <td>서울성모병원응급의료센터</td>\n",
       "      <td>S</td>\n",
       "      <td>의료</td>\n",
       "      <td>S01</td>\n",
       "      <td>병원</td>\n",
       "      <td>S01B01</td>\n",
       "      <td>종합병원</td>\n",
       "      <td>서울특별시</td>\n",
       "      <td>11650.0</td>\n",
       "      <td>...</td>\n",
       "      <td>서울특별시 서초구 반포동 505</td>\n",
       "      <td>116502121003</td>\n",
       "      <td>서울특별시 서초구 반포대로</td>\n",
       "      <td>222</td>\n",
       "      <td>1165010700101230000017226</td>\n",
       "      <td>서울특별시 서초구 반포대로 222</td>\n",
       "      <td>137701.0</td>\n",
       "      <td>6591.0</td>\n",
       "      <td>127.005841</td>\n",
       "      <td>37.502382</td>\n",
       "    </tr>\n",
       "    <tr>\n",
       "      <th>76508</th>\n",
       "      <td>12292992</td>\n",
       "      <td>라마르의원</td>\n",
       "      <td>S</td>\n",
       "      <td>의료</td>\n",
       "      <td>S01</td>\n",
       "      <td>병원</td>\n",
       "      <td>S01B01</td>\n",
       "      <td>종합병원</td>\n",
       "      <td>서울특별시</td>\n",
       "      <td>11740.0</td>\n",
       "      <td>...</td>\n",
       "      <td>서울특별시 강동구 천호동 453-8</td>\n",
       "      <td>117404172367</td>\n",
       "      <td>서울특별시 강동구 천호대로157길</td>\n",
       "      <td>18</td>\n",
       "      <td>1174010900104530021010314</td>\n",
       "      <td>서울특별시 강동구 천호대로157길 18</td>\n",
       "      <td>134864.0</td>\n",
       "      <td>5335.0</td>\n",
       "      <td>127.127466</td>\n",
       "      <td>37.538485</td>\n",
       "    </tr>\n",
       "    <tr>\n",
       "      <th>90492</th>\n",
       "      <td>16031909</td>\n",
       "      <td>가톨릭대학교여의도성모병원</td>\n",
       "      <td>S</td>\n",
       "      <td>의료</td>\n",
       "      <td>S01</td>\n",
       "      <td>병원</td>\n",
       "      <td>S01B01</td>\n",
       "      <td>종합병원</td>\n",
       "      <td>서울특별시</td>\n",
       "      <td>11140.0</td>\n",
       "      <td>...</td>\n",
       "      <td>서울특별시 중구 명동2가 1-1</td>\n",
       "      <td>111404103165</td>\n",
       "      <td>서울특별시 중구 명동길</td>\n",
       "      <td>74</td>\n",
       "      <td>1114012700100010001019574</td>\n",
       "      <td>서울특별시 중구 명동길 74</td>\n",
       "      <td>100809.0</td>\n",
       "      <td>4537.0</td>\n",
       "      <td>126.986758</td>\n",
       "      <td>37.563662</td>\n",
       "    </tr>\n",
       "    <tr>\n",
       "      <th>90581</th>\n",
       "      <td>16332576</td>\n",
       "      <td>씨엠병원</td>\n",
       "      <td>S</td>\n",
       "      <td>의료</td>\n",
       "      <td>S01</td>\n",
       "      <td>병원</td>\n",
       "      <td>S01B01</td>\n",
       "      <td>종합병원</td>\n",
       "      <td>서울특별시</td>\n",
       "      <td>11560.0</td>\n",
       "      <td>...</td>\n",
       "      <td>서울특별시 영등포구 영등포동4가 90</td>\n",
       "      <td>115604154717</td>\n",
       "      <td>서울특별시 영등포구 영등포로36길</td>\n",
       "      <td>13</td>\n",
       "      <td>1156010500100900000035097</td>\n",
       "      <td>서울특별시 영등포구 영등포로36길 13</td>\n",
       "      <td>150030.0</td>\n",
       "      <td>7301.0</td>\n",
       "      <td>126.903857</td>\n",
       "      <td>37.518807</td>\n",
       "    </tr>\n",
       "    <tr>\n",
       "      <th>90788</th>\n",
       "      <td>16162338</td>\n",
       "      <td>성베드로병원</td>\n",
       "      <td>S</td>\n",
       "      <td>의료</td>\n",
       "      <td>S01</td>\n",
       "      <td>병원</td>\n",
       "      <td>S01B01</td>\n",
       "      <td>종합병원</td>\n",
       "      <td>서울특별시</td>\n",
       "      <td>11680.0</td>\n",
       "      <td>...</td>\n",
       "      <td>서울특별시 강남구 도곡동 910-27</td>\n",
       "      <td>116802000003</td>\n",
       "      <td>서울특별시 강남구 남부순환로</td>\n",
       "      <td>2649</td>\n",
       "      <td>1168011800109100027000895</td>\n",
       "      <td>서울특별시 강남구 남부순환로 2649</td>\n",
       "      <td>135859.0</td>\n",
       "      <td>6271.0</td>\n",
       "      <td>127.039567</td>\n",
       "      <td>37.485604</td>\n",
       "    </tr>\n",
       "  </tbody>\n",
       "</table>\n",
       "<p>91 rows × 29 columns</p>\n",
       "</div>"
      ],
      "text/plain": [
       "         상가업소번호               상호명 상권업종대분류코드 상권업종대분류명 상권업종중분류코드 상권업종중분류명  \\\n",
       "305    25155642            대진의료재단         S       의료       S01       병원   \n",
       "353    20471487            홍익병원별관         S       의료       S01       병원   \n",
       "385    20737057              SNUH         S       의료       S01       병원   \n",
       "1917   23210677  평화드림여의도성모병원의료기매장         S       의료       S01       병원   \n",
       "2461   20024045                한양         S       의료       S01       병원   \n",
       "...         ...               ...       ...      ...       ...      ...   \n",
       "71991  28505952      서울성모병원응급의료센터         S       의료       S01       병원   \n",
       "76508  12292992             라마르의원         S       의료       S01       병원   \n",
       "90492  16031909     가톨릭대학교여의도성모병원         S       의료       S01       병원   \n",
       "90581  16332576              씨엠병원         S       의료       S01       병원   \n",
       "90788  16162338            성베드로병원         S       의료       S01       병원   \n",
       "\n",
       "      상권업종소분류코드 상권업종소분류명    시도명    시군구코드  ...                  지번주소  \\\n",
       "305      S01B01     종합병원  서울특별시  11215.0  ...   서울특별시 광진구 중곡동 58-25   \n",
       "353      S01B01     종합병원  서울특별시  11470.0  ...  서울특별시 양천구 신정동 897-13   \n",
       "385      S01B01     종합병원  서울특별시  11680.0  ...  서울특별시 강남구 역삼동 736-55   \n",
       "1917     S01B01     종합병원  서울특별시  11560.0  ...    서울특별시 영등포구 여의도동 62   \n",
       "2461     S01B01     종합병원  서울특별시  11200.0  ...    서울특별시 성동구 행당동 15-1   \n",
       "...         ...      ...    ...      ...  ...                   ...   \n",
       "71991    S01B01     종합병원  서울특별시  11650.0  ...     서울특별시 서초구 반포동 505   \n",
       "76508    S01B01     종합병원  서울특별시  11740.0  ...   서울특별시 강동구 천호동 453-8   \n",
       "90492    S01B01     종합병원  서울특별시  11140.0  ...     서울특별시 중구 명동2가 1-1   \n",
       "90581    S01B01     종합병원  서울특별시  11560.0  ...  서울특별시 영등포구 영등포동4가 90   \n",
       "90788    S01B01     종합병원  서울특별시  11680.0  ...  서울특별시 강남구 도곡동 910-27   \n",
       "\n",
       "              도로명코드                 도로명  건물본번지                     건물관리번호  \\\n",
       "305    112153104006      서울특별시 광진구 긴고랑로    119  1121510100100580025000733   \n",
       "353    114702005008      서울특별시 양천구 국회대로    250  1147010100108970013001044   \n",
       "385    116804166727   서울특별시 강남구 테헤란로26길     10  1168010100107360055027688   \n",
       "1917   115603118001      서울특별시 영등포구 63로     10  1156011000100620000031477   \n",
       "2461   112003103002       서울특별시 성동구 마조로     22  1120010700100150001019623   \n",
       "...             ...                 ...    ...                        ...   \n",
       "71991  116502121003      서울특별시 서초구 반포대로    222  1165010700101230000017226   \n",
       "76508  117404172367  서울특별시 강동구 천호대로157길     18  1174010900104530021010314   \n",
       "90492  111404103165        서울특별시 중구 명동길     74  1114012700100010001019574   \n",
       "90581  115604154717  서울특별시 영등포구 영등포로36길     13  1156010500100900000035097   \n",
       "90788  116802000003     서울특별시 강남구 남부순환로   2649  1168011800109100027000895   \n",
       "\n",
       "                       도로명주소     구우편번호   신우편번호          경도         위도  \n",
       "305       서울특별시 광진구 긴고랑로 119  143220.0  4944.0  127.088279  37.559048  \n",
       "353       서울특별시 양천구 국회대로 250  158070.0  7937.0  126.862805  37.529213  \n",
       "385     서울특별시 강남구 테헤란로26길 10  135080.0  6236.0  127.035825  37.499630  \n",
       "1917       서울특별시 영등포구 63로 10  150713.0  7345.0  126.936693  37.518296  \n",
       "2461      서울특별시 성동구 마조로 22-2  133070.0  4763.0  127.041325  37.559469  \n",
       "...                      ...       ...     ...         ...        ...  \n",
       "71991     서울특별시 서초구 반포대로 222  137701.0  6591.0  127.005841  37.502382  \n",
       "76508  서울특별시 강동구 천호대로157길 18  134864.0  5335.0  127.127466  37.538485  \n",
       "90492        서울특별시 중구 명동길 74  100809.0  4537.0  126.986758  37.563662  \n",
       "90581  서울특별시 영등포구 영등포로36길 13  150030.0  7301.0  126.903857  37.518807  \n",
       "90788   서울특별시 강남구 남부순환로 2649  135859.0  6271.0  127.039567  37.485604  \n",
       "\n",
       "[91 rows x 29 columns]"
      ]
     },
     "execution_count": 115,
     "metadata": {},
     "output_type": "execute_result"
    }
   ],
   "source": [
    "df_seoul_hospital = df[(df[\"상권업종소분류명\"]==\"종합병원\") & (df[\"시도명\"]==\"서울특별시\")]\n",
    "df_seoul_hospital"
   ]
  },
  {
   "cell_type": "code",
   "execution_count": 117,
   "id": "a4cbff65",
   "metadata": {},
   "outputs": [
    {
     "data": {
      "text/plain": [
       "강남구     15\n",
       "영등포구     8\n",
       "광진구      6\n",
       "서초구      6\n",
       "송파구      5\n",
       "중구       5\n",
       "강동구      5\n",
       "서대문구     4\n",
       "강북구      4\n",
       "양천구      4\n",
       "도봉구      4\n",
       "성북구      3\n",
       "노원구      2\n",
       "관악구      2\n",
       "금천구      2\n",
       "구로구      2\n",
       "성동구      2\n",
       "강서구      2\n",
       "동대문구     2\n",
       "종로구      2\n",
       "중랑구      2\n",
       "용산구      1\n",
       "은평구      1\n",
       "동작구      1\n",
       "마포구      1\n",
       "Name: 시군구명, dtype: int64"
      ]
     },
     "execution_count": 117,
     "metadata": {},
     "output_type": "execute_result"
    }
   ],
   "source": [
    "df_seoul_hospital[\"시군구명\"].value_counts()"
   ]
  },
  {
   "cell_type": "markdown",
   "id": "75215d43",
   "metadata": {},
   "source": [
    "### 1.12.3 텍스트 데이터 색인하기"
   ]
  },
  {
   "cell_type": "code",
   "execution_count": 123,
   "id": "82918971",
   "metadata": {},
   "outputs": [
    {
     "data": {
      "text/plain": [
       "array([], dtype=object)"
      ]
     },
     "execution_count": 123,
     "metadata": {},
     "output_type": "execute_result"
    }
   ],
   "source": [
    "df_seoul_hospital.loc[df_seoul_hospital[\"상호명\"].str.contains(\"종합병원\"), \"상호명\"].unique()\n",
    "#str.contains()특정 단어가 들어간 것 검색. 앞에 물결 붙이면 특정 단어가 없는 것만 검색"
   ]
  },
  {
   "cell_type": "code",
   "execution_count": 125,
   "id": "54318477",
   "metadata": {},
   "outputs": [
    {
     "data": {
      "text/html": [
       "<div>\n",
       "<style scoped>\n",
       "    .dataframe tbody tr th:only-of-type {\n",
       "        vertical-align: middle;\n",
       "    }\n",
       "\n",
       "    .dataframe tbody tr th {\n",
       "        vertical-align: top;\n",
       "    }\n",
       "\n",
       "    .dataframe thead th {\n",
       "        text-align: right;\n",
       "    }\n",
       "</style>\n",
       "<table border=\"1\" class=\"dataframe\">\n",
       "  <thead>\n",
       "    <tr style=\"text-align: right;\">\n",
       "      <th></th>\n",
       "      <th>상가업소번호</th>\n",
       "      <th>상호명</th>\n",
       "      <th>상권업종대분류코드</th>\n",
       "      <th>상권업종대분류명</th>\n",
       "      <th>상권업종중분류코드</th>\n",
       "      <th>상권업종중분류명</th>\n",
       "      <th>상권업종소분류코드</th>\n",
       "      <th>상권업종소분류명</th>\n",
       "      <th>시도명</th>\n",
       "      <th>시군구코드</th>\n",
       "      <th>...</th>\n",
       "      <th>지번주소</th>\n",
       "      <th>도로명코드</th>\n",
       "      <th>도로명</th>\n",
       "      <th>건물본번지</th>\n",
       "      <th>건물관리번호</th>\n",
       "      <th>도로명주소</th>\n",
       "      <th>구우편번호</th>\n",
       "      <th>신우편번호</th>\n",
       "      <th>경도</th>\n",
       "      <th>위도</th>\n",
       "    </tr>\n",
       "  </thead>\n",
       "  <tbody>\n",
       "    <tr>\n",
       "      <th>2803</th>\n",
       "      <td>20895655</td>\n",
       "      <td>서울성모병원장례식장꽃배달</td>\n",
       "      <td>S</td>\n",
       "      <td>의료</td>\n",
       "      <td>S01</td>\n",
       "      <td>병원</td>\n",
       "      <td>S01B01</td>\n",
       "      <td>종합병원</td>\n",
       "      <td>서울특별시</td>\n",
       "      <td>11650.0</td>\n",
       "      <td>...</td>\n",
       "      <td>서울특별시 서초구 반포동 551</td>\n",
       "      <td>116504163330</td>\n",
       "      <td>서울특별시 서초구 사평대로28길</td>\n",
       "      <td>55</td>\n",
       "      <td>1165010700105510000017194</td>\n",
       "      <td>서울특별시 서초구 사평대로28길 55</td>\n",
       "      <td>137040.0</td>\n",
       "      <td>6578.0</td>\n",
       "      <td>127.000682</td>\n",
       "      <td>37.498257</td>\n",
       "    </tr>\n",
       "    <tr>\n",
       "      <th>4644</th>\n",
       "      <td>22020310</td>\n",
       "      <td>강남성모병원장례식장꽃배달</td>\n",
       "      <td>S</td>\n",
       "      <td>의료</td>\n",
       "      <td>S01</td>\n",
       "      <td>병원</td>\n",
       "      <td>S01B01</td>\n",
       "      <td>종합병원</td>\n",
       "      <td>서울특별시</td>\n",
       "      <td>11650.0</td>\n",
       "      <td>...</td>\n",
       "      <td>서울특별시 서초구 반포동 547-6</td>\n",
       "      <td>116504163242</td>\n",
       "      <td>서울특별시 서초구 반포대로39길</td>\n",
       "      <td>56</td>\n",
       "      <td>1165010700105470006016762</td>\n",
       "      <td>서울특별시 서초구 반포대로39길 56-24</td>\n",
       "      <td>137040.0</td>\n",
       "      <td>6578.0</td>\n",
       "      <td>127.001756</td>\n",
       "      <td>37.499095</td>\n",
       "    </tr>\n",
       "  </tbody>\n",
       "</table>\n",
       "<p>2 rows × 29 columns</p>\n",
       "</div>"
      ],
      "text/plain": [
       "        상가업소번호            상호명 상권업종대분류코드 상권업종대분류명 상권업종중분류코드 상권업종중분류명 상권업종소분류코드  \\\n",
       "2803  20895655  서울성모병원장례식장꽃배달         S       의료       S01       병원    S01B01   \n",
       "4644  22020310  강남성모병원장례식장꽃배달         S       의료       S01       병원    S01B01   \n",
       "\n",
       "     상권업종소분류명    시도명    시군구코드  ...                 지번주소         도로명코드  \\\n",
       "2803     종합병원  서울특별시  11650.0  ...    서울특별시 서초구 반포동 551  116504163330   \n",
       "4644     종합병원  서울특별시  11650.0  ...  서울특별시 서초구 반포동 547-6  116504163242   \n",
       "\n",
       "                    도로명  건물본번지                     건물관리번호  \\\n",
       "2803  서울특별시 서초구 사평대로28길     55  1165010700105510000017194   \n",
       "4644  서울특별시 서초구 반포대로39길     56  1165010700105470006016762   \n",
       "\n",
       "                        도로명주소     구우편번호   신우편번호          경도         위도  \n",
       "2803     서울특별시 서초구 사평대로28길 55  137040.0  6578.0  127.000682  37.498257  \n",
       "4644  서울특별시 서초구 반포대로39길 56-24  137040.0  6578.0  127.001756  37.499095  \n",
       "\n",
       "[2 rows x 29 columns]"
      ]
     },
     "execution_count": 125,
     "metadata": {},
     "output_type": "execute_result"
    }
   ],
   "source": [
    "df_seoul_hospital[df_seoul_hospital[\"상호명\"].str.contains(\"꽃배달\")]"
   ]
  },
  {
   "cell_type": "code",
   "execution_count": 128,
   "id": "7072c020",
   "metadata": {},
   "outputs": [
    {
     "data": {
      "text/html": [
       "<div>\n",
       "<style scoped>\n",
       "    .dataframe tbody tr th:only-of-type {\n",
       "        vertical-align: middle;\n",
       "    }\n",
       "\n",
       "    .dataframe tbody tr th {\n",
       "        vertical-align: top;\n",
       "    }\n",
       "\n",
       "    .dataframe thead th {\n",
       "        text-align: right;\n",
       "    }\n",
       "</style>\n",
       "<table border=\"1\" class=\"dataframe\">\n",
       "  <thead>\n",
       "    <tr style=\"text-align: right;\">\n",
       "      <th></th>\n",
       "      <th>상가업소번호</th>\n",
       "      <th>상호명</th>\n",
       "      <th>상권업종대분류코드</th>\n",
       "      <th>상권업종대분류명</th>\n",
       "      <th>상권업종중분류코드</th>\n",
       "      <th>상권업종중분류명</th>\n",
       "      <th>상권업종소분류코드</th>\n",
       "      <th>상권업종소분류명</th>\n",
       "      <th>시도명</th>\n",
       "      <th>시군구코드</th>\n",
       "      <th>...</th>\n",
       "      <th>지번주소</th>\n",
       "      <th>도로명코드</th>\n",
       "      <th>도로명</th>\n",
       "      <th>건물본번지</th>\n",
       "      <th>건물관리번호</th>\n",
       "      <th>도로명주소</th>\n",
       "      <th>구우편번호</th>\n",
       "      <th>신우편번호</th>\n",
       "      <th>경도</th>\n",
       "      <th>위도</th>\n",
       "    </tr>\n",
       "  </thead>\n",
       "  <tbody>\n",
       "    <tr>\n",
       "      <th>1917</th>\n",
       "      <td>23210677</td>\n",
       "      <td>평화드림여의도성모병원의료기매장</td>\n",
       "      <td>S</td>\n",
       "      <td>의료</td>\n",
       "      <td>S01</td>\n",
       "      <td>병원</td>\n",
       "      <td>S01B01</td>\n",
       "      <td>종합병원</td>\n",
       "      <td>서울특별시</td>\n",
       "      <td>11560.0</td>\n",
       "      <td>...</td>\n",
       "      <td>서울특별시 영등포구 여의도동 62</td>\n",
       "      <td>115603118001</td>\n",
       "      <td>서울특별시 영등포구 63로</td>\n",
       "      <td>10</td>\n",
       "      <td>1156011000100620000031477</td>\n",
       "      <td>서울특별시 영등포구 63로 10</td>\n",
       "      <td>150713.0</td>\n",
       "      <td>7345.0</td>\n",
       "      <td>126.936693</td>\n",
       "      <td>37.518296</td>\n",
       "    </tr>\n",
       "  </tbody>\n",
       "</table>\n",
       "<p>1 rows × 29 columns</p>\n",
       "</div>"
      ],
      "text/plain": [
       "        상가업소번호               상호명 상권업종대분류코드 상권업종대분류명 상권업종중분류코드 상권업종중분류명  \\\n",
       "1917  23210677  평화드림여의도성모병원의료기매장         S       의료       S01       병원   \n",
       "\n",
       "     상권업종소분류코드 상권업종소분류명    시도명    시군구코드  ...                지번주소  \\\n",
       "1917    S01B01     종합병원  서울특별시  11560.0  ...  서울특별시 영등포구 여의도동 62   \n",
       "\n",
       "             도로명코드             도로명  건물본번지                     건물관리번호  \\\n",
       "1917  115603118001  서울특별시 영등포구 63로     10  1156011000100620000031477   \n",
       "\n",
       "                  도로명주소     구우편번호   신우편번호          경도         위도  \n",
       "1917  서울특별시 영등포구 63로 10  150713.0  7345.0  126.936693  37.518296  \n",
       "\n",
       "[1 rows x 29 columns]"
      ]
     },
     "execution_count": 128,
     "metadata": {},
     "output_type": "execute_result"
    }
   ],
   "source": [
    "df_seoul_hospital.loc[df_seoul_hospital[\"상호명\"].str.contains(\"의료기\")]"
   ]
  },
  {
   "cell_type": "code",
   "execution_count": 131,
   "id": "9744b5cc",
   "metadata": {},
   "outputs": [
    {
     "data": {
      "text/plain": [
       "[1917, 2803, 4431, 4644, 7938, 10283, 47008, 60645, 70177]"
      ]
     },
     "execution_count": 131,
     "metadata": {},
     "output_type": "execute_result"
    }
   ],
   "source": [
    "drop_row = df_seoul_hospital[df_seoul_hospital[\"상호명\"].str.contains(\"꽃배달|의료기|장례식장|상담소|어린이집\")].index\n",
    "drop_row = drop_row.tolist()\n",
    "drop_row"
   ]
  },
  {
   "cell_type": "code",
   "execution_count": 136,
   "id": "e62133b0",
   "metadata": {},
   "outputs": [
    {
     "data": {
      "text/plain": [
       "[8479,\n",
       " 12854,\n",
       " 13715,\n",
       " 14966,\n",
       " 16091,\n",
       " 18047,\n",
       " 20200,\n",
       " 20415,\n",
       " 30706,\n",
       " 32889,\n",
       " 34459,\n",
       " 34720,\n",
       " 35696,\n",
       " 37251,\n",
       " 45120,\n",
       " 49626,\n",
       " 51575,\n",
       " 55133,\n",
       " 56320,\n",
       " 56404,\n",
       " 56688,\n",
       " 57551,\n",
       " 62113,\n",
       " 76508]"
      ]
     },
     "execution_count": 136,
     "metadata": {},
     "output_type": "execute_result"
    }
   ],
   "source": [
    "drop_row2 = df_seoul_hospital[df_seoul_hospital[\"상호명\"].str.endswith(\"의원\")].index\n",
    "drop_row2 = drop_row2.tolist()\n",
    "drop_row2"
   ]
  },
  {
   "cell_type": "code",
   "execution_count": 137,
   "id": "e5ff6c0c",
   "metadata": {},
   "outputs": [
    {
     "data": {
      "text/plain": [
       "33"
      ]
     },
     "execution_count": 137,
     "metadata": {},
     "output_type": "execute_result"
    }
   ],
   "source": [
    "drop_row = drop_row + drop_row2\n",
    "len(drop_row)"
   ]
  },
  {
   "cell_type": "code",
   "execution_count": 140,
   "id": "374e9c28",
   "metadata": {},
   "outputs": [
    {
     "name": "stdout",
     "output_type": "stream",
     "text": [
      "(91, 29)\n",
      "(58, 29)\n"
     ]
    }
   ],
   "source": [
    "print(df_seoul_hospital.shape)\n",
    "df_seoul_hospital = df_seoul_hospital.drop(drop_row, axis=0)\n",
    "print(df_seoul_hospital.shape)"
   ]
  },
  {
   "cell_type": "code",
   "execution_count": 142,
   "id": "2c20f5a0",
   "metadata": {},
   "outputs": [
    {
     "data": {
      "text/plain": [
       "<AxesSubplot:>"
      ]
     },
     "execution_count": 142,
     "metadata": {},
     "output_type": "execute_result"
    },
    {
     "data": {
      "image/png": "[encoded data removed]",
      "text/plain": [
       "<Figure size 432x288 with 1 Axes>"
      ]
     },
     "metadata": {
      "image/png": {
       "height": 278,
       "width": 369
      },
      "needs_background": "light"
     },
     "output_type": "display_data"
    }
   ],
   "source": [
    "df_seoul_hospital[\"시군구명\"].value_counts().plot.bar()"
   ]
  },
  {
   "cell_type": "code",
   "execution_count": 147,
   "id": "4c756d07",
   "metadata": {},
   "outputs": [
    {
     "data": {
      "text/plain": [
       "<AxesSubplot:xlabel='시군구명', ylabel='count'>"
      ]
     },
     "execution_count": 147,
     "metadata": {},
     "output_type": "execute_result"
    },
    {
     "data": {
      "image/png": "[encoded data removed]",
      "text/plain": [
       "<Figure size 1080x360 with 1 Axes>"
      ]
     },
     "metadata": {
      "image/png": {
       "height": 316,
       "width": 885
      },
      "needs_background": "light"
     },
     "output_type": "display_data"
    }
   ],
   "source": [
    "plt.figure(figsize=(15,5))\n",
    "sns.countplot(data=df_seoul_hospital, x=\"시군구명\", \n",
    "              order=df_seoul_hospital[\"시군구명\"].value_counts().index)"
   ]
  },
  {
   "cell_type": "code",
   "execution_count": null,
   "id": "7813abc8",
   "metadata": {},
   "outputs": [],
   "source": []
  }
 ],
 "metadata": {
  "hide_input": false,
  "kernelspec": {
   "display_name": "Python 3",
   "language": "python",
   "name": "python3"
  },
  "language_info": {
   "codemirror_mode": {
    "name": "ipython",
    "version": 3
   },
   "file_extension": ".py",
   "mimetype": "text/x-python",
   "name": "python",
   "nbconvert_exporter": "python",
   "pygments_lexer": "ipython3",
   "version": "3.8.8"
  },
  "toc": {
   "base_numbering": 1,
   "nav_menu": {},
   "number_sections": false,
   "sideBar": true,
   "skip_h1_title": false,
   "title_cell": "Table of Contents",
   "title_sidebar": "Contents",
   "toc_cell": false,
   "toc_position": {},
   "toc_section_display": true,
   "toc_window_display": true
  },
  "varInspector": {
   "cols": {
    "lenName": 16,
    "lenType": 16,
    "lenVar": 40
   },
   "kernels_config": {
    "python": {
     "delete_cmd_postfix": "",
     "delete_cmd_prefix": "del ",
     "library": "var_list.py",
     "varRefreshCmd": "print(var_dic_list())"
    },
    "r": {
     "delete_cmd_postfix": ") ",
     "delete_cmd_prefix": "rm(",
     "library": "var_list.r",
     "varRefreshCmd": "cat(var_dic_list()) "
    }
   },
   "types_to_exclude": [
    "module",
    "function",
    "builtin_function_or_method",
    "instance",
    "_Feature"
   ],
   "window_display": false
  }
 },
 "nbformat": 4,
 "nbformat_minor": 5
}
