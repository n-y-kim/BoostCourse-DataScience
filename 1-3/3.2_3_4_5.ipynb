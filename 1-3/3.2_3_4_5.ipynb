{
 "cells": [
  {
   "cell_type": "code",
   "execution_count": 1,
   "id": "b3bc63d9",
   "metadata": {},
   "outputs": [],
   "source": [
    "import pandas as pd\n",
    "import numpy as np\n",
    "import seaborn as sns"
   ]
  },
  {
   "cell_type": "code",
   "execution_count": 2,
   "id": "842e7347",
   "metadata": {},
   "outputs": [],
   "source": [
    "import matplotlib.pyplot as plt"
   ]
  },
  {
   "cell_type": "code",
   "execution_count": 3,
   "id": "f535226c",
   "metadata": {},
   "outputs": [],
   "source": [
    "#폰트 설정\n",
    "plt.rc('font', family='AppleGothic')"
   ]
  },
  {
   "cell_type": "code",
   "execution_count": 4,
   "id": "955ae8ae",
   "metadata": {},
   "outputs": [],
   "source": [
    "#글씨를 선명하게 보기 위해서 retina 설정\n",
    "from IPython.display import set_matplotlib_formats\n",
    "set_matplotlib_formats('retina')"
   ]
  },
  {
   "cell_type": "markdown",
   "id": "f2d6e841",
   "metadata": {},
   "source": [
    "## 1.3 데이터 로드하기"
   ]
  },
  {
   "cell_type": "code",
   "execution_count": 5,
   "id": "2948aaeb",
   "metadata": {},
   "outputs": [
    {
     "data": {
      "text/plain": [
       "(91335, 39)"
      ]
     },
     "execution_count": 5,
     "metadata": {},
     "output_type": "execute_result"
    }
   ],
   "source": [
    "#read_csv로 불러온 파일을 df라는 변수에 담는다.\n",
    "df = pd.read_csv(\"data/소상공인시장진흥공단_상가업소정보_의료기관_201909.csv\", low_memory=False)\n",
    "df.shape #행,열 순으로 출력"
   ]
  },
  {
   "cell_type": "code",
   "execution_count": 6,
   "id": "18e98c9b",
   "metadata": {},
   "outputs": [
    {
     "data": {
      "text/html": [
       "<div>\n",
       "<style scoped>\n",
       "    .dataframe tbody tr th:only-of-type {\n",
       "        vertical-align: middle;\n",
       "    }\n",
       "\n",
       "    .dataframe tbody tr th {\n",
       "        vertical-align: top;\n",
       "    }\n",
       "\n",
       "    .dataframe thead th {\n",
       "        text-align: right;\n",
       "    }\n",
       "</style>\n",
       "<table border=\"1\" class=\"dataframe\">\n",
       "  <thead>\n",
       "    <tr style=\"text-align: right;\">\n",
       "      <th></th>\n",
       "      <th>상가업소번호</th>\n",
       "      <th>상호명</th>\n",
       "      <th>지점명</th>\n",
       "      <th>상권업종대분류코드</th>\n",
       "      <th>상권업종대분류명</th>\n",
       "      <th>상권업종중분류코드</th>\n",
       "      <th>상권업종중분류명</th>\n",
       "      <th>상권업종소분류코드</th>\n",
       "      <th>상권업종소분류명</th>\n",
       "      <th>표준산업분류코드</th>\n",
       "      <th>...</th>\n",
       "      <th>건물관리번호</th>\n",
       "      <th>건물명</th>\n",
       "      <th>도로명주소</th>\n",
       "      <th>구우편번호</th>\n",
       "      <th>신우편번호</th>\n",
       "      <th>동정보</th>\n",
       "      <th>층정보</th>\n",
       "      <th>호정보</th>\n",
       "      <th>경도</th>\n",
       "      <th>위도</th>\n",
       "    </tr>\n",
       "  </thead>\n",
       "  <tbody>\n",
       "    <tr>\n",
       "      <th>0</th>\n",
       "      <td>19956873</td>\n",
       "      <td>하나산부인과</td>\n",
       "      <td>NaN</td>\n",
       "      <td>S</td>\n",
       "      <td>의료</td>\n",
       "      <td>S01</td>\n",
       "      <td>병원</td>\n",
       "      <td>S01B10</td>\n",
       "      <td>산부인과</td>\n",
       "      <td>Q86201</td>\n",
       "      <td>...</td>\n",
       "      <td>4127310900110810000010857</td>\n",
       "      <td>산호한양아파트</td>\n",
       "      <td>경기도 안산시 단원구 달미로 10</td>\n",
       "      <td>425764.0</td>\n",
       "      <td>15236.0</td>\n",
       "      <td>NaN</td>\n",
       "      <td>NaN</td>\n",
       "      <td>NaN</td>\n",
       "      <td>126.814295</td>\n",
       "      <td>37.336344</td>\n",
       "    </tr>\n",
       "    <tr>\n",
       "      <th>1</th>\n",
       "      <td>20024149</td>\n",
       "      <td>타워광명내과의원</td>\n",
       "      <td>NaN</td>\n",
       "      <td>S</td>\n",
       "      <td>의료</td>\n",
       "      <td>S01</td>\n",
       "      <td>병원</td>\n",
       "      <td>S01B07</td>\n",
       "      <td>내과/외과</td>\n",
       "      <td>Q86201</td>\n",
       "      <td>...</td>\n",
       "      <td>1168011800104670014000001</td>\n",
       "      <td>NaN</td>\n",
       "      <td>서울특별시 강남구 언주로30길 39</td>\n",
       "      <td>135270.0</td>\n",
       "      <td>6292.0</td>\n",
       "      <td>NaN</td>\n",
       "      <td>4</td>\n",
       "      <td>NaN</td>\n",
       "      <td>127.053198</td>\n",
       "      <td>37.488742</td>\n",
       "    </tr>\n",
       "    <tr>\n",
       "      <th>2</th>\n",
       "      <td>20152277</td>\n",
       "      <td>조정현신경외과의원</td>\n",
       "      <td>NaN</td>\n",
       "      <td>S</td>\n",
       "      <td>의료</td>\n",
       "      <td>S01</td>\n",
       "      <td>병원</td>\n",
       "      <td>S01B15</td>\n",
       "      <td>신경외과</td>\n",
       "      <td>Q86201</td>\n",
       "      <td>...</td>\n",
       "      <td>4139013200117400001017064</td>\n",
       "      <td>한라프라자</td>\n",
       "      <td>경기도 시흥시 중심상가로 178</td>\n",
       "      <td>429450.0</td>\n",
       "      <td>15066.0</td>\n",
       "      <td>NaN</td>\n",
       "      <td>NaN</td>\n",
       "      <td>NaN</td>\n",
       "      <td>126.734841</td>\n",
       "      <td>37.344955</td>\n",
       "    </tr>\n",
       "    <tr>\n",
       "      <th>3</th>\n",
       "      <td>20350610</td>\n",
       "      <td>한귀원정신과의원</td>\n",
       "      <td>NaN</td>\n",
       "      <td>S</td>\n",
       "      <td>의료</td>\n",
       "      <td>S01</td>\n",
       "      <td>병원</td>\n",
       "      <td>S01B99</td>\n",
       "      <td>기타병원</td>\n",
       "      <td>NaN</td>\n",
       "      <td>...</td>\n",
       "      <td>2650010400100740001009932</td>\n",
       "      <td>NaN</td>\n",
       "      <td>부산광역시 수영구 수영로 688</td>\n",
       "      <td>613100.0</td>\n",
       "      <td>48266.0</td>\n",
       "      <td>NaN</td>\n",
       "      <td>5</td>\n",
       "      <td>NaN</td>\n",
       "      <td>129.115438</td>\n",
       "      <td>35.166872</td>\n",
       "    </tr>\n",
       "    <tr>\n",
       "      <th>4</th>\n",
       "      <td>20364049</td>\n",
       "      <td>더블유스토어수지점</td>\n",
       "      <td>수지점</td>\n",
       "      <td>S</td>\n",
       "      <td>의료</td>\n",
       "      <td>S02</td>\n",
       "      <td>약국/한약방</td>\n",
       "      <td>S02A01</td>\n",
       "      <td>약국</td>\n",
       "      <td>G47811</td>\n",
       "      <td>...</td>\n",
       "      <td>4146510100107120002026238</td>\n",
       "      <td>NaN</td>\n",
       "      <td>경기도 용인시 수지구 문정로 32</td>\n",
       "      <td>448170.0</td>\n",
       "      <td>16837.0</td>\n",
       "      <td>NaN</td>\n",
       "      <td>1</td>\n",
       "      <td>NaN</td>\n",
       "      <td>127.095522</td>\n",
       "      <td>37.323528</td>\n",
       "    </tr>\n",
       "    <tr>\n",
       "      <th>...</th>\n",
       "      <td>...</td>\n",
       "      <td>...</td>\n",
       "      <td>...</td>\n",
       "      <td>...</td>\n",
       "      <td>...</td>\n",
       "      <td>...</td>\n",
       "      <td>...</td>\n",
       "      <td>...</td>\n",
       "      <td>...</td>\n",
       "      <td>...</td>\n",
       "      <td>...</td>\n",
       "      <td>...</td>\n",
       "      <td>...</td>\n",
       "      <td>...</td>\n",
       "      <td>...</td>\n",
       "      <td>...</td>\n",
       "      <td>...</td>\n",
       "      <td>...</td>\n",
       "      <td>...</td>\n",
       "      <td>...</td>\n",
       "      <td>...</td>\n",
       "    </tr>\n",
       "    <tr>\n",
       "      <th>91330</th>\n",
       "      <td>16196725</td>\n",
       "      <td>온누리약국</td>\n",
       "      <td>베스트</td>\n",
       "      <td>S</td>\n",
       "      <td>의료</td>\n",
       "      <td>S02</td>\n",
       "      <td>약국/한약방</td>\n",
       "      <td>S02A01</td>\n",
       "      <td>약국</td>\n",
       "      <td>G47811</td>\n",
       "      <td>...</td>\n",
       "      <td>3017011200115070000021096</td>\n",
       "      <td>NaN</td>\n",
       "      <td>대전광역시 서구 문예로 67</td>\n",
       "      <td>302831.0</td>\n",
       "      <td>35240.0</td>\n",
       "      <td>NaN</td>\n",
       "      <td>NaN</td>\n",
       "      <td>NaN</td>\n",
       "      <td>127.389865</td>\n",
       "      <td>36.352728</td>\n",
       "    </tr>\n",
       "    <tr>\n",
       "      <th>91331</th>\n",
       "      <td>16192180</td>\n",
       "      <td>리원</td>\n",
       "      <td>봄산후조</td>\n",
       "      <td>S</td>\n",
       "      <td>의료</td>\n",
       "      <td>S07</td>\n",
       "      <td>의료관련서비스업</td>\n",
       "      <td>S07A07</td>\n",
       "      <td>산후조리원</td>\n",
       "      <td>S96993</td>\n",
       "      <td>...</td>\n",
       "      <td>4128112300111460000011715</td>\n",
       "      <td>청한프라자</td>\n",
       "      <td>경기도 고양시 덕양구 성신로 14</td>\n",
       "      <td>412827.0</td>\n",
       "      <td>10503.0</td>\n",
       "      <td>NaN</td>\n",
       "      <td>NaN</td>\n",
       "      <td>NaN</td>\n",
       "      <td>126.830144</td>\n",
       "      <td>37.627530</td>\n",
       "    </tr>\n",
       "    <tr>\n",
       "      <th>91332</th>\n",
       "      <td>16127538</td>\n",
       "      <td>참좋은요양병원</td>\n",
       "      <td>NaN</td>\n",
       "      <td>S</td>\n",
       "      <td>의료</td>\n",
       "      <td>S01</td>\n",
       "      <td>병원</td>\n",
       "      <td>S01B17</td>\n",
       "      <td>노인/치매병원</td>\n",
       "      <td>Q86102</td>\n",
       "      <td>...</td>\n",
       "      <td>2641010800105380001005572</td>\n",
       "      <td>한신시티빌</td>\n",
       "      <td>부산광역시 금정구 금강로 209</td>\n",
       "      <td>609841.0</td>\n",
       "      <td>46294.0</td>\n",
       "      <td>NaN</td>\n",
       "      <td>2</td>\n",
       "      <td>NaN</td>\n",
       "      <td>129.082790</td>\n",
       "      <td>35.227138</td>\n",
       "    </tr>\n",
       "    <tr>\n",
       "      <th>91333</th>\n",
       "      <td>16108681</td>\n",
       "      <td>경희중앙한의원</td>\n",
       "      <td>NaN</td>\n",
       "      <td>S</td>\n",
       "      <td>의료</td>\n",
       "      <td>S01</td>\n",
       "      <td>병원</td>\n",
       "      <td>S01B06</td>\n",
       "      <td>한의원</td>\n",
       "      <td>Q86203</td>\n",
       "      <td>...</td>\n",
       "      <td>1174010500103450009002392</td>\n",
       "      <td>NaN</td>\n",
       "      <td>서울특별시 강동구 천중로 213</td>\n",
       "      <td>134811.0</td>\n",
       "      <td>5303.0</td>\n",
       "      <td>NaN</td>\n",
       "      <td>NaN</td>\n",
       "      <td>NaN</td>\n",
       "      <td>127.143958</td>\n",
       "      <td>37.540993</td>\n",
       "    </tr>\n",
       "    <tr>\n",
       "      <th>91334</th>\n",
       "      <td>16109073</td>\n",
       "      <td>천안김안과천안역본점의원</td>\n",
       "      <td>NaN</td>\n",
       "      <td>S</td>\n",
       "      <td>의료</td>\n",
       "      <td>S01</td>\n",
       "      <td>병원</td>\n",
       "      <td>S01B13</td>\n",
       "      <td>안과의원</td>\n",
       "      <td>Q86201</td>\n",
       "      <td>...</td>\n",
       "      <td>4413110700102660017016314</td>\n",
       "      <td>김안과</td>\n",
       "      <td>충청남도 천안시 동남구 중앙로 92</td>\n",
       "      <td>330952.0</td>\n",
       "      <td>31127.0</td>\n",
       "      <td>NaN</td>\n",
       "      <td>NaN</td>\n",
       "      <td>NaN</td>\n",
       "      <td>127.152651</td>\n",
       "      <td>36.806640</td>\n",
       "    </tr>\n",
       "  </tbody>\n",
       "</table>\n",
       "<p>91335 rows × 39 columns</p>\n",
       "</div>"
      ],
      "text/plain": [
       "         상가업소번호           상호명   지점명 상권업종대분류코드 상권업종대분류명 상권업종중분류코드  상권업종중분류명  \\\n",
       "0      19956873        하나산부인과   NaN         S       의료       S01        병원   \n",
       "1      20024149      타워광명내과의원   NaN         S       의료       S01        병원   \n",
       "2      20152277     조정현신경외과의원   NaN         S       의료       S01        병원   \n",
       "3      20350610      한귀원정신과의원   NaN         S       의료       S01        병원   \n",
       "4      20364049     더블유스토어수지점   수지점         S       의료       S02    약국/한약방   \n",
       "...         ...           ...   ...       ...      ...       ...       ...   \n",
       "91330  16196725         온누리약국   베스트         S       의료       S02    약국/한약방   \n",
       "91331  16192180            리원  봄산후조         S       의료       S07  의료관련서비스업   \n",
       "91332  16127538       참좋은요양병원   NaN         S       의료       S01        병원   \n",
       "91333  16108681       경희중앙한의원   NaN         S       의료       S01        병원   \n",
       "91334  16109073  천안김안과천안역본점의원   NaN         S       의료       S01        병원   \n",
       "\n",
       "      상권업종소분류코드 상권업종소분류명 표준산업분류코드  ...                     건물관리번호      건물명  \\\n",
       "0        S01B10     산부인과   Q86201  ...  4127310900110810000010857  산호한양아파트   \n",
       "1        S01B07    내과/외과   Q86201  ...  1168011800104670014000001      NaN   \n",
       "2        S01B15     신경외과   Q86201  ...  4139013200117400001017064    한라프라자   \n",
       "3        S01B99     기타병원      NaN  ...  2650010400100740001009932      NaN   \n",
       "4        S02A01       약국   G47811  ...  4146510100107120002026238      NaN   \n",
       "...         ...      ...      ...  ...                        ...      ...   \n",
       "91330    S02A01       약국   G47811  ...  3017011200115070000021096      NaN   \n",
       "91331    S07A07    산후조리원   S96993  ...  4128112300111460000011715    청한프라자   \n",
       "91332    S01B17  노인/치매병원   Q86102  ...  2641010800105380001005572    한신시티빌   \n",
       "91333    S01B06      한의원   Q86203  ...  1174010500103450009002392      NaN   \n",
       "91334    S01B13     안과의원   Q86201  ...  4413110700102660017016314      김안과   \n",
       "\n",
       "                     도로명주소     구우편번호    신우편번호  동정보  층정보  호정보          경도  \\\n",
       "0       경기도 안산시 단원구 달미로 10  425764.0  15236.0  NaN  NaN  NaN  126.814295   \n",
       "1      서울특별시 강남구 언주로30길 39  135270.0   6292.0  NaN    4  NaN  127.053198   \n",
       "2        경기도 시흥시 중심상가로 178  429450.0  15066.0  NaN  NaN  NaN  126.734841   \n",
       "3        부산광역시 수영구 수영로 688  613100.0  48266.0  NaN    5  NaN  129.115438   \n",
       "4       경기도 용인시 수지구 문정로 32  448170.0  16837.0  NaN    1  NaN  127.095522   \n",
       "...                    ...       ...      ...  ...  ...  ...         ...   \n",
       "91330      대전광역시 서구 문예로 67  302831.0  35240.0  NaN  NaN  NaN  127.389865   \n",
       "91331   경기도 고양시 덕양구 성신로 14  412827.0  10503.0  NaN  NaN  NaN  126.830144   \n",
       "91332    부산광역시 금정구 금강로 209  609841.0  46294.0  NaN    2  NaN  129.082790   \n",
       "91333    서울특별시 강동구 천중로 213  134811.0   5303.0  NaN  NaN  NaN  127.143958   \n",
       "91334  충청남도 천안시 동남구 중앙로 92  330952.0  31127.0  NaN  NaN  NaN  127.152651   \n",
       "\n",
       "              위도  \n",
       "0      37.336344  \n",
       "1      37.488742  \n",
       "2      37.344955  \n",
       "3      35.166872  \n",
       "4      37.323528  \n",
       "...          ...  \n",
       "91330  36.352728  \n",
       "91331  37.627530  \n",
       "91332  35.227138  \n",
       "91333  37.540993  \n",
       "91334  36.806640  \n",
       "\n",
       "[91335 rows x 39 columns]"
      ]
     },
     "execution_count": 6,
     "metadata": {},
     "output_type": "execute_result"
    }
   ],
   "source": [
    "df"
   ]
  },
  {
   "cell_type": "markdown",
   "id": "f9a018e3",
   "metadata": {},
   "source": [
    "## 1.4 데이터 미리보기"
   ]
  },
  {
   "cell_type": "code",
   "execution_count": 7,
   "id": "dc1d928e",
   "metadata": {},
   "outputs": [
    {
     "data": {
      "text/html": [
       "<div>\n",
       "<style scoped>\n",
       "    .dataframe tbody tr th:only-of-type {\n",
       "        vertical-align: middle;\n",
       "    }\n",
       "\n",
       "    .dataframe tbody tr th {\n",
       "        vertical-align: top;\n",
       "    }\n",
       "\n",
       "    .dataframe thead th {\n",
       "        text-align: right;\n",
       "    }\n",
       "</style>\n",
       "<table border=\"1\" class=\"dataframe\">\n",
       "  <thead>\n",
       "    <tr style=\"text-align: right;\">\n",
       "      <th></th>\n",
       "      <th>상가업소번호</th>\n",
       "      <th>상호명</th>\n",
       "      <th>지점명</th>\n",
       "      <th>상권업종대분류코드</th>\n",
       "      <th>상권업종대분류명</th>\n",
       "      <th>상권업종중분류코드</th>\n",
       "      <th>상권업종중분류명</th>\n",
       "      <th>상권업종소분류코드</th>\n",
       "      <th>상권업종소분류명</th>\n",
       "      <th>표준산업분류코드</th>\n",
       "      <th>...</th>\n",
       "      <th>건물관리번호</th>\n",
       "      <th>건물명</th>\n",
       "      <th>도로명주소</th>\n",
       "      <th>구우편번호</th>\n",
       "      <th>신우편번호</th>\n",
       "      <th>동정보</th>\n",
       "      <th>층정보</th>\n",
       "      <th>호정보</th>\n",
       "      <th>경도</th>\n",
       "      <th>위도</th>\n",
       "    </tr>\n",
       "  </thead>\n",
       "  <tbody>\n",
       "    <tr>\n",
       "      <th>0</th>\n",
       "      <td>19956873</td>\n",
       "      <td>하나산부인과</td>\n",
       "      <td>NaN</td>\n",
       "      <td>S</td>\n",
       "      <td>의료</td>\n",
       "      <td>S01</td>\n",
       "      <td>병원</td>\n",
       "      <td>S01B10</td>\n",
       "      <td>산부인과</td>\n",
       "      <td>Q86201</td>\n",
       "      <td>...</td>\n",
       "      <td>4127310900110810000010857</td>\n",
       "      <td>산호한양아파트</td>\n",
       "      <td>경기도 안산시 단원구 달미로 10</td>\n",
       "      <td>425764.0</td>\n",
       "      <td>15236.0</td>\n",
       "      <td>NaN</td>\n",
       "      <td>NaN</td>\n",
       "      <td>NaN</td>\n",
       "      <td>126.814295</td>\n",
       "      <td>37.336344</td>\n",
       "    </tr>\n",
       "  </tbody>\n",
       "</table>\n",
       "<p>1 rows × 39 columns</p>\n",
       "</div>"
      ],
      "text/plain": [
       "     상가업소번호     상호명  지점명 상권업종대분류코드 상권업종대분류명 상권업종중분류코드 상권업종중분류명 상권업종소분류코드  \\\n",
       "0  19956873  하나산부인과  NaN         S       의료       S01       병원    S01B10   \n",
       "\n",
       "  상권업종소분류명 표준산업분류코드  ...                     건물관리번호      건물명  \\\n",
       "0     산부인과   Q86201  ...  4127310900110810000010857  산호한양아파트   \n",
       "\n",
       "                도로명주소     구우편번호    신우편번호  동정보  층정보  호정보          경도         위도  \n",
       "0  경기도 안산시 단원구 달미로 10  425764.0  15236.0  NaN  NaN  NaN  126.814295  37.336344  \n",
       "\n",
       "[1 rows x 39 columns]"
      ]
     },
     "execution_count": 7,
     "metadata": {},
     "output_type": "execute_result"
    }
   ],
   "source": [
    "df.head(1)"
   ]
  },
  {
   "cell_type": "code",
   "execution_count": 8,
   "id": "ff5bc69e",
   "metadata": {},
   "outputs": [
    {
     "data": {
      "text/html": [
       "<div>\n",
       "<style scoped>\n",
       "    .dataframe tbody tr th:only-of-type {\n",
       "        vertical-align: middle;\n",
       "    }\n",
       "\n",
       "    .dataframe tbody tr th {\n",
       "        vertical-align: top;\n",
       "    }\n",
       "\n",
       "    .dataframe thead th {\n",
       "        text-align: right;\n",
       "    }\n",
       "</style>\n",
       "<table border=\"1\" class=\"dataframe\">\n",
       "  <thead>\n",
       "    <tr style=\"text-align: right;\">\n",
       "      <th></th>\n",
       "      <th>상가업소번호</th>\n",
       "      <th>상호명</th>\n",
       "      <th>지점명</th>\n",
       "      <th>상권업종대분류코드</th>\n",
       "      <th>상권업종대분류명</th>\n",
       "      <th>상권업종중분류코드</th>\n",
       "      <th>상권업종중분류명</th>\n",
       "      <th>상권업종소분류코드</th>\n",
       "      <th>상권업종소분류명</th>\n",
       "      <th>표준산업분류코드</th>\n",
       "      <th>...</th>\n",
       "      <th>건물관리번호</th>\n",
       "      <th>건물명</th>\n",
       "      <th>도로명주소</th>\n",
       "      <th>구우편번호</th>\n",
       "      <th>신우편번호</th>\n",
       "      <th>동정보</th>\n",
       "      <th>층정보</th>\n",
       "      <th>호정보</th>\n",
       "      <th>경도</th>\n",
       "      <th>위도</th>\n",
       "    </tr>\n",
       "  </thead>\n",
       "  <tbody>\n",
       "    <tr>\n",
       "      <th>91330</th>\n",
       "      <td>16196725</td>\n",
       "      <td>온누리약국</td>\n",
       "      <td>베스트</td>\n",
       "      <td>S</td>\n",
       "      <td>의료</td>\n",
       "      <td>S02</td>\n",
       "      <td>약국/한약방</td>\n",
       "      <td>S02A01</td>\n",
       "      <td>약국</td>\n",
       "      <td>G47811</td>\n",
       "      <td>...</td>\n",
       "      <td>3017011200115070000021096</td>\n",
       "      <td>NaN</td>\n",
       "      <td>대전광역시 서구 문예로 67</td>\n",
       "      <td>302831.0</td>\n",
       "      <td>35240.0</td>\n",
       "      <td>NaN</td>\n",
       "      <td>NaN</td>\n",
       "      <td>NaN</td>\n",
       "      <td>127.389865</td>\n",
       "      <td>36.352728</td>\n",
       "    </tr>\n",
       "    <tr>\n",
       "      <th>91331</th>\n",
       "      <td>16192180</td>\n",
       "      <td>리원</td>\n",
       "      <td>봄산후조</td>\n",
       "      <td>S</td>\n",
       "      <td>의료</td>\n",
       "      <td>S07</td>\n",
       "      <td>의료관련서비스업</td>\n",
       "      <td>S07A07</td>\n",
       "      <td>산후조리원</td>\n",
       "      <td>S96993</td>\n",
       "      <td>...</td>\n",
       "      <td>4128112300111460000011715</td>\n",
       "      <td>청한프라자</td>\n",
       "      <td>경기도 고양시 덕양구 성신로 14</td>\n",
       "      <td>412827.0</td>\n",
       "      <td>10503.0</td>\n",
       "      <td>NaN</td>\n",
       "      <td>NaN</td>\n",
       "      <td>NaN</td>\n",
       "      <td>126.830144</td>\n",
       "      <td>37.627530</td>\n",
       "    </tr>\n",
       "    <tr>\n",
       "      <th>91332</th>\n",
       "      <td>16127538</td>\n",
       "      <td>참좋은요양병원</td>\n",
       "      <td>NaN</td>\n",
       "      <td>S</td>\n",
       "      <td>의료</td>\n",
       "      <td>S01</td>\n",
       "      <td>병원</td>\n",
       "      <td>S01B17</td>\n",
       "      <td>노인/치매병원</td>\n",
       "      <td>Q86102</td>\n",
       "      <td>...</td>\n",
       "      <td>2641010800105380001005572</td>\n",
       "      <td>한신시티빌</td>\n",
       "      <td>부산광역시 금정구 금강로 209</td>\n",
       "      <td>609841.0</td>\n",
       "      <td>46294.0</td>\n",
       "      <td>NaN</td>\n",
       "      <td>2</td>\n",
       "      <td>NaN</td>\n",
       "      <td>129.082790</td>\n",
       "      <td>35.227138</td>\n",
       "    </tr>\n",
       "    <tr>\n",
       "      <th>91333</th>\n",
       "      <td>16108681</td>\n",
       "      <td>경희중앙한의원</td>\n",
       "      <td>NaN</td>\n",
       "      <td>S</td>\n",
       "      <td>의료</td>\n",
       "      <td>S01</td>\n",
       "      <td>병원</td>\n",
       "      <td>S01B06</td>\n",
       "      <td>한의원</td>\n",
       "      <td>Q86203</td>\n",
       "      <td>...</td>\n",
       "      <td>1174010500103450009002392</td>\n",
       "      <td>NaN</td>\n",
       "      <td>서울특별시 강동구 천중로 213</td>\n",
       "      <td>134811.0</td>\n",
       "      <td>5303.0</td>\n",
       "      <td>NaN</td>\n",
       "      <td>NaN</td>\n",
       "      <td>NaN</td>\n",
       "      <td>127.143958</td>\n",
       "      <td>37.540993</td>\n",
       "    </tr>\n",
       "    <tr>\n",
       "      <th>91334</th>\n",
       "      <td>16109073</td>\n",
       "      <td>천안김안과천안역본점의원</td>\n",
       "      <td>NaN</td>\n",
       "      <td>S</td>\n",
       "      <td>의료</td>\n",
       "      <td>S01</td>\n",
       "      <td>병원</td>\n",
       "      <td>S01B13</td>\n",
       "      <td>안과의원</td>\n",
       "      <td>Q86201</td>\n",
       "      <td>...</td>\n",
       "      <td>4413110700102660017016314</td>\n",
       "      <td>김안과</td>\n",
       "      <td>충청남도 천안시 동남구 중앙로 92</td>\n",
       "      <td>330952.0</td>\n",
       "      <td>31127.0</td>\n",
       "      <td>NaN</td>\n",
       "      <td>NaN</td>\n",
       "      <td>NaN</td>\n",
       "      <td>127.152651</td>\n",
       "      <td>36.806640</td>\n",
       "    </tr>\n",
       "  </tbody>\n",
       "</table>\n",
       "<p>5 rows × 39 columns</p>\n",
       "</div>"
      ],
      "text/plain": [
       "         상가업소번호           상호명   지점명 상권업종대분류코드 상권업종대분류명 상권업종중분류코드  상권업종중분류명  \\\n",
       "91330  16196725         온누리약국   베스트         S       의료       S02    약국/한약방   \n",
       "91331  16192180            리원  봄산후조         S       의료       S07  의료관련서비스업   \n",
       "91332  16127538       참좋은요양병원   NaN         S       의료       S01        병원   \n",
       "91333  16108681       경희중앙한의원   NaN         S       의료       S01        병원   \n",
       "91334  16109073  천안김안과천안역본점의원   NaN         S       의료       S01        병원   \n",
       "\n",
       "      상권업종소분류코드 상권업종소분류명 표준산업분류코드  ...                     건물관리번호    건물명  \\\n",
       "91330    S02A01       약국   G47811  ...  3017011200115070000021096    NaN   \n",
       "91331    S07A07    산후조리원   S96993  ...  4128112300111460000011715  청한프라자   \n",
       "91332    S01B17  노인/치매병원   Q86102  ...  2641010800105380001005572  한신시티빌   \n",
       "91333    S01B06      한의원   Q86203  ...  1174010500103450009002392    NaN   \n",
       "91334    S01B13     안과의원   Q86201  ...  4413110700102660017016314    김안과   \n",
       "\n",
       "                     도로명주소     구우편번호    신우편번호  동정보  층정보  호정보          경도  \\\n",
       "91330      대전광역시 서구 문예로 67  302831.0  35240.0  NaN  NaN  NaN  127.389865   \n",
       "91331   경기도 고양시 덕양구 성신로 14  412827.0  10503.0  NaN  NaN  NaN  126.830144   \n",
       "91332    부산광역시 금정구 금강로 209  609841.0  46294.0  NaN    2  NaN  129.082790   \n",
       "91333    서울특별시 강동구 천중로 213  134811.0   5303.0  NaN  NaN  NaN  127.143958   \n",
       "91334  충청남도 천안시 동남구 중앙로 92  330952.0  31127.0  NaN  NaN  NaN  127.152651   \n",
       "\n",
       "              위도  \n",
       "91330  36.352728  \n",
       "91331  37.627530  \n",
       "91332  35.227138  \n",
       "91333  37.540993  \n",
       "91334  36.806640  \n",
       "\n",
       "[5 rows x 39 columns]"
      ]
     },
     "execution_count": 8,
     "metadata": {},
     "output_type": "execute_result"
    }
   ],
   "source": [
    "df.tail()"
   ]
  },
  {
   "cell_type": "markdown",
   "id": "507cef61",
   "metadata": {},
   "source": [
    "## 1.5 데이터 요약하기"
   ]
  },
  {
   "cell_type": "code",
   "execution_count": 9,
   "id": "044e70db",
   "metadata": {},
   "outputs": [
    {
     "name": "stdout",
     "output_type": "stream",
     "text": [
      "<class 'pandas.core.frame.DataFrame'>\n",
      "RangeIndex: 91335 entries, 0 to 91334\n",
      "Data columns (total 39 columns):\n",
      " #   Column     Non-Null Count  Dtype  \n",
      "---  ------     --------------  -----  \n",
      " 0   상가업소번호     91335 non-null  int64  \n",
      " 1   상호명        91335 non-null  object \n",
      " 2   지점명        1346 non-null   object \n",
      " 3   상권업종대분류코드  91335 non-null  object \n",
      " 4   상권업종대분류명   91335 non-null  object \n",
      " 5   상권업종중분류코드  91335 non-null  object \n",
      " 6   상권업종중분류명   91335 non-null  object \n",
      " 7   상권업종소분류코드  91335 non-null  object \n",
      " 8   상권업종소분류명   91335 non-null  object \n",
      " 9   표준산업분류코드   86413 non-null  object \n",
      " 10  표준산업분류명    86413 non-null  object \n",
      " 11  시도코드       90956 non-null  float64\n",
      " 12  시도명        90956 non-null  object \n",
      " 13  시군구코드      90956 non-null  float64\n",
      " 14  시군구명       90956 non-null  object \n",
      " 15  행정동코드      91335 non-null  int64  \n",
      " 16  행정동명       90956 non-null  object \n",
      " 17  법정동코드      91280 non-null  float64\n",
      " 18  법정동명       91280 non-null  object \n",
      " 19  지번코드       91335 non-null  int64  \n",
      " 20  대지구분코드     91335 non-null  int64  \n",
      " 21  대지구분명      91335 non-null  object \n",
      " 22  지번본번지      91335 non-null  int64  \n",
      " 23  지번부번지      72079 non-null  float64\n",
      " 24  지번주소       91335 non-null  object \n",
      " 25  도로명코드      91335 non-null  int64  \n",
      " 26  도로명        91335 non-null  object \n",
      " 27  건물본번지      91335 non-null  int64  \n",
      " 28  건물부번지      10604 non-null  float64\n",
      " 29  건물관리번호     91335 non-null  object \n",
      " 30  건물명        46453 non-null  object \n",
      " 31  도로명주소      91335 non-null  object \n",
      " 32  구우편번호      91323 non-null  float64\n",
      " 33  신우편번호      91333 non-null  float64\n",
      " 34  동정보        7406 non-null   object \n",
      " 35  층정보        44044 non-null  object \n",
      " 36  호정보        15551 non-null  object \n",
      " 37  경도         91335 non-null  float64\n",
      " 38  위도         91335 non-null  float64\n",
      "dtypes: float64(9), int64(7), object(23)\n",
      "memory usage: 27.2+ MB\n"
     ]
    }
   ],
   "source": [
    "#info로 데이터 요약 보기\n",
    "df.info()"
   ]
  },
  {
   "cell_type": "code",
   "execution_count": 10,
   "id": "d67ec450",
   "metadata": {},
   "outputs": [
    {
     "data": {
      "text/plain": [
       "Index(['상가업소번호', '상호명', '지점명', '상권업종대분류코드', '상권업종대분류명', '상권업종중분류코드',\n",
       "       '상권업종중분류명', '상권업종소분류코드', '상권업종소분류명', '표준산업분류코드', '표준산업분류명', '시도코드',\n",
       "       '시도명', '시군구코드', '시군구명', '행정동코드', '행정동명', '법정동코드', '법정동명', '지번코드',\n",
       "       '대지구분코드', '대지구분명', '지번본번지', '지번부번지', '지번주소', '도로명코드', '도로명', '건물본번지',\n",
       "       '건물부번지', '건물관리번호', '건물명', '도로명주소', '구우편번호', '신우편번호', '동정보', '층정보',\n",
       "       '호정보', '경도', '위도'],\n",
       "      dtype='object')"
      ]
     },
     "execution_count": 10,
     "metadata": {},
     "output_type": "execute_result"
    }
   ],
   "source": [
    "#컬럼명만 출력해보기\n",
    "df.columns"
   ]
  },
  {
   "cell_type": "code",
   "execution_count": 11,
   "id": "64e42013",
   "metadata": {},
   "outputs": [
    {
     "data": {
      "text/plain": [
       "상가업소번호         int64\n",
       "상호명           object\n",
       "지점명           object\n",
       "상권업종대분류코드     object\n",
       "상권업종대분류명      object\n",
       "상권업종중분류코드     object\n",
       "상권업종중분류명      object\n",
       "상권업종소분류코드     object\n",
       "상권업종소분류명      object\n",
       "표준산업분류코드      object\n",
       "표준산업분류명       object\n",
       "시도코드         float64\n",
       "시도명           object\n",
       "시군구코드        float64\n",
       "시군구명          object\n",
       "행정동코드          int64\n",
       "행정동명          object\n",
       "법정동코드        float64\n",
       "법정동명          object\n",
       "지번코드           int64\n",
       "대지구분코드         int64\n",
       "대지구분명         object\n",
       "지번본번지          int64\n",
       "지번부번지        float64\n",
       "지번주소          object\n",
       "도로명코드          int64\n",
       "도로명           object\n",
       "건물본번지          int64\n",
       "건물부번지        float64\n",
       "건물관리번호        object\n",
       "건물명           object\n",
       "도로명주소         object\n",
       "구우편번호        float64\n",
       "신우편번호        float64\n",
       "동정보           object\n",
       "층정보           object\n",
       "호정보           object\n",
       "경도           float64\n",
       "위도           float64\n",
       "dtype: object"
      ]
     },
     "execution_count": 11,
     "metadata": {},
     "output_type": "execute_result"
    }
   ],
   "source": [
    "#데이터 타입만 출력해보기\n",
    "df.dtypes"
   ]
  },
  {
   "cell_type": "markdown",
   "id": "acf663bf",
   "metadata": {},
   "source": [
    "## 1.6 결측치"
   ]
  },
  {
   "cell_type": "code",
   "execution_count": 12,
   "id": "4e1b8db3",
   "metadata": {},
   "outputs": [
    {
     "data": {
      "text/html": [
       "<div>\n",
       "<style scoped>\n",
       "    .dataframe tbody tr th:only-of-type {\n",
       "        vertical-align: middle;\n",
       "    }\n",
       "\n",
       "    .dataframe tbody tr th {\n",
       "        vertical-align: top;\n",
       "    }\n",
       "\n",
       "    .dataframe thead th {\n",
       "        text-align: right;\n",
       "    }\n",
       "</style>\n",
       "<table border=\"1\" class=\"dataframe\">\n",
       "  <thead>\n",
       "    <tr style=\"text-align: right;\">\n",
       "      <th></th>\n",
       "      <th>상가업소번호</th>\n",
       "      <th>상호명</th>\n",
       "      <th>지점명</th>\n",
       "      <th>상권업종대분류코드</th>\n",
       "      <th>상권업종대분류명</th>\n",
       "      <th>상권업종중분류코드</th>\n",
       "      <th>상권업종중분류명</th>\n",
       "      <th>상권업종소분류코드</th>\n",
       "      <th>상권업종소분류명</th>\n",
       "      <th>표준산업분류코드</th>\n",
       "      <th>...</th>\n",
       "      <th>건물관리번호</th>\n",
       "      <th>건물명</th>\n",
       "      <th>도로명주소</th>\n",
       "      <th>구우편번호</th>\n",
       "      <th>신우편번호</th>\n",
       "      <th>동정보</th>\n",
       "      <th>층정보</th>\n",
       "      <th>호정보</th>\n",
       "      <th>경도</th>\n",
       "      <th>위도</th>\n",
       "    </tr>\n",
       "  </thead>\n",
       "  <tbody>\n",
       "    <tr>\n",
       "      <th>0</th>\n",
       "      <td>False</td>\n",
       "      <td>False</td>\n",
       "      <td>True</td>\n",
       "      <td>False</td>\n",
       "      <td>False</td>\n",
       "      <td>False</td>\n",
       "      <td>False</td>\n",
       "      <td>False</td>\n",
       "      <td>False</td>\n",
       "      <td>False</td>\n",
       "      <td>...</td>\n",
       "      <td>False</td>\n",
       "      <td>False</td>\n",
       "      <td>False</td>\n",
       "      <td>False</td>\n",
       "      <td>False</td>\n",
       "      <td>True</td>\n",
       "      <td>True</td>\n",
       "      <td>True</td>\n",
       "      <td>False</td>\n",
       "      <td>False</td>\n",
       "    </tr>\n",
       "    <tr>\n",
       "      <th>1</th>\n",
       "      <td>False</td>\n",
       "      <td>False</td>\n",
       "      <td>True</td>\n",
       "      <td>False</td>\n",
       "      <td>False</td>\n",
       "      <td>False</td>\n",
       "      <td>False</td>\n",
       "      <td>False</td>\n",
       "      <td>False</td>\n",
       "      <td>False</td>\n",
       "      <td>...</td>\n",
       "      <td>False</td>\n",
       "      <td>True</td>\n",
       "      <td>False</td>\n",
       "      <td>False</td>\n",
       "      <td>False</td>\n",
       "      <td>True</td>\n",
       "      <td>False</td>\n",
       "      <td>True</td>\n",
       "      <td>False</td>\n",
       "      <td>False</td>\n",
       "    </tr>\n",
       "    <tr>\n",
       "      <th>2</th>\n",
       "      <td>False</td>\n",
       "      <td>False</td>\n",
       "      <td>True</td>\n",
       "      <td>False</td>\n",
       "      <td>False</td>\n",
       "      <td>False</td>\n",
       "      <td>False</td>\n",
       "      <td>False</td>\n",
       "      <td>False</td>\n",
       "      <td>False</td>\n",
       "      <td>...</td>\n",
       "      <td>False</td>\n",
       "      <td>False</td>\n",
       "      <td>False</td>\n",
       "      <td>False</td>\n",
       "      <td>False</td>\n",
       "      <td>True</td>\n",
       "      <td>True</td>\n",
       "      <td>True</td>\n",
       "      <td>False</td>\n",
       "      <td>False</td>\n",
       "    </tr>\n",
       "    <tr>\n",
       "      <th>3</th>\n",
       "      <td>False</td>\n",
       "      <td>False</td>\n",
       "      <td>True</td>\n",
       "      <td>False</td>\n",
       "      <td>False</td>\n",
       "      <td>False</td>\n",
       "      <td>False</td>\n",
       "      <td>False</td>\n",
       "      <td>False</td>\n",
       "      <td>True</td>\n",
       "      <td>...</td>\n",
       "      <td>False</td>\n",
       "      <td>True</td>\n",
       "      <td>False</td>\n",
       "      <td>False</td>\n",
       "      <td>False</td>\n",
       "      <td>True</td>\n",
       "      <td>False</td>\n",
       "      <td>True</td>\n",
       "      <td>False</td>\n",
       "      <td>False</td>\n",
       "    </tr>\n",
       "    <tr>\n",
       "      <th>4</th>\n",
       "      <td>False</td>\n",
       "      <td>False</td>\n",
       "      <td>False</td>\n",
       "      <td>False</td>\n",
       "      <td>False</td>\n",
       "      <td>False</td>\n",
       "      <td>False</td>\n",
       "      <td>False</td>\n",
       "      <td>False</td>\n",
       "      <td>False</td>\n",
       "      <td>...</td>\n",
       "      <td>False</td>\n",
       "      <td>True</td>\n",
       "      <td>False</td>\n",
       "      <td>False</td>\n",
       "      <td>False</td>\n",
       "      <td>True</td>\n",
       "      <td>False</td>\n",
       "      <td>True</td>\n",
       "      <td>False</td>\n",
       "      <td>False</td>\n",
       "    </tr>\n",
       "    <tr>\n",
       "      <th>...</th>\n",
       "      <td>...</td>\n",
       "      <td>...</td>\n",
       "      <td>...</td>\n",
       "      <td>...</td>\n",
       "      <td>...</td>\n",
       "      <td>...</td>\n",
       "      <td>...</td>\n",
       "      <td>...</td>\n",
       "      <td>...</td>\n",
       "      <td>...</td>\n",
       "      <td>...</td>\n",
       "      <td>...</td>\n",
       "      <td>...</td>\n",
       "      <td>...</td>\n",
       "      <td>...</td>\n",
       "      <td>...</td>\n",
       "      <td>...</td>\n",
       "      <td>...</td>\n",
       "      <td>...</td>\n",
       "      <td>...</td>\n",
       "      <td>...</td>\n",
       "    </tr>\n",
       "    <tr>\n",
       "      <th>91330</th>\n",
       "      <td>False</td>\n",
       "      <td>False</td>\n",
       "      <td>False</td>\n",
       "      <td>False</td>\n",
       "      <td>False</td>\n",
       "      <td>False</td>\n",
       "      <td>False</td>\n",
       "      <td>False</td>\n",
       "      <td>False</td>\n",
       "      <td>False</td>\n",
       "      <td>...</td>\n",
       "      <td>False</td>\n",
       "      <td>True</td>\n",
       "      <td>False</td>\n",
       "      <td>False</td>\n",
       "      <td>False</td>\n",
       "      <td>True</td>\n",
       "      <td>True</td>\n",
       "      <td>True</td>\n",
       "      <td>False</td>\n",
       "      <td>False</td>\n",
       "    </tr>\n",
       "    <tr>\n",
       "      <th>91331</th>\n",
       "      <td>False</td>\n",
       "      <td>False</td>\n",
       "      <td>False</td>\n",
       "      <td>False</td>\n",
       "      <td>False</td>\n",
       "      <td>False</td>\n",
       "      <td>False</td>\n",
       "      <td>False</td>\n",
       "      <td>False</td>\n",
       "      <td>False</td>\n",
       "      <td>...</td>\n",
       "      <td>False</td>\n",
       "      <td>False</td>\n",
       "      <td>False</td>\n",
       "      <td>False</td>\n",
       "      <td>False</td>\n",
       "      <td>True</td>\n",
       "      <td>True</td>\n",
       "      <td>True</td>\n",
       "      <td>False</td>\n",
       "      <td>False</td>\n",
       "    </tr>\n",
       "    <tr>\n",
       "      <th>91332</th>\n",
       "      <td>False</td>\n",
       "      <td>False</td>\n",
       "      <td>True</td>\n",
       "      <td>False</td>\n",
       "      <td>False</td>\n",
       "      <td>False</td>\n",
       "      <td>False</td>\n",
       "      <td>False</td>\n",
       "      <td>False</td>\n",
       "      <td>False</td>\n",
       "      <td>...</td>\n",
       "      <td>False</td>\n",
       "      <td>False</td>\n",
       "      <td>False</td>\n",
       "      <td>False</td>\n",
       "      <td>False</td>\n",
       "      <td>True</td>\n",
       "      <td>False</td>\n",
       "      <td>True</td>\n",
       "      <td>False</td>\n",
       "      <td>False</td>\n",
       "    </tr>\n",
       "    <tr>\n",
       "      <th>91333</th>\n",
       "      <td>False</td>\n",
       "      <td>False</td>\n",
       "      <td>True</td>\n",
       "      <td>False</td>\n",
       "      <td>False</td>\n",
       "      <td>False</td>\n",
       "      <td>False</td>\n",
       "      <td>False</td>\n",
       "      <td>False</td>\n",
       "      <td>False</td>\n",
       "      <td>...</td>\n",
       "      <td>False</td>\n",
       "      <td>True</td>\n",
       "      <td>False</td>\n",
       "      <td>False</td>\n",
       "      <td>False</td>\n",
       "      <td>True</td>\n",
       "      <td>True</td>\n",
       "      <td>True</td>\n",
       "      <td>False</td>\n",
       "      <td>False</td>\n",
       "    </tr>\n",
       "    <tr>\n",
       "      <th>91334</th>\n",
       "      <td>False</td>\n",
       "      <td>False</td>\n",
       "      <td>True</td>\n",
       "      <td>False</td>\n",
       "      <td>False</td>\n",
       "      <td>False</td>\n",
       "      <td>False</td>\n",
       "      <td>False</td>\n",
       "      <td>False</td>\n",
       "      <td>False</td>\n",
       "      <td>...</td>\n",
       "      <td>False</td>\n",
       "      <td>False</td>\n",
       "      <td>False</td>\n",
       "      <td>False</td>\n",
       "      <td>False</td>\n",
       "      <td>True</td>\n",
       "      <td>True</td>\n",
       "      <td>True</td>\n",
       "      <td>False</td>\n",
       "      <td>False</td>\n",
       "    </tr>\n",
       "  </tbody>\n",
       "</table>\n",
       "<p>91335 rows × 39 columns</p>\n",
       "</div>"
      ],
      "text/plain": [
       "       상가업소번호    상호명    지점명  상권업종대분류코드  상권업종대분류명  상권업종중분류코드  상권업종중분류명  \\\n",
       "0       False  False   True      False     False      False     False   \n",
       "1       False  False   True      False     False      False     False   \n",
       "2       False  False   True      False     False      False     False   \n",
       "3       False  False   True      False     False      False     False   \n",
       "4       False  False  False      False     False      False     False   \n",
       "...       ...    ...    ...        ...       ...        ...       ...   \n",
       "91330   False  False  False      False     False      False     False   \n",
       "91331   False  False  False      False     False      False     False   \n",
       "91332   False  False   True      False     False      False     False   \n",
       "91333   False  False   True      False     False      False     False   \n",
       "91334   False  False   True      False     False      False     False   \n",
       "\n",
       "       상권업종소분류코드  상권업종소분류명  표준산업분류코드  ...  건물관리번호    건물명  도로명주소  구우편번호  신우편번호  \\\n",
       "0          False     False     False  ...   False  False  False  False  False   \n",
       "1          False     False     False  ...   False   True  False  False  False   \n",
       "2          False     False     False  ...   False  False  False  False  False   \n",
       "3          False     False      True  ...   False   True  False  False  False   \n",
       "4          False     False     False  ...   False   True  False  False  False   \n",
       "...          ...       ...       ...  ...     ...    ...    ...    ...    ...   \n",
       "91330      False     False     False  ...   False   True  False  False  False   \n",
       "91331      False     False     False  ...   False  False  False  False  False   \n",
       "91332      False     False     False  ...   False  False  False  False  False   \n",
       "91333      False     False     False  ...   False   True  False  False  False   \n",
       "91334      False     False     False  ...   False  False  False  False  False   \n",
       "\n",
       "        동정보    층정보   호정보     경도     위도  \n",
       "0      True   True  True  False  False  \n",
       "1      True  False  True  False  False  \n",
       "2      True   True  True  False  False  \n",
       "3      True  False  True  False  False  \n",
       "4      True  False  True  False  False  \n",
       "...     ...    ...   ...    ...    ...  \n",
       "91330  True   True  True  False  False  \n",
       "91331  True   True  True  False  False  \n",
       "91332  True  False  True  False  False  \n",
       "91333  True   True  True  False  False  \n",
       "91334  True   True  True  False  False  \n",
       "\n",
       "[91335 rows x 39 columns]"
      ]
     },
     "execution_count": 12,
     "metadata": {},
     "output_type": "execute_result"
    }
   ],
   "source": [
    "df.isnull() \n",
    "#True면 null값"
   ]
  },
  {
   "cell_type": "code",
   "execution_count": 13,
   "id": "7069a49f",
   "metadata": {},
   "outputs": [
    {
     "data": {
      "text/plain": [
       "상가업소번호           0\n",
       "상호명              0\n",
       "지점명          89989\n",
       "상권업종대분류코드        0\n",
       "상권업종대분류명         0\n",
       "상권업종중분류코드        0\n",
       "상권업종중분류명         0\n",
       "상권업종소분류코드        0\n",
       "상권업종소분류명         0\n",
       "표준산업분류코드      4922\n",
       "표준산업분류명       4922\n",
       "시도코드           379\n",
       "시도명            379\n",
       "시군구코드          379\n",
       "시군구명           379\n",
       "행정동코드            0\n",
       "행정동명           379\n",
       "법정동코드           55\n",
       "법정동명            55\n",
       "지번코드             0\n",
       "대지구분코드           0\n",
       "대지구분명            0\n",
       "지번본번지            0\n",
       "지번부번지        19256\n",
       "지번주소             0\n",
       "도로명코드            0\n",
       "도로명              0\n",
       "건물본번지            0\n",
       "건물부번지        80731\n",
       "건물관리번호           0\n",
       "건물명          44882\n",
       "도로명주소            0\n",
       "구우편번호           12\n",
       "신우편번호            2\n",
       "동정보          83929\n",
       "층정보          47291\n",
       "호정보          75784\n",
       "경도               0\n",
       "위도               0\n",
       "dtype: int64"
      ]
     },
     "execution_count": 13,
     "metadata": {},
     "output_type": "execute_result"
    }
   ],
   "source": [
    "null_count = df.isnull().sum()\n",
    "null_count\n",
    "#결측치 세어보기"
   ]
  },
  {
   "cell_type": "code",
   "execution_count": 14,
   "id": "0683e9d6",
   "metadata": {},
   "outputs": [
    {
     "data": {
      "text/plain": [
       "<AxesSubplot:>"
      ]
     },
     "execution_count": 14,
     "metadata": {},
     "output_type": "execute_result"
    },
    {
     "data": {
      "image/png": "[encoded data removed]",
      "text/plain": [
       "<Figure size 360x504 with 1 Axes>"
      ]
     },
     "metadata": {
      "image/png": {
       "height": 411,
       "width": 390
      },
      "needs_background": "light"
     },
     "output_type": "display_data"
    }
   ],
   "source": [
    "#위에서 구한 결과물을 plot.bar로 표현하기\n",
    "# null_count.plot.bar(rot=60)\n",
    "null_count.plot.barh(figsize=(5,7))"
   ]
  },
  {
   "cell_type": "code",
   "execution_count": 15,
   "id": "94746638",
   "metadata": {},
   "outputs": [
    {
     "data": {
      "text/html": [
       "<div>\n",
       "<style scoped>\n",
       "    .dataframe tbody tr th:only-of-type {\n",
       "        vertical-align: middle;\n",
       "    }\n",
       "\n",
       "    .dataframe tbody tr th {\n",
       "        vertical-align: top;\n",
       "    }\n",
       "\n",
       "    .dataframe thead th {\n",
       "        text-align: right;\n",
       "    }\n",
       "</style>\n",
       "<table border=\"1\" class=\"dataframe\">\n",
       "  <thead>\n",
       "    <tr style=\"text-align: right;\">\n",
       "      <th></th>\n",
       "      <th>index</th>\n",
       "      <th>0</th>\n",
       "    </tr>\n",
       "  </thead>\n",
       "  <tbody>\n",
       "    <tr>\n",
       "      <th>0</th>\n",
       "      <td>상가업소번호</td>\n",
       "      <td>0</td>\n",
       "    </tr>\n",
       "    <tr>\n",
       "      <th>1</th>\n",
       "      <td>상호명</td>\n",
       "      <td>0</td>\n",
       "    </tr>\n",
       "    <tr>\n",
       "      <th>2</th>\n",
       "      <td>지점명</td>\n",
       "      <td>89989</td>\n",
       "    </tr>\n",
       "    <tr>\n",
       "      <th>3</th>\n",
       "      <td>상권업종대분류코드</td>\n",
       "      <td>0</td>\n",
       "    </tr>\n",
       "    <tr>\n",
       "      <th>4</th>\n",
       "      <td>상권업종대분류명</td>\n",
       "      <td>0</td>\n",
       "    </tr>\n",
       "  </tbody>\n",
       "</table>\n",
       "</div>"
      ],
      "text/plain": [
       "       index      0\n",
       "0     상가업소번호      0\n",
       "1        상호명      0\n",
       "2        지점명  89989\n",
       "3  상권업종대분류코드      0\n",
       "4   상권업종대분류명      0"
      ]
     },
     "execution_count": 15,
     "metadata": {},
     "output_type": "execute_result"
    }
   ],
   "source": [
    "df_null_count = null_count.reset_index() #데이터 프레임 형태로 변경\n",
    "df_null_count.head()"
   ]
  },
  {
   "cell_type": "markdown",
   "id": "eec8cd78",
   "metadata": {},
   "source": [
    "## 1.7 컬럼명 변경하기"
   ]
  },
  {
   "cell_type": "code",
   "execution_count": 16,
   "id": "8886b178",
   "metadata": {},
   "outputs": [
    {
     "data": {
      "text/html": [
       "<div>\n",
       "<style scoped>\n",
       "    .dataframe tbody tr th:only-of-type {\n",
       "        vertical-align: middle;\n",
       "    }\n",
       "\n",
       "    .dataframe tbody tr th {\n",
       "        vertical-align: top;\n",
       "    }\n",
       "\n",
       "    .dataframe thead th {\n",
       "        text-align: right;\n",
       "    }\n",
       "</style>\n",
       "<table border=\"1\" class=\"dataframe\">\n",
       "  <thead>\n",
       "    <tr style=\"text-align: right;\">\n",
       "      <th></th>\n",
       "      <th>컬럼명</th>\n",
       "      <th>결측치수</th>\n",
       "    </tr>\n",
       "  </thead>\n",
       "  <tbody>\n",
       "    <tr>\n",
       "      <th>0</th>\n",
       "      <td>상가업소번호</td>\n",
       "      <td>0</td>\n",
       "    </tr>\n",
       "    <tr>\n",
       "      <th>1</th>\n",
       "      <td>상호명</td>\n",
       "      <td>0</td>\n",
       "    </tr>\n",
       "    <tr>\n",
       "      <th>2</th>\n",
       "      <td>지점명</td>\n",
       "      <td>89989</td>\n",
       "    </tr>\n",
       "    <tr>\n",
       "      <th>3</th>\n",
       "      <td>상권업종대분류코드</td>\n",
       "      <td>0</td>\n",
       "    </tr>\n",
       "    <tr>\n",
       "      <th>4</th>\n",
       "      <td>상권업종대분류명</td>\n",
       "      <td>0</td>\n",
       "    </tr>\n",
       "  </tbody>\n",
       "</table>\n",
       "</div>"
      ],
      "text/plain": [
       "         컬럼명   결측치수\n",
       "0     상가업소번호      0\n",
       "1        상호명      0\n",
       "2        지점명  89989\n",
       "3  상권업종대분류코드      0\n",
       "4   상권업종대분류명      0"
      ]
     },
     "execution_count": 16,
     "metadata": {},
     "output_type": "execute_result"
    }
   ],
   "source": [
    "df_null_count.columns = [\"컬럼명\", \"결측치수\"]\n",
    "df_null_count.head()"
   ]
  },
  {
   "cell_type": "markdown",
   "id": "2a1ebc1f",
   "metadata": {},
   "source": [
    "## 1.8 정렬하기"
   ]
  },
  {
   "cell_type": "code",
   "execution_count": 17,
   "id": "9407f87b",
   "metadata": {},
   "outputs": [],
   "source": [
    "df_null_count_top = df_null_count.sort_values(by=\"결측치수\", ascending=False).head(10)"
   ]
  },
  {
   "cell_type": "markdown",
   "id": "74ed0789",
   "metadata": {},
   "source": [
    "## 1.9 특정 컬럼만 불러오기"
   ]
  },
  {
   "cell_type": "code",
   "execution_count": 18,
   "id": "450d5df9",
   "metadata": {},
   "outputs": [
    {
     "data": {
      "text/plain": [
       "0    NaN\n",
       "1    NaN\n",
       "2    NaN\n",
       "3    NaN\n",
       "4    수지점\n",
       "Name: 지점명, dtype: object"
      ]
     },
     "execution_count": 18,
     "metadata": {},
     "output_type": "execute_result"
    }
   ],
   "source": [
    "df[\"지점명\"].head()"
   ]
  },
  {
   "cell_type": "code",
   "execution_count": 19,
   "id": "a47079ce",
   "metadata": {},
   "outputs": [
    {
     "data": {
      "text/plain": [
       "['지점명',\n",
       " '동정보',\n",
       " '건물부번지',\n",
       " '호정보',\n",
       " '층정보',\n",
       " '건물명',\n",
       " '지번부번지',\n",
       " '표준산업분류코드',\n",
       " '표준산업분류명',\n",
       " '시도코드']"
      ]
     },
     "execution_count": 19,
     "metadata": {},
     "output_type": "execute_result"
    }
   ],
   "source": [
    "drop_columns = df_null_count_top[\"컬럼명\"].tolist()\n",
    "drop_columns"
   ]
  },
  {
   "cell_type": "code",
   "execution_count": 20,
   "id": "93891a95",
   "metadata": {},
   "outputs": [
    {
     "data": {
      "text/html": [
       "<div>\n",
       "<style scoped>\n",
       "    .dataframe tbody tr th:only-of-type {\n",
       "        vertical-align: middle;\n",
       "    }\n",
       "\n",
       "    .dataframe tbody tr th {\n",
       "        vertical-align: top;\n",
       "    }\n",
       "\n",
       "    .dataframe thead th {\n",
       "        text-align: right;\n",
       "    }\n",
       "</style>\n",
       "<table border=\"1\" class=\"dataframe\">\n",
       "  <thead>\n",
       "    <tr style=\"text-align: right;\">\n",
       "      <th></th>\n",
       "      <th>지점명</th>\n",
       "      <th>동정보</th>\n",
       "      <th>건물부번지</th>\n",
       "      <th>호정보</th>\n",
       "      <th>층정보</th>\n",
       "      <th>건물명</th>\n",
       "      <th>지번부번지</th>\n",
       "      <th>표준산업분류코드</th>\n",
       "      <th>표준산업분류명</th>\n",
       "      <th>시도코드</th>\n",
       "    </tr>\n",
       "  </thead>\n",
       "  <tbody>\n",
       "    <tr>\n",
       "      <th>0</th>\n",
       "      <td>NaN</td>\n",
       "      <td>NaN</td>\n",
       "      <td>NaN</td>\n",
       "      <td>NaN</td>\n",
       "      <td>NaN</td>\n",
       "      <td>산호한양아파트</td>\n",
       "      <td>NaN</td>\n",
       "      <td>Q86201</td>\n",
       "      <td>일반 의원</td>\n",
       "      <td>41.0</td>\n",
       "    </tr>\n",
       "    <tr>\n",
       "      <th>1</th>\n",
       "      <td>NaN</td>\n",
       "      <td>NaN</td>\n",
       "      <td>NaN</td>\n",
       "      <td>NaN</td>\n",
       "      <td>4</td>\n",
       "      <td>NaN</td>\n",
       "      <td>14.0</td>\n",
       "      <td>Q86201</td>\n",
       "      <td>일반 의원</td>\n",
       "      <td>11.0</td>\n",
       "    </tr>\n",
       "    <tr>\n",
       "      <th>2</th>\n",
       "      <td>NaN</td>\n",
       "      <td>NaN</td>\n",
       "      <td>NaN</td>\n",
       "      <td>NaN</td>\n",
       "      <td>NaN</td>\n",
       "      <td>한라프라자</td>\n",
       "      <td>1.0</td>\n",
       "      <td>Q86201</td>\n",
       "      <td>일반 의원</td>\n",
       "      <td>41.0</td>\n",
       "    </tr>\n",
       "    <tr>\n",
       "      <th>3</th>\n",
       "      <td>NaN</td>\n",
       "      <td>NaN</td>\n",
       "      <td>NaN</td>\n",
       "      <td>NaN</td>\n",
       "      <td>5</td>\n",
       "      <td>NaN</td>\n",
       "      <td>1.0</td>\n",
       "      <td>NaN</td>\n",
       "      <td>NaN</td>\n",
       "      <td>26.0</td>\n",
       "    </tr>\n",
       "    <tr>\n",
       "      <th>4</th>\n",
       "      <td>수지점</td>\n",
       "      <td>NaN</td>\n",
       "      <td>NaN</td>\n",
       "      <td>NaN</td>\n",
       "      <td>1</td>\n",
       "      <td>NaN</td>\n",
       "      <td>2.0</td>\n",
       "      <td>G47811</td>\n",
       "      <td>의약품 및 의료용품 소매업</td>\n",
       "      <td>41.0</td>\n",
       "    </tr>\n",
       "  </tbody>\n",
       "</table>\n",
       "</div>"
      ],
      "text/plain": [
       "   지점명  동정보  건물부번지  호정보  층정보      건물명  지번부번지 표준산업분류코드         표준산업분류명  시도코드\n",
       "0  NaN  NaN    NaN  NaN  NaN  산호한양아파트    NaN   Q86201           일반 의원  41.0\n",
       "1  NaN  NaN    NaN  NaN    4      NaN   14.0   Q86201           일반 의원  11.0\n",
       "2  NaN  NaN    NaN  NaN  NaN    한라프라자    1.0   Q86201           일반 의원  41.0\n",
       "3  NaN  NaN    NaN  NaN    5      NaN    1.0      NaN             NaN  26.0\n",
       "4  수지점  NaN    NaN  NaN    1      NaN    2.0   G47811  의약품 및 의료용품 소매업  41.0"
      ]
     },
     "execution_count": 20,
     "metadata": {},
     "output_type": "execute_result"
    }
   ],
   "source": [
    "df[drop_columns].head()"
   ]
  },
  {
   "cell_type": "markdown",
   "id": "606f2917",
   "metadata": {},
   "source": [
    "## 1.10 제거하기"
   ]
  },
  {
   "cell_type": "code",
   "execution_count": 21,
   "id": "7881e677",
   "metadata": {},
   "outputs": [
    {
     "name": "stdout",
     "output_type": "stream",
     "text": [
      "(91335, 39)\n",
      "(91335, 29)\n"
     ]
    }
   ],
   "source": [
    "print(df.shape)\n",
    "df = df.drop(drop_columns, axis=1) #열을 기준으로 drop할거면 1, 행을 기준으로 drop할거면 0.\n",
    "print(df.shape)"
   ]
  },
  {
   "cell_type": "code",
   "execution_count": 22,
   "id": "687c7c53",
   "metadata": {},
   "outputs": [
    {
     "name": "stdout",
     "output_type": "stream",
     "text": [
      "<class 'pandas.core.frame.DataFrame'>\n",
      "RangeIndex: 91335 entries, 0 to 91334\n",
      "Data columns (total 29 columns):\n",
      " #   Column     Non-Null Count  Dtype  \n",
      "---  ------     --------------  -----  \n",
      " 0   상가업소번호     91335 non-null  int64  \n",
      " 1   상호명        91335 non-null  object \n",
      " 2   상권업종대분류코드  91335 non-null  object \n",
      " 3   상권업종대분류명   91335 non-null  object \n",
      " 4   상권업종중분류코드  91335 non-null  object \n",
      " 5   상권업종중분류명   91335 non-null  object \n",
      " 6   상권업종소분류코드  91335 non-null  object \n",
      " 7   상권업종소분류명   91335 non-null  object \n",
      " 8   시도명        90956 non-null  object \n",
      " 9   시군구코드      90956 non-null  float64\n",
      " 10  시군구명       90956 non-null  object \n",
      " 11  행정동코드      91335 non-null  int64  \n",
      " 12  행정동명       90956 non-null  object \n",
      " 13  법정동코드      91280 non-null  float64\n",
      " 14  법정동명       91280 non-null  object \n",
      " 15  지번코드       91335 non-null  int64  \n",
      " 16  대지구분코드     91335 non-null  int64  \n",
      " 17  대지구분명      91335 non-null  object \n",
      " 18  지번본번지      91335 non-null  int64  \n",
      " 19  지번주소       91335 non-null  object \n",
      " 20  도로명코드      91335 non-null  int64  \n",
      " 21  도로명        91335 non-null  object \n",
      " 22  건물본번지      91335 non-null  int64  \n",
      " 23  건물관리번호     91335 non-null  object \n",
      " 24  도로명주소      91335 non-null  object \n",
      " 25  구우편번호      91323 non-null  float64\n",
      " 26  신우편번호      91333 non-null  float64\n",
      " 27  경도         91335 non-null  float64\n",
      " 28  위도         91335 non-null  float64\n",
      "dtypes: float64(6), int64(7), object(16)\n",
      "memory usage: 20.2+ MB\n"
     ]
    }
   ],
   "source": [
    "df.info()"
   ]
  },
  {
   "cell_type": "markdown",
   "id": "9b290619",
   "metadata": {},
   "source": [
    "## 1.11 기초 통계값 보기"
   ]
  },
  {
   "cell_type": "markdown",
   "id": "bd0ca09a",
   "metadata": {},
   "source": [
    "### 1.11.1 기초 통계 수치"
   ]
  },
  {
   "cell_type": "code",
   "execution_count": 25,
   "id": "5ac88e03",
   "metadata": {},
   "outputs": [
    {
     "data": {
      "text/plain": [
       "36.62471119236673"
      ]
     },
     "execution_count": 25,
     "metadata": {},
     "output_type": "execute_result"
    }
   ],
   "source": [
    "#평균값\n",
    "df[\"위도\"].mean()"
   ]
  },
  {
   "cell_type": "code",
   "execution_count": 27,
   "id": "06389580",
   "metadata": {},
   "outputs": [
    {
     "data": {
      "text/plain": [
       "37.2346523177033"
      ]
     },
     "execution_count": 27,
     "metadata": {},
     "output_type": "execute_result"
    }
   ],
   "source": [
    "#중앙값\n",
    "df[\"위도\"].median()"
   ]
  },
  {
   "cell_type": "code",
   "execution_count": 28,
   "id": "9bbcfd8a",
   "metadata": {},
   "outputs": [
    {
     "data": {
      "text/plain": [
       "38.4996585705598"
      ]
     },
     "execution_count": 28,
     "metadata": {},
     "output_type": "execute_result"
    }
   ],
   "source": [
    "#최대값\n",
    "df[\"위도\"].max()"
   ]
  },
  {
   "cell_type": "code",
   "execution_count": 29,
   "id": "f5a622c9",
   "metadata": {},
   "outputs": [
    {
     "data": {
      "text/plain": [
       "33.2192896688307"
      ]
     },
     "execution_count": 29,
     "metadata": {},
     "output_type": "execute_result"
    }
   ],
   "source": [
    "#최솟값\n",
    "df[\"위도\"].min()"
   ]
  },
  {
   "cell_type": "code",
   "execution_count": 31,
   "id": "c312039f",
   "metadata": {},
   "outputs": [
    {
     "data": {
      "text/plain": [
       "91335"
      ]
     },
     "execution_count": 31,
     "metadata": {},
     "output_type": "execute_result"
    }
   ],
   "source": [
    "#개수\n",
    "df[\"위도\"].count()"
   ]
  },
  {
   "cell_type": "markdown",
   "id": "774c52cf",
   "metadata": {},
   "source": [
    "### 1.11.2 기초 통계값 요약하기"
   ]
  },
  {
   "cell_type": "code",
   "execution_count": 32,
   "id": "a1bdf009",
   "metadata": {},
   "outputs": [
    {
     "data": {
      "text/plain": [
       "count    91335.000000\n",
       "mean        36.624711\n",
       "std          1.041361\n",
       "min         33.219290\n",
       "25%         35.811830\n",
       "50%         37.234652\n",
       "75%         37.507463\n",
       "max         38.499659\n",
       "Name: 위도, dtype: float64"
      ]
     },
     "execution_count": 32,
     "metadata": {},
     "output_type": "execute_result"
    }
   ],
   "source": [
    "#위도를 describe로 요약\n",
    "df[\"위도\"].describe()"
   ]
  },
  {
   "cell_type": "code",
   "execution_count": 34,
   "id": "861c58ae",
   "metadata": {},
   "outputs": [
    {
     "data": {
      "text/html": [
       "<div>\n",
       "<style scoped>\n",
       "    .dataframe tbody tr th:only-of-type {\n",
       "        vertical-align: middle;\n",
       "    }\n",
       "\n",
       "    .dataframe tbody tr th {\n",
       "        vertical-align: top;\n",
       "    }\n",
       "\n",
       "    .dataframe thead th {\n",
       "        text-align: right;\n",
       "    }\n",
       "</style>\n",
       "<table border=\"1\" class=\"dataframe\">\n",
       "  <thead>\n",
       "    <tr style=\"text-align: right;\">\n",
       "      <th></th>\n",
       "      <th>위도</th>\n",
       "      <th>경도</th>\n",
       "    </tr>\n",
       "  </thead>\n",
       "  <tbody>\n",
       "    <tr>\n",
       "      <th>count</th>\n",
       "      <td>91335.000000</td>\n",
       "      <td>91335.000000</td>\n",
       "    </tr>\n",
       "    <tr>\n",
       "      <th>mean</th>\n",
       "      <td>36.624711</td>\n",
       "      <td>127.487524</td>\n",
       "    </tr>\n",
       "    <tr>\n",
       "      <th>std</th>\n",
       "      <td>1.041361</td>\n",
       "      <td>0.842877</td>\n",
       "    </tr>\n",
       "    <tr>\n",
       "      <th>min</th>\n",
       "      <td>33.219290</td>\n",
       "      <td>124.717632</td>\n",
       "    </tr>\n",
       "    <tr>\n",
       "      <th>25%</th>\n",
       "      <td>35.811830</td>\n",
       "      <td>126.914297</td>\n",
       "    </tr>\n",
       "    <tr>\n",
       "      <th>50%</th>\n",
       "      <td>37.234652</td>\n",
       "      <td>127.084550</td>\n",
       "    </tr>\n",
       "    <tr>\n",
       "      <th>75%</th>\n",
       "      <td>37.507463</td>\n",
       "      <td>128.108919</td>\n",
       "    </tr>\n",
       "    <tr>\n",
       "      <th>max</th>\n",
       "      <td>38.499659</td>\n",
       "      <td>130.909912</td>\n",
       "    </tr>\n",
       "  </tbody>\n",
       "</table>\n",
       "</div>"
      ],
      "text/plain": [
       "                 위도            경도\n",
       "count  91335.000000  91335.000000\n",
       "mean      36.624711    127.487524\n",
       "std        1.041361      0.842877\n",
       "min       33.219290    124.717632\n",
       "25%       35.811830    126.914297\n",
       "50%       37.234652    127.084550\n",
       "75%       37.507463    128.108919\n",
       "max       38.499659    130.909912"
      ]
     },
     "execution_count": 34,
     "metadata": {},
     "output_type": "execute_result"
    }
   ],
   "source": [
    "#2개의 컬럼을 Describe로 요약\n",
    "df[[\"위도\", \"경도\"]].describe()"
   ]
  },
  {
   "cell_type": "code",
   "execution_count": 36,
   "id": "ac1de401",
   "metadata": {},
   "outputs": [
    {
     "data": {
      "text/html": [
       "<div>\n",
       "<style scoped>\n",
       "    .dataframe tbody tr th:only-of-type {\n",
       "        vertical-align: middle;\n",
       "    }\n",
       "\n",
       "    .dataframe tbody tr th {\n",
       "        vertical-align: top;\n",
       "    }\n",
       "\n",
       "    .dataframe thead th {\n",
       "        text-align: right;\n",
       "    }\n",
       "</style>\n",
       "<table border=\"1\" class=\"dataframe\">\n",
       "  <thead>\n",
       "    <tr style=\"text-align: right;\">\n",
       "      <th></th>\n",
       "      <th>상호명</th>\n",
       "      <th>상권업종대분류코드</th>\n",
       "      <th>상권업종대분류명</th>\n",
       "      <th>상권업종중분류코드</th>\n",
       "      <th>상권업종중분류명</th>\n",
       "      <th>상권업종소분류코드</th>\n",
       "      <th>상권업종소분류명</th>\n",
       "      <th>시도명</th>\n",
       "      <th>시군구명</th>\n",
       "      <th>행정동명</th>\n",
       "      <th>법정동명</th>\n",
       "      <th>대지구분명</th>\n",
       "      <th>지번주소</th>\n",
       "      <th>도로명</th>\n",
       "      <th>건물관리번호</th>\n",
       "      <th>도로명주소</th>\n",
       "    </tr>\n",
       "  </thead>\n",
       "  <tbody>\n",
       "    <tr>\n",
       "      <th>count</th>\n",
       "      <td>91335</td>\n",
       "      <td>91335</td>\n",
       "      <td>91335</td>\n",
       "      <td>91335</td>\n",
       "      <td>91335</td>\n",
       "      <td>91335</td>\n",
       "      <td>91335</td>\n",
       "      <td>90956</td>\n",
       "      <td>90956</td>\n",
       "      <td>90956</td>\n",
       "      <td>91280</td>\n",
       "      <td>91335</td>\n",
       "      <td>91335</td>\n",
       "      <td>91335</td>\n",
       "      <td>91335</td>\n",
       "      <td>91335</td>\n",
       "    </tr>\n",
       "    <tr>\n",
       "      <th>unique</th>\n",
       "      <td>56910</td>\n",
       "      <td>1</td>\n",
       "      <td>1</td>\n",
       "      <td>5</td>\n",
       "      <td>5</td>\n",
       "      <td>34</td>\n",
       "      <td>34</td>\n",
       "      <td>17</td>\n",
       "      <td>228</td>\n",
       "      <td>2791</td>\n",
       "      <td>2822</td>\n",
       "      <td>2</td>\n",
       "      <td>53118</td>\n",
       "      <td>16610</td>\n",
       "      <td>54142</td>\n",
       "      <td>54031</td>\n",
       "    </tr>\n",
       "    <tr>\n",
       "      <th>top</th>\n",
       "      <td>리원</td>\n",
       "      <td>S</td>\n",
       "      <td>의료</td>\n",
       "      <td>S01</td>\n",
       "      <td>병원</td>\n",
       "      <td>S02A01</td>\n",
       "      <td>약국</td>\n",
       "      <td>경기도</td>\n",
       "      <td>서구</td>\n",
       "      <td>중앙동</td>\n",
       "      <td>중동</td>\n",
       "      <td>대지</td>\n",
       "      <td>서울특별시 동대문구 제기동 965-1</td>\n",
       "      <td>서울특별시 강남구 강남대로</td>\n",
       "      <td>1123010300109650001031604</td>\n",
       "      <td>서울특별시 동대문구 약령중앙로8길 10</td>\n",
       "    </tr>\n",
       "    <tr>\n",
       "      <th>freq</th>\n",
       "      <td>152</td>\n",
       "      <td>91335</td>\n",
       "      <td>91335</td>\n",
       "      <td>60774</td>\n",
       "      <td>60774</td>\n",
       "      <td>18964</td>\n",
       "      <td>18964</td>\n",
       "      <td>21374</td>\n",
       "      <td>3165</td>\n",
       "      <td>1856</td>\n",
       "      <td>874</td>\n",
       "      <td>91213</td>\n",
       "      <td>198</td>\n",
       "      <td>326</td>\n",
       "      <td>198</td>\n",
       "      <td>198</td>\n",
       "    </tr>\n",
       "  </tbody>\n",
       "</table>\n",
       "</div>"
      ],
      "text/plain": [
       "          상호명 상권업종대분류코드 상권업종대분류명 상권업종중분류코드 상권업종중분류명 상권업종소분류코드 상권업종소분류명    시도명  \\\n",
       "count   91335     91335    91335     91335    91335     91335    91335  90956   \n",
       "unique  56910         1        1         5        5        34       34     17   \n",
       "top        리원         S       의료       S01       병원    S02A01       약국    경기도   \n",
       "freq      152     91335    91335     60774    60774     18964    18964  21374   \n",
       "\n",
       "         시군구명   행정동명   법정동명  대지구분명                  지번주소             도로명  \\\n",
       "count   90956  90956  91280  91335                 91335           91335   \n",
       "unique    228   2791   2822      2                 53118           16610   \n",
       "top        서구    중앙동     중동     대지  서울특별시 동대문구 제기동 965-1  서울특별시 강남구 강남대로   \n",
       "freq     3165   1856    874  91213                   198             326   \n",
       "\n",
       "                           건물관리번호                  도로명주소  \n",
       "count                       91335                  91335  \n",
       "unique                      54142                  54031  \n",
       "top     1123010300109650001031604  서울특별시 동대문구 약령중앙로8길 10  \n",
       "freq                          198                    198  "
      ]
     },
     "execution_count": 36,
     "metadata": {},
     "output_type": "execute_result"
    }
   ],
   "source": [
    "#describe로 문자열 데이터타입의 요약 보기\n",
    "df.describe(include=\"object\")\n",
    "\n",
    "#top: 가장 많이 등장한\n",
    "#freq: 가장 많이 등장한 거 count\n",
    "#결측치는 제외하고 보여지게 됨(default)"
   ]
  },
  {
   "cell_type": "markdown",
   "id": "5b81dfab",
   "metadata": {},
   "source": [
    "### 1.11.3 중복제거한 값 보기"
   ]
  },
  {
   "cell_type": "code",
   "execution_count": 37,
   "id": "236f3327",
   "metadata": {},
   "outputs": [],
   "source": [
    "#unique로 중복을 제거한 값을 보고 nunique를 사용해서 갯수를 세어보자!"
   ]
  },
  {
   "cell_type": "code",
   "execution_count": 38,
   "id": "6fce71ec",
   "metadata": {},
   "outputs": [
    {
     "data": {
      "text/plain": [
       "array(['의료'], dtype=object)"
      ]
     },
     "execution_count": 38,
     "metadata": {},
     "output_type": "execute_result"
    }
   ],
   "source": [
    "df[\"상권업종대분류명\"].unique()"
   ]
  },
  {
   "cell_type": "code",
   "execution_count": 39,
   "id": "257e4399",
   "metadata": {},
   "outputs": [
    {
     "data": {
      "text/plain": [
       "1"
      ]
     },
     "execution_count": 39,
     "metadata": {},
     "output_type": "execute_result"
    }
   ],
   "source": [
    "df[\"상권업종대분류명\"].nunique()"
   ]
  },
  {
   "cell_type": "code",
   "execution_count": 41,
   "id": "0017f63f",
   "metadata": {},
   "outputs": [
    {
     "data": {
      "text/plain": [
       "array(['병원', '약국/한약방', '수의업', '유사의료업', '의료관련서비스업'], dtype=object)"
      ]
     },
     "execution_count": 41,
     "metadata": {},
     "output_type": "execute_result"
    }
   ],
   "source": [
    "df[\"상권업종중분류명\"].unique()"
   ]
  },
  {
   "cell_type": "code",
   "execution_count": 42,
   "id": "1b68f319",
   "metadata": {},
   "outputs": [
    {
     "data": {
      "text/plain": [
       "5"
      ]
     },
     "execution_count": 42,
     "metadata": {},
     "output_type": "execute_result"
    }
   ],
   "source": [
    "df[\"상권업종중분류명\"].nunique()"
   ]
  },
  {
   "cell_type": "code",
   "execution_count": 43,
   "id": "4cbd4679",
   "metadata": {},
   "outputs": [
    {
     "data": {
      "text/plain": [
       "array(['산부인과', '내과/외과', '신경외과', '기타병원', '약국', '동물병원', '한약방', '탕제원',\n",
       "       '정형/성형외과', '소아과', '이비인후과의원', '노인/치매병원', '언어치료', '수의업-종합', '한의원',\n",
       "       '치과의원', '침구원', '일반병원', '안과의원', '조산원', '한방병원', '종합병원', '유사의료업기타',\n",
       "       '응급구조대', '혈액원', '치과병원', '척추교정치료', '피부과', '비뇨기과', '치과기공소', '산후조리원',\n",
       "       '접골원', '수의업-기타', '제대혈'], dtype=object)"
      ]
     },
     "execution_count": 43,
     "metadata": {},
     "output_type": "execute_result"
    }
   ],
   "source": [
    "df[\"상권업종소분류명\"].unique()"
   ]
  },
  {
   "cell_type": "code",
   "execution_count": 44,
   "id": "e3884c2a",
   "metadata": {},
   "outputs": [
    {
     "data": {
      "text/plain": [
       "34"
      ]
     },
     "execution_count": 44,
     "metadata": {},
     "output_type": "execute_result"
    }
   ],
   "source": [
    "df[\"상권업종소분류명\"].nunique()"
   ]
  },
  {
   "cell_type": "code",
   "execution_count": 48,
   "id": "c1153449",
   "metadata": {},
   "outputs": [
    {
     "data": {
      "text/plain": [
       "34"
      ]
     },
     "execution_count": 48,
     "metadata": {},
     "output_type": "execute_result"
    }
   ],
   "source": [
    "len(df[\"상권업종소분류명\"].unique())"
   ]
  },
  {
   "cell_type": "markdown",
   "id": "5d28e8c7",
   "metadata": {},
   "source": [
    "### 1.11.4 그룹화된 요약값 보기"
   ]
  },
  {
   "cell_type": "code",
   "execution_count": 49,
   "id": "7c599e22",
   "metadata": {},
   "outputs": [
    {
     "data": {
      "text/plain": [
       "0      경기도\n",
       "1    서울특별시\n",
       "2      경기도\n",
       "3    부산광역시\n",
       "4      경기도\n",
       "Name: 시도명, dtype: object"
      ]
     },
     "execution_count": 49,
     "metadata": {},
     "output_type": "execute_result"
    }
   ],
   "source": [
    "df[\"시도명\"].head()"
   ]
  },
  {
   "cell_type": "code",
   "execution_count": 53,
   "id": "bc46690e",
   "metadata": {},
   "outputs": [],
   "source": [
    "city = df[\"시도명\"].value_counts()"
   ]
  },
  {
   "cell_type": "code",
   "execution_count": 54,
   "id": "ddc6126e",
   "metadata": {},
   "outputs": [],
   "source": [
    "city_normalize = df[\"시도명\"].value_counts(normalize=True)"
   ]
  },
  {
   "cell_type": "code",
   "execution_count": 56,
   "id": "036b297d",
   "metadata": {},
   "outputs": [
    {
     "data": {
      "text/plain": [
       "<AxesSubplot:>"
      ]
     },
     "execution_count": 56,
     "metadata": {},
     "output_type": "execute_result"
    },
    {
     "data": {
      "image/png": "[encoded data removed]",
      "text/plain": [
       "<Figure size 432x288 with 1 Axes>"
      ]
     },
     "metadata": {
      "image/png": {
       "height": 248,
       "width": 426
      },
      "needs_background": "light"
     },
     "output_type": "display_data"
    }
   ],
   "source": [
    "city.plot.barh()"
   ]
  },
  {
   "cell_type": "code",
   "execution_count": 57,
   "id": "ad59017e",
   "metadata": {},
   "outputs": [
    {
     "name": "stderr",
     "output_type": "stream",
     "text": [
      "/opt/anaconda3/lib/python3.8/site-packages/pandas/plotting/_matplotlib/core.py:1583: MatplotlibDeprecationWarning: normalize=None does not normalize if the sum is less than 1 but this behavior is deprecated since 3.3 until two minor releases later. After the deprecation period the default value will be normalize=True. To prevent normalization pass normalize=False \n",
      "  results = ax.pie(y, labels=blabels, **kwds)\n"
     ]
    },
    {
     "data": {
      "text/plain": [
       "<AxesSubplot:ylabel='시도명'>"
      ]
     },
     "execution_count": 57,
     "metadata": {},
     "output_type": "execute_result"
    },
    {
     "data": {
      "image/png": "[encoded data removed]",
      "text/plain": [
       "<Figure size 504x504 with 1 Axes>"
      ]
     },
     "metadata": {
      "image/png": {
       "height": 394,
       "width": 467
      }
     },
     "output_type": "display_data"
    }
   ],
   "source": [
    "city_normalize.plot.pie(figsize=(7,7))"
   ]
  },
  {
   "cell_type": "code",
   "execution_count": null,
   "id": "ebf1f6fe",
   "metadata": {},
   "outputs": [],
   "source": []
  }
 ],
 "metadata": {
  "hide_input": false,
  "kernelspec": {
   "display_name": "Python 3",
   "language": "python",
   "name": "python3"
  },
  "language_info": {
   "codemirror_mode": {
    "name": "ipython",
    "version": 3
   },
   "file_extension": ".py",
   "mimetype": "text/x-python",
   "name": "python",
   "nbconvert_exporter": "python",
   "pygments_lexer": "ipython3",
   "version": "3.8.8"
  },
  "toc": {
   "base_numbering": 1,
   "nav_menu": {},
   "number_sections": false,
   "sideBar": true,
   "skip_h1_title": false,
   "title_cell": "Table of Contents",
   "title_sidebar": "Contents",
   "toc_cell": false,
   "toc_position": {},
   "toc_section_display": true,
   "toc_window_display": false
  },
  "varInspector": {
   "cols": {
    "lenName": 16,
    "lenType": 16,
    "lenVar": 40
   },
   "kernels_config": {
    "python": {
     "delete_cmd_postfix": "",
     "delete_cmd_prefix": "del ",
     "library": "var_list.py",
     "varRefreshCmd": "print(var_dic_list())"
    },
    "r": {
     "delete_cmd_postfix": ") ",
     "delete_cmd_prefix": "rm(",
     "library": "var_list.r",
     "varRefreshCmd": "cat(var_dic_list()) "
    }
   },
   "types_to_exclude": [
    "module",
    "function",
    "builtin_function_or_method",
    "instance",
    "_Feature"
   ],
   "window_display": false
  }
 },
 "nbformat": 4,
 "nbformat_minor": 5
}
