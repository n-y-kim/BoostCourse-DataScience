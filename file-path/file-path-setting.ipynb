{
 "cells": [
  {
   "cell_type": "code",
   "execution_count": 1,
   "id": "b51fd268",
   "metadata": {},
   "outputs": [],
   "source": [
    "%mv /Users/nayeonkim/Downloads/한국언론진흥재단_코로나19이후국민의일상변화조사_코로나19로\\ 인한\\ 감정\\ 변화_20201231.csv ."
   ]
  },
  {
   "cell_type": "code",
   "execution_count": 7,
   "id": "79aed708",
   "metadata": {},
   "outputs": [
    {
     "data": {
      "text/plain": [
       "'/Users/nayeonkim/Desktop/Dongguk/Naver Boost Course(Data Science)/file-path'"
      ]
     },
     "execution_count": 7,
     "metadata": {},
     "output_type": "execute_result"
    }
   ],
   "source": [
    "%pwd"
   ]
  },
  {
   "cell_type": "code",
   "execution_count": 2,
   "id": "b83666f1",
   "metadata": {},
   "outputs": [
    {
     "name": "stdout",
     "output_type": "stream",
     "text": [
      "file-path-setting.ipynb\r\n",
      "한국언론진흥재단_코로나19이후국민의일상변화조사_코로나19로 인한 감정 변ᄒ.csv\r\n"
     ]
    }
   ],
   "source": [
    "%ls"
   ]
  },
  {
   "cell_type": "code",
   "execution_count": 3,
   "id": "e8fba4d2",
   "metadata": {},
   "outputs": [],
   "source": [
    "import pandas as pd"
   ]
  },
  {
   "cell_type": "code",
   "execution_count": 6,
   "id": "6dee83d5",
   "metadata": {},
   "outputs": [
    {
     "data": {
      "text/html": [
       "<div>\n",
       "<style scoped>\n",
       "    .dataframe tbody tr th:only-of-type {\n",
       "        vertical-align: middle;\n",
       "    }\n",
       "\n",
       "    .dataframe tbody tr th {\n",
       "        vertical-align: top;\n",
       "    }\n",
       "\n",
       "    .dataframe thead th {\n",
       "        text-align: right;\n",
       "    }\n",
       "</style>\n",
       "<table border=\"1\" class=\"dataframe\">\n",
       "  <thead>\n",
       "    <tr style=\"text-align: right;\">\n",
       "      <th></th>\n",
       "      <th>항목</th>\n",
       "      <th>증가</th>\n",
       "      <th>변화 없음</th>\n",
       "      <th>감소</th>\n",
       "    </tr>\n",
       "  </thead>\n",
       "  <tbody>\n",
       "    <tr>\n",
       "      <th>0</th>\n",
       "      <td>걱정 또는 스트레스</td>\n",
       "      <td>78.0</td>\n",
       "      <td>19.0</td>\n",
       "      <td>3.0</td>\n",
       "    </tr>\n",
       "    <tr>\n",
       "      <th>1</th>\n",
       "      <td>불안 또는 두려움</td>\n",
       "      <td>65.4</td>\n",
       "      <td>30.2</td>\n",
       "      <td>4.4</td>\n",
       "    </tr>\n",
       "    <tr>\n",
       "      <th>2</th>\n",
       "      <td>짜증 또는 화</td>\n",
       "      <td>60.8</td>\n",
       "      <td>35.5</td>\n",
       "      <td>3.7</td>\n",
       "    </tr>\n",
       "    <tr>\n",
       "      <th>3</th>\n",
       "      <td>분노 또는 혐오</td>\n",
       "      <td>59.5</td>\n",
       "      <td>36.5</td>\n",
       "      <td>4.0</td>\n",
       "    </tr>\n",
       "    <tr>\n",
       "      <th>4</th>\n",
       "      <td>무기력감 또는 좌절감</td>\n",
       "      <td>52.4</td>\n",
       "      <td>43.0</td>\n",
       "      <td>4.6</td>\n",
       "    </tr>\n",
       "    <tr>\n",
       "      <th>5</th>\n",
       "      <td>외로움 또는 우울함</td>\n",
       "      <td>46.4</td>\n",
       "      <td>50.4</td>\n",
       "      <td>3.2</td>\n",
       "    </tr>\n",
       "    <tr>\n",
       "      <th>6</th>\n",
       "      <td>자긍심 또는 자부심</td>\n",
       "      <td>35.4</td>\n",
       "      <td>40.3</td>\n",
       "      <td>24.3</td>\n",
       "    </tr>\n",
       "    <tr>\n",
       "      <th>7</th>\n",
       "      <td>감사함 또는 안도감</td>\n",
       "      <td>29.3</td>\n",
       "      <td>46.1</td>\n",
       "      <td>24.6</td>\n",
       "    </tr>\n",
       "  </tbody>\n",
       "</table>\n",
       "</div>"
      ],
      "text/plain": [
       "            항목    증가  변화 없음    감소\n",
       "0   걱정 또는 스트레스  78.0   19.0   3.0\n",
       "1    불안 또는 두려움  65.4   30.2   4.4\n",
       "2      짜증 또는 화  60.8   35.5   3.7\n",
       "3     분노 또는 혐오  59.5   36.5   4.0\n",
       "4  무기력감 또는 좌절감  52.4   43.0   4.6\n",
       "5   외로움 또는 우울함  46.4   50.4   3.2\n",
       "6   자긍심 또는 자부심  35.4   40.3  24.3\n",
       "7   감사함 또는 안도감  29.3   46.1  24.6"
      ]
     },
     "execution_count": 6,
     "metadata": {},
     "output_type": "execute_result"
    }
   ],
   "source": [
    "pd.read_csv(\"data/한국언론진흥재단_코로나19이후국민의일상변화조사_코로나19로 인한 감정 변ᄒ.csv\", encoding=\"cp949\")"
   ]
  },
  {
   "cell_type": "code",
   "execution_count": 9,
   "id": "e5fbba70",
   "metadata": {},
   "outputs": [
    {
     "data": {
      "text/plain": [
       "False"
      ]
     },
     "execution_count": 9,
     "metadata": {},
     "output_type": "execute_result"
    }
   ],
   "source": [
    "True == \"1\""
   ]
  },
  {
   "cell_type": "code",
   "execution_count": 10,
   "id": "6af71a57",
   "metadata": {},
   "outputs": [
    {
     "name": "stdout",
     "output_type": "stream",
     "text": [
      "0 python\n",
      "1 c\n",
      "2 java\n"
     ]
    }
   ],
   "source": [
    "arr = [\"python\", \"c\", \"java\"]\n",
    "for i, val in enumerate(arr):\n",
    "    print(i, val)"
   ]
  },
  {
   "cell_type": "code",
   "execution_count": null,
   "id": "28ab6110",
   "metadata": {},
   "outputs": [],
   "source": []
  }
 ],
 "metadata": {
  "kernelspec": {
   "display_name": "Python 3",
   "language": "python",
   "name": "python3"
  },
  "language_info": {
   "codemirror_mode": {
    "name": "ipython",
    "version": 3
   },
   "file_extension": ".py",
   "mimetype": "text/x-python",
   "name": "python",
   "nbconvert_exporter": "python",
   "pygments_lexer": "ipython3",
   "version": "3.8.8"
  }
 },
 "nbformat": 4,
 "nbformat_minor": 5
}
