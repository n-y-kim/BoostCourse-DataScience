{
 "cells": [
  {
   "cell_type": "code",
   "execution_count": 1,
   "id": "234d56b7",
   "metadata": {},
   "outputs": [],
   "source": [
    "import numpy as np"
   ]
  },
  {
   "cell_type": "code",
   "execution_count": 2,
   "id": "273d18da",
   "metadata": {},
   "outputs": [],
   "source": [
    "import pandas as pd"
   ]
  },
  {
   "cell_type": "markdown",
   "id": "cb4a91dc",
   "metadata": {},
   "source": [
    "## Intro to data structures\n",
    "### Series"
   ]
  },
  {
   "cell_type": "code",
   "execution_count": 3,
   "id": "2df48384",
   "metadata": {},
   "outputs": [],
   "source": [
    "s = pd.Series(np.random.randn(5), index = [\"a\",\"b\",\"c\",\"d\",\"e\"])"
   ]
  },
  {
   "cell_type": "code",
   "execution_count": 4,
   "id": "1f2b66ad",
   "metadata": {},
   "outputs": [
    {
     "data": {
      "text/plain": [
       "a    0.138713\n",
       "b    0.598098\n",
       "c   -1.100923\n",
       "d    0.429065\n",
       "e   -0.830120\n",
       "dtype: float64"
      ]
     },
     "execution_count": 4,
     "metadata": {},
     "output_type": "execute_result"
    }
   ],
   "source": [
    "s"
   ]
  },
  {
   "cell_type": "code",
   "execution_count": 5,
   "id": "620b520b",
   "metadata": {},
   "outputs": [
    {
     "data": {
      "text/plain": [
       "Index(['a', 'b', 'c', 'd', 'e'], dtype='object')"
      ]
     },
     "execution_count": 5,
     "metadata": {},
     "output_type": "execute_result"
    }
   ],
   "source": [
    "s.index"
   ]
  },
  {
   "cell_type": "code",
   "execution_count": 23,
   "id": "92b7f509",
   "metadata": {},
   "outputs": [
    {
     "data": {
      "text/plain": [
       "0   -0.205657\n",
       "1   -0.549800\n",
       "2    1.232197\n",
       "3    0.285916\n",
       "4    0.862899\n",
       "dtype: float64"
      ]
     },
     "execution_count": 23,
     "metadata": {},
     "output_type": "execute_result"
    }
   ],
   "source": [
    "pd.Series(np.random.randn(5))\n",
    "#if no index is passed, it will make integer index by itself"
   ]
  },
  {
   "cell_type": "markdown",
   "id": "f32e5d9f",
   "metadata": {},
   "source": [
    "## Object Creation"
   ]
  },
  {
   "cell_type": "code",
   "execution_count": 7,
   "id": "8f3cb334",
   "metadata": {},
   "outputs": [],
   "source": [
    "s = pd.Series([1,3,5,np.nan, 6, 8])\n",
    "# what is nan? -> NaN is short for Not a number"
   ]
  },
  {
   "cell_type": "code",
   "execution_count": 8,
   "id": "019e20e3",
   "metadata": {},
   "outputs": [
    {
     "data": {
      "text/plain": [
       "0    1.0\n",
       "1    3.0\n",
       "2    5.0\n",
       "3    NaN\n",
       "4    6.0\n",
       "5    8.0\n",
       "dtype: float64"
      ]
     },
     "execution_count": 8,
     "metadata": {},
     "output_type": "execute_result"
    }
   ],
   "source": [
    "s"
   ]
  },
  {
   "cell_type": "code",
   "execution_count": 9,
   "id": "13b80767",
   "metadata": {},
   "outputs": [],
   "source": [
    "dates = pd.date_range(\"20210801\", periods = 6)"
   ]
  },
  {
   "cell_type": "code",
   "execution_count": 10,
   "id": "7bb6db70",
   "metadata": {},
   "outputs": [
    {
     "data": {
      "text/plain": [
       "DatetimeIndex(['2021-08-01', '2021-08-02', '2021-08-03', '2021-08-04',\n",
       "               '2021-08-05', '2021-08-06'],\n",
       "              dtype='datetime64[ns]', freq='D')"
      ]
     },
     "execution_count": 10,
     "metadata": {},
     "output_type": "execute_result"
    }
   ],
   "source": [
    "dates"
   ]
  },
  {
   "cell_type": "code",
   "execution_count": 11,
   "id": "4881de43",
   "metadata": {},
   "outputs": [],
   "source": [
    "df = pd.DataFrame(np.random.randn(6,4), index=dates, columns=list(\"ABCD\"))"
   ]
  },
  {
   "cell_type": "code",
   "execution_count": 12,
   "id": "c954a377",
   "metadata": {},
   "outputs": [
    {
     "data": {
      "text/html": [
       "<div>\n",
       "<style scoped>\n",
       "    .dataframe tbody tr th:only-of-type {\n",
       "        vertical-align: middle;\n",
       "    }\n",
       "\n",
       "    .dataframe tbody tr th {\n",
       "        vertical-align: top;\n",
       "    }\n",
       "\n",
       "    .dataframe thead th {\n",
       "        text-align: right;\n",
       "    }\n",
       "</style>\n",
       "<table border=\"1\" class=\"dataframe\">\n",
       "  <thead>\n",
       "    <tr style=\"text-align: right;\">\n",
       "      <th></th>\n",
       "      <th>A</th>\n",
       "      <th>B</th>\n",
       "      <th>C</th>\n",
       "      <th>D</th>\n",
       "    </tr>\n",
       "  </thead>\n",
       "  <tbody>\n",
       "    <tr>\n",
       "      <th>2021-08-01</th>\n",
       "      <td>-1.363362</td>\n",
       "      <td>-1.618411</td>\n",
       "      <td>0.900184</td>\n",
       "      <td>-0.638690</td>\n",
       "    </tr>\n",
       "    <tr>\n",
       "      <th>2021-08-02</th>\n",
       "      <td>-0.962103</td>\n",
       "      <td>1.014477</td>\n",
       "      <td>-0.212021</td>\n",
       "      <td>0.504209</td>\n",
       "    </tr>\n",
       "    <tr>\n",
       "      <th>2021-08-03</th>\n",
       "      <td>-0.647128</td>\n",
       "      <td>-0.032876</td>\n",
       "      <td>-0.634831</td>\n",
       "      <td>-1.624977</td>\n",
       "    </tr>\n",
       "    <tr>\n",
       "      <th>2021-08-04</th>\n",
       "      <td>-0.295441</td>\n",
       "      <td>-2.847912</td>\n",
       "      <td>-0.072864</td>\n",
       "      <td>-0.106676</td>\n",
       "    </tr>\n",
       "    <tr>\n",
       "      <th>2021-08-05</th>\n",
       "      <td>0.961947</td>\n",
       "      <td>-1.784362</td>\n",
       "      <td>1.289450</td>\n",
       "      <td>0.066986</td>\n",
       "    </tr>\n",
       "    <tr>\n",
       "      <th>2021-08-06</th>\n",
       "      <td>-0.869421</td>\n",
       "      <td>1.091763</td>\n",
       "      <td>1.082725</td>\n",
       "      <td>-0.459594</td>\n",
       "    </tr>\n",
       "  </tbody>\n",
       "</table>\n",
       "</div>"
      ],
      "text/plain": [
       "                   A         B         C         D\n",
       "2021-08-01 -1.363362 -1.618411  0.900184 -0.638690\n",
       "2021-08-02 -0.962103  1.014477 -0.212021  0.504209\n",
       "2021-08-03 -0.647128 -0.032876 -0.634831 -1.624977\n",
       "2021-08-04 -0.295441 -2.847912 -0.072864 -0.106676\n",
       "2021-08-05  0.961947 -1.784362  1.289450  0.066986\n",
       "2021-08-06 -0.869421  1.091763  1.082725 -0.459594"
      ]
     },
     "execution_count": 12,
     "metadata": {},
     "output_type": "execute_result"
    }
   ],
   "source": [
    "df"
   ]
  },
  {
   "cell_type": "code",
   "execution_count": 17,
   "id": "ebeb3e6f",
   "metadata": {},
   "outputs": [],
   "source": [
    "df2 = pd.DataFrame({\n",
    "    \"A\": 1.0,\n",
    "    \"B\": pd.Timestamp(\"20210801\"),\n",
    "    \"C\": pd.Series(1, index=list(range(4)), dtype=\"float32\"),\n",
    "    \"D\": np.array([3]*4, dtype=\"int32\"),\n",
    "    \"E\": pd.Categorical([\"test\",\"train\",\"test\",\"train\"]),\n",
    "    \"F\": \"foo\",\n",
    "})"
   ]
  },
  {
   "cell_type": "code",
   "execution_count": 18,
   "id": "90ebe4ed",
   "metadata": {},
   "outputs": [
    {
     "data": {
      "text/html": [
       "<div>\n",
       "<style scoped>\n",
       "    .dataframe tbody tr th:only-of-type {\n",
       "        vertical-align: middle;\n",
       "    }\n",
       "\n",
       "    .dataframe tbody tr th {\n",
       "        vertical-align: top;\n",
       "    }\n",
       "\n",
       "    .dataframe thead th {\n",
       "        text-align: right;\n",
       "    }\n",
       "</style>\n",
       "<table border=\"1\" class=\"dataframe\">\n",
       "  <thead>\n",
       "    <tr style=\"text-align: right;\">\n",
       "      <th></th>\n",
       "      <th>A</th>\n",
       "      <th>B</th>\n",
       "      <th>C</th>\n",
       "      <th>D</th>\n",
       "      <th>E</th>\n",
       "      <th>F</th>\n",
       "    </tr>\n",
       "  </thead>\n",
       "  <tbody>\n",
       "    <tr>\n",
       "      <th>0</th>\n",
       "      <td>1.0</td>\n",
       "      <td>2021-08-01</td>\n",
       "      <td>1.0</td>\n",
       "      <td>3</td>\n",
       "      <td>test</td>\n",
       "      <td>foo</td>\n",
       "    </tr>\n",
       "    <tr>\n",
       "      <th>1</th>\n",
       "      <td>1.0</td>\n",
       "      <td>2021-08-01</td>\n",
       "      <td>1.0</td>\n",
       "      <td>3</td>\n",
       "      <td>train</td>\n",
       "      <td>foo</td>\n",
       "    </tr>\n",
       "    <tr>\n",
       "      <th>2</th>\n",
       "      <td>1.0</td>\n",
       "      <td>2021-08-01</td>\n",
       "      <td>1.0</td>\n",
       "      <td>3</td>\n",
       "      <td>test</td>\n",
       "      <td>foo</td>\n",
       "    </tr>\n",
       "    <tr>\n",
       "      <th>3</th>\n",
       "      <td>1.0</td>\n",
       "      <td>2021-08-01</td>\n",
       "      <td>1.0</td>\n",
       "      <td>3</td>\n",
       "      <td>train</td>\n",
       "      <td>foo</td>\n",
       "    </tr>\n",
       "  </tbody>\n",
       "</table>\n",
       "</div>"
      ],
      "text/plain": [
       "     A          B    C  D      E    F\n",
       "0  1.0 2021-08-01  1.0  3   test  foo\n",
       "1  1.0 2021-08-01  1.0  3  train  foo\n",
       "2  1.0 2021-08-01  1.0  3   test  foo\n",
       "3  1.0 2021-08-01  1.0  3  train  foo"
      ]
     },
     "execution_count": 18,
     "metadata": {},
     "output_type": "execute_result"
    }
   ],
   "source": [
    "df2"
   ]
  },
  {
   "cell_type": "code",
   "execution_count": 20,
   "id": "108df390",
   "metadata": {},
   "outputs": [
    {
     "data": {
      "text/plain": [
       "A           float64\n",
       "B    datetime64[ns]\n",
       "C           float32\n",
       "D             int32\n",
       "E          category\n",
       "F            object\n",
       "dtype: object"
      ]
     },
     "execution_count": 20,
     "metadata": {},
     "output_type": "execute_result"
    }
   ],
   "source": [
    "df2.dtypes"
   ]
  },
  {
   "cell_type": "code",
   "execution_count": 21,
   "id": "f99db7c4",
   "metadata": {},
   "outputs": [
    {
     "data": {
      "text/plain": [
       "0    1.0\n",
       "1    1.0\n",
       "2    1.0\n",
       "3    1.0\n",
       "Name: A, dtype: float64"
      ]
     },
     "execution_count": 21,
     "metadata": {},
     "output_type": "execute_result"
    }
   ],
   "source": [
    "df2.A"
   ]
  },
  {
   "cell_type": "code",
   "execution_count": 22,
   "id": "f30313cd",
   "metadata": {},
   "outputs": [
    {
     "data": {
      "text/plain": [
       "0     test\n",
       "1    train\n",
       "2     test\n",
       "3    train\n",
       "Name: E, dtype: category\n",
       "Categories (2, object): ['test', 'train']"
      ]
     },
     "execution_count": 22,
     "metadata": {},
     "output_type": "execute_result"
    }
   ],
   "source": [
    "df2.E"
   ]
  },
  {
   "cell_type": "markdown",
   "id": "f4976328",
   "metadata": {},
   "source": [
    "## Viewing data"
   ]
  },
  {
   "cell_type": "code",
   "execution_count": 24,
   "id": "ad4a7c74",
   "metadata": {},
   "outputs": [
    {
     "data": {
      "text/html": [
       "<div>\n",
       "<style scoped>\n",
       "    .dataframe tbody tr th:only-of-type {\n",
       "        vertical-align: middle;\n",
       "    }\n",
       "\n",
       "    .dataframe tbody tr th {\n",
       "        vertical-align: top;\n",
       "    }\n",
       "\n",
       "    .dataframe thead th {\n",
       "        text-align: right;\n",
       "    }\n",
       "</style>\n",
       "<table border=\"1\" class=\"dataframe\">\n",
       "  <thead>\n",
       "    <tr style=\"text-align: right;\">\n",
       "      <th></th>\n",
       "      <th>A</th>\n",
       "      <th>B</th>\n",
       "      <th>C</th>\n",
       "      <th>D</th>\n",
       "    </tr>\n",
       "  </thead>\n",
       "  <tbody>\n",
       "    <tr>\n",
       "      <th>2021-08-01</th>\n",
       "      <td>-1.363362</td>\n",
       "      <td>-1.618411</td>\n",
       "      <td>0.900184</td>\n",
       "      <td>-0.638690</td>\n",
       "    </tr>\n",
       "    <tr>\n",
       "      <th>2021-08-02</th>\n",
       "      <td>-0.962103</td>\n",
       "      <td>1.014477</td>\n",
       "      <td>-0.212021</td>\n",
       "      <td>0.504209</td>\n",
       "    </tr>\n",
       "    <tr>\n",
       "      <th>2021-08-03</th>\n",
       "      <td>-0.647128</td>\n",
       "      <td>-0.032876</td>\n",
       "      <td>-0.634831</td>\n",
       "      <td>-1.624977</td>\n",
       "    </tr>\n",
       "    <tr>\n",
       "      <th>2021-08-04</th>\n",
       "      <td>-0.295441</td>\n",
       "      <td>-2.847912</td>\n",
       "      <td>-0.072864</td>\n",
       "      <td>-0.106676</td>\n",
       "    </tr>\n",
       "    <tr>\n",
       "      <th>2021-08-05</th>\n",
       "      <td>0.961947</td>\n",
       "      <td>-1.784362</td>\n",
       "      <td>1.289450</td>\n",
       "      <td>0.066986</td>\n",
       "    </tr>\n",
       "  </tbody>\n",
       "</table>\n",
       "</div>"
      ],
      "text/plain": [
       "                   A         B         C         D\n",
       "2021-08-01 -1.363362 -1.618411  0.900184 -0.638690\n",
       "2021-08-02 -0.962103  1.014477 -0.212021  0.504209\n",
       "2021-08-03 -0.647128 -0.032876 -0.634831 -1.624977\n",
       "2021-08-04 -0.295441 -2.847912 -0.072864 -0.106676\n",
       "2021-08-05  0.961947 -1.784362  1.289450  0.066986"
      ]
     },
     "execution_count": 24,
     "metadata": {},
     "output_type": "execute_result"
    }
   ],
   "source": [
    "df.head()"
   ]
  },
  {
   "cell_type": "code",
   "execution_count": 25,
   "id": "2a5d3249",
   "metadata": {},
   "outputs": [
    {
     "data": {
      "text/html": [
       "<div>\n",
       "<style scoped>\n",
       "    .dataframe tbody tr th:only-of-type {\n",
       "        vertical-align: middle;\n",
       "    }\n",
       "\n",
       "    .dataframe tbody tr th {\n",
       "        vertical-align: top;\n",
       "    }\n",
       "\n",
       "    .dataframe thead th {\n",
       "        text-align: right;\n",
       "    }\n",
       "</style>\n",
       "<table border=\"1\" class=\"dataframe\">\n",
       "  <thead>\n",
       "    <tr style=\"text-align: right;\">\n",
       "      <th></th>\n",
       "      <th>A</th>\n",
       "      <th>B</th>\n",
       "      <th>C</th>\n",
       "      <th>D</th>\n",
       "    </tr>\n",
       "  </thead>\n",
       "  <tbody>\n",
       "    <tr>\n",
       "      <th>2021-08-02</th>\n",
       "      <td>-0.962103</td>\n",
       "      <td>1.014477</td>\n",
       "      <td>-0.212021</td>\n",
       "      <td>0.504209</td>\n",
       "    </tr>\n",
       "    <tr>\n",
       "      <th>2021-08-03</th>\n",
       "      <td>-0.647128</td>\n",
       "      <td>-0.032876</td>\n",
       "      <td>-0.634831</td>\n",
       "      <td>-1.624977</td>\n",
       "    </tr>\n",
       "    <tr>\n",
       "      <th>2021-08-04</th>\n",
       "      <td>-0.295441</td>\n",
       "      <td>-2.847912</td>\n",
       "      <td>-0.072864</td>\n",
       "      <td>-0.106676</td>\n",
       "    </tr>\n",
       "    <tr>\n",
       "      <th>2021-08-05</th>\n",
       "      <td>0.961947</td>\n",
       "      <td>-1.784362</td>\n",
       "      <td>1.289450</td>\n",
       "      <td>0.066986</td>\n",
       "    </tr>\n",
       "    <tr>\n",
       "      <th>2021-08-06</th>\n",
       "      <td>-0.869421</td>\n",
       "      <td>1.091763</td>\n",
       "      <td>1.082725</td>\n",
       "      <td>-0.459594</td>\n",
       "    </tr>\n",
       "  </tbody>\n",
       "</table>\n",
       "</div>"
      ],
      "text/plain": [
       "                   A         B         C         D\n",
       "2021-08-02 -0.962103  1.014477 -0.212021  0.504209\n",
       "2021-08-03 -0.647128 -0.032876 -0.634831 -1.624977\n",
       "2021-08-04 -0.295441 -2.847912 -0.072864 -0.106676\n",
       "2021-08-05  0.961947 -1.784362  1.289450  0.066986\n",
       "2021-08-06 -0.869421  1.091763  1.082725 -0.459594"
      ]
     },
     "execution_count": 25,
     "metadata": {},
     "output_type": "execute_result"
    }
   ],
   "source": [
    "df.tail()"
   ]
  },
  {
   "cell_type": "code",
   "execution_count": 26,
   "id": "0c52b762",
   "metadata": {},
   "outputs": [
    {
     "data": {
      "text/html": [
       "<div>\n",
       "<style scoped>\n",
       "    .dataframe tbody tr th:only-of-type {\n",
       "        vertical-align: middle;\n",
       "    }\n",
       "\n",
       "    .dataframe tbody tr th {\n",
       "        vertical-align: top;\n",
       "    }\n",
       "\n",
       "    .dataframe thead th {\n",
       "        text-align: right;\n",
       "    }\n",
       "</style>\n",
       "<table border=\"1\" class=\"dataframe\">\n",
       "  <thead>\n",
       "    <tr style=\"text-align: right;\">\n",
       "      <th></th>\n",
       "      <th>A</th>\n",
       "      <th>B</th>\n",
       "      <th>C</th>\n",
       "      <th>D</th>\n",
       "    </tr>\n",
       "  </thead>\n",
       "  <tbody>\n",
       "    <tr>\n",
       "      <th>2021-08-01</th>\n",
       "      <td>-1.363362</td>\n",
       "      <td>-1.618411</td>\n",
       "      <td>0.900184</td>\n",
       "      <td>-0.638690</td>\n",
       "    </tr>\n",
       "    <tr>\n",
       "      <th>2021-08-02</th>\n",
       "      <td>-0.962103</td>\n",
       "      <td>1.014477</td>\n",
       "      <td>-0.212021</td>\n",
       "      <td>0.504209</td>\n",
       "    </tr>\n",
       "  </tbody>\n",
       "</table>\n",
       "</div>"
      ],
      "text/plain": [
       "                   A         B         C         D\n",
       "2021-08-01 -1.363362 -1.618411  0.900184 -0.638690\n",
       "2021-08-02 -0.962103  1.014477 -0.212021  0.504209"
      ]
     },
     "execution_count": 26,
     "metadata": {},
     "output_type": "execute_result"
    }
   ],
   "source": [
    "df.head(2)"
   ]
  },
  {
   "cell_type": "code",
   "execution_count": 27,
   "id": "3507d269",
   "metadata": {},
   "outputs": [
    {
     "data": {
      "text/html": [
       "<div>\n",
       "<style scoped>\n",
       "    .dataframe tbody tr th:only-of-type {\n",
       "        vertical-align: middle;\n",
       "    }\n",
       "\n",
       "    .dataframe tbody tr th {\n",
       "        vertical-align: top;\n",
       "    }\n",
       "\n",
       "    .dataframe thead th {\n",
       "        text-align: right;\n",
       "    }\n",
       "</style>\n",
       "<table border=\"1\" class=\"dataframe\">\n",
       "  <thead>\n",
       "    <tr style=\"text-align: right;\">\n",
       "      <th></th>\n",
       "      <th>A</th>\n",
       "      <th>B</th>\n",
       "      <th>C</th>\n",
       "      <th>D</th>\n",
       "    </tr>\n",
       "  </thead>\n",
       "  <tbody>\n",
       "    <tr>\n",
       "      <th>2021-08-04</th>\n",
       "      <td>-0.295441</td>\n",
       "      <td>-2.847912</td>\n",
       "      <td>-0.072864</td>\n",
       "      <td>-0.106676</td>\n",
       "    </tr>\n",
       "    <tr>\n",
       "      <th>2021-08-05</th>\n",
       "      <td>0.961947</td>\n",
       "      <td>-1.784362</td>\n",
       "      <td>1.289450</td>\n",
       "      <td>0.066986</td>\n",
       "    </tr>\n",
       "    <tr>\n",
       "      <th>2021-08-06</th>\n",
       "      <td>-0.869421</td>\n",
       "      <td>1.091763</td>\n",
       "      <td>1.082725</td>\n",
       "      <td>-0.459594</td>\n",
       "    </tr>\n",
       "  </tbody>\n",
       "</table>\n",
       "</div>"
      ],
      "text/plain": [
       "                   A         B         C         D\n",
       "2021-08-04 -0.295441 -2.847912 -0.072864 -0.106676\n",
       "2021-08-05  0.961947 -1.784362  1.289450  0.066986\n",
       "2021-08-06 -0.869421  1.091763  1.082725 -0.459594"
      ]
     },
     "execution_count": 27,
     "metadata": {},
     "output_type": "execute_result"
    }
   ],
   "source": [
    "df.tail(3)"
   ]
  },
  {
   "cell_type": "code",
   "execution_count": 28,
   "id": "82734060",
   "metadata": {},
   "outputs": [
    {
     "data": {
      "text/plain": [
       "DatetimeIndex(['2021-08-01', '2021-08-02', '2021-08-03', '2021-08-04',\n",
       "               '2021-08-05', '2021-08-06'],\n",
       "              dtype='datetime64[ns]', freq='D')"
      ]
     },
     "execution_count": 28,
     "metadata": {},
     "output_type": "execute_result"
    }
   ],
   "source": [
    "df.index"
   ]
  },
  {
   "cell_type": "code",
   "execution_count": 29,
   "id": "8aa44dbc",
   "metadata": {},
   "outputs": [
    {
     "data": {
      "text/plain": [
       "Index(['A', 'B', 'C', 'D'], dtype='object')"
      ]
     },
     "execution_count": 29,
     "metadata": {},
     "output_type": "execute_result"
    }
   ],
   "source": [
    "df.columns"
   ]
  },
  {
   "cell_type": "markdown",
   "id": "fc662812",
   "metadata": {},
   "source": [
    "* Numpy arrays have one dtype for the entire array.\n",
    "* while pandas DataFrames have one dtype per column.\n",
    "\n",
    "* When you call DataFrame.to_numpy(), pandas will find the NumPy dtype that can hold all of the dtypes in the DataFrame. \n",
    "* This may end up being object, which requires casting every value to a Python object."
   ]
  },
  {
   "cell_type": "code",
   "execution_count": 30,
   "id": "79d475ef",
   "metadata": {},
   "outputs": [
    {
     "data": {
      "text/plain": [
       "array([[-1.36336222, -1.61841105,  0.90018428, -0.63868964],\n",
       "       [-0.96210269,  1.01447676, -0.21202149,  0.50420917],\n",
       "       [-0.64712759, -0.03287638, -0.63483125, -1.62497742],\n",
       "       [-0.29544071, -2.84791218, -0.07286399, -0.10667598],\n",
       "       [ 0.96194725, -1.78436197,  1.28944955,  0.06698626],\n",
       "       [-0.86942146,  1.09176252,  1.08272499, -0.45959392]])"
      ]
     },
     "execution_count": 30,
     "metadata": {},
     "output_type": "execute_result"
    }
   ],
   "source": [
    "df.to_numpy()"
   ]
  },
  {
   "cell_type": "code",
   "execution_count": 31,
   "id": "91a9b5da",
   "metadata": {},
   "outputs": [
    {
     "data": {
      "text/plain": [
       "array([[1.0, Timestamp('2021-08-01 00:00:00'), 1.0, 3, 'test', 'foo'],\n",
       "       [1.0, Timestamp('2021-08-01 00:00:00'), 1.0, 3, 'train', 'foo'],\n",
       "       [1.0, Timestamp('2021-08-01 00:00:00'), 1.0, 3, 'test', 'foo'],\n",
       "       [1.0, Timestamp('2021-08-01 00:00:00'), 1.0, 3, 'train', 'foo']],\n",
       "      dtype=object)"
      ]
     },
     "execution_count": 31,
     "metadata": {},
     "output_type": "execute_result"
    }
   ],
   "source": [
    "df2.to_numpy()\n",
    "#relatively expensive! various dtypes"
   ]
  },
  {
   "cell_type": "code",
   "execution_count": 32,
   "id": "19b44da5",
   "metadata": {},
   "outputs": [
    {
     "data": {
      "text/html": [
       "<div>\n",
       "<style scoped>\n",
       "    .dataframe tbody tr th:only-of-type {\n",
       "        vertical-align: middle;\n",
       "    }\n",
       "\n",
       "    .dataframe tbody tr th {\n",
       "        vertical-align: top;\n",
       "    }\n",
       "\n",
       "    .dataframe thead th {\n",
       "        text-align: right;\n",
       "    }\n",
       "</style>\n",
       "<table border=\"1\" class=\"dataframe\">\n",
       "  <thead>\n",
       "    <tr style=\"text-align: right;\">\n",
       "      <th></th>\n",
       "      <th>A</th>\n",
       "      <th>B</th>\n",
       "      <th>C</th>\n",
       "      <th>D</th>\n",
       "    </tr>\n",
       "  </thead>\n",
       "  <tbody>\n",
       "    <tr>\n",
       "      <th>count</th>\n",
       "      <td>6.000000</td>\n",
       "      <td>6.000000</td>\n",
       "      <td>6.000000</td>\n",
       "      <td>6.000000</td>\n",
       "    </tr>\n",
       "    <tr>\n",
       "      <th>mean</th>\n",
       "      <td>-0.529251</td>\n",
       "      <td>-0.696220</td>\n",
       "      <td>0.392107</td>\n",
       "      <td>-0.376457</td>\n",
       "    </tr>\n",
       "    <tr>\n",
       "      <th>std</th>\n",
       "      <td>0.811302</td>\n",
       "      <td>1.626509</td>\n",
       "      <td>0.797006</td>\n",
       "      <td>0.732049</td>\n",
       "    </tr>\n",
       "    <tr>\n",
       "      <th>min</th>\n",
       "      <td>-1.363362</td>\n",
       "      <td>-2.847912</td>\n",
       "      <td>-0.634831</td>\n",
       "      <td>-1.624977</td>\n",
       "    </tr>\n",
       "    <tr>\n",
       "      <th>25%</th>\n",
       "      <td>-0.938932</td>\n",
       "      <td>-1.742874</td>\n",
       "      <td>-0.177232</td>\n",
       "      <td>-0.593916</td>\n",
       "    </tr>\n",
       "    <tr>\n",
       "      <th>50%</th>\n",
       "      <td>-0.758275</td>\n",
       "      <td>-0.825644</td>\n",
       "      <td>0.413660</td>\n",
       "      <td>-0.283135</td>\n",
       "    </tr>\n",
       "    <tr>\n",
       "      <th>75%</th>\n",
       "      <td>-0.383362</td>\n",
       "      <td>0.752638</td>\n",
       "      <td>1.037090</td>\n",
       "      <td>0.023571</td>\n",
       "    </tr>\n",
       "    <tr>\n",
       "      <th>max</th>\n",
       "      <td>0.961947</td>\n",
       "      <td>1.091763</td>\n",
       "      <td>1.289450</td>\n",
       "      <td>0.504209</td>\n",
       "    </tr>\n",
       "  </tbody>\n",
       "</table>\n",
       "</div>"
      ],
      "text/plain": [
       "              A         B         C         D\n",
       "count  6.000000  6.000000  6.000000  6.000000\n",
       "mean  -0.529251 -0.696220  0.392107 -0.376457\n",
       "std    0.811302  1.626509  0.797006  0.732049\n",
       "min   -1.363362 -2.847912 -0.634831 -1.624977\n",
       "25%   -0.938932 -1.742874 -0.177232 -0.593916\n",
       "50%   -0.758275 -0.825644  0.413660 -0.283135\n",
       "75%   -0.383362  0.752638  1.037090  0.023571\n",
       "max    0.961947  1.091763  1.289450  0.504209"
      ]
     },
     "execution_count": 32,
     "metadata": {},
     "output_type": "execute_result"
    }
   ],
   "source": [
    "df.describe()\n",
    "#shows a quick statistic summary of your data"
   ]
  },
  {
   "cell_type": "code",
   "execution_count": 33,
   "id": "9539d1e2",
   "metadata": {},
   "outputs": [
    {
     "data": {
      "text/html": [
       "<div>\n",
       "<style scoped>\n",
       "    .dataframe tbody tr th:only-of-type {\n",
       "        vertical-align: middle;\n",
       "    }\n",
       "\n",
       "    .dataframe tbody tr th {\n",
       "        vertical-align: top;\n",
       "    }\n",
       "\n",
       "    .dataframe thead th {\n",
       "        text-align: right;\n",
       "    }\n",
       "</style>\n",
       "<table border=\"1\" class=\"dataframe\">\n",
       "  <thead>\n",
       "    <tr style=\"text-align: right;\">\n",
       "      <th></th>\n",
       "      <th>2021-08-01</th>\n",
       "      <th>2021-08-02</th>\n",
       "      <th>2021-08-03</th>\n",
       "      <th>2021-08-04</th>\n",
       "      <th>2021-08-05</th>\n",
       "      <th>2021-08-06</th>\n",
       "    </tr>\n",
       "  </thead>\n",
       "  <tbody>\n",
       "    <tr>\n",
       "      <th>A</th>\n",
       "      <td>-1.363362</td>\n",
       "      <td>-0.962103</td>\n",
       "      <td>-0.647128</td>\n",
       "      <td>-0.295441</td>\n",
       "      <td>0.961947</td>\n",
       "      <td>-0.869421</td>\n",
       "    </tr>\n",
       "    <tr>\n",
       "      <th>B</th>\n",
       "      <td>-1.618411</td>\n",
       "      <td>1.014477</td>\n",
       "      <td>-0.032876</td>\n",
       "      <td>-2.847912</td>\n",
       "      <td>-1.784362</td>\n",
       "      <td>1.091763</td>\n",
       "    </tr>\n",
       "    <tr>\n",
       "      <th>C</th>\n",
       "      <td>0.900184</td>\n",
       "      <td>-0.212021</td>\n",
       "      <td>-0.634831</td>\n",
       "      <td>-0.072864</td>\n",
       "      <td>1.289450</td>\n",
       "      <td>1.082725</td>\n",
       "    </tr>\n",
       "    <tr>\n",
       "      <th>D</th>\n",
       "      <td>-0.638690</td>\n",
       "      <td>0.504209</td>\n",
       "      <td>-1.624977</td>\n",
       "      <td>-0.106676</td>\n",
       "      <td>0.066986</td>\n",
       "      <td>-0.459594</td>\n",
       "    </tr>\n",
       "  </tbody>\n",
       "</table>\n",
       "</div>"
      ],
      "text/plain": [
       "   2021-08-01  2021-08-02  2021-08-03  2021-08-04  2021-08-05  2021-08-06\n",
       "A   -1.363362   -0.962103   -0.647128   -0.295441    0.961947   -0.869421\n",
       "B   -1.618411    1.014477   -0.032876   -2.847912   -1.784362    1.091763\n",
       "C    0.900184   -0.212021   -0.634831   -0.072864    1.289450    1.082725\n",
       "D   -0.638690    0.504209   -1.624977   -0.106676    0.066986   -0.459594"
      ]
     },
     "execution_count": 33,
     "metadata": {},
     "output_type": "execute_result"
    }
   ],
   "source": [
    "df.T\n",
    "#행열 위치 교환. Transpose"
   ]
  },
  {
   "cell_type": "code",
   "execution_count": 34,
   "id": "3ef48145",
   "metadata": {},
   "outputs": [
    {
     "data": {
      "text/html": [
       "<div>\n",
       "<style scoped>\n",
       "    .dataframe tbody tr th:only-of-type {\n",
       "        vertical-align: middle;\n",
       "    }\n",
       "\n",
       "    .dataframe tbody tr th {\n",
       "        vertical-align: top;\n",
       "    }\n",
       "\n",
       "    .dataframe thead th {\n",
       "        text-align: right;\n",
       "    }\n",
       "</style>\n",
       "<table border=\"1\" class=\"dataframe\">\n",
       "  <thead>\n",
       "    <tr style=\"text-align: right;\">\n",
       "      <th></th>\n",
       "      <th>D</th>\n",
       "      <th>C</th>\n",
       "      <th>B</th>\n",
       "      <th>A</th>\n",
       "    </tr>\n",
       "  </thead>\n",
       "  <tbody>\n",
       "    <tr>\n",
       "      <th>2021-08-01</th>\n",
       "      <td>-0.638690</td>\n",
       "      <td>0.900184</td>\n",
       "      <td>-1.618411</td>\n",
       "      <td>-1.363362</td>\n",
       "    </tr>\n",
       "    <tr>\n",
       "      <th>2021-08-02</th>\n",
       "      <td>0.504209</td>\n",
       "      <td>-0.212021</td>\n",
       "      <td>1.014477</td>\n",
       "      <td>-0.962103</td>\n",
       "    </tr>\n",
       "    <tr>\n",
       "      <th>2021-08-03</th>\n",
       "      <td>-1.624977</td>\n",
       "      <td>-0.634831</td>\n",
       "      <td>-0.032876</td>\n",
       "      <td>-0.647128</td>\n",
       "    </tr>\n",
       "    <tr>\n",
       "      <th>2021-08-04</th>\n",
       "      <td>-0.106676</td>\n",
       "      <td>-0.072864</td>\n",
       "      <td>-2.847912</td>\n",
       "      <td>-0.295441</td>\n",
       "    </tr>\n",
       "    <tr>\n",
       "      <th>2021-08-05</th>\n",
       "      <td>0.066986</td>\n",
       "      <td>1.289450</td>\n",
       "      <td>-1.784362</td>\n",
       "      <td>0.961947</td>\n",
       "    </tr>\n",
       "    <tr>\n",
       "      <th>2021-08-06</th>\n",
       "      <td>-0.459594</td>\n",
       "      <td>1.082725</td>\n",
       "      <td>1.091763</td>\n",
       "      <td>-0.869421</td>\n",
       "    </tr>\n",
       "  </tbody>\n",
       "</table>\n",
       "</div>"
      ],
      "text/plain": [
       "                   D         C         B         A\n",
       "2021-08-01 -0.638690  0.900184 -1.618411 -1.363362\n",
       "2021-08-02  0.504209 -0.212021  1.014477 -0.962103\n",
       "2021-08-03 -1.624977 -0.634831 -0.032876 -0.647128\n",
       "2021-08-04 -0.106676 -0.072864 -2.847912 -0.295441\n",
       "2021-08-05  0.066986  1.289450 -1.784362  0.961947\n",
       "2021-08-06 -0.459594  1.082725  1.091763 -0.869421"
      ]
     },
     "execution_count": 34,
     "metadata": {},
     "output_type": "execute_result"
    }
   ],
   "source": [
    "df.sort_index(axis=1, ascending=False)"
   ]
  },
  {
   "cell_type": "code",
   "execution_count": 35,
   "id": "a7cb170f",
   "metadata": {},
   "outputs": [
    {
     "data": {
      "text/html": [
       "<div>\n",
       "<style scoped>\n",
       "    .dataframe tbody tr th:only-of-type {\n",
       "        vertical-align: middle;\n",
       "    }\n",
       "\n",
       "    .dataframe tbody tr th {\n",
       "        vertical-align: top;\n",
       "    }\n",
       "\n",
       "    .dataframe thead th {\n",
       "        text-align: right;\n",
       "    }\n",
       "</style>\n",
       "<table border=\"1\" class=\"dataframe\">\n",
       "  <thead>\n",
       "    <tr style=\"text-align: right;\">\n",
       "      <th></th>\n",
       "      <th>A</th>\n",
       "      <th>B</th>\n",
       "      <th>C</th>\n",
       "      <th>D</th>\n",
       "    </tr>\n",
       "  </thead>\n",
       "  <tbody>\n",
       "    <tr>\n",
       "      <th>2021-08-01</th>\n",
       "      <td>-1.363362</td>\n",
       "      <td>-1.618411</td>\n",
       "      <td>0.900184</td>\n",
       "      <td>-0.638690</td>\n",
       "    </tr>\n",
       "    <tr>\n",
       "      <th>2021-08-02</th>\n",
       "      <td>-0.962103</td>\n",
       "      <td>1.014477</td>\n",
       "      <td>-0.212021</td>\n",
       "      <td>0.504209</td>\n",
       "    </tr>\n",
       "    <tr>\n",
       "      <th>2021-08-03</th>\n",
       "      <td>-0.647128</td>\n",
       "      <td>-0.032876</td>\n",
       "      <td>-0.634831</td>\n",
       "      <td>-1.624977</td>\n",
       "    </tr>\n",
       "    <tr>\n",
       "      <th>2021-08-04</th>\n",
       "      <td>-0.295441</td>\n",
       "      <td>-2.847912</td>\n",
       "      <td>-0.072864</td>\n",
       "      <td>-0.106676</td>\n",
       "    </tr>\n",
       "    <tr>\n",
       "      <th>2021-08-05</th>\n",
       "      <td>0.961947</td>\n",
       "      <td>-1.784362</td>\n",
       "      <td>1.289450</td>\n",
       "      <td>0.066986</td>\n",
       "    </tr>\n",
       "    <tr>\n",
       "      <th>2021-08-06</th>\n",
       "      <td>-0.869421</td>\n",
       "      <td>1.091763</td>\n",
       "      <td>1.082725</td>\n",
       "      <td>-0.459594</td>\n",
       "    </tr>\n",
       "  </tbody>\n",
       "</table>\n",
       "</div>"
      ],
      "text/plain": [
       "                   A         B         C         D\n",
       "2021-08-01 -1.363362 -1.618411  0.900184 -0.638690\n",
       "2021-08-02 -0.962103  1.014477 -0.212021  0.504209\n",
       "2021-08-03 -0.647128 -0.032876 -0.634831 -1.624977\n",
       "2021-08-04 -0.295441 -2.847912 -0.072864 -0.106676\n",
       "2021-08-05  0.961947 -1.784362  1.289450  0.066986\n",
       "2021-08-06 -0.869421  1.091763  1.082725 -0.459594"
      ]
     },
     "execution_count": 35,
     "metadata": {},
     "output_type": "execute_result"
    }
   ],
   "source": [
    "df.sort_index(axis=0)"
   ]
  },
  {
   "cell_type": "code",
   "execution_count": 36,
   "id": "47dbb6f9",
   "metadata": {},
   "outputs": [
    {
     "data": {
      "text/html": [
       "<div>\n",
       "<style scoped>\n",
       "    .dataframe tbody tr th:only-of-type {\n",
       "        vertical-align: middle;\n",
       "    }\n",
       "\n",
       "    .dataframe tbody tr th {\n",
       "        vertical-align: top;\n",
       "    }\n",
       "\n",
       "    .dataframe thead th {\n",
       "        text-align: right;\n",
       "    }\n",
       "</style>\n",
       "<table border=\"1\" class=\"dataframe\">\n",
       "  <thead>\n",
       "    <tr style=\"text-align: right;\">\n",
       "      <th></th>\n",
       "      <th>A</th>\n",
       "      <th>B</th>\n",
       "      <th>C</th>\n",
       "      <th>D</th>\n",
       "    </tr>\n",
       "  </thead>\n",
       "  <tbody>\n",
       "    <tr>\n",
       "      <th>2021-08-01</th>\n",
       "      <td>-1.363362</td>\n",
       "      <td>-1.618411</td>\n",
       "      <td>0.900184</td>\n",
       "      <td>-0.638690</td>\n",
       "    </tr>\n",
       "    <tr>\n",
       "      <th>2021-08-02</th>\n",
       "      <td>-0.962103</td>\n",
       "      <td>1.014477</td>\n",
       "      <td>-0.212021</td>\n",
       "      <td>0.504209</td>\n",
       "    </tr>\n",
       "    <tr>\n",
       "      <th>2021-08-03</th>\n",
       "      <td>-0.647128</td>\n",
       "      <td>-0.032876</td>\n",
       "      <td>-0.634831</td>\n",
       "      <td>-1.624977</td>\n",
       "    </tr>\n",
       "    <tr>\n",
       "      <th>2021-08-04</th>\n",
       "      <td>-0.295441</td>\n",
       "      <td>-2.847912</td>\n",
       "      <td>-0.072864</td>\n",
       "      <td>-0.106676</td>\n",
       "    </tr>\n",
       "    <tr>\n",
       "      <th>2021-08-05</th>\n",
       "      <td>0.961947</td>\n",
       "      <td>-1.784362</td>\n",
       "      <td>1.289450</td>\n",
       "      <td>0.066986</td>\n",
       "    </tr>\n",
       "    <tr>\n",
       "      <th>2021-08-06</th>\n",
       "      <td>-0.869421</td>\n",
       "      <td>1.091763</td>\n",
       "      <td>1.082725</td>\n",
       "      <td>-0.459594</td>\n",
       "    </tr>\n",
       "  </tbody>\n",
       "</table>\n",
       "</div>"
      ],
      "text/plain": [
       "                   A         B         C         D\n",
       "2021-08-01 -1.363362 -1.618411  0.900184 -0.638690\n",
       "2021-08-02 -0.962103  1.014477 -0.212021  0.504209\n",
       "2021-08-03 -0.647128 -0.032876 -0.634831 -1.624977\n",
       "2021-08-04 -0.295441 -2.847912 -0.072864 -0.106676\n",
       "2021-08-05  0.961947 -1.784362  1.289450  0.066986\n",
       "2021-08-06 -0.869421  1.091763  1.082725 -0.459594"
      ]
     },
     "execution_count": 36,
     "metadata": {},
     "output_type": "execute_result"
    }
   ],
   "source": [
    "df.sort_index(axis=1)"
   ]
  },
  {
   "cell_type": "code",
   "execution_count": 37,
   "id": "0a3f02f7",
   "metadata": {},
   "outputs": [
    {
     "data": {
      "text/html": [
       "<div>\n",
       "<style scoped>\n",
       "    .dataframe tbody tr th:only-of-type {\n",
       "        vertical-align: middle;\n",
       "    }\n",
       "\n",
       "    .dataframe tbody tr th {\n",
       "        vertical-align: top;\n",
       "    }\n",
       "\n",
       "    .dataframe thead th {\n",
       "        text-align: right;\n",
       "    }\n",
       "</style>\n",
       "<table border=\"1\" class=\"dataframe\">\n",
       "  <thead>\n",
       "    <tr style=\"text-align: right;\">\n",
       "      <th></th>\n",
       "      <th>A</th>\n",
       "      <th>B</th>\n",
       "      <th>C</th>\n",
       "      <th>D</th>\n",
       "    </tr>\n",
       "  </thead>\n",
       "  <tbody>\n",
       "    <tr>\n",
       "      <th>2021-08-04</th>\n",
       "      <td>-0.295441</td>\n",
       "      <td>-2.847912</td>\n",
       "      <td>-0.072864</td>\n",
       "      <td>-0.106676</td>\n",
       "    </tr>\n",
       "    <tr>\n",
       "      <th>2021-08-05</th>\n",
       "      <td>0.961947</td>\n",
       "      <td>-1.784362</td>\n",
       "      <td>1.289450</td>\n",
       "      <td>0.066986</td>\n",
       "    </tr>\n",
       "    <tr>\n",
       "      <th>2021-08-01</th>\n",
       "      <td>-1.363362</td>\n",
       "      <td>-1.618411</td>\n",
       "      <td>0.900184</td>\n",
       "      <td>-0.638690</td>\n",
       "    </tr>\n",
       "    <tr>\n",
       "      <th>2021-08-03</th>\n",
       "      <td>-0.647128</td>\n",
       "      <td>-0.032876</td>\n",
       "      <td>-0.634831</td>\n",
       "      <td>-1.624977</td>\n",
       "    </tr>\n",
       "    <tr>\n",
       "      <th>2021-08-02</th>\n",
       "      <td>-0.962103</td>\n",
       "      <td>1.014477</td>\n",
       "      <td>-0.212021</td>\n",
       "      <td>0.504209</td>\n",
       "    </tr>\n",
       "    <tr>\n",
       "      <th>2021-08-06</th>\n",
       "      <td>-0.869421</td>\n",
       "      <td>1.091763</td>\n",
       "      <td>1.082725</td>\n",
       "      <td>-0.459594</td>\n",
       "    </tr>\n",
       "  </tbody>\n",
       "</table>\n",
       "</div>"
      ],
      "text/plain": [
       "                   A         B         C         D\n",
       "2021-08-04 -0.295441 -2.847912 -0.072864 -0.106676\n",
       "2021-08-05  0.961947 -1.784362  1.289450  0.066986\n",
       "2021-08-01 -1.363362 -1.618411  0.900184 -0.638690\n",
       "2021-08-03 -0.647128 -0.032876 -0.634831 -1.624977\n",
       "2021-08-02 -0.962103  1.014477 -0.212021  0.504209\n",
       "2021-08-06 -0.869421  1.091763  1.082725 -0.459594"
      ]
     },
     "execution_count": 37,
     "metadata": {},
     "output_type": "execute_result"
    }
   ],
   "source": [
    "df.sort_values(by=\"B\")\n",
    "#B값 기준으로 정렬. 확인해보면 가장 작은 값을 가지는 8월 4일 행이 가장 위로 가있음."
   ]
  },
  {
   "cell_type": "markdown",
   "id": "40e27a40",
   "metadata": {},
   "source": [
    "## Selection"
   ]
  },
  {
   "cell_type": "code",
   "execution_count": 38,
   "id": "27235119",
   "metadata": {},
   "outputs": [
    {
     "data": {
      "text/plain": [
       "2021-08-01   -1.363362\n",
       "2021-08-02   -0.962103\n",
       "2021-08-03   -0.647128\n",
       "2021-08-04   -0.295441\n",
       "2021-08-05    0.961947\n",
       "2021-08-06   -0.869421\n",
       "Freq: D, Name: A, dtype: float64"
      ]
     },
     "execution_count": 38,
     "metadata": {},
     "output_type": "execute_result"
    }
   ],
   "source": [
    "df[\"A\"]"
   ]
  },
  {
   "cell_type": "code",
   "execution_count": 39,
   "id": "fee6a839",
   "metadata": {},
   "outputs": [
    {
     "data": {
      "text/plain": [
       "2021-08-01   -1.363362\n",
       "2021-08-02   -0.962103\n",
       "2021-08-03   -0.647128\n",
       "2021-08-04   -0.295441\n",
       "2021-08-05    0.961947\n",
       "2021-08-06   -0.869421\n",
       "Freq: D, Name: A, dtype: float64"
      ]
     },
     "execution_count": 39,
     "metadata": {},
     "output_type": "execute_result"
    }
   ],
   "source": [
    "df.A"
   ]
  },
  {
   "cell_type": "code",
   "execution_count": 40,
   "id": "fa90ff65",
   "metadata": {},
   "outputs": [
    {
     "data": {
      "text/html": [
       "<div>\n",
       "<style scoped>\n",
       "    .dataframe tbody tr th:only-of-type {\n",
       "        vertical-align: middle;\n",
       "    }\n",
       "\n",
       "    .dataframe tbody tr th {\n",
       "        vertical-align: top;\n",
       "    }\n",
       "\n",
       "    .dataframe thead th {\n",
       "        text-align: right;\n",
       "    }\n",
       "</style>\n",
       "<table border=\"1\" class=\"dataframe\">\n",
       "  <thead>\n",
       "    <tr style=\"text-align: right;\">\n",
       "      <th></th>\n",
       "      <th>A</th>\n",
       "      <th>B</th>\n",
       "      <th>C</th>\n",
       "      <th>D</th>\n",
       "    </tr>\n",
       "  </thead>\n",
       "  <tbody>\n",
       "    <tr>\n",
       "      <th>2021-08-01</th>\n",
       "      <td>-1.363362</td>\n",
       "      <td>-1.618411</td>\n",
       "      <td>0.900184</td>\n",
       "      <td>-0.638690</td>\n",
       "    </tr>\n",
       "    <tr>\n",
       "      <th>2021-08-02</th>\n",
       "      <td>-0.962103</td>\n",
       "      <td>1.014477</td>\n",
       "      <td>-0.212021</td>\n",
       "      <td>0.504209</td>\n",
       "    </tr>\n",
       "    <tr>\n",
       "      <th>2021-08-03</th>\n",
       "      <td>-0.647128</td>\n",
       "      <td>-0.032876</td>\n",
       "      <td>-0.634831</td>\n",
       "      <td>-1.624977</td>\n",
       "    </tr>\n",
       "  </tbody>\n",
       "</table>\n",
       "</div>"
      ],
      "text/plain": [
       "                   A         B         C         D\n",
       "2021-08-01 -1.363362 -1.618411  0.900184 -0.638690\n",
       "2021-08-02 -0.962103  1.014477 -0.212021  0.504209\n",
       "2021-08-03 -0.647128 -0.032876 -0.634831 -1.624977"
      ]
     },
     "execution_count": 40,
     "metadata": {},
     "output_type": "execute_result"
    }
   ],
   "source": [
    "df[0:3] #행 slice"
   ]
  },
  {
   "cell_type": "code",
   "execution_count": 41,
   "id": "88242fd5",
   "metadata": {},
   "outputs": [
    {
     "data": {
      "text/html": [
       "<div>\n",
       "<style scoped>\n",
       "    .dataframe tbody tr th:only-of-type {\n",
       "        vertical-align: middle;\n",
       "    }\n",
       "\n",
       "    .dataframe tbody tr th {\n",
       "        vertical-align: top;\n",
       "    }\n",
       "\n",
       "    .dataframe thead th {\n",
       "        text-align: right;\n",
       "    }\n",
       "</style>\n",
       "<table border=\"1\" class=\"dataframe\">\n",
       "  <thead>\n",
       "    <tr style=\"text-align: right;\">\n",
       "      <th></th>\n",
       "      <th>A</th>\n",
       "      <th>B</th>\n",
       "      <th>C</th>\n",
       "      <th>D</th>\n",
       "    </tr>\n",
       "  </thead>\n",
       "  <tbody>\n",
       "    <tr>\n",
       "      <th>2021-08-02</th>\n",
       "      <td>-0.962103</td>\n",
       "      <td>1.014477</td>\n",
       "      <td>-0.212021</td>\n",
       "      <td>0.504209</td>\n",
       "    </tr>\n",
       "    <tr>\n",
       "      <th>2021-08-03</th>\n",
       "      <td>-0.647128</td>\n",
       "      <td>-0.032876</td>\n",
       "      <td>-0.634831</td>\n",
       "      <td>-1.624977</td>\n",
       "    </tr>\n",
       "    <tr>\n",
       "      <th>2021-08-04</th>\n",
       "      <td>-0.295441</td>\n",
       "      <td>-2.847912</td>\n",
       "      <td>-0.072864</td>\n",
       "      <td>-0.106676</td>\n",
       "    </tr>\n",
       "    <tr>\n",
       "      <th>2021-08-05</th>\n",
       "      <td>0.961947</td>\n",
       "      <td>-1.784362</td>\n",
       "      <td>1.289450</td>\n",
       "      <td>0.066986</td>\n",
       "    </tr>\n",
       "  </tbody>\n",
       "</table>\n",
       "</div>"
      ],
      "text/plain": [
       "                   A         B         C         D\n",
       "2021-08-02 -0.962103  1.014477 -0.212021  0.504209\n",
       "2021-08-03 -0.647128 -0.032876 -0.634831 -1.624977\n",
       "2021-08-04 -0.295441 -2.847912 -0.072864 -0.106676\n",
       "2021-08-05  0.961947 -1.784362  1.289450  0.066986"
      ]
     },
     "execution_count": 41,
     "metadata": {},
     "output_type": "execute_result"
    }
   ],
   "source": [
    "df[\"20210802\":\"20210805\"]"
   ]
  },
  {
   "cell_type": "markdown",
   "id": "4ac4ff8a",
   "metadata": {},
   "source": [
    "## selection by label\n",
    "* loc[:,'x2':'x4']: select all columns between x2 and x4(inclusive)\n",
    "* iloc[:,[1,2,5]]: select columns in positions 1,2 and 5\n",
    "* loc[df['a'] > 10, ['a','c']]: select rows meeting logical condition, and only the specific columns."
   ]
  },
  {
   "cell_type": "code",
   "execution_count": 42,
   "id": "4ec2827f",
   "metadata": {},
   "outputs": [
    {
     "data": {
      "text/plain": [
       "A   -1.363362\n",
       "B   -1.618411\n",
       "C    0.900184\n",
       "D   -0.638690\n",
       "Name: 2021-08-01 00:00:00, dtype: float64"
      ]
     },
     "execution_count": 42,
     "metadata": {},
     "output_type": "execute_result"
    }
   ],
   "source": [
    "df.loc[dates[0]]"
   ]
  },
  {
   "cell_type": "code",
   "execution_count": 43,
   "id": "e5b73695",
   "metadata": {},
   "outputs": [
    {
     "data": {
      "text/html": [
       "<div>\n",
       "<style scoped>\n",
       "    .dataframe tbody tr th:only-of-type {\n",
       "        vertical-align: middle;\n",
       "    }\n",
       "\n",
       "    .dataframe tbody tr th {\n",
       "        vertical-align: top;\n",
       "    }\n",
       "\n",
       "    .dataframe thead th {\n",
       "        text-align: right;\n",
       "    }\n",
       "</style>\n",
       "<table border=\"1\" class=\"dataframe\">\n",
       "  <thead>\n",
       "    <tr style=\"text-align: right;\">\n",
       "      <th></th>\n",
       "      <th>A</th>\n",
       "      <th>B</th>\n",
       "    </tr>\n",
       "  </thead>\n",
       "  <tbody>\n",
       "    <tr>\n",
       "      <th>2021-08-01</th>\n",
       "      <td>-1.363362</td>\n",
       "      <td>-1.618411</td>\n",
       "    </tr>\n",
       "    <tr>\n",
       "      <th>2021-08-02</th>\n",
       "      <td>-0.962103</td>\n",
       "      <td>1.014477</td>\n",
       "    </tr>\n",
       "    <tr>\n",
       "      <th>2021-08-03</th>\n",
       "      <td>-0.647128</td>\n",
       "      <td>-0.032876</td>\n",
       "    </tr>\n",
       "    <tr>\n",
       "      <th>2021-08-04</th>\n",
       "      <td>-0.295441</td>\n",
       "      <td>-2.847912</td>\n",
       "    </tr>\n",
       "    <tr>\n",
       "      <th>2021-08-05</th>\n",
       "      <td>0.961947</td>\n",
       "      <td>-1.784362</td>\n",
       "    </tr>\n",
       "    <tr>\n",
       "      <th>2021-08-06</th>\n",
       "      <td>-0.869421</td>\n",
       "      <td>1.091763</td>\n",
       "    </tr>\n",
       "  </tbody>\n",
       "</table>\n",
       "</div>"
      ],
      "text/plain": [
       "                   A         B\n",
       "2021-08-01 -1.363362 -1.618411\n",
       "2021-08-02 -0.962103  1.014477\n",
       "2021-08-03 -0.647128 -0.032876\n",
       "2021-08-04 -0.295441 -2.847912\n",
       "2021-08-05  0.961947 -1.784362\n",
       "2021-08-06 -0.869421  1.091763"
      ]
     },
     "execution_count": 43,
     "metadata": {},
     "output_type": "execute_result"
    }
   ],
   "source": [
    "df.loc[:,[\"A\",\"B\"]]"
   ]
  },
  {
   "cell_type": "code",
   "execution_count": 45,
   "id": "d670f601",
   "metadata": {},
   "outputs": [
    {
     "ename": "IndexError",
     "evalue": ".iloc requires numeric indexers, got ['A' 'B']",
     "output_type": "error",
     "traceback": [
      "\u001b[0;31m---------------------------------------------------------------------------\u001b[0m",
      "\u001b[0;31mIndexError\u001b[0m                                Traceback (most recent call last)",
      "\u001b[0;32m<ipython-input-45-c89d43f83885>\u001b[0m in \u001b[0;36m<module>\u001b[0;34m\u001b[0m\n\u001b[0;32m----> 1\u001b[0;31m \u001b[0mdf\u001b[0m\u001b[0;34m.\u001b[0m\u001b[0miloc\u001b[0m\u001b[0;34m[\u001b[0m\u001b[0;34m:\u001b[0m\u001b[0;34m,\u001b[0m\u001b[0;34m[\u001b[0m\u001b[0;34m\"A\"\u001b[0m\u001b[0;34m,\u001b[0m\u001b[0;34m\"B\"\u001b[0m\u001b[0;34m]\u001b[0m\u001b[0;34m]\u001b[0m\u001b[0;34m\u001b[0m\u001b[0;34m\u001b[0m\u001b[0m\n\u001b[0m",
      "\u001b[0;32m/opt/anaconda3/lib/python3.8/site-packages/pandas/core/indexing.py\u001b[0m in \u001b[0;36m__getitem__\u001b[0;34m(self, key)\u001b[0m\n\u001b[1;32m    887\u001b[0m                     \u001b[0;31m# AttributeError for IntervalTree get_value\u001b[0m\u001b[0;34m\u001b[0m\u001b[0;34m\u001b[0m\u001b[0;34m\u001b[0m\u001b[0m\n\u001b[1;32m    888\u001b[0m                     \u001b[0;32mreturn\u001b[0m \u001b[0mself\u001b[0m\u001b[0;34m.\u001b[0m\u001b[0mobj\u001b[0m\u001b[0;34m.\u001b[0m\u001b[0m_get_value\u001b[0m\u001b[0;34m(\u001b[0m\u001b[0;34m*\u001b[0m\u001b[0mkey\u001b[0m\u001b[0;34m,\u001b[0m \u001b[0mtakeable\u001b[0m\u001b[0;34m=\u001b[0m\u001b[0mself\u001b[0m\u001b[0;34m.\u001b[0m\u001b[0m_takeable\u001b[0m\u001b[0;34m)\u001b[0m\u001b[0;34m\u001b[0m\u001b[0;34m\u001b[0m\u001b[0m\n\u001b[0;32m--> 889\u001b[0;31m             \u001b[0;32mreturn\u001b[0m \u001b[0mself\u001b[0m\u001b[0;34m.\u001b[0m\u001b[0m_getitem_tuple\u001b[0m\u001b[0;34m(\u001b[0m\u001b[0mkey\u001b[0m\u001b[0;34m)\u001b[0m\u001b[0;34m\u001b[0m\u001b[0;34m\u001b[0m\u001b[0m\n\u001b[0m\u001b[1;32m    890\u001b[0m         \u001b[0;32melse\u001b[0m\u001b[0;34m:\u001b[0m\u001b[0;34m\u001b[0m\u001b[0;34m\u001b[0m\u001b[0m\n\u001b[1;32m    891\u001b[0m             \u001b[0;31m# we by definition only have the 0th axis\u001b[0m\u001b[0;34m\u001b[0m\u001b[0;34m\u001b[0m\u001b[0;34m\u001b[0m\u001b[0m\n",
      "\u001b[0;32m/opt/anaconda3/lib/python3.8/site-packages/pandas/core/indexing.py\u001b[0m in \u001b[0;36m_getitem_tuple\u001b[0;34m(self, tup)\u001b[0m\n\u001b[1;32m   1448\u001b[0m     \u001b[0;32mdef\u001b[0m \u001b[0m_getitem_tuple\u001b[0m\u001b[0;34m(\u001b[0m\u001b[0mself\u001b[0m\u001b[0;34m,\u001b[0m \u001b[0mtup\u001b[0m\u001b[0;34m:\u001b[0m \u001b[0mTuple\u001b[0m\u001b[0;34m)\u001b[0m\u001b[0;34m:\u001b[0m\u001b[0;34m\u001b[0m\u001b[0;34m\u001b[0m\u001b[0m\n\u001b[1;32m   1449\u001b[0m \u001b[0;34m\u001b[0m\u001b[0m\n\u001b[0;32m-> 1450\u001b[0;31m         \u001b[0mself\u001b[0m\u001b[0;34m.\u001b[0m\u001b[0m_has_valid_tuple\u001b[0m\u001b[0;34m(\u001b[0m\u001b[0mtup\u001b[0m\u001b[0;34m)\u001b[0m\u001b[0;34m\u001b[0m\u001b[0;34m\u001b[0m\u001b[0m\n\u001b[0m\u001b[1;32m   1451\u001b[0m         \u001b[0;32mwith\u001b[0m \u001b[0msuppress\u001b[0m\u001b[0;34m(\u001b[0m\u001b[0mIndexingError\u001b[0m\u001b[0;34m)\u001b[0m\u001b[0;34m:\u001b[0m\u001b[0;34m\u001b[0m\u001b[0;34m\u001b[0m\u001b[0m\n\u001b[1;32m   1452\u001b[0m             \u001b[0;32mreturn\u001b[0m \u001b[0mself\u001b[0m\u001b[0;34m.\u001b[0m\u001b[0m_getitem_lowerdim\u001b[0m\u001b[0;34m(\u001b[0m\u001b[0mtup\u001b[0m\u001b[0;34m)\u001b[0m\u001b[0;34m\u001b[0m\u001b[0;34m\u001b[0m\u001b[0m\n",
      "\u001b[0;32m/opt/anaconda3/lib/python3.8/site-packages/pandas/core/indexing.py\u001b[0m in \u001b[0;36m_has_valid_tuple\u001b[0;34m(self, key)\u001b[0m\n\u001b[1;32m    721\u001b[0m         \u001b[0;32mfor\u001b[0m \u001b[0mi\u001b[0m\u001b[0;34m,\u001b[0m \u001b[0mk\u001b[0m \u001b[0;32min\u001b[0m \u001b[0menumerate\u001b[0m\u001b[0;34m(\u001b[0m\u001b[0mkey\u001b[0m\u001b[0;34m)\u001b[0m\u001b[0;34m:\u001b[0m\u001b[0;34m\u001b[0m\u001b[0;34m\u001b[0m\u001b[0m\n\u001b[1;32m    722\u001b[0m             \u001b[0;32mtry\u001b[0m\u001b[0;34m:\u001b[0m\u001b[0;34m\u001b[0m\u001b[0;34m\u001b[0m\u001b[0m\n\u001b[0;32m--> 723\u001b[0;31m                 \u001b[0mself\u001b[0m\u001b[0;34m.\u001b[0m\u001b[0m_validate_key\u001b[0m\u001b[0;34m(\u001b[0m\u001b[0mk\u001b[0m\u001b[0;34m,\u001b[0m \u001b[0mi\u001b[0m\u001b[0;34m)\u001b[0m\u001b[0;34m\u001b[0m\u001b[0;34m\u001b[0m\u001b[0m\n\u001b[0m\u001b[1;32m    724\u001b[0m             \u001b[0;32mexcept\u001b[0m \u001b[0mValueError\u001b[0m \u001b[0;32mas\u001b[0m \u001b[0merr\u001b[0m\u001b[0;34m:\u001b[0m\u001b[0;34m\u001b[0m\u001b[0;34m\u001b[0m\u001b[0m\n\u001b[1;32m    725\u001b[0m                 raise ValueError(\n",
      "\u001b[0;32m/opt/anaconda3/lib/python3.8/site-packages/pandas/core/indexing.py\u001b[0m in \u001b[0;36m_validate_key\u001b[0;34m(self, key, axis)\u001b[0m\n\u001b[1;32m   1367\u001b[0m             \u001b[0;31m# check that the key has a numeric dtype\u001b[0m\u001b[0;34m\u001b[0m\u001b[0;34m\u001b[0m\u001b[0;34m\u001b[0m\u001b[0m\n\u001b[1;32m   1368\u001b[0m             \u001b[0;32mif\u001b[0m \u001b[0;32mnot\u001b[0m \u001b[0mis_numeric_dtype\u001b[0m\u001b[0;34m(\u001b[0m\u001b[0marr\u001b[0m\u001b[0;34m.\u001b[0m\u001b[0mdtype\u001b[0m\u001b[0;34m)\u001b[0m\u001b[0;34m:\u001b[0m\u001b[0;34m\u001b[0m\u001b[0;34m\u001b[0m\u001b[0m\n\u001b[0;32m-> 1369\u001b[0;31m                 \u001b[0;32mraise\u001b[0m \u001b[0mIndexError\u001b[0m\u001b[0;34m(\u001b[0m\u001b[0;34mf\".iloc requires numeric indexers, got {arr}\"\u001b[0m\u001b[0;34m)\u001b[0m\u001b[0;34m\u001b[0m\u001b[0;34m\u001b[0m\u001b[0m\n\u001b[0m\u001b[1;32m   1370\u001b[0m \u001b[0;34m\u001b[0m\u001b[0m\n\u001b[1;32m   1371\u001b[0m             \u001b[0;31m# check that the key does not exceed the maximum size of the index\u001b[0m\u001b[0;34m\u001b[0m\u001b[0;34m\u001b[0m\u001b[0;34m\u001b[0m\u001b[0m\n",
      "\u001b[0;31mIndexError\u001b[0m: .iloc requires numeric indexers, got ['A' 'B']"
     ]
    }
   ],
   "source": [
    "df.iloc[:,[\"A\",\"B\"]]"
   ]
  },
  {
   "cell_type": "code",
   "execution_count": 46,
   "id": "3f8fb171",
   "metadata": {},
   "outputs": [
    {
     "data": {
      "text/html": [
       "<div>\n",
       "<style scoped>\n",
       "    .dataframe tbody tr th:only-of-type {\n",
       "        vertical-align: middle;\n",
       "    }\n",
       "\n",
       "    .dataframe tbody tr th {\n",
       "        vertical-align: top;\n",
       "    }\n",
       "\n",
       "    .dataframe thead th {\n",
       "        text-align: right;\n",
       "    }\n",
       "</style>\n",
       "<table border=\"1\" class=\"dataframe\">\n",
       "  <thead>\n",
       "    <tr style=\"text-align: right;\">\n",
       "      <th></th>\n",
       "      <th>A</th>\n",
       "      <th>C</th>\n",
       "    </tr>\n",
       "  </thead>\n",
       "  <tbody>\n",
       "    <tr>\n",
       "      <th>2021-08-02</th>\n",
       "      <td>-0.962103</td>\n",
       "      <td>-0.212021</td>\n",
       "    </tr>\n",
       "    <tr>\n",
       "      <th>2021-08-03</th>\n",
       "      <td>-0.647128</td>\n",
       "      <td>-0.634831</td>\n",
       "    </tr>\n",
       "    <tr>\n",
       "      <th>2021-08-04</th>\n",
       "      <td>-0.295441</td>\n",
       "      <td>-0.072864</td>\n",
       "    </tr>\n",
       "    <tr>\n",
       "      <th>2021-08-05</th>\n",
       "      <td>0.961947</td>\n",
       "      <td>1.289450</td>\n",
       "    </tr>\n",
       "  </tbody>\n",
       "</table>\n",
       "</div>"
      ],
      "text/plain": [
       "                   A         C\n",
       "2021-08-02 -0.962103 -0.212021\n",
       "2021-08-03 -0.647128 -0.634831\n",
       "2021-08-04 -0.295441 -0.072864\n",
       "2021-08-05  0.961947  1.289450"
      ]
     },
     "execution_count": 46,
     "metadata": {},
     "output_type": "execute_result"
    }
   ],
   "source": [
    "df.loc[\"20210802\":\"20210805\", [\"A\",\"C\"]]"
   ]
  },
  {
   "cell_type": "code",
   "execution_count": 47,
   "id": "9db23e68",
   "metadata": {},
   "outputs": [
    {
     "data": {
      "text/plain": [
       "-1.3633622169381208"
      ]
     },
     "execution_count": 47,
     "metadata": {},
     "output_type": "execute_result"
    }
   ],
   "source": [
    "df.loc[dates[0], \"A\"] #getting a scalar value!!"
   ]
  },
  {
   "cell_type": "code",
   "execution_count": 48,
   "id": "c250b9e8",
   "metadata": {},
   "outputs": [
    {
     "data": {
      "text/plain": [
       "2021-08-01   -1.363362\n",
       "2021-08-02   -0.962103\n",
       "2021-08-03   -0.647128\n",
       "Freq: D, Name: A, dtype: float64"
      ]
     },
     "execution_count": 48,
     "metadata": {},
     "output_type": "execute_result"
    }
   ],
   "source": [
    "df.loc[dates[0:3],\"A\"]"
   ]
  },
  {
   "cell_type": "markdown",
   "id": "bd770c59",
   "metadata": {},
   "source": [
    "## selection by position"
   ]
  },
  {
   "cell_type": "code",
   "execution_count": 49,
   "id": "5daa43dd",
   "metadata": {},
   "outputs": [
    {
     "data": {
      "text/plain": [
       "A   -0.295441\n",
       "B   -2.847912\n",
       "C   -0.072864\n",
       "D   -0.106676\n",
       "Name: 2021-08-04 00:00:00, dtype: float64"
      ]
     },
     "execution_count": 49,
     "metadata": {},
     "output_type": "execute_result"
    }
   ],
   "source": [
    "df.iloc[3]"
   ]
  },
  {
   "cell_type": "code",
   "execution_count": 50,
   "id": "c6215698",
   "metadata": {},
   "outputs": [
    {
     "data": {
      "text/html": [
       "<div>\n",
       "<style scoped>\n",
       "    .dataframe tbody tr th:only-of-type {\n",
       "        vertical-align: middle;\n",
       "    }\n",
       "\n",
       "    .dataframe tbody tr th {\n",
       "        vertical-align: top;\n",
       "    }\n",
       "\n",
       "    .dataframe thead th {\n",
       "        text-align: right;\n",
       "    }\n",
       "</style>\n",
       "<table border=\"1\" class=\"dataframe\">\n",
       "  <thead>\n",
       "    <tr style=\"text-align: right;\">\n",
       "      <th></th>\n",
       "      <th>A</th>\n",
       "      <th>B</th>\n",
       "    </tr>\n",
       "  </thead>\n",
       "  <tbody>\n",
       "    <tr>\n",
       "      <th>2021-08-04</th>\n",
       "      <td>-0.295441</td>\n",
       "      <td>-2.847912</td>\n",
       "    </tr>\n",
       "    <tr>\n",
       "      <th>2021-08-05</th>\n",
       "      <td>0.961947</td>\n",
       "      <td>-1.784362</td>\n",
       "    </tr>\n",
       "  </tbody>\n",
       "</table>\n",
       "</div>"
      ],
      "text/plain": [
       "                   A         B\n",
       "2021-08-04 -0.295441 -2.847912\n",
       "2021-08-05  0.961947 -1.784362"
      ]
     },
     "execution_count": 50,
     "metadata": {},
     "output_type": "execute_result"
    }
   ],
   "source": [
    "df.iloc[3:5, 0:2] #3에서 4행 0에서 1열"
   ]
  },
  {
   "cell_type": "code",
   "execution_count": null,
   "id": "5753bd96",
   "metadata": {},
   "outputs": [],
   "source": []
  }
 ],
 "metadata": {
  "kernelspec": {
   "display_name": "Python 3",
   "language": "python",
   "name": "python3"
  },
  "language_info": {
   "codemirror_mode": {
    "name": "ipython",
    "version": 3
   },
   "file_extension": ".py",
   "mimetype": "text/x-python",
   "name": "python",
   "nbconvert_exporter": "python",
   "pygments_lexer": "ipython3",
   "version": "3.8.8"
  }
 },
 "nbformat": 4,
 "nbformat_minor": 5
}
