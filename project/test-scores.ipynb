{
 "cells": [
  {
   "cell_type": "markdown",
   "id": "7dbf5231",
   "metadata": {},
   "source": [
    "# 데이터 설명"
   ]
  },
  {
   "cell_type": "markdown",
   "id": "4b2ed03b",
   "metadata": {},
   "source": [
    "* school: 학교 이름\n",
    "* school_setting: 학교가 위치한 곳(Urban(도시), Suburban(교외), Rural(시골))\n",
    "* school_type: Public(공립학교), Non-public(사립학교)\n",
    "* classroom: 교실 종류?\n",
    "* teaching_method: Experimental(실험적 교육), Standard(기존 교육)\n",
    "* n_student: number of students in the class\n",
    "* student_id\n",
    "* gender\n",
    "* lunch: whether a student qualifies for free/subsidized lunch or not\n",
    "* pretest: 수업 전 진행한 시험 점수\n",
    "* posttest: 수업 후 진행한 시험 점수\n",
    "\n",
    "Typically, a pretest is given to students at the beginning of a course to determine their initial understanding of the measures stated in the learning objectives, and posttest is conducted just after completion of the course to determine what the students have learned.\n",
    "\n",
    "* 미국은 Suburban School이 대학 진학에 유리하며, 명문고등학교의 입지를 갖고 있음\n",
    "* Low-income children are eligible to receive reduced-price or free meals at school. Children in households with incomes below 130 percent of the poverty level or those receiving SNAP or TANF qualify for free meals. Those with family incomes between 130 and 185 percent of the poverty line qualify for reduced-price meals."
   ]
  },
  {
   "cell_type": "code",
   "execution_count": 1,
   "id": "5617b919",
   "metadata": {},
   "outputs": [],
   "source": [
    "import pandas as pd\n",
    "import seaborn as sns\n",
    "import matplotlib.pyplot as plt\n",
    "import numpy as np"
   ]
  },
  {
   "cell_type": "code",
   "execution_count": 2,
   "id": "e0453576",
   "metadata": {},
   "outputs": [
    {
     "name": "stdout",
     "output_type": "stream",
     "text": [
      "<class 'pandas.core.frame.DataFrame'>\n",
      "RangeIndex: 2133 entries, 0 to 2132\n",
      "Data columns (total 11 columns):\n",
      " #   Column           Non-Null Count  Dtype  \n",
      "---  ------           --------------  -----  \n",
      " 0   school           2133 non-null   object \n",
      " 1   school_setting   2133 non-null   object \n",
      " 2   school_type      2133 non-null   object \n",
      " 3   classroom        2133 non-null   object \n",
      " 4   teaching_method  2133 non-null   object \n",
      " 5   n_student        2133 non-null   float64\n",
      " 6   student_id       2133 non-null   object \n",
      " 7   gender           2133 non-null   object \n",
      " 8   lunch            2133 non-null   object \n",
      " 9   pretest          2133 non-null   float64\n",
      " 10  posttest         2133 non-null   float64\n",
      "dtypes: float64(3), object(8)\n",
      "memory usage: 183.4+ KB\n"
     ]
    }
   ],
   "source": [
    "df = pd.read_csv(\"data/test_scores.csv\")\n",
    "df.info()"
   ]
  },
  {
   "cell_type": "code",
   "execution_count": 3,
   "id": "f8ecd150",
   "metadata": {},
   "outputs": [
    {
     "data": {
      "text/html": [
       "<div>\n",
       "<style scoped>\n",
       "    .dataframe tbody tr th:only-of-type {\n",
       "        vertical-align: middle;\n",
       "    }\n",
       "\n",
       "    .dataframe tbody tr th {\n",
       "        vertical-align: top;\n",
       "    }\n",
       "\n",
       "    .dataframe thead th {\n",
       "        text-align: right;\n",
       "    }\n",
       "</style>\n",
       "<table border=\"1\" class=\"dataframe\">\n",
       "  <thead>\n",
       "    <tr style=\"text-align: right;\">\n",
       "      <th></th>\n",
       "      <th>school</th>\n",
       "      <th>school_setting</th>\n",
       "      <th>school_type</th>\n",
       "      <th>classroom</th>\n",
       "      <th>teaching_method</th>\n",
       "      <th>n_student</th>\n",
       "      <th>student_id</th>\n",
       "      <th>gender</th>\n",
       "      <th>lunch</th>\n",
       "      <th>pretest</th>\n",
       "      <th>posttest</th>\n",
       "    </tr>\n",
       "  </thead>\n",
       "  <tbody>\n",
       "    <tr>\n",
       "      <th>2128</th>\n",
       "      <td>ZOWMK</td>\n",
       "      <td>Urban</td>\n",
       "      <td>Public</td>\n",
       "      <td>ZBH</td>\n",
       "      <td>Standard</td>\n",
       "      <td>30.0</td>\n",
       "      <td>T8LSK</td>\n",
       "      <td>Female</td>\n",
       "      <td>Does not qualify</td>\n",
       "      <td>39.0</td>\n",
       "      <td>55.0</td>\n",
       "    </tr>\n",
       "    <tr>\n",
       "      <th>2129</th>\n",
       "      <td>ZOWMK</td>\n",
       "      <td>Urban</td>\n",
       "      <td>Public</td>\n",
       "      <td>ZBH</td>\n",
       "      <td>Standard</td>\n",
       "      <td>30.0</td>\n",
       "      <td>VNP26</td>\n",
       "      <td>Female</td>\n",
       "      <td>Qualifies for reduced/free lunch</td>\n",
       "      <td>38.0</td>\n",
       "      <td>46.0</td>\n",
       "    </tr>\n",
       "    <tr>\n",
       "      <th>2130</th>\n",
       "      <td>ZOWMK</td>\n",
       "      <td>Urban</td>\n",
       "      <td>Public</td>\n",
       "      <td>ZBH</td>\n",
       "      <td>Standard</td>\n",
       "      <td>30.0</td>\n",
       "      <td>YDR1Z</td>\n",
       "      <td>Female</td>\n",
       "      <td>Qualifies for reduced/free lunch</td>\n",
       "      <td>45.0</td>\n",
       "      <td>51.0</td>\n",
       "    </tr>\n",
       "    <tr>\n",
       "      <th>2131</th>\n",
       "      <td>ZOWMK</td>\n",
       "      <td>Urban</td>\n",
       "      <td>Public</td>\n",
       "      <td>ZBH</td>\n",
       "      <td>Standard</td>\n",
       "      <td>30.0</td>\n",
       "      <td>YUEIH</td>\n",
       "      <td>Male</td>\n",
       "      <td>Qualifies for reduced/free lunch</td>\n",
       "      <td>46.0</td>\n",
       "      <td>53.0</td>\n",
       "    </tr>\n",
       "    <tr>\n",
       "      <th>2132</th>\n",
       "      <td>ZOWMK</td>\n",
       "      <td>Urban</td>\n",
       "      <td>Public</td>\n",
       "      <td>ZBH</td>\n",
       "      <td>Standard</td>\n",
       "      <td>30.0</td>\n",
       "      <td>ZVCQ8</td>\n",
       "      <td>Male</td>\n",
       "      <td>Qualifies for reduced/free lunch</td>\n",
       "      <td>41.0</td>\n",
       "      <td>48.0</td>\n",
       "    </tr>\n",
       "  </tbody>\n",
       "</table>\n",
       "</div>"
      ],
      "text/plain": [
       "     school school_setting school_type classroom teaching_method  n_student  \\\n",
       "2128  ZOWMK          Urban      Public       ZBH        Standard       30.0   \n",
       "2129  ZOWMK          Urban      Public       ZBH        Standard       30.0   \n",
       "2130  ZOWMK          Urban      Public       ZBH        Standard       30.0   \n",
       "2131  ZOWMK          Urban      Public       ZBH        Standard       30.0   \n",
       "2132  ZOWMK          Urban      Public       ZBH        Standard       30.0   \n",
       "\n",
       "     student_id  gender                             lunch  pretest  posttest  \n",
       "2128      T8LSK  Female                  Does not qualify     39.0      55.0  \n",
       "2129      VNP26  Female  Qualifies for reduced/free lunch     38.0      46.0  \n",
       "2130      YDR1Z  Female  Qualifies for reduced/free lunch     45.0      51.0  \n",
       "2131      YUEIH    Male  Qualifies for reduced/free lunch     46.0      53.0  \n",
       "2132      ZVCQ8    Male  Qualifies for reduced/free lunch     41.0      48.0  "
      ]
     },
     "execution_count": 3,
     "metadata": {},
     "output_type": "execute_result"
    }
   ],
   "source": [
    "df.tail()"
   ]
  },
  {
   "cell_type": "code",
   "execution_count": 4,
   "id": "86b5098d",
   "metadata": {},
   "outputs": [
    {
     "data": {
      "text/plain": [
       "school             0\n",
       "school_setting     0\n",
       "school_type        0\n",
       "classroom          0\n",
       "teaching_method    0\n",
       "n_student          0\n",
       "student_id         0\n",
       "gender             0\n",
       "lunch              0\n",
       "pretest            0\n",
       "posttest           0\n",
       "dtype: int64"
      ]
     },
     "execution_count": 4,
     "metadata": {},
     "output_type": "execute_result"
    }
   ],
   "source": [
    "df.isnull().sum()"
   ]
  },
  {
   "cell_type": "code",
   "execution_count": 5,
   "id": "dd5ddf8c",
   "metadata": {},
   "outputs": [
    {
     "name": "stderr",
     "output_type": "stream",
     "text": [
      "/opt/anaconda3/lib/python3.8/site-packages/seaborn/distributions.py:2557: FutureWarning: `distplot` is a deprecated function and will be removed in a future version. Please adapt your code to use either `displot` (a figure-level function with similar flexibility) or `histplot` (an axes-level function for histograms).\n",
      "  warnings.warn(msg, FutureWarning)\n",
      "/opt/anaconda3/lib/python3.8/site-packages/seaborn/distributions.py:2557: FutureWarning: `distplot` is a deprecated function and will be removed in a future version. Please adapt your code to use either `displot` (a figure-level function with similar flexibility) or `histplot` (an axes-level function for histograms).\n",
      "  warnings.warn(msg, FutureWarning)\n"
     ]
    },
    {
     "data": {
      "text/plain": [
       "<AxesSubplot:xlabel='posttest', ylabel='Density'>"
      ]
     },
     "execution_count": 5,
     "metadata": {},
     "output_type": "execute_result"
    },
    {
     "data": {
      "image/png": "[encoded data removed]",
      "text/plain": [
       "<Figure size 432x288 with 1 Axes>"
      ]
     },
     "metadata": {
      "needs_background": "light"
     },
     "output_type": "display_data"
    }
   ],
   "source": [
    "sns.distplot(df[\"pretest\"])\n",
    "sns.distplot(df[\"posttest\"])"
   ]
  },
  {
   "cell_type": "markdown",
   "id": "e3debced",
   "metadata": {},
   "source": [
    "# 가설 설정 & 데이터 분석"
   ]
  },
  {
   "cell_type": "markdown",
   "id": "ddaf48cd",
   "metadata": {},
   "source": [
    "## 학교 위치(도시, 교외, 시골)에 따라 "
   ]
  },
  {
   "cell_type": "markdown",
   "id": "f921d2ae",
   "metadata": {},
   "source": [
    "### pretest, posttest 결과가 다를 것이다."
   ]
  },
  {
   "cell_type": "code",
   "execution_count": 6,
   "id": "e8830982",
   "metadata": {},
   "outputs": [
    {
     "name": "stderr",
     "output_type": "stream",
     "text": [
      "<ipython-input-6-0346e3b47137>:1: FutureWarning: Indexing with multiple keys (implicitly converted to a tuple of keys) will be deprecated, use a list instead.\n",
      "  df.groupby([\"school_setting\"])[\"pretest\", \"posttest\"].describe()\n"
     ]
    },
    {
     "data": {
      "text/html": [
       "<div>\n",
       "<style scoped>\n",
       "    .dataframe tbody tr th:only-of-type {\n",
       "        vertical-align: middle;\n",
       "    }\n",
       "\n",
       "    .dataframe tbody tr th {\n",
       "        vertical-align: top;\n",
       "    }\n",
       "\n",
       "    .dataframe thead tr th {\n",
       "        text-align: left;\n",
       "    }\n",
       "\n",
       "    .dataframe thead tr:last-of-type th {\n",
       "        text-align: right;\n",
       "    }\n",
       "</style>\n",
       "<table border=\"1\" class=\"dataframe\">\n",
       "  <thead>\n",
       "    <tr>\n",
       "      <th></th>\n",
       "      <th colspan=\"8\" halign=\"left\">pretest</th>\n",
       "      <th colspan=\"8\" halign=\"left\">posttest</th>\n",
       "    </tr>\n",
       "    <tr>\n",
       "      <th></th>\n",
       "      <th>count</th>\n",
       "      <th>mean</th>\n",
       "      <th>std</th>\n",
       "      <th>min</th>\n",
       "      <th>25%</th>\n",
       "      <th>50%</th>\n",
       "      <th>75%</th>\n",
       "      <th>max</th>\n",
       "      <th>count</th>\n",
       "      <th>mean</th>\n",
       "      <th>std</th>\n",
       "      <th>min</th>\n",
       "      <th>25%</th>\n",
       "      <th>50%</th>\n",
       "      <th>75%</th>\n",
       "      <th>max</th>\n",
       "    </tr>\n",
       "    <tr>\n",
       "      <th>school_setting</th>\n",
       "      <th></th>\n",
       "      <th></th>\n",
       "      <th></th>\n",
       "      <th></th>\n",
       "      <th></th>\n",
       "      <th></th>\n",
       "      <th></th>\n",
       "      <th></th>\n",
       "      <th></th>\n",
       "      <th></th>\n",
       "      <th></th>\n",
       "      <th></th>\n",
       "      <th></th>\n",
       "      <th></th>\n",
       "      <th></th>\n",
       "      <th></th>\n",
       "    </tr>\n",
       "  </thead>\n",
       "  <tbody>\n",
       "    <tr>\n",
       "      <th>Rural</th>\n",
       "      <td>510.0</td>\n",
       "      <td>51.490196</td>\n",
       "      <td>10.816876</td>\n",
       "      <td>26.0</td>\n",
       "      <td>44.0</td>\n",
       "      <td>53.0</td>\n",
       "      <td>60.0</td>\n",
       "      <td>73.0</td>\n",
       "      <td>510.0</td>\n",
       "      <td>64.050980</td>\n",
       "      <td>12.093827</td>\n",
       "      <td>36.0</td>\n",
       "      <td>56.0</td>\n",
       "      <td>67.0</td>\n",
       "      <td>73.0</td>\n",
       "      <td>88.0</td>\n",
       "    </tr>\n",
       "    <tr>\n",
       "      <th>Suburban</th>\n",
       "      <td>717.0</td>\n",
       "      <td>63.841004</td>\n",
       "      <td>10.583789</td>\n",
       "      <td>36.0</td>\n",
       "      <td>57.0</td>\n",
       "      <td>64.0</td>\n",
       "      <td>71.0</td>\n",
       "      <td>91.0</td>\n",
       "      <td>717.0</td>\n",
       "      <td>76.037657</td>\n",
       "      <td>11.046624</td>\n",
       "      <td>49.0</td>\n",
       "      <td>68.0</td>\n",
       "      <td>76.0</td>\n",
       "      <td>84.0</td>\n",
       "      <td>99.0</td>\n",
       "    </tr>\n",
       "    <tr>\n",
       "      <th>Urban</th>\n",
       "      <td>906.0</td>\n",
       "      <td>49.875276</td>\n",
       "      <td>13.556630</td>\n",
       "      <td>22.0</td>\n",
       "      <td>39.0</td>\n",
       "      <td>48.0</td>\n",
       "      <td>59.0</td>\n",
       "      <td>93.0</td>\n",
       "      <td>906.0</td>\n",
       "      <td>61.748344</td>\n",
       "      <td>13.596417</td>\n",
       "      <td>32.0</td>\n",
       "      <td>51.0</td>\n",
       "      <td>59.0</td>\n",
       "      <td>70.0</td>\n",
       "      <td>100.0</td>\n",
       "    </tr>\n",
       "  </tbody>\n",
       "</table>\n",
       "</div>"
      ],
      "text/plain": [
       "               pretest                                                      \\\n",
       "                 count       mean        std   min   25%   50%   75%   max   \n",
       "school_setting                                                               \n",
       "Rural            510.0  51.490196  10.816876  26.0  44.0  53.0  60.0  73.0   \n",
       "Suburban         717.0  63.841004  10.583789  36.0  57.0  64.0  71.0  91.0   \n",
       "Urban            906.0  49.875276  13.556630  22.0  39.0  48.0  59.0  93.0   \n",
       "\n",
       "               posttest                                                       \n",
       "                  count       mean        std   min   25%   50%   75%    max  \n",
       "school_setting                                                                \n",
       "Rural             510.0  64.050980  12.093827  36.0  56.0  67.0  73.0   88.0  \n",
       "Suburban          717.0  76.037657  11.046624  49.0  68.0  76.0  84.0   99.0  \n",
       "Urban             906.0  61.748344  13.596417  32.0  51.0  59.0  70.0  100.0  "
      ]
     },
     "execution_count": 6,
     "metadata": {},
     "output_type": "execute_result"
    }
   ],
   "source": [
    "df.groupby([\"school_setting\"])[\"pretest\", \"posttest\"].describe()"
   ]
  },
  {
   "cell_type": "markdown",
   "id": "cb48705f",
   "metadata": {},
   "source": [
    "* mean: Suburban > Urban > Rural\n",
    "* min: Suburban > Rural > Urban\n",
    "* max: Urban > Suburban > Rural"
   ]
  },
  {
   "cell_type": "code",
   "execution_count": 7,
   "id": "f7cd3fdc",
   "metadata": {},
   "outputs": [
    {
     "data": {
      "text/plain": [
       "<AxesSubplot:xlabel='pretest', ylabel='count'>"
      ]
     },
     "execution_count": 7,
     "metadata": {},
     "output_type": "execute_result"
    },
    {
     "data": {
      "image/png": "[encoded data removed]",
      "text/plain": [
       "<Figure size 1440x576 with 1 Axes>"
      ]
     },
     "metadata": {
      "needs_background": "light"
     },
     "output_type": "display_data"
    }
   ],
   "source": [
    "plt.figure(figsize=(20, 8))\n",
    "sns.countplot(data=df, x=\"pretest\", hue=\"school_setting\")"
   ]
  },
  {
   "cell_type": "code",
   "execution_count": 8,
   "id": "8477676d",
   "metadata": {},
   "outputs": [
    {
     "data": {
      "text/plain": [
       "<AxesSubplot:xlabel='school_setting', ylabel='pretest'>"
      ]
     },
     "execution_count": 8,
     "metadata": {},
     "output_type": "execute_result"
    },
    {
     "data": {
      "image/png": "[encoded data removed]",
      "text/plain": [
       "<Figure size 432x288 with 1 Axes>"
      ]
     },
     "metadata": {
      "needs_background": "light"
     },
     "output_type": "display_data"
    }
   ],
   "source": [
    "#plt.figure(figsize=(20, 8))\n",
    "sns.barplot(data=df, x=\"school_setting\", y=\"pretest\")"
   ]
  },
  {
   "cell_type": "code",
   "execution_count": 9,
   "id": "4f23d347",
   "metadata": {},
   "outputs": [
    {
     "data": {
      "text/plain": [
       "<AxesSubplot:xlabel='school_setting', ylabel='pretest'>"
      ]
     },
     "execution_count": 9,
     "metadata": {},
     "output_type": "execute_result"
    },
    {
     "data": {
      "image/png": "[encoded data removed]",
      "text/plain": [
       "<Figure size 432x288 with 1 Axes>"
      ]
     },
     "metadata": {
      "needs_background": "light"
     },
     "output_type": "display_data"
    }
   ],
   "source": [
    "sns.boxplot(data=df, x=\"school_setting\", y=\"pretest\")"
   ]
  },
  {
   "cell_type": "markdown",
   "id": "b7a41701",
   "metadata": {},
   "source": [
    "Urban에 이상치가 있는것으로 예측됨"
   ]
  },
  {
   "cell_type": "code",
   "execution_count": 10,
   "id": "43b3cb86",
   "metadata": {},
   "outputs": [
    {
     "data": {
      "text/plain": [
       "((906, 11), (717, 11), (510, 11))"
      ]
     },
     "execution_count": 10,
     "metadata": {},
     "output_type": "execute_result"
    }
   ],
   "source": [
    "df_urban = df[df[\"school_setting\"]==\"Urban\"]\n",
    "df_suburban = df[df[\"school_setting\"]==\"Suburban\"]\n",
    "df_rural = df[df[\"school_setting\"]==\"Rural\"]\n",
    "\n",
    "df_urban.shape, df_suburban.shape, df_rural.shape"
   ]
  },
  {
   "cell_type": "code",
   "execution_count": 11,
   "id": "1c39e96b",
   "metadata": {},
   "outputs": [
    {
     "name": "stderr",
     "output_type": "stream",
     "text": [
      "/opt/anaconda3/lib/python3.8/site-packages/seaborn/distributions.py:2557: FutureWarning: `distplot` is a deprecated function and will be removed in a future version. Please adapt your code to use either `displot` (a figure-level function with similar flexibility) or `kdeplot` (an axes-level function for kernel density plots).\n",
      "  warnings.warn(msg, FutureWarning)\n",
      "/opt/anaconda3/lib/python3.8/site-packages/seaborn/distributions.py:2557: FutureWarning: `distplot` is a deprecated function and will be removed in a future version. Please adapt your code to use either `displot` (a figure-level function with similar flexibility) or `kdeplot` (an axes-level function for kernel density plots).\n",
      "  warnings.warn(msg, FutureWarning)\n",
      "/opt/anaconda3/lib/python3.8/site-packages/seaborn/distributions.py:2557: FutureWarning: `distplot` is a deprecated function and will be removed in a future version. Please adapt your code to use either `displot` (a figure-level function with similar flexibility) or `kdeplot` (an axes-level function for kernel density plots).\n",
      "  warnings.warn(msg, FutureWarning)\n"
     ]
    },
    {
     "data": {
      "text/plain": [
       "<AxesSubplot:xlabel='pretest', ylabel='Density'>"
      ]
     },
     "execution_count": 11,
     "metadata": {},
     "output_type": "execute_result"
    },
    {
     "data": {
      "image/png": "[encoded data removed]",
      "text/plain": [
       "<Figure size 432x288 with 1 Axes>"
      ]
     },
     "metadata": {
      "needs_background": "light"
     },
     "output_type": "display_data"
    }
   ],
   "source": [
    "#pretest 결과\n",
    "sns.distplot(df_urban[\"pretest\"], hist=False, label=\"Urban\")\n",
    "sns.distplot(df_suburban[\"pretest\"], hist=False, label=\"Suburban\")\n",
    "sns.distplot(df_rural[\"pretest\"], hist=False, label=\"Rural\")"
   ]
  },
  {
   "cell_type": "code",
   "execution_count": 12,
   "id": "168a0a9f",
   "metadata": {},
   "outputs": [
    {
     "name": "stderr",
     "output_type": "stream",
     "text": [
      "/opt/anaconda3/lib/python3.8/site-packages/seaborn/distributions.py:2557: FutureWarning: `distplot` is a deprecated function and will be removed in a future version. Please adapt your code to use either `displot` (a figure-level function with similar flexibility) or `kdeplot` (an axes-level function for kernel density plots).\n",
      "  warnings.warn(msg, FutureWarning)\n",
      "/opt/anaconda3/lib/python3.8/site-packages/seaborn/distributions.py:2557: FutureWarning: `distplot` is a deprecated function and will be removed in a future version. Please adapt your code to use either `displot` (a figure-level function with similar flexibility) or `kdeplot` (an axes-level function for kernel density plots).\n",
      "  warnings.warn(msg, FutureWarning)\n",
      "/opt/anaconda3/lib/python3.8/site-packages/seaborn/distributions.py:2557: FutureWarning: `distplot` is a deprecated function and will be removed in a future version. Please adapt your code to use either `displot` (a figure-level function with similar flexibility) or `kdeplot` (an axes-level function for kernel density plots).\n",
      "  warnings.warn(msg, FutureWarning)\n"
     ]
    },
    {
     "data": {
      "text/plain": [
       "<AxesSubplot:xlabel='posttest', ylabel='Density'>"
      ]
     },
     "execution_count": 12,
     "metadata": {},
     "output_type": "execute_result"
    },
    {
     "data": {
      "image/png": "[encoded data removed]",
      "text/plain": [
       "<Figure size 432x288 with 1 Axes>"
      ]
     },
     "metadata": {
      "needs_background": "light"
     },
     "output_type": "display_data"
    }
   ],
   "source": [
    "#posttest 결과\n",
    "sns.distplot(df_urban[\"posttest\"], hist=False)\n",
    "sns.distplot(df_suburban[\"posttest\"], hist=False)\n",
    "sns.distplot(df_rural[\"posttest\"], hist=False)"
   ]
  },
  {
   "cell_type": "markdown",
   "id": "b3c71726",
   "metadata": {},
   "source": [
    "### 소득 수준이 다를 것이다."
   ]
  },
  {
   "cell_type": "code",
   "execution_count": 13,
   "id": "03f1ac3d",
   "metadata": {},
   "outputs": [
    {
     "data": {
      "text/plain": [
       "Does not qualify                    1215\n",
       "Qualifies for reduced/free lunch     918\n",
       "Name: lunch, dtype: int64"
      ]
     },
     "execution_count": 13,
     "metadata": {},
     "output_type": "execute_result"
    }
   ],
   "source": [
    "df[\"lunch\"].value_counts()"
   ]
  },
  {
   "cell_type": "code",
   "execution_count": 14,
   "id": "43b3fe56",
   "metadata": {},
   "outputs": [],
   "source": [
    "\n",
    "df[\"lunch\"] = df[\"lunch\"].replace([\"Does not qualify\", \"Qualifies for reduced/free lunch\"], [0,1], regex=True)\n",
    "#object => 0과 1로 변경\n"
   ]
  },
  {
   "cell_type": "code",
   "execution_count": 15,
   "id": "65bf428d",
   "metadata": {},
   "outputs": [
    {
     "data": {
      "text/html": [
       "<div>\n",
       "<style scoped>\n",
       "    .dataframe tbody tr th:only-of-type {\n",
       "        vertical-align: middle;\n",
       "    }\n",
       "\n",
       "    .dataframe tbody tr th {\n",
       "        vertical-align: top;\n",
       "    }\n",
       "\n",
       "    .dataframe thead th {\n",
       "        text-align: right;\n",
       "    }\n",
       "</style>\n",
       "<table border=\"1\" class=\"dataframe\">\n",
       "  <thead>\n",
       "    <tr style=\"text-align: right;\">\n",
       "      <th></th>\n",
       "      <th>school</th>\n",
       "      <th>school_setting</th>\n",
       "      <th>school_type</th>\n",
       "      <th>classroom</th>\n",
       "      <th>teaching_method</th>\n",
       "      <th>n_student</th>\n",
       "      <th>student_id</th>\n",
       "      <th>gender</th>\n",
       "      <th>lunch</th>\n",
       "      <th>pretest</th>\n",
       "      <th>posttest</th>\n",
       "    </tr>\n",
       "  </thead>\n",
       "  <tbody>\n",
       "    <tr>\n",
       "      <th>0</th>\n",
       "      <td>ANKYI</td>\n",
       "      <td>Urban</td>\n",
       "      <td>Non-public</td>\n",
       "      <td>6OL</td>\n",
       "      <td>Standard</td>\n",
       "      <td>20.0</td>\n",
       "      <td>2FHT3</td>\n",
       "      <td>Female</td>\n",
       "      <td>0</td>\n",
       "      <td>62.0</td>\n",
       "      <td>72.0</td>\n",
       "    </tr>\n",
       "    <tr>\n",
       "      <th>1</th>\n",
       "      <td>ANKYI</td>\n",
       "      <td>Urban</td>\n",
       "      <td>Non-public</td>\n",
       "      <td>6OL</td>\n",
       "      <td>Standard</td>\n",
       "      <td>20.0</td>\n",
       "      <td>3JIVH</td>\n",
       "      <td>Female</td>\n",
       "      <td>0</td>\n",
       "      <td>66.0</td>\n",
       "      <td>79.0</td>\n",
       "    </tr>\n",
       "    <tr>\n",
       "      <th>2</th>\n",
       "      <td>ANKYI</td>\n",
       "      <td>Urban</td>\n",
       "      <td>Non-public</td>\n",
       "      <td>6OL</td>\n",
       "      <td>Standard</td>\n",
       "      <td>20.0</td>\n",
       "      <td>3XOWE</td>\n",
       "      <td>Male</td>\n",
       "      <td>0</td>\n",
       "      <td>64.0</td>\n",
       "      <td>76.0</td>\n",
       "    </tr>\n",
       "    <tr>\n",
       "      <th>3</th>\n",
       "      <td>ANKYI</td>\n",
       "      <td>Urban</td>\n",
       "      <td>Non-public</td>\n",
       "      <td>6OL</td>\n",
       "      <td>Standard</td>\n",
       "      <td>20.0</td>\n",
       "      <td>556O0</td>\n",
       "      <td>Female</td>\n",
       "      <td>0</td>\n",
       "      <td>61.0</td>\n",
       "      <td>77.0</td>\n",
       "    </tr>\n",
       "    <tr>\n",
       "      <th>4</th>\n",
       "      <td>ANKYI</td>\n",
       "      <td>Urban</td>\n",
       "      <td>Non-public</td>\n",
       "      <td>6OL</td>\n",
       "      <td>Standard</td>\n",
       "      <td>20.0</td>\n",
       "      <td>74LOE</td>\n",
       "      <td>Male</td>\n",
       "      <td>0</td>\n",
       "      <td>64.0</td>\n",
       "      <td>76.0</td>\n",
       "    </tr>\n",
       "  </tbody>\n",
       "</table>\n",
       "</div>"
      ],
      "text/plain": [
       "  school school_setting school_type classroom teaching_method  n_student  \\\n",
       "0  ANKYI          Urban  Non-public       6OL        Standard       20.0   \n",
       "1  ANKYI          Urban  Non-public       6OL        Standard       20.0   \n",
       "2  ANKYI          Urban  Non-public       6OL        Standard       20.0   \n",
       "3  ANKYI          Urban  Non-public       6OL        Standard       20.0   \n",
       "4  ANKYI          Urban  Non-public       6OL        Standard       20.0   \n",
       "\n",
       "  student_id  gender  lunch  pretest  posttest  \n",
       "0      2FHT3  Female      0     62.0      72.0  \n",
       "1      3JIVH  Female      0     66.0      79.0  \n",
       "2      3XOWE    Male      0     64.0      76.0  \n",
       "3      556O0  Female      0     61.0      77.0  \n",
       "4      74LOE    Male      0     64.0      76.0  "
      ]
     },
     "execution_count": 15,
     "metadata": {},
     "output_type": "execute_result"
    }
   ],
   "source": [
    "df.head()"
   ]
  },
  {
   "cell_type": "code",
   "execution_count": 16,
   "id": "16f6b4d2",
   "metadata": {},
   "outputs": [
    {
     "data": {
      "text/html": [
       "<div>\n",
       "<style scoped>\n",
       "    .dataframe tbody tr th:only-of-type {\n",
       "        vertical-align: middle;\n",
       "    }\n",
       "\n",
       "    .dataframe tbody tr th {\n",
       "        vertical-align: top;\n",
       "    }\n",
       "\n",
       "    .dataframe thead th {\n",
       "        text-align: right;\n",
       "    }\n",
       "</style>\n",
       "<table border=\"1\" class=\"dataframe\">\n",
       "  <thead>\n",
       "    <tr style=\"text-align: right;\">\n",
       "      <th></th>\n",
       "      <th>school</th>\n",
       "      <th>school_setting</th>\n",
       "      <th>school_type</th>\n",
       "      <th>classroom</th>\n",
       "      <th>teaching_method</th>\n",
       "      <th>n_student</th>\n",
       "      <th>student_id</th>\n",
       "      <th>gender</th>\n",
       "      <th>lunch</th>\n",
       "      <th>pretest</th>\n",
       "      <th>posttest</th>\n",
       "    </tr>\n",
       "  </thead>\n",
       "  <tbody>\n",
       "    <tr>\n",
       "      <th>2128</th>\n",
       "      <td>ZOWMK</td>\n",
       "      <td>Urban</td>\n",
       "      <td>Public</td>\n",
       "      <td>ZBH</td>\n",
       "      <td>Standard</td>\n",
       "      <td>30.0</td>\n",
       "      <td>T8LSK</td>\n",
       "      <td>Female</td>\n",
       "      <td>0</td>\n",
       "      <td>39.0</td>\n",
       "      <td>55.0</td>\n",
       "    </tr>\n",
       "    <tr>\n",
       "      <th>2129</th>\n",
       "      <td>ZOWMK</td>\n",
       "      <td>Urban</td>\n",
       "      <td>Public</td>\n",
       "      <td>ZBH</td>\n",
       "      <td>Standard</td>\n",
       "      <td>30.0</td>\n",
       "      <td>VNP26</td>\n",
       "      <td>Female</td>\n",
       "      <td>1</td>\n",
       "      <td>38.0</td>\n",
       "      <td>46.0</td>\n",
       "    </tr>\n",
       "    <tr>\n",
       "      <th>2130</th>\n",
       "      <td>ZOWMK</td>\n",
       "      <td>Urban</td>\n",
       "      <td>Public</td>\n",
       "      <td>ZBH</td>\n",
       "      <td>Standard</td>\n",
       "      <td>30.0</td>\n",
       "      <td>YDR1Z</td>\n",
       "      <td>Female</td>\n",
       "      <td>1</td>\n",
       "      <td>45.0</td>\n",
       "      <td>51.0</td>\n",
       "    </tr>\n",
       "    <tr>\n",
       "      <th>2131</th>\n",
       "      <td>ZOWMK</td>\n",
       "      <td>Urban</td>\n",
       "      <td>Public</td>\n",
       "      <td>ZBH</td>\n",
       "      <td>Standard</td>\n",
       "      <td>30.0</td>\n",
       "      <td>YUEIH</td>\n",
       "      <td>Male</td>\n",
       "      <td>1</td>\n",
       "      <td>46.0</td>\n",
       "      <td>53.0</td>\n",
       "    </tr>\n",
       "    <tr>\n",
       "      <th>2132</th>\n",
       "      <td>ZOWMK</td>\n",
       "      <td>Urban</td>\n",
       "      <td>Public</td>\n",
       "      <td>ZBH</td>\n",
       "      <td>Standard</td>\n",
       "      <td>30.0</td>\n",
       "      <td>ZVCQ8</td>\n",
       "      <td>Male</td>\n",
       "      <td>1</td>\n",
       "      <td>41.0</td>\n",
       "      <td>48.0</td>\n",
       "    </tr>\n",
       "  </tbody>\n",
       "</table>\n",
       "</div>"
      ],
      "text/plain": [
       "     school school_setting school_type classroom teaching_method  n_student  \\\n",
       "2128  ZOWMK          Urban      Public       ZBH        Standard       30.0   \n",
       "2129  ZOWMK          Urban      Public       ZBH        Standard       30.0   \n",
       "2130  ZOWMK          Urban      Public       ZBH        Standard       30.0   \n",
       "2131  ZOWMK          Urban      Public       ZBH        Standard       30.0   \n",
       "2132  ZOWMK          Urban      Public       ZBH        Standard       30.0   \n",
       "\n",
       "     student_id  gender  lunch  pretest  posttest  \n",
       "2128      T8LSK  Female      0     39.0      55.0  \n",
       "2129      VNP26  Female      1     38.0      46.0  \n",
       "2130      YDR1Z  Female      1     45.0      51.0  \n",
       "2131      YUEIH    Male      1     46.0      53.0  \n",
       "2132      ZVCQ8    Male      1     41.0      48.0  "
      ]
     },
     "execution_count": 16,
     "metadata": {},
     "output_type": "execute_result"
    }
   ],
   "source": [
    "df.tail()"
   ]
  },
  {
   "cell_type": "code",
   "execution_count": 17,
   "id": "0789d577",
   "metadata": {},
   "outputs": [
    {
     "data": {
      "text/plain": [
       "<AxesSubplot:xlabel='lunch', ylabel='count'>"
      ]
     },
     "execution_count": 17,
     "metadata": {},
     "output_type": "execute_result"
    },
    {
     "data": {
      "image/png": "[encoded data removed]",
      "text/plain": [
       "<Figure size 432x288 with 1 Axes>"
      ]
     },
     "metadata": {
      "needs_background": "light"
     },
     "output_type": "display_data"
    }
   ],
   "source": [
    "sns.countplot(data=df, x=\"lunch\", hue=\"school_setting\")"
   ]
  },
  {
   "cell_type": "markdown",
   "id": "b5d99b79",
   "metadata": {},
   "source": [
    "* Suburban은 부유한 계층(0)이 많고 저소득 계층(1)이 적음\n",
    "* Urban은 둘 다 많음"
   ]
  },
  {
   "cell_type": "markdown",
   "id": "778e7623",
   "metadata": {},
   "source": [
    "## 학교 타입(공립, 사립)에 따라 시험 결과가 다를 것이다."
   ]
  },
  {
   "cell_type": "code",
   "execution_count": 18,
   "id": "aae057b6",
   "metadata": {},
   "outputs": [
    {
     "name": "stderr",
     "output_type": "stream",
     "text": [
      "<ipython-input-18-abb2cdf5ded4>:1: FutureWarning: Indexing with multiple keys (implicitly converted to a tuple of keys) will be deprecated, use a list instead.\n",
      "  df.groupby([\"school_type\"])[\"pretest\", \"posttest\"].describe()\n"
     ]
    },
    {
     "data": {
      "text/html": [
       "<div>\n",
       "<style scoped>\n",
       "    .dataframe tbody tr th:only-of-type {\n",
       "        vertical-align: middle;\n",
       "    }\n",
       "\n",
       "    .dataframe tbody tr th {\n",
       "        vertical-align: top;\n",
       "    }\n",
       "\n",
       "    .dataframe thead tr th {\n",
       "        text-align: left;\n",
       "    }\n",
       "\n",
       "    .dataframe thead tr:last-of-type th {\n",
       "        text-align: right;\n",
       "    }\n",
       "</style>\n",
       "<table border=\"1\" class=\"dataframe\">\n",
       "  <thead>\n",
       "    <tr>\n",
       "      <th></th>\n",
       "      <th colspan=\"8\" halign=\"left\">pretest</th>\n",
       "      <th colspan=\"8\" halign=\"left\">posttest</th>\n",
       "    </tr>\n",
       "    <tr>\n",
       "      <th></th>\n",
       "      <th>count</th>\n",
       "      <th>mean</th>\n",
       "      <th>std</th>\n",
       "      <th>min</th>\n",
       "      <th>25%</th>\n",
       "      <th>50%</th>\n",
       "      <th>75%</th>\n",
       "      <th>max</th>\n",
       "      <th>count</th>\n",
       "      <th>mean</th>\n",
       "      <th>std</th>\n",
       "      <th>min</th>\n",
       "      <th>25%</th>\n",
       "      <th>50%</th>\n",
       "      <th>75%</th>\n",
       "      <th>max</th>\n",
       "    </tr>\n",
       "    <tr>\n",
       "      <th>school_type</th>\n",
       "      <th></th>\n",
       "      <th></th>\n",
       "      <th></th>\n",
       "      <th></th>\n",
       "      <th></th>\n",
       "      <th></th>\n",
       "      <th></th>\n",
       "      <th></th>\n",
       "      <th></th>\n",
       "      <th></th>\n",
       "      <th></th>\n",
       "      <th></th>\n",
       "      <th></th>\n",
       "      <th></th>\n",
       "      <th></th>\n",
       "      <th></th>\n",
       "    </tr>\n",
       "  </thead>\n",
       "  <tbody>\n",
       "    <tr>\n",
       "      <th>Non-public</th>\n",
       "      <td>551.0</td>\n",
       "      <td>63.254083</td>\n",
       "      <td>10.342184</td>\n",
       "      <td>37.0</td>\n",
       "      <td>58.0</td>\n",
       "      <td>64.0</td>\n",
       "      <td>70.0</td>\n",
       "      <td>93.0</td>\n",
       "      <td>551.0</td>\n",
       "      <td>75.961887</td>\n",
       "      <td>10.539812</td>\n",
       "      <td>44.0</td>\n",
       "      <td>71.0</td>\n",
       "      <td>77.0</td>\n",
       "      <td>82.0</td>\n",
       "      <td>100.0</td>\n",
       "    </tr>\n",
       "    <tr>\n",
       "      <th>Public</th>\n",
       "      <td>1582.0</td>\n",
       "      <td>52.065740</td>\n",
       "      <td>13.360500</td>\n",
       "      <td>22.0</td>\n",
       "      <td>42.0</td>\n",
       "      <td>52.0</td>\n",
       "      <td>61.0</td>\n",
       "      <td>91.0</td>\n",
       "      <td>1582.0</td>\n",
       "      <td>64.016435</td>\n",
       "      <td>13.721537</td>\n",
       "      <td>32.0</td>\n",
       "      <td>54.0</td>\n",
       "      <td>63.0</td>\n",
       "      <td>73.0</td>\n",
       "      <td>99.0</td>\n",
       "    </tr>\n",
       "  </tbody>\n",
       "</table>\n",
       "</div>"
      ],
      "text/plain": [
       "            pretest                                                      \\\n",
       "              count       mean        std   min   25%   50%   75%   max   \n",
       "school_type                                                               \n",
       "Non-public    551.0  63.254083  10.342184  37.0  58.0  64.0  70.0  93.0   \n",
       "Public       1582.0  52.065740  13.360500  22.0  42.0  52.0  61.0  91.0   \n",
       "\n",
       "            posttest                                                       \n",
       "               count       mean        std   min   25%   50%   75%    max  \n",
       "school_type                                                                \n",
       "Non-public     551.0  75.961887  10.539812  44.0  71.0  77.0  82.0  100.0  \n",
       "Public        1582.0  64.016435  13.721537  32.0  54.0  63.0  73.0   99.0  "
      ]
     },
     "execution_count": 18,
     "metadata": {},
     "output_type": "execute_result"
    }
   ],
   "source": [
    "df.groupby([\"school_type\"])[\"pretest\", \"posttest\"].describe()"
   ]
  },
  {
   "cell_type": "code",
   "execution_count": 19,
   "id": "d19e3180",
   "metadata": {},
   "outputs": [
    {
     "data": {
      "text/plain": [
       "<AxesSubplot:xlabel='school_type', ylabel='pretest'>"
      ]
     },
     "execution_count": 19,
     "metadata": {},
     "output_type": "execute_result"
    },
    {
     "data": {
      "image/png": "[encoded data removed]",
      "text/plain": [
       "<Figure size 432x288 with 1 Axes>"
      ]
     },
     "metadata": {
      "needs_background": "light"
     },
     "output_type": "display_data"
    }
   ],
   "source": [
    "sns.barplot(data=df, x=\"school_type\", y=\"pretest\")"
   ]
  },
  {
   "cell_type": "code",
   "execution_count": 20,
   "id": "d14ab880",
   "metadata": {},
   "outputs": [
    {
     "data": {
      "text/plain": [
       "<AxesSubplot:xlabel='school_type', ylabel='posttest'>"
      ]
     },
     "execution_count": 20,
     "metadata": {},
     "output_type": "execute_result"
    },
    {
     "data": {
      "image/png": "[encoded data removed]",
      "text/plain": [
       "<Figure size 432x288 with 1 Axes>"
      ]
     },
     "metadata": {
      "needs_background": "light"
     },
     "output_type": "display_data"
    }
   ],
   "source": [
    "sns.barplot(data=df, x=\"school_type\", y=\"posttest\")"
   ]
  },
  {
   "cell_type": "code",
   "execution_count": 21,
   "id": "d7395b09",
   "metadata": {},
   "outputs": [
    {
     "data": {
      "text/plain": [
       "<AxesSubplot:xlabel='school_type', ylabel='pretest'>"
      ]
     },
     "execution_count": 21,
     "metadata": {},
     "output_type": "execute_result"
    },
    {
     "data": {
      "image/png": "[encoded data removed]",
      "text/plain": [
       "<Figure size 432x288 with 1 Axes>"
      ]
     },
     "metadata": {
      "needs_background": "light"
     },
     "output_type": "display_data"
    }
   ],
   "source": [
    "sns.boxplot(data=df, x=\"school_type\", y=\"pretest\", hue=\"school_setting\")"
   ]
  },
  {
   "cell_type": "code",
   "execution_count": 22,
   "id": "6ee189d0",
   "metadata": {},
   "outputs": [
    {
     "name": "stdout",
     "output_type": "stream",
     "text": [
      "71.32486388384754 28.67513611615245\n",
      "51.959544879898864 48.040455120101136\n"
     ]
    }
   ],
   "source": [
    "lunch_0_nonP = df[(df[\"lunch\"]==0) \n",
    "   & (df[\"school_type\"]==\"Non-public\")].count()[0]\n",
    "lunch_1_nonP = df[(df[\"lunch\"]==1) \n",
    "   & (df[\"school_type\"]==\"Non-public\")].count()[0]\n",
    "nonP = df[df[\"school_type\"]==\"Non-public\"].count()[0]\n",
    "\n",
    "lunch_0_P = df[(df[\"lunch\"]==0) \n",
    "   & (df[\"school_type\"]==\"Public\")].count()[0]\n",
    "lunch_1_P = df[(df[\"lunch\"]==1) \n",
    "   & (df[\"school_type\"]==\"Public\")].count()[0]\n",
    "P = df[df[\"school_type\"]==\"Public\"].count()[0]\n",
    "\n",
    "#사립 학교의 고소득/ 저소득 비율\n",
    "print(lunch_0_nonP/nonP * 100, lunch_1_nonP/nonP * 100)\n",
    "\n",
    "#공립 학교의 고소득/ 저소득 비율\n",
    "print(lunch_0_P/P * 100, lunch_1_P/P * 100)"
   ]
  },
  {
   "cell_type": "code",
   "execution_count": 23,
   "id": "d1bcb0c8",
   "metadata": {},
   "outputs": [
    {
     "data": {
      "text/plain": [
       "<AxesSubplot:xlabel='school_type', ylabel='count'>"
      ]
     },
     "execution_count": 23,
     "metadata": {},
     "output_type": "execute_result"
    },
    {
     "data": {
      "image/png": "[encoded data removed]",
      "text/plain": [
       "<Figure size 432x288 with 1 Axes>"
      ]
     },
     "metadata": {
      "needs_background": "light"
     },
     "output_type": "display_data"
    }
   ],
   "source": [
    "#소득 수준 확인\n",
    "sns.countplot(data=df, x=\"school_type\", hue=\"lunch\")"
   ]
  },
  {
   "cell_type": "markdown",
   "id": "5b186775",
   "metadata": {},
   "source": [
    "## 교육 방식(실험적, 기존)에 따라 시험 결과가 다를 것이다."
   ]
  },
  {
   "cell_type": "code",
   "execution_count": 24,
   "id": "c7cbca5e",
   "metadata": {},
   "outputs": [],
   "source": [
    "df_experimental = df[df[\"teaching_method\"]==\"Experimental\"]\n",
    "df_standard = df[df[\"teaching_method\"]==\"Standard\"]"
   ]
  },
  {
   "cell_type": "code",
   "execution_count": 25,
   "id": "5d6ff2f4",
   "metadata": {},
   "outputs": [
    {
     "name": "stderr",
     "output_type": "stream",
     "text": [
      "/opt/anaconda3/lib/python3.8/site-packages/seaborn/distributions.py:2557: FutureWarning: `distplot` is a deprecated function and will be removed in a future version. Please adapt your code to use either `displot` (a figure-level function with similar flexibility) or `kdeplot` (an axes-level function for kernel density plots).\n",
      "  warnings.warn(msg, FutureWarning)\n",
      "/opt/anaconda3/lib/python3.8/site-packages/seaborn/distributions.py:2557: FutureWarning: `distplot` is a deprecated function and will be removed in a future version. Please adapt your code to use either `displot` (a figure-level function with similar flexibility) or `kdeplot` (an axes-level function for kernel density plots).\n",
      "  warnings.warn(msg, FutureWarning)\n"
     ]
    },
    {
     "data": {
      "text/plain": [
       "<AxesSubplot:xlabel='pretest', ylabel='Density'>"
      ]
     },
     "execution_count": 25,
     "metadata": {},
     "output_type": "execute_result"
    },
    {
     "data": {
      "image/png": "[encoded data removed]",
      "text/plain": [
       "<Figure size 432x288 with 1 Axes>"
      ]
     },
     "metadata": {
      "needs_background": "light"
     },
     "output_type": "display_data"
    }
   ],
   "source": [
    "sns.distplot(df_experimental[\"pretest\"], hist=False)\n",
    "sns.distplot(df_standard[\"pretest\"], hist=False)"
   ]
  },
  {
   "cell_type": "code",
   "execution_count": 26,
   "id": "39183d09",
   "metadata": {},
   "outputs": [
    {
     "name": "stderr",
     "output_type": "stream",
     "text": [
      "/opt/anaconda3/lib/python3.8/site-packages/seaborn/distributions.py:2557: FutureWarning: `distplot` is a deprecated function and will be removed in a future version. Please adapt your code to use either `displot` (a figure-level function with similar flexibility) or `kdeplot` (an axes-level function for kernel density plots).\n",
      "  warnings.warn(msg, FutureWarning)\n",
      "/opt/anaconda3/lib/python3.8/site-packages/seaborn/distributions.py:2557: FutureWarning: `distplot` is a deprecated function and will be removed in a future version. Please adapt your code to use either `displot` (a figure-level function with similar flexibility) or `kdeplot` (an axes-level function for kernel density plots).\n",
      "  warnings.warn(msg, FutureWarning)\n"
     ]
    },
    {
     "data": {
      "text/plain": [
       "<AxesSubplot:xlabel='posttest', ylabel='Density'>"
      ]
     },
     "execution_count": 26,
     "metadata": {},
     "output_type": "execute_result"
    },
    {
     "data": {
      "image/png": "[encoded data removed]",
      "text/plain": [
       "<Figure size 432x288 with 1 Axes>"
      ]
     },
     "metadata": {
      "needs_background": "light"
     },
     "output_type": "display_data"
    }
   ],
   "source": [
    "sns.distplot(df_experimental[\"posttest\"], hist=False)\n",
    "sns.distplot(df_standard[\"posttest\"], hist=False)"
   ]
  },
  {
   "cell_type": "code",
   "execution_count": 27,
   "id": "c7ddfa92",
   "metadata": {},
   "outputs": [
    {
     "data": {
      "text/plain": [
       "<AxesSubplot:xlabel='teaching_method', ylabel='posttest'>"
      ]
     },
     "execution_count": 27,
     "metadata": {},
     "output_type": "execute_result"
    },
    {
     "data": {
      "image/png": "[encoded data removed]",
      "text/plain": [
       "<Figure size 432x288 with 1 Axes>"
      ]
     },
     "metadata": {
      "needs_background": "light"
     },
     "output_type": "display_data"
    }
   ],
   "source": [
    "sns.boxplot(x='teaching_method', y='posttest', data=df, hue=\"school_setting\")"
   ]
  },
  {
   "cell_type": "markdown",
   "id": "6a4b4ff7",
   "metadata": {},
   "source": [
    "## pretest 점수가 높은 아이들은 posttest 결과가 높을 것이다."
   ]
  },
  {
   "cell_type": "code",
   "execution_count": 28,
   "id": "242b86ce",
   "metadata": {},
   "outputs": [
    {
     "data": {
      "text/html": [
       "<div>\n",
       "<style scoped>\n",
       "    .dataframe tbody tr th:only-of-type {\n",
       "        vertical-align: middle;\n",
       "    }\n",
       "\n",
       "    .dataframe tbody tr th {\n",
       "        vertical-align: top;\n",
       "    }\n",
       "\n",
       "    .dataframe thead th {\n",
       "        text-align: right;\n",
       "    }\n",
       "</style>\n",
       "<table border=\"1\" class=\"dataframe\">\n",
       "  <thead>\n",
       "    <tr style=\"text-align: right;\">\n",
       "      <th></th>\n",
       "      <th>pretest</th>\n",
       "      <th>posttest</th>\n",
       "    </tr>\n",
       "  </thead>\n",
       "  <tbody>\n",
       "    <tr>\n",
       "      <th>0</th>\n",
       "      <td>62.0</td>\n",
       "      <td>72.0</td>\n",
       "    </tr>\n",
       "    <tr>\n",
       "      <th>1</th>\n",
       "      <td>66.0</td>\n",
       "      <td>79.0</td>\n",
       "    </tr>\n",
       "    <tr>\n",
       "      <th>2</th>\n",
       "      <td>64.0</td>\n",
       "      <td>76.0</td>\n",
       "    </tr>\n",
       "    <tr>\n",
       "      <th>3</th>\n",
       "      <td>61.0</td>\n",
       "      <td>77.0</td>\n",
       "    </tr>\n",
       "    <tr>\n",
       "      <th>4</th>\n",
       "      <td>64.0</td>\n",
       "      <td>76.0</td>\n",
       "    </tr>\n",
       "    <tr>\n",
       "      <th>...</th>\n",
       "      <td>...</td>\n",
       "      <td>...</td>\n",
       "    </tr>\n",
       "    <tr>\n",
       "      <th>2128</th>\n",
       "      <td>39.0</td>\n",
       "      <td>55.0</td>\n",
       "    </tr>\n",
       "    <tr>\n",
       "      <th>2129</th>\n",
       "      <td>38.0</td>\n",
       "      <td>46.0</td>\n",
       "    </tr>\n",
       "    <tr>\n",
       "      <th>2130</th>\n",
       "      <td>45.0</td>\n",
       "      <td>51.0</td>\n",
       "    </tr>\n",
       "    <tr>\n",
       "      <th>2131</th>\n",
       "      <td>46.0</td>\n",
       "      <td>53.0</td>\n",
       "    </tr>\n",
       "    <tr>\n",
       "      <th>2132</th>\n",
       "      <td>41.0</td>\n",
       "      <td>48.0</td>\n",
       "    </tr>\n",
       "  </tbody>\n",
       "</table>\n",
       "<p>2133 rows × 2 columns</p>\n",
       "</div>"
      ],
      "text/plain": [
       "      pretest  posttest\n",
       "0        62.0      72.0\n",
       "1        66.0      79.0\n",
       "2        64.0      76.0\n",
       "3        61.0      77.0\n",
       "4        64.0      76.0\n",
       "...       ...       ...\n",
       "2128     39.0      55.0\n",
       "2129     38.0      46.0\n",
       "2130     45.0      51.0\n",
       "2131     46.0      53.0\n",
       "2132     41.0      48.0\n",
       "\n",
       "[2133 rows x 2 columns]"
      ]
     },
     "execution_count": 28,
     "metadata": {},
     "output_type": "execute_result"
    }
   ],
   "source": [
    "df_test = df[[\"pretest\", \"posttest\"]]\n",
    "df_test"
   ]
  },
  {
   "cell_type": "code",
   "execution_count": 29,
   "id": "b04282e7",
   "metadata": {},
   "outputs": [
    {
     "data": {
      "text/html": [
       "<div>\n",
       "<style scoped>\n",
       "    .dataframe tbody tr th:only-of-type {\n",
       "        vertical-align: middle;\n",
       "    }\n",
       "\n",
       "    .dataframe tbody tr th {\n",
       "        vertical-align: top;\n",
       "    }\n",
       "\n",
       "    .dataframe thead th {\n",
       "        text-align: right;\n",
       "    }\n",
       "</style>\n",
       "<table border=\"1\" class=\"dataframe\">\n",
       "  <thead>\n",
       "    <tr style=\"text-align: right;\">\n",
       "      <th></th>\n",
       "      <th>pretest</th>\n",
       "      <th>posttest</th>\n",
       "    </tr>\n",
       "  </thead>\n",
       "  <tbody>\n",
       "    <tr>\n",
       "      <th>pretest</th>\n",
       "      <td>1.000000</td>\n",
       "      <td>0.950884</td>\n",
       "    </tr>\n",
       "    <tr>\n",
       "      <th>posttest</th>\n",
       "      <td>0.950884</td>\n",
       "      <td>1.000000</td>\n",
       "    </tr>\n",
       "  </tbody>\n",
       "</table>\n",
       "</div>"
      ],
      "text/plain": [
       "           pretest  posttest\n",
       "pretest   1.000000  0.950884\n",
       "posttest  0.950884  1.000000"
      ]
     },
     "execution_count": 29,
     "metadata": {},
     "output_type": "execute_result"
    }
   ],
   "source": [
    "test_corr = df_test.corr()\n",
    "test_corr"
   ]
  },
  {
   "cell_type": "code",
   "execution_count": 30,
   "id": "a5f8826d",
   "metadata": {},
   "outputs": [
    {
     "data": {
      "text/plain": [
       "<seaborn.axisgrid.FacetGrid at 0x7fc6408b1190>"
      ]
     },
     "execution_count": 30,
     "metadata": {},
     "output_type": "execute_result"
    },
    {
     "data": {
      "image/png": "[encoded data removed]",
      "text/plain": [
       "<Figure size 360x360 with 1 Axes>"
      ]
     },
     "metadata": {
      "needs_background": "light"
     },
     "output_type": "display_data"
    }
   ],
   "source": [
    "sns.lmplot(data=df_test, x=\"pretest\", y=\"posttest\")"
   ]
  },
  {
   "cell_type": "markdown",
   "id": "82e93ee8",
   "metadata": {},
   "source": [
    "## lunch qualification(소득 수준)에 따라 시험 결과가 다를 것이다."
   ]
  },
  {
   "cell_type": "code",
   "execution_count": 31,
   "id": "417a5d2c",
   "metadata": {},
   "outputs": [
    {
     "data": {
      "text/plain": [
       "<seaborn.axisgrid.FacetGrid at 0x7fc6408a3610>"
      ]
     },
     "execution_count": 31,
     "metadata": {},
     "output_type": "execute_result"
    },
    {
     "data": {
      "image/png": "[encoded data removed]",
      "text/plain": [
       "<Figure size 402.375x360 with 1 Axes>"
      ]
     },
     "metadata": {
      "needs_background": "light"
     },
     "output_type": "display_data"
    }
   ],
   "source": [
    "sns.lmplot(data=df, x=\"pretest\", y=\"posttest\", hue=\"lunch\")"
   ]
  },
  {
   "cell_type": "code",
   "execution_count": 32,
   "id": "39016a84",
   "metadata": {},
   "outputs": [
    {
     "data": {
      "text/plain": [
       "<AxesSubplot:xlabel='lunch', ylabel='posttest'>"
      ]
     },
     "execution_count": 32,
     "metadata": {},
     "output_type": "execute_result"
    },
    {
     "data": {
      "image/png": "[encoded data removed]",
      "text/plain": [
       "<Figure size 432x288 with 1 Axes>"
      ]
     },
     "metadata": {
      "needs_background": "light"
     },
     "output_type": "display_data"
    }
   ],
   "source": [
    "sns.boxplot(data=df, x=\"lunch\", y=\"pretest\", color=\"Blue\")\n",
    "sns.boxplot(data=df, x=\"lunch\", y=\"posttest\", color=\"Orange\")"
   ]
  },
  {
   "cell_type": "markdown",
   "id": "c906cc21",
   "metadata": {},
   "source": [
    "* 소득수준이 높을수록 pretest, posttest에 대한 점수가 높음"
   ]
  },
  {
   "cell_type": "markdown",
   "id": "da96c815",
   "metadata": {},
   "source": [
    "# heatmap으로 상관관계 확인하기"
   ]
  },
  {
   "cell_type": "code",
   "execution_count": 33,
   "id": "5f142393",
   "metadata": {},
   "outputs": [
    {
     "data": {
      "text/html": [
       "<div>\n",
       "<style scoped>\n",
       "    .dataframe tbody tr th:only-of-type {\n",
       "        vertical-align: middle;\n",
       "    }\n",
       "\n",
       "    .dataframe tbody tr th {\n",
       "        vertical-align: top;\n",
       "    }\n",
       "\n",
       "    .dataframe thead th {\n",
       "        text-align: right;\n",
       "    }\n",
       "</style>\n",
       "<table border=\"1\" class=\"dataframe\">\n",
       "  <thead>\n",
       "    <tr style=\"text-align: right;\">\n",
       "      <th></th>\n",
       "      <th>school</th>\n",
       "      <th>school_setting</th>\n",
       "      <th>school_type</th>\n",
       "      <th>classroom</th>\n",
       "      <th>teaching_method</th>\n",
       "      <th>n_student</th>\n",
       "      <th>gender</th>\n",
       "      <th>lunch</th>\n",
       "      <th>pretest</th>\n",
       "      <th>posttest</th>\n",
       "    </tr>\n",
       "  </thead>\n",
       "  <tbody>\n",
       "    <tr>\n",
       "      <th>0</th>\n",
       "      <td>ANKYI</td>\n",
       "      <td>Urban</td>\n",
       "      <td>Non-public</td>\n",
       "      <td>6OL</td>\n",
       "      <td>Standard</td>\n",
       "      <td>20.0</td>\n",
       "      <td>Female</td>\n",
       "      <td>0</td>\n",
       "      <td>62.0</td>\n",
       "      <td>72.0</td>\n",
       "    </tr>\n",
       "    <tr>\n",
       "      <th>1</th>\n",
       "      <td>ANKYI</td>\n",
       "      <td>Urban</td>\n",
       "      <td>Non-public</td>\n",
       "      <td>6OL</td>\n",
       "      <td>Standard</td>\n",
       "      <td>20.0</td>\n",
       "      <td>Female</td>\n",
       "      <td>0</td>\n",
       "      <td>66.0</td>\n",
       "      <td>79.0</td>\n",
       "    </tr>\n",
       "    <tr>\n",
       "      <th>2</th>\n",
       "      <td>ANKYI</td>\n",
       "      <td>Urban</td>\n",
       "      <td>Non-public</td>\n",
       "      <td>6OL</td>\n",
       "      <td>Standard</td>\n",
       "      <td>20.0</td>\n",
       "      <td>Male</td>\n",
       "      <td>0</td>\n",
       "      <td>64.0</td>\n",
       "      <td>76.0</td>\n",
       "    </tr>\n",
       "    <tr>\n",
       "      <th>3</th>\n",
       "      <td>ANKYI</td>\n",
       "      <td>Urban</td>\n",
       "      <td>Non-public</td>\n",
       "      <td>6OL</td>\n",
       "      <td>Standard</td>\n",
       "      <td>20.0</td>\n",
       "      <td>Female</td>\n",
       "      <td>0</td>\n",
       "      <td>61.0</td>\n",
       "      <td>77.0</td>\n",
       "    </tr>\n",
       "    <tr>\n",
       "      <th>4</th>\n",
       "      <td>ANKYI</td>\n",
       "      <td>Urban</td>\n",
       "      <td>Non-public</td>\n",
       "      <td>6OL</td>\n",
       "      <td>Standard</td>\n",
       "      <td>20.0</td>\n",
       "      <td>Male</td>\n",
       "      <td>0</td>\n",
       "      <td>64.0</td>\n",
       "      <td>76.0</td>\n",
       "    </tr>\n",
       "  </tbody>\n",
       "</table>\n",
       "</div>"
      ],
      "text/plain": [
       "  school school_setting school_type classroom teaching_method  n_student  \\\n",
       "0  ANKYI          Urban  Non-public       6OL        Standard       20.0   \n",
       "1  ANKYI          Urban  Non-public       6OL        Standard       20.0   \n",
       "2  ANKYI          Urban  Non-public       6OL        Standard       20.0   \n",
       "3  ANKYI          Urban  Non-public       6OL        Standard       20.0   \n",
       "4  ANKYI          Urban  Non-public       6OL        Standard       20.0   \n",
       "\n",
       "   gender  lunch  pretest  posttest  \n",
       "0  Female      0     62.0      72.0  \n",
       "1  Female      0     66.0      79.0  \n",
       "2    Male      0     64.0      76.0  \n",
       "3  Female      0     61.0      77.0  \n",
       "4    Male      0     64.0      76.0  "
      ]
     },
     "execution_count": 33,
     "metadata": {},
     "output_type": "execute_result"
    }
   ],
   "source": [
    "corr_df = df.drop(['student_id'],1)\n",
    "corr_df.head()"
   ]
  },
  {
   "cell_type": "code",
   "execution_count": 34,
   "id": "26f75c8d",
   "metadata": {},
   "outputs": [
    {
     "data": {
      "text/html": [
       "<div>\n",
       "<style scoped>\n",
       "    .dataframe tbody tr th:only-of-type {\n",
       "        vertical-align: middle;\n",
       "    }\n",
       "\n",
       "    .dataframe tbody tr th {\n",
       "        vertical-align: top;\n",
       "    }\n",
       "\n",
       "    .dataframe thead th {\n",
       "        text-align: right;\n",
       "    }\n",
       "</style>\n",
       "<table border=\"1\" class=\"dataframe\">\n",
       "  <thead>\n",
       "    <tr style=\"text-align: right;\">\n",
       "      <th></th>\n",
       "      <th>school</th>\n",
       "      <th>school_setting</th>\n",
       "      <th>school_type</th>\n",
       "      <th>classroom</th>\n",
       "      <th>teaching_method</th>\n",
       "      <th>n_student</th>\n",
       "      <th>gender</th>\n",
       "      <th>lunch</th>\n",
       "      <th>pretest</th>\n",
       "      <th>posttest</th>\n",
       "    </tr>\n",
       "  </thead>\n",
       "  <tbody>\n",
       "    <tr>\n",
       "      <th>school</th>\n",
       "      <td>1.000000</td>\n",
       "      <td>-0.079447</td>\n",
       "      <td>0.330104</td>\n",
       "      <td>-0.050724</td>\n",
       "      <td>-0.041574</td>\n",
       "      <td>0.178557</td>\n",
       "      <td>-0.018751</td>\n",
       "      <td>0.002883</td>\n",
       "      <td>-0.113094</td>\n",
       "      <td>-0.107797</td>\n",
       "    </tr>\n",
       "    <tr>\n",
       "      <th>school_setting</th>\n",
       "      <td>-0.079447</td>\n",
       "      <td>1.000000</td>\n",
       "      <td>-0.083307</td>\n",
       "      <td>0.081313</td>\n",
       "      <td>0.082795</td>\n",
       "      <td>0.508018</td>\n",
       "      <td>-0.036581</td>\n",
       "      <td>0.025744</td>\n",
       "      <td>-0.123622</td>\n",
       "      <td>-0.139203</td>\n",
       "    </tr>\n",
       "    <tr>\n",
       "      <th>school_type</th>\n",
       "      <td>0.330104</td>\n",
       "      <td>-0.083307</td>\n",
       "      <td>1.000000</td>\n",
       "      <td>0.141215</td>\n",
       "      <td>0.153593</td>\n",
       "      <td>0.548190</td>\n",
       "      <td>0.017593</td>\n",
       "      <td>0.171196</td>\n",
       "      <td>-0.361180</td>\n",
       "      <td>-0.373928</td>\n",
       "    </tr>\n",
       "    <tr>\n",
       "      <th>classroom</th>\n",
       "      <td>-0.050724</td>\n",
       "      <td>0.081313</td>\n",
       "      <td>0.141215</td>\n",
       "      <td>1.000000</td>\n",
       "      <td>-0.016094</td>\n",
       "      <td>0.037150</td>\n",
       "      <td>0.005535</td>\n",
       "      <td>0.115873</td>\n",
       "      <td>-0.037016</td>\n",
       "      <td>-0.031087</td>\n",
       "    </tr>\n",
       "    <tr>\n",
       "      <th>teaching_method</th>\n",
       "      <td>-0.041574</td>\n",
       "      <td>0.082795</td>\n",
       "      <td>0.153593</td>\n",
       "      <td>-0.016094</td>\n",
       "      <td>1.000000</td>\n",
       "      <td>0.105900</td>\n",
       "      <td>-0.020087</td>\n",
       "      <td>0.017970</td>\n",
       "      <td>-0.115189</td>\n",
       "      <td>-0.312885</td>\n",
       "    </tr>\n",
       "    <tr>\n",
       "      <th>n_student</th>\n",
       "      <td>0.178557</td>\n",
       "      <td>0.508018</td>\n",
       "      <td>0.548190</td>\n",
       "      <td>0.037150</td>\n",
       "      <td>0.105900</td>\n",
       "      <td>1.000000</td>\n",
       "      <td>-0.019265</td>\n",
       "      <td>0.367018</td>\n",
       "      <td>-0.499263</td>\n",
       "      <td>-0.504887</td>\n",
       "    </tr>\n",
       "    <tr>\n",
       "      <th>gender</th>\n",
       "      <td>-0.018751</td>\n",
       "      <td>-0.036581</td>\n",
       "      <td>0.017593</td>\n",
       "      <td>0.005535</td>\n",
       "      <td>-0.020087</td>\n",
       "      <td>-0.019265</td>\n",
       "      <td>1.000000</td>\n",
       "      <td>-0.016134</td>\n",
       "      <td>0.005947</td>\n",
       "      <td>0.006869</td>\n",
       "    </tr>\n",
       "    <tr>\n",
       "      <th>lunch</th>\n",
       "      <td>0.002883</td>\n",
       "      <td>0.025744</td>\n",
       "      <td>0.171196</td>\n",
       "      <td>0.115873</td>\n",
       "      <td>0.017970</td>\n",
       "      <td>0.367018</td>\n",
       "      <td>-0.016134</td>\n",
       "      <td>1.000000</td>\n",
       "      <td>-0.622526</td>\n",
       "      <td>-0.598382</td>\n",
       "    </tr>\n",
       "    <tr>\n",
       "      <th>pretest</th>\n",
       "      <td>-0.113094</td>\n",
       "      <td>-0.123622</td>\n",
       "      <td>-0.361180</td>\n",
       "      <td>-0.037016</td>\n",
       "      <td>-0.115189</td>\n",
       "      <td>-0.499263</td>\n",
       "      <td>0.005947</td>\n",
       "      <td>-0.622526</td>\n",
       "      <td>1.000000</td>\n",
       "      <td>0.950959</td>\n",
       "    </tr>\n",
       "    <tr>\n",
       "      <th>posttest</th>\n",
       "      <td>-0.107797</td>\n",
       "      <td>-0.139203</td>\n",
       "      <td>-0.373928</td>\n",
       "      <td>-0.031087</td>\n",
       "      <td>-0.312885</td>\n",
       "      <td>-0.504887</td>\n",
       "      <td>0.006869</td>\n",
       "      <td>-0.598382</td>\n",
       "      <td>0.950959</td>\n",
       "      <td>1.000000</td>\n",
       "    </tr>\n",
       "  </tbody>\n",
       "</table>\n",
       "</div>"
      ],
      "text/plain": [
       "                   school  school_setting  school_type  classroom  \\\n",
       "school           1.000000       -0.079447     0.330104  -0.050724   \n",
       "school_setting  -0.079447        1.000000    -0.083307   0.081313   \n",
       "school_type      0.330104       -0.083307     1.000000   0.141215   \n",
       "classroom       -0.050724        0.081313     0.141215   1.000000   \n",
       "teaching_method -0.041574        0.082795     0.153593  -0.016094   \n",
       "n_student        0.178557        0.508018     0.548190   0.037150   \n",
       "gender          -0.018751       -0.036581     0.017593   0.005535   \n",
       "lunch            0.002883        0.025744     0.171196   0.115873   \n",
       "pretest         -0.113094       -0.123622    -0.361180  -0.037016   \n",
       "posttest        -0.107797       -0.139203    -0.373928  -0.031087   \n",
       "\n",
       "                 teaching_method  n_student    gender     lunch   pretest  \\\n",
       "school                 -0.041574   0.178557 -0.018751  0.002883 -0.113094   \n",
       "school_setting          0.082795   0.508018 -0.036581  0.025744 -0.123622   \n",
       "school_type             0.153593   0.548190  0.017593  0.171196 -0.361180   \n",
       "classroom              -0.016094   0.037150  0.005535  0.115873 -0.037016   \n",
       "teaching_method         1.000000   0.105900 -0.020087  0.017970 -0.115189   \n",
       "n_student               0.105900   1.000000 -0.019265  0.367018 -0.499263   \n",
       "gender                 -0.020087  -0.019265  1.000000 -0.016134  0.005947   \n",
       "lunch                   0.017970   0.367018 -0.016134  1.000000 -0.622526   \n",
       "pretest                -0.115189  -0.499263  0.005947 -0.622526  1.000000   \n",
       "posttest               -0.312885  -0.504887  0.006869 -0.598382  0.950959   \n",
       "\n",
       "                 posttest  \n",
       "school          -0.107797  \n",
       "school_setting  -0.139203  \n",
       "school_type     -0.373928  \n",
       "classroom       -0.031087  \n",
       "teaching_method -0.312885  \n",
       "n_student       -0.504887  \n",
       "gender           0.006869  \n",
       "lunch           -0.598382  \n",
       "pretest          0.950959  \n",
       "posttest         1.000000  "
      ]
     },
     "execution_count": 34,
     "metadata": {},
     "output_type": "execute_result"
    }
   ],
   "source": [
    "col_list = ['school','school_setting','school_type','classroom','teaching_method','n_student'\n",
    "            ,'gender','lunch','pretest','posttest']\n",
    "\n",
    "for i in col_list:\n",
    "    corr_df[i] = corr_df[i].astype('category').cat.codes\n",
    "\n",
    "df_corr = corr_df.corr()\n",
    "df_corr"
   ]
  },
  {
   "cell_type": "code",
   "execution_count": 35,
   "id": "26a1d77e",
   "metadata": {},
   "outputs": [
    {
     "data": {
      "text/plain": [
       "<AxesSubplot:>"
      ]
     },
     "execution_count": 35,
     "metadata": {},
     "output_type": "execute_result"
    },
    {
     "data": {
      "image/png": "[encoded data removed]",
      "text/plain": [
       "<Figure size 1080x720 with 2 Axes>"
      ]
     },
     "metadata": {
      "needs_background": "light"
     },
     "output_type": "display_data"
    }
   ],
   "source": [
    "plt.figure(figsize=(15,10))\n",
    "sns.heatmap(df_corr, annot=True, cmap=\"Blues\", vmin=-1)"
   ]
  },
  {
   "cell_type": "markdown",
   "id": "1614f2b6",
   "metadata": {},
   "source": [
    "# machine learning - pretest => posttest 예측"
   ]
  },
  {
   "cell_type": "markdown",
   "id": "71e842ec",
   "metadata": {},
   "source": [
    "## data 범주형 => 수치형"
   ]
  },
  {
   "cell_type": "code",
   "execution_count": 36,
   "id": "748a331c",
   "metadata": {},
   "outputs": [
    {
     "data": {
      "text/html": [
       "<div>\n",
       "<style scoped>\n",
       "    .dataframe tbody tr th:only-of-type {\n",
       "        vertical-align: middle;\n",
       "    }\n",
       "\n",
       "    .dataframe tbody tr th {\n",
       "        vertical-align: top;\n",
       "    }\n",
       "\n",
       "    .dataframe thead th {\n",
       "        text-align: right;\n",
       "    }\n",
       "</style>\n",
       "<table border=\"1\" class=\"dataframe\">\n",
       "  <thead>\n",
       "    <tr style=\"text-align: right;\">\n",
       "      <th></th>\n",
       "      <th>school</th>\n",
       "      <th>school_setting</th>\n",
       "      <th>school_type</th>\n",
       "      <th>classroom</th>\n",
       "      <th>teaching_method</th>\n",
       "      <th>n_student</th>\n",
       "      <th>student_id</th>\n",
       "      <th>gender</th>\n",
       "      <th>lunch</th>\n",
       "      <th>pretest</th>\n",
       "      <th>posttest</th>\n",
       "    </tr>\n",
       "  </thead>\n",
       "  <tbody>\n",
       "    <tr>\n",
       "      <th>0</th>\n",
       "      <td>ANKYI</td>\n",
       "      <td>Urban</td>\n",
       "      <td>Non-public</td>\n",
       "      <td>6OL</td>\n",
       "      <td>Standard</td>\n",
       "      <td>20.0</td>\n",
       "      <td>2FHT3</td>\n",
       "      <td>Female</td>\n",
       "      <td>0</td>\n",
       "      <td>62.0</td>\n",
       "      <td>72.0</td>\n",
       "    </tr>\n",
       "    <tr>\n",
       "      <th>1</th>\n",
       "      <td>ANKYI</td>\n",
       "      <td>Urban</td>\n",
       "      <td>Non-public</td>\n",
       "      <td>6OL</td>\n",
       "      <td>Standard</td>\n",
       "      <td>20.0</td>\n",
       "      <td>3JIVH</td>\n",
       "      <td>Female</td>\n",
       "      <td>0</td>\n",
       "      <td>66.0</td>\n",
       "      <td>79.0</td>\n",
       "    </tr>\n",
       "    <tr>\n",
       "      <th>2</th>\n",
       "      <td>ANKYI</td>\n",
       "      <td>Urban</td>\n",
       "      <td>Non-public</td>\n",
       "      <td>6OL</td>\n",
       "      <td>Standard</td>\n",
       "      <td>20.0</td>\n",
       "      <td>3XOWE</td>\n",
       "      <td>Male</td>\n",
       "      <td>0</td>\n",
       "      <td>64.0</td>\n",
       "      <td>76.0</td>\n",
       "    </tr>\n",
       "    <tr>\n",
       "      <th>3</th>\n",
       "      <td>ANKYI</td>\n",
       "      <td>Urban</td>\n",
       "      <td>Non-public</td>\n",
       "      <td>6OL</td>\n",
       "      <td>Standard</td>\n",
       "      <td>20.0</td>\n",
       "      <td>556O0</td>\n",
       "      <td>Female</td>\n",
       "      <td>0</td>\n",
       "      <td>61.0</td>\n",
       "      <td>77.0</td>\n",
       "    </tr>\n",
       "    <tr>\n",
       "      <th>4</th>\n",
       "      <td>ANKYI</td>\n",
       "      <td>Urban</td>\n",
       "      <td>Non-public</td>\n",
       "      <td>6OL</td>\n",
       "      <td>Standard</td>\n",
       "      <td>20.0</td>\n",
       "      <td>74LOE</td>\n",
       "      <td>Male</td>\n",
       "      <td>0</td>\n",
       "      <td>64.0</td>\n",
       "      <td>76.0</td>\n",
       "    </tr>\n",
       "  </tbody>\n",
       "</table>\n",
       "</div>"
      ],
      "text/plain": [
       "  school school_setting school_type classroom teaching_method  n_student  \\\n",
       "0  ANKYI          Urban  Non-public       6OL        Standard       20.0   \n",
       "1  ANKYI          Urban  Non-public       6OL        Standard       20.0   \n",
       "2  ANKYI          Urban  Non-public       6OL        Standard       20.0   \n",
       "3  ANKYI          Urban  Non-public       6OL        Standard       20.0   \n",
       "4  ANKYI          Urban  Non-public       6OL        Standard       20.0   \n",
       "\n",
       "  student_id  gender  lunch  pretest  posttest  \n",
       "0      2FHT3  Female      0     62.0      72.0  \n",
       "1      3JIVH  Female      0     66.0      79.0  \n",
       "2      3XOWE    Male      0     64.0      76.0  \n",
       "3      556O0  Female      0     61.0      77.0  \n",
       "4      74LOE    Male      0     64.0      76.0  "
      ]
     },
     "execution_count": 36,
     "metadata": {},
     "output_type": "execute_result"
    }
   ],
   "source": [
    "df.head()"
   ]
  },
  {
   "cell_type": "code",
   "execution_count": 58,
   "id": "c626fed2",
   "metadata": {},
   "outputs": [],
   "source": [
    "from sklearn.preprocessing import LabelEncoder\n",
    "label_encoder = LabelEncoder()\n",
    "\n",
    "df[\"school\"] = label_encoder.fit_transform(df[\"school\"])\n",
    "df[\"school_setting\"] = label_encoder.fit_transform(df[\"school_setting\"])\n",
    "df['school_type'] = label_encoder.fit_transform(df['school_type']) \n",
    "df[\"classroom\"] = label_encoder.fit_transform(df[\"classroom\"])\n",
    "df['teaching_method'] = label_encoder.fit_transform(df['teaching_method']) \n",
    "df['gender'] = label_encoder.fit_transform(df['gender']) \n",
    "df['lunch'] = label_encoder.fit_transform(df['lunch']) "
   ]
  },
  {
   "cell_type": "code",
   "execution_count": 64,
   "id": "bc626e48",
   "metadata": {},
   "outputs": [
    {
     "data": {
      "text/html": [
       "<div>\n",
       "<style scoped>\n",
       "    .dataframe tbody tr th:only-of-type {\n",
       "        vertical-align: middle;\n",
       "    }\n",
       "\n",
       "    .dataframe tbody tr th {\n",
       "        vertical-align: top;\n",
       "    }\n",
       "\n",
       "    .dataframe thead th {\n",
       "        text-align: right;\n",
       "    }\n",
       "</style>\n",
       "<table border=\"1\" class=\"dataframe\">\n",
       "  <thead>\n",
       "    <tr style=\"text-align: right;\">\n",
       "      <th></th>\n",
       "      <th>school</th>\n",
       "      <th>school_setting</th>\n",
       "      <th>school_type</th>\n",
       "      <th>classroom</th>\n",
       "      <th>teaching_method</th>\n",
       "      <th>n_student</th>\n",
       "      <th>gender</th>\n",
       "      <th>lunch</th>\n",
       "      <th>pretest</th>\n",
       "      <th>posttest</th>\n",
       "    </tr>\n",
       "  </thead>\n",
       "  <tbody>\n",
       "    <tr>\n",
       "      <th>0</th>\n",
       "      <td>0</td>\n",
       "      <td>2</td>\n",
       "      <td>0</td>\n",
       "      <td>22</td>\n",
       "      <td>1</td>\n",
       "      <td>20.0</td>\n",
       "      <td>0</td>\n",
       "      <td>0</td>\n",
       "      <td>62.0</td>\n",
       "      <td>72.0</td>\n",
       "    </tr>\n",
       "    <tr>\n",
       "      <th>1</th>\n",
       "      <td>0</td>\n",
       "      <td>2</td>\n",
       "      <td>0</td>\n",
       "      <td>22</td>\n",
       "      <td>1</td>\n",
       "      <td>20.0</td>\n",
       "      <td>0</td>\n",
       "      <td>0</td>\n",
       "      <td>66.0</td>\n",
       "      <td>79.0</td>\n",
       "    </tr>\n",
       "    <tr>\n",
       "      <th>2</th>\n",
       "      <td>0</td>\n",
       "      <td>2</td>\n",
       "      <td>0</td>\n",
       "      <td>22</td>\n",
       "      <td>1</td>\n",
       "      <td>20.0</td>\n",
       "      <td>1</td>\n",
       "      <td>0</td>\n",
       "      <td>64.0</td>\n",
       "      <td>76.0</td>\n",
       "    </tr>\n",
       "    <tr>\n",
       "      <th>3</th>\n",
       "      <td>0</td>\n",
       "      <td>2</td>\n",
       "      <td>0</td>\n",
       "      <td>22</td>\n",
       "      <td>1</td>\n",
       "      <td>20.0</td>\n",
       "      <td>0</td>\n",
       "      <td>0</td>\n",
       "      <td>61.0</td>\n",
       "      <td>77.0</td>\n",
       "    </tr>\n",
       "    <tr>\n",
       "      <th>4</th>\n",
       "      <td>0</td>\n",
       "      <td>2</td>\n",
       "      <td>0</td>\n",
       "      <td>22</td>\n",
       "      <td>1</td>\n",
       "      <td>20.0</td>\n",
       "      <td>1</td>\n",
       "      <td>0</td>\n",
       "      <td>64.0</td>\n",
       "      <td>76.0</td>\n",
       "    </tr>\n",
       "  </tbody>\n",
       "</table>\n",
       "</div>"
      ],
      "text/plain": [
       "   school  school_setting  school_type  classroom  teaching_method  n_student  \\\n",
       "0       0               2            0         22                1       20.0   \n",
       "1       0               2            0         22                1       20.0   \n",
       "2       0               2            0         22                1       20.0   \n",
       "3       0               2            0         22                1       20.0   \n",
       "4       0               2            0         22                1       20.0   \n",
       "\n",
       "   gender  lunch  pretest  posttest  \n",
       "0       0      0     62.0      72.0  \n",
       "1       0      0     66.0      79.0  \n",
       "2       1      0     64.0      76.0  \n",
       "3       0      0     61.0      77.0  \n",
       "4       1      0     64.0      76.0  "
      ]
     },
     "execution_count": 64,
     "metadata": {},
     "output_type": "execute_result"
    }
   ],
   "source": [
    "clear_df = df.drop(['student_id'], axis=1).copy()\n",
    "clear_df.head()"
   ]
  },
  {
   "cell_type": "markdown",
   "id": "dd573bda",
   "metadata": {},
   "source": [
    "## test data, train data"
   ]
  },
  {
   "cell_type": "code",
   "execution_count": 39,
   "id": "23375b19",
   "metadata": {},
   "outputs": [],
   "source": [
    "from sklearn.model_selection import train_test_split\n",
    "from sklearn.linear_model import LinearRegression"
   ]
  },
  {
   "cell_type": "code",
   "execution_count": 65,
   "id": "ff8da875",
   "metadata": {},
   "outputs": [],
   "source": [
    "x = clear_df.drop(['posttest'],axis=1)\n",
    "y = clear_df['posttest']\n",
    "\n",
    "X_train, X_test, y_train, y_test = train_test_split(x,y,test_size=0.2, random_state = 123)"
   ]
  },
  {
   "cell_type": "code",
   "execution_count": 66,
   "id": "d211a344",
   "metadata": {},
   "outputs": [
    {
     "data": {
      "text/plain": [
       "((1706, 9), (427, 9))"
      ]
     },
     "execution_count": 66,
     "metadata": {},
     "output_type": "execute_result"
    }
   ],
   "source": [
    "X_train.shape, X_test.shape"
   ]
  },
  {
   "cell_type": "code",
   "execution_count": 67,
   "id": "bf428e46",
   "metadata": {},
   "outputs": [
    {
     "data": {
      "text/html": [
       "<div>\n",
       "<style scoped>\n",
       "    .dataframe tbody tr th:only-of-type {\n",
       "        vertical-align: middle;\n",
       "    }\n",
       "\n",
       "    .dataframe tbody tr th {\n",
       "        vertical-align: top;\n",
       "    }\n",
       "\n",
       "    .dataframe thead th {\n",
       "        text-align: right;\n",
       "    }\n",
       "</style>\n",
       "<table border=\"1\" class=\"dataframe\">\n",
       "  <thead>\n",
       "    <tr style=\"text-align: right;\">\n",
       "      <th></th>\n",
       "      <th>school</th>\n",
       "      <th>school_setting</th>\n",
       "      <th>school_type</th>\n",
       "      <th>classroom</th>\n",
       "      <th>teaching_method</th>\n",
       "      <th>n_student</th>\n",
       "      <th>gender</th>\n",
       "      <th>lunch</th>\n",
       "      <th>pretest</th>\n",
       "    </tr>\n",
       "  </thead>\n",
       "  <tbody>\n",
       "    <tr>\n",
       "      <th>822</th>\n",
       "      <td>8</td>\n",
       "      <td>2</td>\n",
       "      <td>1</td>\n",
       "      <td>83</td>\n",
       "      <td>0</td>\n",
       "      <td>26.0</td>\n",
       "      <td>1</td>\n",
       "      <td>0</td>\n",
       "      <td>45.0</td>\n",
       "    </tr>\n",
       "    <tr>\n",
       "      <th>1453</th>\n",
       "      <td>15</td>\n",
       "      <td>1</td>\n",
       "      <td>1</td>\n",
       "      <td>72</td>\n",
       "      <td>1</td>\n",
       "      <td>21.0</td>\n",
       "      <td>1</td>\n",
       "      <td>0</td>\n",
       "      <td>68.0</td>\n",
       "    </tr>\n",
       "    <tr>\n",
       "      <th>1894</th>\n",
       "      <td>20</td>\n",
       "      <td>2</td>\n",
       "      <td>1</td>\n",
       "      <td>76</td>\n",
       "      <td>1</td>\n",
       "      <td>25.0</td>\n",
       "      <td>0</td>\n",
       "      <td>1</td>\n",
       "      <td>37.0</td>\n",
       "    </tr>\n",
       "    <tr>\n",
       "      <th>226</th>\n",
       "      <td>3</td>\n",
       "      <td>2</td>\n",
       "      <td>1</td>\n",
       "      <td>5</td>\n",
       "      <td>1</td>\n",
       "      <td>28.0</td>\n",
       "      <td>1</td>\n",
       "      <td>0</td>\n",
       "      <td>58.0</td>\n",
       "    </tr>\n",
       "    <tr>\n",
       "      <th>308</th>\n",
       "      <td>3</td>\n",
       "      <td>2</td>\n",
       "      <td>1</td>\n",
       "      <td>85</td>\n",
       "      <td>0</td>\n",
       "      <td>24.0</td>\n",
       "      <td>0</td>\n",
       "      <td>0</td>\n",
       "      <td>56.0</td>\n",
       "    </tr>\n",
       "    <tr>\n",
       "      <th>...</th>\n",
       "      <td>...</td>\n",
       "      <td>...</td>\n",
       "      <td>...</td>\n",
       "      <td>...</td>\n",
       "      <td>...</td>\n",
       "      <td>...</td>\n",
       "      <td>...</td>\n",
       "      <td>...</td>\n",
       "      <td>...</td>\n",
       "    </tr>\n",
       "    <tr>\n",
       "      <th>1593</th>\n",
       "      <td>16</td>\n",
       "      <td>1</td>\n",
       "      <td>1</td>\n",
       "      <td>88</td>\n",
       "      <td>1</td>\n",
       "      <td>22.0</td>\n",
       "      <td>1</td>\n",
       "      <td>0</td>\n",
       "      <td>80.0</td>\n",
       "    </tr>\n",
       "    <tr>\n",
       "      <th>1147</th>\n",
       "      <td>12</td>\n",
       "      <td>0</td>\n",
       "      <td>1</td>\n",
       "      <td>69</td>\n",
       "      <td>0</td>\n",
       "      <td>17.0</td>\n",
       "      <td>0</td>\n",
       "      <td>0</td>\n",
       "      <td>64.0</td>\n",
       "    </tr>\n",
       "    <tr>\n",
       "      <th>1766</th>\n",
       "      <td>19</td>\n",
       "      <td>0</td>\n",
       "      <td>1</td>\n",
       "      <td>35</td>\n",
       "      <td>1</td>\n",
       "      <td>21.0</td>\n",
       "      <td>1</td>\n",
       "      <td>0</td>\n",
       "      <td>67.0</td>\n",
       "    </tr>\n",
       "    <tr>\n",
       "      <th>1122</th>\n",
       "      <td>12</td>\n",
       "      <td>0</td>\n",
       "      <td>1</td>\n",
       "      <td>51</td>\n",
       "      <td>1</td>\n",
       "      <td>19.0</td>\n",
       "      <td>1</td>\n",
       "      <td>0</td>\n",
       "      <td>62.0</td>\n",
       "    </tr>\n",
       "    <tr>\n",
       "      <th>1346</th>\n",
       "      <td>14</td>\n",
       "      <td>2</td>\n",
       "      <td>1</td>\n",
       "      <td>84</td>\n",
       "      <td>0</td>\n",
       "      <td>25.0</td>\n",
       "      <td>1</td>\n",
       "      <td>0</td>\n",
       "      <td>58.0</td>\n",
       "    </tr>\n",
       "  </tbody>\n",
       "</table>\n",
       "<p>1706 rows × 9 columns</p>\n",
       "</div>"
      ],
      "text/plain": [
       "      school  school_setting  school_type  classroom  teaching_method  \\\n",
       "822        8               2            1         83                0   \n",
       "1453      15               1            1         72                1   \n",
       "1894      20               2            1         76                1   \n",
       "226        3               2            1          5                1   \n",
       "308        3               2            1         85                0   \n",
       "...      ...             ...          ...        ...              ...   \n",
       "1593      16               1            1         88                1   \n",
       "1147      12               0            1         69                0   \n",
       "1766      19               0            1         35                1   \n",
       "1122      12               0            1         51                1   \n",
       "1346      14               2            1         84                0   \n",
       "\n",
       "      n_student  gender  lunch  pretest  \n",
       "822        26.0       1      0     45.0  \n",
       "1453       21.0       1      0     68.0  \n",
       "1894       25.0       0      1     37.0  \n",
       "226        28.0       1      0     58.0  \n",
       "308        24.0       0      0     56.0  \n",
       "...         ...     ...    ...      ...  \n",
       "1593       22.0       1      0     80.0  \n",
       "1147       17.0       0      0     64.0  \n",
       "1766       21.0       1      0     67.0  \n",
       "1122       19.0       1      0     62.0  \n",
       "1346       25.0       1      0     58.0  \n",
       "\n",
       "[1706 rows x 9 columns]"
      ]
     },
     "execution_count": 67,
     "metadata": {},
     "output_type": "execute_result"
    }
   ],
   "source": [
    "X_train"
   ]
  },
  {
   "cell_type": "code",
   "execution_count": 68,
   "id": "277abccf",
   "metadata": {},
   "outputs": [
    {
     "data": {
      "text/plain": [
       "((1706,), (427,))"
      ]
     },
     "execution_count": 68,
     "metadata": {},
     "output_type": "execute_result"
    }
   ],
   "source": [
    "y_train.shape, y_test.shape"
   ]
  },
  {
   "cell_type": "markdown",
   "id": "b7407a62",
   "metadata": {},
   "source": [
    "## Linear Regression"
   ]
  },
  {
   "cell_type": "code",
   "execution_count": 69,
   "id": "01053780",
   "metadata": {},
   "outputs": [],
   "source": [
    "model = LinearRegression()"
   ]
  },
  {
   "cell_type": "code",
   "execution_count": 70,
   "id": "63f22b17",
   "metadata": {},
   "outputs": [],
   "source": [
    "model.fit(X_train, y_train)\n",
    "y_pred = model.predict(X_test)"
   ]
  },
  {
   "cell_type": "markdown",
   "id": "ab9b0dfe",
   "metadata": {},
   "source": [
    "## 정확도"
   ]
  },
  {
   "cell_type": "code",
   "execution_count": 71,
   "id": "21129b8a",
   "metadata": {},
   "outputs": [
    {
     "name": "stdout",
     "output_type": "stream",
     "text": [
      "Accuracy - LinearRegression: 95.10%\n"
     ]
    }
   ],
   "source": [
    "print('Accuracy - LinearRegression: %.2f%%'%(model.score(X_test,y_test)*100))"
   ]
  },
  {
   "cell_type": "code",
   "execution_count": 74,
   "id": "4039214c",
   "metadata": {},
   "outputs": [
    {
     "data": {
      "text/plain": [
       "95.09734101362659"
      ]
     },
     "execution_count": 74,
     "metadata": {},
     "output_type": "execute_result"
    }
   ],
   "source": [
    "model.score(X_test, y_test) * 100"
   ]
  },
  {
   "cell_type": "markdown",
   "id": "e542c269",
   "metadata": {},
   "source": [
    "# machine learning - pretest 없이 posttest 결과 예측"
   ]
  },
  {
   "cell_type": "markdown",
   "id": "4d0b5687",
   "metadata": {},
   "source": [
    "## posttest 총 4단계로 나누기"
   ]
  },
  {
   "cell_type": "code",
   "execution_count": null,
   "id": "24b7a80a",
   "metadata": {},
   "outputs": [],
   "source": [
    "clear_df[\"posttest_one\"]"
   ]
  },
  {
   "cell_type": "markdown",
   "id": "f3177d08",
   "metadata": {},
   "source": [
    "## LinearRegression"
   ]
  },
  {
   "cell_type": "code",
   "execution_count": 202,
   "id": "ac2468f0",
   "metadata": {},
   "outputs": [],
   "source": [
    "x = clear_df.drop(['posttest', 'pretest'],axis=1)\n",
    "y = clear_df['posttest']\n",
    "\n",
    "#y = (y - min(y)) / (max(y) - min(y))\n",
    "\n",
    "X_train, X_test, y_train, y_test = train_test_split(x,y,test_size=0.2, random_state = 123)"
   ]
  },
  {
   "cell_type": "code",
   "execution_count": 196,
   "id": "532410f4",
   "metadata": {},
   "outputs": [
    {
     "data": {
      "text/plain": [
       "822     64.0\n",
       "1453    77.0\n",
       "1894    49.0\n",
       "226     70.0\n",
       "308     75.0\n",
       "        ... \n",
       "1593    87.0\n",
       "1147    79.0\n",
       "1766    74.0\n",
       "1122    70.0\n",
       "1346    78.0\n",
       "Name: posttest, Length: 1706, dtype: float64"
      ]
     },
     "execution_count": 196,
     "metadata": {},
     "output_type": "execute_result"
    }
   ],
   "source": [
    "y_train"
   ]
  },
  {
   "cell_type": "code",
   "execution_count": 203,
   "id": "e91466ef",
   "metadata": {},
   "outputs": [
    {
     "data": {
      "text/plain": [
       "['school',\n",
       " 'school_setting',\n",
       " 'school_type',\n",
       " 'classroom',\n",
       " 'teaching_method',\n",
       " 'n_student',\n",
       " 'gender',\n",
       " 'lunch']"
      ]
     },
     "execution_count": 203,
     "metadata": {},
     "output_type": "execute_result"
    }
   ],
   "source": [
    "feature_names = x.columns.tolist()\n",
    "feature_names"
   ]
  },
  {
   "cell_type": "code",
   "execution_count": 204,
   "id": "722df3a2",
   "metadata": {},
   "outputs": [],
   "source": [
    "model = LinearRegression()"
   ]
  },
  {
   "cell_type": "code",
   "execution_count": 205,
   "id": "f6d89407",
   "metadata": {},
   "outputs": [],
   "source": [
    "model.fit(X_train, y_train)\n",
    "y_pred = model.predict(X_test)"
   ]
  },
  {
   "cell_type": "code",
   "execution_count": 206,
   "id": "7accd3d2",
   "metadata": {},
   "outputs": [
    {
     "data": {
      "text/plain": [
       "49.25202768056769"
      ]
     },
     "execution_count": 206,
     "metadata": {},
     "output_type": "execute_result"
    }
   ],
   "source": [
    "model.score(X_test, y_test) * 100"
   ]
  },
  {
   "cell_type": "code",
   "execution_count": 212,
   "id": "513f1aa9",
   "metadata": {},
   "outputs": [
    {
     "data": {
      "text/plain": [
       "<function matplotlib.pyplot.show(close=None, block=None)>"
      ]
     },
     "execution_count": 212,
     "metadata": {},
     "output_type": "execute_result"
    },
    {
     "data": {
      "image/png": "[encoded data removed]",
      "text/plain": [
       "<Figure size 432x288 with 1 Axes>"
      ]
     },
     "metadata": {
      "needs_background": "light"
     },
     "output_type": "display_data"
    }
   ],
   "source": [
    "plt.scatter(y_test, y_pred, alpha=0.5)\n",
    "plt.xlabel(\"y_test\")\n",
    "plt.ylabel(\"y_pred\")\n",
    "plt.show"
   ]
  },
  {
   "cell_type": "code",
   "execution_count": 225,
   "id": "956f0f11",
   "metadata": {},
   "outputs": [
    {
     "data": {
      "text/html": [
       "<div>\n",
       "<style scoped>\n",
       "    .dataframe tbody tr th:only-of-type {\n",
       "        vertical-align: middle;\n",
       "    }\n",
       "\n",
       "    .dataframe tbody tr th {\n",
       "        vertical-align: top;\n",
       "    }\n",
       "\n",
       "    .dataframe thead th {\n",
       "        text-align: right;\n",
       "    }\n",
       "</style>\n",
       "<table border=\"1\" class=\"dataframe\">\n",
       "  <thead>\n",
       "    <tr style=\"text-align: right;\">\n",
       "      <th></th>\n",
       "      <th>test</th>\n",
       "      <th>pred</th>\n",
       "    </tr>\n",
       "  </thead>\n",
       "  <tbody>\n",
       "    <tr>\n",
       "      <th>1677</th>\n",
       "      <td>78.0</td>\n",
       "      <td>79.339731</td>\n",
       "    </tr>\n",
       "    <tr>\n",
       "      <th>1075</th>\n",
       "      <td>51.0</td>\n",
       "      <td>55.362943</td>\n",
       "    </tr>\n",
       "    <tr>\n",
       "      <th>1992</th>\n",
       "      <td>76.0</td>\n",
       "      <td>68.031258</td>\n",
       "    </tr>\n",
       "    <tr>\n",
       "      <th>1135</th>\n",
       "      <td>70.0</td>\n",
       "      <td>71.896471</td>\n",
       "    </tr>\n",
       "    <tr>\n",
       "      <th>1828</th>\n",
       "      <td>60.0</td>\n",
       "      <td>76.817821</td>\n",
       "    </tr>\n",
       "    <tr>\n",
       "      <th>...</th>\n",
       "      <td>...</td>\n",
       "      <td>...</td>\n",
       "    </tr>\n",
       "    <tr>\n",
       "      <th>277</th>\n",
       "      <td>65.0</td>\n",
       "      <td>65.863269</td>\n",
       "    </tr>\n",
       "    <tr>\n",
       "      <th>372</th>\n",
       "      <td>57.0</td>\n",
       "      <td>64.959642</td>\n",
       "    </tr>\n",
       "    <tr>\n",
       "      <th>112</th>\n",
       "      <td>85.0</td>\n",
       "      <td>75.607826</td>\n",
       "    </tr>\n",
       "    <tr>\n",
       "      <th>478</th>\n",
       "      <td>81.0</td>\n",
       "      <td>83.791689</td>\n",
       "    </tr>\n",
       "    <tr>\n",
       "      <th>1260</th>\n",
       "      <td>59.0</td>\n",
       "      <td>71.270458</td>\n",
       "    </tr>\n",
       "  </tbody>\n",
       "</table>\n",
       "<p>427 rows × 2 columns</p>\n",
       "</div>"
      ],
      "text/plain": [
       "      test       pred\n",
       "1677  78.0  79.339731\n",
       "1075  51.0  55.362943\n",
       "1992  76.0  68.031258\n",
       "1135  70.0  71.896471\n",
       "1828  60.0  76.817821\n",
       "...    ...        ...\n",
       "277   65.0  65.863269\n",
       "372   57.0  64.959642\n",
       "112   85.0  75.607826\n",
       "478   81.0  83.791689\n",
       "1260  59.0  71.270458\n",
       "\n",
       "[427 rows x 2 columns]"
      ]
     },
     "execution_count": 225,
     "metadata": {},
     "output_type": "execute_result"
    }
   ],
   "source": [
    "test_pred = pd.DataFrame()\n",
    "test_pred[\"test\"] = y_test\n",
    "test_pred[\"pred\"] = y_pred\n",
    "test_pred"
   ]
  },
  {
   "cell_type": "code",
   "execution_count": 227,
   "id": "f05bc4ae",
   "metadata": {},
   "outputs": [
    {
     "data": {
      "text/plain": [
       "<seaborn.axisgrid.FacetGrid at 0x7fc620b335b0>"
      ]
     },
     "execution_count": 227,
     "metadata": {},
     "output_type": "execute_result"
    },
    {
     "data": {
      "image/png": "[encoded data removed]",
      "text/plain": [
       "<Figure size 360x360 with 1 Axes>"
      ]
     },
     "metadata": {
      "needs_background": "light"
     },
     "output_type": "display_data"
    }
   ],
   "source": [
    "sns.lmplot(data=test_pred, x=\"test\", y=\"pred\")"
   ]
  },
  {
   "cell_type": "markdown",
   "id": "370c7fd3",
   "metadata": {},
   "source": [
    "## school_setting, school_type, lunch"
   ]
  },
  {
   "cell_type": "code",
   "execution_count": null,
   "id": "a588599c",
   "metadata": {},
   "outputs": [],
   "source": []
  },
  {
   "cell_type": "code",
   "execution_count": 155,
   "id": "261f1940",
   "metadata": {},
   "outputs": [
    {
     "data": {
      "text/html": [
       "<div>\n",
       "<style scoped>\n",
       "    .dataframe tbody tr th:only-of-type {\n",
       "        vertical-align: middle;\n",
       "    }\n",
       "\n",
       "    .dataframe tbody tr th {\n",
       "        vertical-align: top;\n",
       "    }\n",
       "\n",
       "    .dataframe thead th {\n",
       "        text-align: right;\n",
       "    }\n",
       "</style>\n",
       "<table border=\"1\" class=\"dataframe\">\n",
       "  <thead>\n",
       "    <tr style=\"text-align: right;\">\n",
       "      <th></th>\n",
       "      <th>school</th>\n",
       "      <th>school_setting</th>\n",
       "      <th>school_type</th>\n",
       "      <th>teaching_method</th>\n",
       "      <th>n_student</th>\n",
       "      <th>gender</th>\n",
       "      <th>lunch</th>\n",
       "      <th>pretest</th>\n",
       "      <th>posttest</th>\n",
       "    </tr>\n",
       "  </thead>\n",
       "  <tbody>\n",
       "    <tr>\n",
       "      <th>0</th>\n",
       "      <td>0</td>\n",
       "      <td>2</td>\n",
       "      <td>0</td>\n",
       "      <td>1</td>\n",
       "      <td>20.0</td>\n",
       "      <td>0</td>\n",
       "      <td>0</td>\n",
       "      <td>62.0</td>\n",
       "      <td>72.0</td>\n",
       "    </tr>\n",
       "    <tr>\n",
       "      <th>1</th>\n",
       "      <td>0</td>\n",
       "      <td>2</td>\n",
       "      <td>0</td>\n",
       "      <td>1</td>\n",
       "      <td>20.0</td>\n",
       "      <td>0</td>\n",
       "      <td>0</td>\n",
       "      <td>66.0</td>\n",
       "      <td>79.0</td>\n",
       "    </tr>\n",
       "    <tr>\n",
       "      <th>2</th>\n",
       "      <td>0</td>\n",
       "      <td>2</td>\n",
       "      <td>0</td>\n",
       "      <td>1</td>\n",
       "      <td>20.0</td>\n",
       "      <td>1</td>\n",
       "      <td>0</td>\n",
       "      <td>64.0</td>\n",
       "      <td>76.0</td>\n",
       "    </tr>\n",
       "    <tr>\n",
       "      <th>3</th>\n",
       "      <td>0</td>\n",
       "      <td>2</td>\n",
       "      <td>0</td>\n",
       "      <td>1</td>\n",
       "      <td>20.0</td>\n",
       "      <td>0</td>\n",
       "      <td>0</td>\n",
       "      <td>61.0</td>\n",
       "      <td>77.0</td>\n",
       "    </tr>\n",
       "    <tr>\n",
       "      <th>4</th>\n",
       "      <td>0</td>\n",
       "      <td>2</td>\n",
       "      <td>0</td>\n",
       "      <td>1</td>\n",
       "      <td>20.0</td>\n",
       "      <td>1</td>\n",
       "      <td>0</td>\n",
       "      <td>64.0</td>\n",
       "      <td>76.0</td>\n",
       "    </tr>\n",
       "  </tbody>\n",
       "</table>\n",
       "</div>"
      ],
      "text/plain": [
       "   school  school_setting  school_type  teaching_method  n_student  gender  \\\n",
       "0       0               2            0                1       20.0       0   \n",
       "1       0               2            0                1       20.0       0   \n",
       "2       0               2            0                1       20.0       1   \n",
       "3       0               2            0                1       20.0       0   \n",
       "4       0               2            0                1       20.0       1   \n",
       "\n",
       "   lunch  pretest  posttest  \n",
       "0      0     62.0      72.0  \n",
       "1      0     66.0      79.0  \n",
       "2      0     64.0      76.0  \n",
       "3      0     61.0      77.0  \n",
       "4      0     64.0      76.0  "
      ]
     },
     "execution_count": 155,
     "metadata": {},
     "output_type": "execute_result"
    }
   ],
   "source": [
    "#three_df = clear_df[[\"school_type\", \"n_student\",\"lunch\", \"posttest\"]]\n",
    "three_df = clear_df.drop([\"classroom\"], axis=1).copy()\n",
    "three_df.head()"
   ]
  },
  {
   "cell_type": "code",
   "execution_count": 156,
   "id": "30709510",
   "metadata": {},
   "outputs": [
    {
     "data": {
      "text/html": [
       "<div>\n",
       "<style scoped>\n",
       "    .dataframe tbody tr th:only-of-type {\n",
       "        vertical-align: middle;\n",
       "    }\n",
       "\n",
       "    .dataframe tbody tr th {\n",
       "        vertical-align: top;\n",
       "    }\n",
       "\n",
       "    .dataframe thead th {\n",
       "        text-align: right;\n",
       "    }\n",
       "</style>\n",
       "<table border=\"1\" class=\"dataframe\">\n",
       "  <thead>\n",
       "    <tr style=\"text-align: right;\">\n",
       "      <th></th>\n",
       "      <th>school</th>\n",
       "      <th>school_setting</th>\n",
       "      <th>school_type</th>\n",
       "      <th>teaching_method</th>\n",
       "      <th>n_student</th>\n",
       "      <th>gender</th>\n",
       "      <th>lunch</th>\n",
       "      <th>pretest</th>\n",
       "      <th>posttest</th>\n",
       "    </tr>\n",
       "  </thead>\n",
       "  <tbody>\n",
       "    <tr>\n",
       "      <th>count</th>\n",
       "      <td>2133.000000</td>\n",
       "      <td>2133.000000</td>\n",
       "      <td>2133.000000</td>\n",
       "      <td>2133.000000</td>\n",
       "      <td>2133.000000</td>\n",
       "      <td>2133.000000</td>\n",
       "      <td>2133.000000</td>\n",
       "      <td>2133.000000</td>\n",
       "      <td>2133.000000</td>\n",
       "    </tr>\n",
       "    <tr>\n",
       "      <th>mean</th>\n",
       "      <td>11.264885</td>\n",
       "      <td>1.185654</td>\n",
       "      <td>0.741678</td>\n",
       "      <td>0.643694</td>\n",
       "      <td>22.796531</td>\n",
       "      <td>0.504923</td>\n",
       "      <td>0.430380</td>\n",
       "      <td>54.955931</td>\n",
       "      <td>67.102203</td>\n",
       "    </tr>\n",
       "    <tr>\n",
       "      <th>std</th>\n",
       "      <td>6.516660</td>\n",
       "      <td>0.793525</td>\n",
       "      <td>0.437814</td>\n",
       "      <td>0.479019</td>\n",
       "      <td>4.228893</td>\n",
       "      <td>0.500093</td>\n",
       "      <td>0.495245</td>\n",
       "      <td>13.563101</td>\n",
       "      <td>13.986789</td>\n",
       "    </tr>\n",
       "    <tr>\n",
       "      <th>min</th>\n",
       "      <td>0.000000</td>\n",
       "      <td>0.000000</td>\n",
       "      <td>0.000000</td>\n",
       "      <td>0.000000</td>\n",
       "      <td>14.000000</td>\n",
       "      <td>0.000000</td>\n",
       "      <td>0.000000</td>\n",
       "      <td>22.000000</td>\n",
       "      <td>32.000000</td>\n",
       "    </tr>\n",
       "    <tr>\n",
       "      <th>25%</th>\n",
       "      <td>6.000000</td>\n",
       "      <td>1.000000</td>\n",
       "      <td>0.000000</td>\n",
       "      <td>0.000000</td>\n",
       "      <td>20.000000</td>\n",
       "      <td>0.000000</td>\n",
       "      <td>0.000000</td>\n",
       "      <td>44.000000</td>\n",
       "      <td>56.000000</td>\n",
       "    </tr>\n",
       "    <tr>\n",
       "      <th>50%</th>\n",
       "      <td>11.000000</td>\n",
       "      <td>1.000000</td>\n",
       "      <td>1.000000</td>\n",
       "      <td>1.000000</td>\n",
       "      <td>22.000000</td>\n",
       "      <td>1.000000</td>\n",
       "      <td>0.000000</td>\n",
       "      <td>56.000000</td>\n",
       "      <td>68.000000</td>\n",
       "    </tr>\n",
       "    <tr>\n",
       "      <th>75%</th>\n",
       "      <td>17.000000</td>\n",
       "      <td>2.000000</td>\n",
       "      <td>1.000000</td>\n",
       "      <td>1.000000</td>\n",
       "      <td>27.000000</td>\n",
       "      <td>1.000000</td>\n",
       "      <td>1.000000</td>\n",
       "      <td>65.000000</td>\n",
       "      <td>77.000000</td>\n",
       "    </tr>\n",
       "    <tr>\n",
       "      <th>max</th>\n",
       "      <td>22.000000</td>\n",
       "      <td>2.000000</td>\n",
       "      <td>1.000000</td>\n",
       "      <td>1.000000</td>\n",
       "      <td>31.000000</td>\n",
       "      <td>1.000000</td>\n",
       "      <td>1.000000</td>\n",
       "      <td>93.000000</td>\n",
       "      <td>100.000000</td>\n",
       "    </tr>\n",
       "  </tbody>\n",
       "</table>\n",
       "</div>"
      ],
      "text/plain": [
       "            school  school_setting  school_type  teaching_method    n_student  \\\n",
       "count  2133.000000     2133.000000  2133.000000      2133.000000  2133.000000   \n",
       "mean     11.264885        1.185654     0.741678         0.643694    22.796531   \n",
       "std       6.516660        0.793525     0.437814         0.479019     4.228893   \n",
       "min       0.000000        0.000000     0.000000         0.000000    14.000000   \n",
       "25%       6.000000        1.000000     0.000000         0.000000    20.000000   \n",
       "50%      11.000000        1.000000     1.000000         1.000000    22.000000   \n",
       "75%      17.000000        2.000000     1.000000         1.000000    27.000000   \n",
       "max      22.000000        2.000000     1.000000         1.000000    31.000000   \n",
       "\n",
       "            gender        lunch      pretest     posttest  \n",
       "count  2133.000000  2133.000000  2133.000000  2133.000000  \n",
       "mean      0.504923     0.430380    54.955931    67.102203  \n",
       "std       0.500093     0.495245    13.563101    13.986789  \n",
       "min       0.000000     0.000000    22.000000    32.000000  \n",
       "25%       0.000000     0.000000    44.000000    56.000000  \n",
       "50%       1.000000     0.000000    56.000000    68.000000  \n",
       "75%       1.000000     1.000000    65.000000    77.000000  \n",
       "max       1.000000     1.000000    93.000000   100.000000  "
      ]
     },
     "execution_count": 156,
     "metadata": {},
     "output_type": "execute_result"
    }
   ],
   "source": [
    "three_df.describe()"
   ]
  },
  {
   "cell_type": "code",
   "execution_count": 157,
   "id": "09e76408",
   "metadata": {},
   "outputs": [
    {
     "name": "stderr",
     "output_type": "stream",
     "text": [
      "/opt/anaconda3/lib/python3.8/site-packages/seaborn/distributions.py:2557: FutureWarning: `distplot` is a deprecated function and will be removed in a future version. Please adapt your code to use either `displot` (a figure-level function with similar flexibility) or `histplot` (an axes-level function for histograms).\n",
      "  warnings.warn(msg, FutureWarning)\n"
     ]
    },
    {
     "data": {
      "text/plain": [
       "<AxesSubplot:xlabel='n_student', ylabel='Density'>"
      ]
     },
     "execution_count": 157,
     "metadata": {},
     "output_type": "execute_result"
    },
    {
     "data": {
      "image/png": "[encoded data removed]",
      "text/plain": [
       "<Figure size 432x288 with 1 Axes>"
      ]
     },
     "metadata": {
      "needs_background": "light"
     },
     "output_type": "display_data"
    }
   ],
   "source": [
    "sns.distplot(three_df[\"n_student\"])"
   ]
  },
  {
   "cell_type": "code",
   "execution_count": 158,
   "id": "2f5d9d94",
   "metadata": {},
   "outputs": [],
   "source": [
    "x = three_df.drop([\"posttest\", \"pretest\"], axis=1)\n",
    "y = three_df[\"posttest\"]\n",
    "\n",
    "X_train, X_test, y_train, y_test = train_test_split(x,y,test_size=0.2, random_state = 123)"
   ]
  },
  {
   "cell_type": "code",
   "execution_count": 159,
   "id": "cb02a697",
   "metadata": {},
   "outputs": [],
   "source": [
    "model_three = LinearRegression()"
   ]
  },
  {
   "cell_type": "code",
   "execution_count": 160,
   "id": "9940a8ad",
   "metadata": {},
   "outputs": [],
   "source": [
    "model_three.fit(X_train, y_train)\n",
    "y_pred = model_three.predict(X_test)"
   ]
  },
  {
   "cell_type": "code",
   "execution_count": 161,
   "id": "31a321ca",
   "metadata": {},
   "outputs": [
    {
     "data": {
      "text/plain": [
       "49.22214653083598"
      ]
     },
     "execution_count": 161,
     "metadata": {},
     "output_type": "execute_result"
    }
   ],
   "source": [
    "model_three.score(X_test, y_test) * 100"
   ]
  },
  {
   "cell_type": "markdown",
   "id": "087426a5",
   "metadata": {},
   "source": [
    "## Logistic Regression"
   ]
  },
  {
   "cell_type": "code",
   "execution_count": 197,
   "id": "b4f30759",
   "metadata": {},
   "outputs": [],
   "source": [
    "from sklearn.linear_model import LogisticRegression\n",
    "\n",
    "model_log = LogisticRegression(max_iter=100000)"
   ]
  },
  {
   "cell_type": "code",
   "execution_count": 198,
   "id": "65a37976",
   "metadata": {},
   "outputs": [],
   "source": [
    "model_log.fit(X_train, y_train)\n",
    "y_pred_log = model_log.predict(X_test)"
   ]
  },
  {
   "cell_type": "code",
   "execution_count": 200,
   "id": "2ae8f887",
   "metadata": {},
   "outputs": [
    {
     "data": {
      "text/plain": [
       "7.494145199063232"
      ]
     },
     "execution_count": 200,
     "metadata": {},
     "output_type": "execute_result"
    }
   ],
   "source": [
    "model_log.score(X_test, y_test) * 100"
   ]
  },
  {
   "cell_type": "code",
   "execution_count": null,
   "id": "e301467f",
   "metadata": {},
   "outputs": [],
   "source": []
  }
 ],
 "metadata": {
  "hide_input": false,
  "kernelspec": {
   "display_name": "Python 3",
   "language": "python",
   "name": "python3"
  },
  "language_info": {
   "codemirror_mode": {
    "name": "ipython",
    "version": 3
   },
   "file_extension": ".py",
   "mimetype": "text/x-python",
   "name": "python",
   "nbconvert_exporter": "python",
   "pygments_lexer": "ipython3",
   "version": "3.8.8"
  },
  "toc": {
   "base_numbering": 1,
   "nav_menu": {},
   "number_sections": true,
   "sideBar": true,
   "skip_h1_title": false,
   "title_cell": "Table of Contents",
   "title_sidebar": "Contents",
   "toc_cell": false,
   "toc_position": {
    "height": "calc(100% - 180px)",
    "left": "10px",
    "top": "150px",
    "width": "251.797px"
   },
   "toc_section_display": true,
   "toc_window_display": false
  },
  "varInspector": {
   "cols": {
    "lenName": 16,
    "lenType": 16,
    "lenVar": 40
   },
   "kernels_config": {
    "python": {
     "delete_cmd_postfix": "",
     "delete_cmd_prefix": "del ",
     "library": "var_list.py",
     "varRefreshCmd": "print(var_dic_list())"
    },
    "r": {
     "delete_cmd_postfix": ") ",
     "delete_cmd_prefix": "rm(",
     "library": "var_list.r",
     "varRefreshCmd": "cat(var_dic_list()) "
    }
   },
   "types_to_exclude": [
    "module",
    "function",
    "builtin_function_or_method",
    "instance",
    "_Feature"
   ],
   "window_display": false
  }
 },
 "nbformat": 4,
 "nbformat_minor": 5
}
