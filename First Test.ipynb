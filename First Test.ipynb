{
 "cells": [
  {
   "cell_type": "markdown",
   "id": "e875abba",
   "metadata": {},
   "source": [
    "# Markdown Test\n",
    "## 마크다운 문법 테스트\n",
    "* bullet 문법\n",
    "* Shift + Enter -> 셀 실행, 커서 다음셀로\n",
    "* Enter 키 누르면 다시 편집\n",
    "* ESC 키 누르고\n",
    "    * a키 누르면위에 셀 추가\n",
    "    * b키 누르면 밑에 셀 추가\n",
    "    * dd키 누르면 셀 삭제\n",
    "    * m키 누르면 문서 셀로 변경\n",
    "    * y키 누르면 코드 셀로 변경\n",
    "~~~\n",
    "여러 줄의 설명을\n",
    "줄 바꿈으로 쓰고자 할 때\n",
    "~~~"
   ]
  },
  {
   "cell_type": "code",
   "execution_count": 1,
   "id": "c271d2b1",
   "metadata": {},
   "outputs": [
    {
     "name": "stdout",
     "output_type": "stream",
     "text": [
      "Hello Jupyter Notebook!\n"
     ]
    }
   ],
   "source": [
    "print(\"Hello Jupyter Notebook!\")"
   ]
  }
 ],
 "metadata": {
  "kernelspec": {
   "display_name": "Python 3",
   "language": "python",
   "name": "python3"
  },
  "language_info": {
   "codemirror_mode": {
    "name": "ipython",
    "version": 3
   },
   "file_extension": ".py",
   "mimetype": "text/x-python",
   "name": "python",
   "nbconvert_exporter": "python",
   "pygments_lexer": "ipython3",
   "version": "3.8.8"
  }
 },
 "nbformat": 4,
 "nbformat_minor": 5
}
